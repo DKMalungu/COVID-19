{
  "nbformat": 4,
  "nbformat_minor": 0,
  "metadata": {
    "kernelspec": {
      "display_name": "Python 3",
      "language": "python",
      "name": "python3"
    },
    "language_info": {
      "codemirror_mode": {
        "name": "ipython",
        "version": 3
      },
      "file_extension": ".py",
      "mimetype": "text/x-python",
      "name": "python",
      "nbconvert_exporter": "python",
      "pygments_lexer": "ipython3",
      "version": "3.7.6"
    },
    "colab": {
      "name": "COVID-19-Forcast.ipynb",
      "provenance": [],
      "collapsed_sections": []
    }
  },
  "cells": [
    {
      "cell_type": "markdown",
      "metadata": {
        "id": "ApKBU-k5x-ON",
        "colab_type": "text"
      },
      "source": [
        "# Loading Libraries"
      ]
    },
    {
      "cell_type": "code",
      "metadata": {
        "id": "OY4zb93ex-OQ",
        "colab_type": "code",
        "outputId": "70715de2-c462-4e92-d515-95e1d02a5697",
        "colab": {
          "base_uri": "https://localhost:8080/",
          "height": 801
        }
      },
      "source": [
        "# Importing the core libraies\n",
        "import numpy as np \n",
        "import pandas as pd \n",
        "from IPython.display import Markdown\n",
        "from datetime import timedelta\n",
        "from datetime import datetime\n",
        "\n",
        "import plotly.express as px\n",
        "import plotly.graph_objs as go\n",
        "!pip install pycountry\n",
        "import pycountry\n",
        "from plotly.offline import init_notebook_mode, iplot \n",
        "import plotly.offline as py\n",
        "import plotly.express as ex\n",
        "from plotly.offline import download_plotlyjs,init_notebook_mode,plot,iplot\n",
        "import matplotlib.pyplot as plt\n",
        "py.init_notebook_mode(connected=True)\n",
        "plt.style.use(\"seaborn-talk\")\n",
        "plt.rcParams['figure.figsize'] = 8, 5\n",
        "plt.rcParams['image.cmap'] = 'viridis'\n",
        "import folium\n",
        "!pip install ipympl\n",
        "%matplotlib notebook\n",
        "\n",
        "from fbprophet import Prophet\n",
        "from fbprophet.plot import plot_plotly\n",
        "\n",
        "pd.set_option('display.max_rows', None)\n",
        "from math import sin, cos, sqrt, atan2, radians\n",
        "from warnings import filterwarnings\n",
        "filterwarnings('ignore')\n",
        "from sklearn import preprocessing\n",
        "from xgboost import XGBRegressor\n",
        "\n",
        "import warnings\n",
        "warnings.filterwarnings(\"ignore\")"
      ],
      "execution_count": 58,
      "outputs": [
        {
          "output_type": "stream",
          "text": [
            "Requirement already satisfied: pycountry in /usr/local/lib/python3.6/dist-packages (19.8.18)\n"
          ],
          "name": "stdout"
        },
        {
          "output_type": "display_data",
          "data": {
            "text/html": [
              "        <script type=\"text/javascript\">\n",
              "        window.PlotlyConfig = {MathJaxConfig: 'local'};\n",
              "        if (window.MathJax) {MathJax.Hub.Config({SVG: {font: \"STIX-Web\"}});}\n",
              "        if (typeof require !== 'undefined') {\n",
              "        require.undef(\"plotly\");\n",
              "        requirejs.config({\n",
              "            paths: {\n",
              "                'plotly': ['https://cdn.plot.ly/plotly-latest.min']\n",
              "            }\n",
              "        });\n",
              "        require(['plotly'], function(Plotly) {\n",
              "            window._Plotly = Plotly;\n",
              "        });\n",
              "        }\n",
              "        </script>\n",
              "        "
            ]
          },
          "metadata": {
            "tags": []
          }
        },
        {
          "output_type": "stream",
          "text": [
            "Requirement already satisfied: ipympl in /usr/local/lib/python3.6/dist-packages (0.5.6)\n",
            "Requirement already satisfied: ipykernel>=4.7 in /usr/local/lib/python3.6/dist-packages (from ipympl) (4.10.1)\n",
            "Requirement already satisfied: matplotlib>=2.0.0 in /usr/local/lib/python3.6/dist-packages (from ipympl) (3.2.1)\n",
            "Requirement already satisfied: ipywidgets>=7.5.0 in /usr/local/lib/python3.6/dist-packages (from ipympl) (7.5.1)\n",
            "Requirement already satisfied: tornado>=4.0 in /usr/local/lib/python3.6/dist-packages (from ipykernel>=4.7->ipympl) (4.5.3)\n",
            "Requirement already satisfied: ipython>=4.0.0 in /usr/local/lib/python3.6/dist-packages (from ipykernel>=4.7->ipympl) (5.5.0)\n",
            "Requirement already satisfied: traitlets>=4.1.0 in /usr/local/lib/python3.6/dist-packages (from ipykernel>=4.7->ipympl) (4.3.3)\n",
            "Requirement already satisfied: jupyter-client in /usr/local/lib/python3.6/dist-packages (from ipykernel>=4.7->ipympl) (5.3.4)\n",
            "Requirement already satisfied: pyparsing!=2.0.4,!=2.1.2,!=2.1.6,>=2.0.1 in /usr/local/lib/python3.6/dist-packages (from matplotlib>=2.0.0->ipympl) (2.4.7)\n",
            "Requirement already satisfied: cycler>=0.10 in /usr/local/lib/python3.6/dist-packages (from matplotlib>=2.0.0->ipympl) (0.10.0)\n",
            "Requirement already satisfied: kiwisolver>=1.0.1 in /usr/local/lib/python3.6/dist-packages (from matplotlib>=2.0.0->ipympl) (1.2.0)\n",
            "Requirement already satisfied: python-dateutil>=2.1 in /usr/local/lib/python3.6/dist-packages (from matplotlib>=2.0.0->ipympl) (2.8.1)\n",
            "Requirement already satisfied: numpy>=1.11 in /usr/local/lib/python3.6/dist-packages (from matplotlib>=2.0.0->ipympl) (1.18.4)\n",
            "Requirement already satisfied: widgetsnbextension~=3.5.0 in /usr/local/lib/python3.6/dist-packages (from ipywidgets>=7.5.0->ipympl) (3.5.1)\n",
            "Requirement already satisfied: nbformat>=4.2.0 in /usr/local/lib/python3.6/dist-packages (from ipywidgets>=7.5.0->ipympl) (5.0.6)\n",
            "Requirement already satisfied: pexpect; sys_platform != \"win32\" in /usr/local/lib/python3.6/dist-packages (from ipython>=4.0.0->ipykernel>=4.7->ipympl) (4.8.0)\n",
            "Requirement already satisfied: setuptools>=18.5 in /usr/local/lib/python3.6/dist-packages (from ipython>=4.0.0->ipykernel>=4.7->ipympl) (46.3.0)\n",
            "Requirement already satisfied: pickleshare in /usr/local/lib/python3.6/dist-packages (from ipython>=4.0.0->ipykernel>=4.7->ipympl) (0.7.5)\n",
            "Requirement already satisfied: simplegeneric>0.8 in /usr/local/lib/python3.6/dist-packages (from ipython>=4.0.0->ipykernel>=4.7->ipympl) (0.8.1)\n",
            "Requirement already satisfied: pygments in /usr/local/lib/python3.6/dist-packages (from ipython>=4.0.0->ipykernel>=4.7->ipympl) (2.1.3)\n",
            "Requirement already satisfied: prompt-toolkit<2.0.0,>=1.0.4 in /usr/local/lib/python3.6/dist-packages (from ipython>=4.0.0->ipykernel>=4.7->ipympl) (1.0.18)\n",
            "Requirement already satisfied: decorator in /usr/local/lib/python3.6/dist-packages (from ipython>=4.0.0->ipykernel>=4.7->ipympl) (4.4.2)\n",
            "Requirement already satisfied: six in /usr/local/lib/python3.6/dist-packages (from traitlets>=4.1.0->ipykernel>=4.7->ipympl) (1.12.0)\n",
            "Requirement already satisfied: ipython-genutils in /usr/local/lib/python3.6/dist-packages (from traitlets>=4.1.0->ipykernel>=4.7->ipympl) (0.2.0)\n",
            "Requirement already satisfied: pyzmq>=13 in /usr/local/lib/python3.6/dist-packages (from jupyter-client->ipykernel>=4.7->ipympl) (19.0.1)\n",
            "Requirement already satisfied: jupyter-core>=4.6.0 in /usr/local/lib/python3.6/dist-packages (from jupyter-client->ipykernel>=4.7->ipympl) (4.6.3)\n",
            "Requirement already satisfied: notebook>=4.4.1 in /usr/local/lib/python3.6/dist-packages (from widgetsnbextension~=3.5.0->ipywidgets>=7.5.0->ipympl) (5.2.2)\n",
            "Requirement already satisfied: jsonschema!=2.5.0,>=2.4 in /usr/local/lib/python3.6/dist-packages (from nbformat>=4.2.0->ipywidgets>=7.5.0->ipympl) (2.6.0)\n",
            "Requirement already satisfied: ptyprocess>=0.5 in /usr/local/lib/python3.6/dist-packages (from pexpect; sys_platform != \"win32\"->ipython>=4.0.0->ipykernel>=4.7->ipympl) (0.6.0)\n",
            "Requirement already satisfied: wcwidth in /usr/local/lib/python3.6/dist-packages (from prompt-toolkit<2.0.0,>=1.0.4->ipython>=4.0.0->ipykernel>=4.7->ipympl) (0.1.9)\n",
            "Requirement already satisfied: nbconvert in /usr/local/lib/python3.6/dist-packages (from notebook>=4.4.1->widgetsnbextension~=3.5.0->ipywidgets>=7.5.0->ipympl) (5.6.1)\n",
            "Requirement already satisfied: jinja2 in /usr/local/lib/python3.6/dist-packages (from notebook>=4.4.1->widgetsnbextension~=3.5.0->ipywidgets>=7.5.0->ipympl) (2.11.2)\n",
            "Requirement already satisfied: terminado>=0.3.3; sys_platform != \"win32\" in /usr/local/lib/python3.6/dist-packages (from notebook>=4.4.1->widgetsnbextension~=3.5.0->ipywidgets>=7.5.0->ipympl) (0.8.3)\n",
            "Requirement already satisfied: entrypoints>=0.2.2 in /usr/local/lib/python3.6/dist-packages (from nbconvert->notebook>=4.4.1->widgetsnbextension~=3.5.0->ipywidgets>=7.5.0->ipympl) (0.3)\n",
            "Requirement already satisfied: testpath in /usr/local/lib/python3.6/dist-packages (from nbconvert->notebook>=4.4.1->widgetsnbextension~=3.5.0->ipywidgets>=7.5.0->ipympl) (0.4.4)\n",
            "Requirement already satisfied: defusedxml in /usr/local/lib/python3.6/dist-packages (from nbconvert->notebook>=4.4.1->widgetsnbextension~=3.5.0->ipywidgets>=7.5.0->ipympl) (0.6.0)\n",
            "Requirement already satisfied: pandocfilters>=1.4.1 in /usr/local/lib/python3.6/dist-packages (from nbconvert->notebook>=4.4.1->widgetsnbextension~=3.5.0->ipywidgets>=7.5.0->ipympl) (1.4.2)\n",
            "Requirement already satisfied: mistune<2,>=0.8.1 in /usr/local/lib/python3.6/dist-packages (from nbconvert->notebook>=4.4.1->widgetsnbextension~=3.5.0->ipywidgets>=7.5.0->ipympl) (0.8.4)\n",
            "Requirement already satisfied: bleach in /usr/local/lib/python3.6/dist-packages (from nbconvert->notebook>=4.4.1->widgetsnbextension~=3.5.0->ipywidgets>=7.5.0->ipympl) (3.1.5)\n",
            "Requirement already satisfied: MarkupSafe>=0.23 in /usr/local/lib/python3.6/dist-packages (from jinja2->notebook>=4.4.1->widgetsnbextension~=3.5.0->ipywidgets>=7.5.0->ipympl) (1.1.1)\n",
            "Requirement already satisfied: webencodings in /usr/local/lib/python3.6/dist-packages (from bleach->nbconvert->notebook>=4.4.1->widgetsnbextension~=3.5.0->ipywidgets>=7.5.0->ipympl) (0.5.1)\n",
            "Requirement already satisfied: packaging in /usr/local/lib/python3.6/dist-packages (from bleach->nbconvert->notebook>=4.4.1->widgetsnbextension~=3.5.0->ipywidgets>=7.5.0->ipympl) (20.3)\n",
            "Warning: Cannot change to a different GUI toolkit: notebook. Using widget instead.\n"
          ],
          "name": "stdout"
        }
      ]
    },
    {
      "cell_type": "code",
      "metadata": {
        "id": "-zoCB1EI0l3c",
        "colab_type": "code",
        "outputId": "fb9fbf51-16ab-43cb-f7c3-406f10c53355",
        "colab": {
          "base_uri": "https://localhost:8080/",
          "height": 34
        }
      },
      "source": [
        "from google.colab import drive\n",
        "drive.mount('/content/drive')"
      ],
      "execution_count": 59,
      "outputs": [
        {
          "output_type": "stream",
          "text": [
            "Drive already mounted at /content/drive; to attempt to forcibly remount, call drive.mount(\"/content/drive\", force_remount=True).\n"
          ],
          "name": "stdout"
        }
      ]
    },
    {
      "cell_type": "code",
      "metadata": {
        "id": "OWanSLlYx-Od",
        "colab_type": "code",
        "colab": {}
      },
      "source": [
        "# Importing the dataset into python\n",
        "#df = pd.read_csv('./covid19-global-forecasting-week-5/covid_19_data.csv',parse_dates=['ObservationDate'])\n",
        "df = pd.read_csv('/content/drive/My Drive/Master Online Exams/Dataset/covid_19_data.csv',parse_dates=['ObservationDate'])\n",
        "df.drop(['SNo','Last Update'],axis =1, inplace = True)\n",
        "df['Active'] = df['Confirmed'] - (df['Recovered'] + df['Deaths'])"
      ],
      "execution_count": 0,
      "outputs": []
    },
    {
      "cell_type": "code",
      "metadata": {
        "id": "iFQZjOWyx-On",
        "colab_type": "code",
        "colab": {}
      },
      "source": [
        "#week5_train = pd.read_csv('./covid19-global-forecasting-week/train.csv')\n",
        "#week5_test = pd.read_csv('./covid19-global-forecasting-week-5/test.csv')\n",
        "#dataset=pd.read_csv('./covid19-global-forecasting-week-5/covid_19_complete.csv',parse_dates=['Date'])\n",
        "week5_train = pd.read_csv('/content/drive/My Drive/Master Online Exams/Dataset/train.csv')\n",
        "week5_test = pd.read_csv('/content/drive/My Drive/Master Online Exams/Dataset/test.csv')\n",
        "dataset=pd.read_csv('/content/drive/My Drive/Master Online Exams/Dataset/covid_19_complete.csv',parse_dates=['Date'])"
      ],
      "execution_count": 0,
      "outputs": []
    },
    {
      "cell_type": "markdown",
      "metadata": {
        "id": "VHb15qi1x-Ou",
        "colab_type": "text"
      },
      "source": [
        "# Data Cleaning"
      ]
    },
    {
      "cell_type": "code",
      "metadata": {
        "id": "I3W72RZ5x-Ow",
        "colab_type": "code",
        "colab": {}
      },
      "source": [
        "# Dataset Cleaning\n",
        "# Creating a colunm for active cases\n",
        "dataset['Active'] = dataset['Confirmed'] - dataset['Deaths'] - dataset['Recovered']\n",
        "# Replacing the word Mainland China with china\n",
        "dataset['Country/Region'] = dataset['Country/Region'].replace('Mainland China','China')\n",
        "#Filling Missing values\n",
        "dataset[['Province/State']] = dataset[['Province/State']].fillna('')\n",
        "dataset[['Confirmed', 'Deaths', 'Recovered', 'Active']] = dataset[['Confirmed', 'Deaths', 'Recovered', 'Active']].fillna(0)\n",
        "# Datatypes\n",
        "dataset['Recovered'] = dataset['Recovered'].astype(int)"
      ],
      "execution_count": 0,
      "outputs": []
    },
    {
      "cell_type": "code",
      "metadata": {
        "id": "y90--jqex-O2",
        "colab_type": "code",
        "colab": {}
      },
      "source": [
        "# Creating Grouped dataset \n",
        "dataset_grouped = dataset.groupby(['Date','Country/Region'])['Confirmed','Deaths','Recovered','Active'].sum().reset_index()\n",
        "\n",
        "# New cases \n",
        "temp = dataset_grouped.groupby(['Country/Region', 'Date', ])['Confirmed', 'Deaths', 'Recovered']\n",
        "temp = temp.sum().diff().reset_index()\n",
        "mask = temp['Country/Region'] != temp['Country/Region'].shift(1)\n",
        "temp.loc[mask, 'Confirmed'] = np.nan\n",
        "temp.loc[mask, 'Deaths'] = np.nan\n",
        "temp.loc[mask, 'Recovered'] = np.nan\n",
        "\n",
        "#Renaming columns\n",
        "temp.columns = ['Country/Region', 'Date', 'New cases', 'New deaths', 'New recovered']\n",
        "# Merging new values\n",
        "# Dataset_grouped = pd.merge(dataset_grouped, temp, on=['Country/Region', 'Date'])\n",
        "dataset_grouped = pd.merge(dataset_grouped, temp, on=['Country/Region', 'Date'])\n",
        "# Filling na with 0\n",
        "dataset_grouped = dataset_grouped.fillna(0)\n",
        "# Fixing data types\n",
        "cols = ['New cases', 'New deaths', 'New recovered']\n",
        "dataset_grouped[cols] = dataset_grouped[cols].astype('int')\n",
        "dataset_grouped['New cases'] = dataset_grouped['New cases'].apply(lambda x: 0 if x<0 else x)"
      ],
      "execution_count": 0,
      "outputs": []
    },
    {
      "cell_type": "code",
      "metadata": {
        "id": "54BSySh4x-O9",
        "colab_type": "code",
        "colab": {}
      },
      "source": [
        "# Country data grouping\n",
        "country_wise = dataset_grouped[dataset_grouped['Date']==max(dataset_grouped['Date'])].reset_index(drop=True).drop('Date',axis=1)\n",
        "\n",
        "#Grouped by Country\n",
        "country_wise = country_wise.groupby('Country/Region')['Confirmed','Deaths','Recovered','Active','New cases'].sum().reset_index()\n",
        "\n",
        "# Grouped per 100 cases\n",
        "country_wise['Deaths / 100 Cases'] = round((country_wise['Deaths']/country_wise['Confirmed'])*100,2)\n",
        "country_wise['Recovered / 100 cases'] = round((country_wise['Recovered']/country_wise['Confirmed'])*100,2)\n",
        "country_wise['Deaths / 100 Recovered'] = round((country_wise['Deaths']/country_wise['Recovered'])*100,2)\n",
        "cols= ['Deaths / 100 Cases','Recovered / 100 cases','Deaths / 100 Recovered']\n",
        "country_wise[cols] = country_wise[cols].fillna(0)\n",
        "\n",
        "# Grouping by Time Values\n",
        "today = dataset_grouped[dataset_grouped['Date']==max(dataset_grouped['Date'])].reset_index(drop=True).drop('Date', axis=1)[['Country/Region', 'Confirmed']]\n",
        "last_week = dataset_grouped[dataset_grouped['Date']==max(dataset_grouped['Date'])-timedelta(days=7)].reset_index(drop=True).drop('Date', axis=1)[['Country/Region', 'Confirmed']]\n",
        "temp = pd.merge(today, last_week, on='Country/Region', suffixes=(' today', ' last week'))\n",
        "#temp = temp[['Country/Region', 'Confirmed last week']]\n",
        "temp['1 week change'] = temp['Confirmed today'] - temp['Confirmed last week']\n",
        "temp = temp[['Country/Region', 'Confirmed last week', '1 week change']]\n",
        "country_wise = pd.merge(country_wise, temp, on='Country/Region')\n",
        "country_wise['1 week % increase'] = round(country_wise['1 week change']/country_wise['Confirmed last week']*100, 2)"
      ],
      "execution_count": 0,
      "outputs": []
    },
    {
      "cell_type": "code",
      "metadata": {
        "id": "JtJVNpmzx-PD",
        "colab_type": "code",
        "colab": {}
      },
      "source": [
        "day_wise = dataset_grouped.groupby('Date')['Confirmed', 'Deaths', 'Recovered', 'Active', 'New cases'].sum().reset_index()\n",
        "# number cases per 100 cases\n",
        "day_wise['Deaths / 100 Cases'] = round((day_wise['Deaths']/day_wise['Confirmed'])*100, 2)\n",
        "day_wise['Recovered / 100 Cases'] = round((day_wise['Recovered']/day_wise['Confirmed'])*100, 2)\n",
        "day_wise['Deaths / 100 Recovered'] = round((day_wise['Deaths']/day_wise['Recovered'])*100, 2)\n",
        "# no. of countries\n",
        "day_wise['No. of countries'] = dataset_grouped[dataset_grouped['Confirmed']!=0].groupby('Date')['Country/Region'].unique().apply(len).values\n",
        "# fillna by 0\n",
        "cols = ['Deaths / 100 Cases', 'Recovered / 100 Cases', 'Deaths / 100 Recovered']\n",
        "day_wise[cols] = day_wise[cols].fillna(0)"
      ],
      "execution_count": 0,
      "outputs": []
    },
    {
      "cell_type": "code",
      "metadata": {
        "id": "rxdOkc3Ux-PI",
        "colab_type": "code",
        "colab": {}
      },
      "source": [
        "week5_train = week5_train.drop(columns = ['County' , 'Province_State'])\n",
        "week5_test = week5_test.drop(columns = ['County' , 'Province_State'])\n",
        "week5_train['Date']= pd.to_datetime(week5_train['Date']).dt.strftime(\"%Y%m%d\").astype(int)\n",
        "week5_test['Date'] = pd.to_datetime(week5_test['Date']).dt.strftime(\"%Y%m%d\").astype(int)"
      ],
      "execution_count": 0,
      "outputs": []
    },
    {
      "cell_type": "code",
      "metadata": {
        "id": "7sfi5_Srx-PN",
        "colab_type": "code",
        "colab": {}
      },
      "source": [
        "date_wise_data = df[['Country/Region',\"ObservationDate\",\"Confirmed\",\"Deaths\",\"Recovered\",'Active']]\n",
        "date_wise_data['Date'] = date_wise_data['ObservationDate'].apply(pd.to_datetime, dayfirst=True)\n",
        "date_wise_data = date_wise_data.groupby([\"ObservationDate\"]).sum().reset_index()\n",
        "date_wise_data.rename({\"ObservationDate\": 'Date','Recovered':'Cured'}, axis=1,inplace= True) \n",
        "def formatted_text(string):\n",
        "    display(Markdown(string))\n"
      ],
      "execution_count": 0,
      "outputs": []
    },
    {
      "cell_type": "code",
      "metadata": {
        "id": "TcEw0RG8x-PT",
        "colab_type": "code",
        "colab": {}
      },
      "source": [
        "# Converting columns into numberic for Train \n",
        "from sklearn.preprocessing import LabelEncoder\n",
        "labelencoder = LabelEncoder()\n",
        "w5_X = week5_train.iloc[:,1].values\n",
        "week5_train.iloc[:,1] = labelencoder.fit_transform(w5_X.astype(str))\n",
        "w5_X = week5_train.iloc[:,5].values\n",
        "week5_train.iloc[:,5] = labelencoder.fit_transform(w5_X)\n",
        "\n",
        "#Converting columns into numberic Test\n",
        "from sklearn.preprocessing import LabelEncoder\n",
        "labelencoder = LabelEncoder()\n",
        "w5te_X = week5_test.iloc[:,1].values\n",
        "week5_test.iloc[:,1] = labelencoder.fit_transform(w5te_X)\n",
        "w5te_X = week5_test.iloc[:,5].values\n",
        "week5_test.iloc[:,5] = labelencoder.fit_transform(w5te_X)\n",
        "\n",
        "#Train & Test ======================================================\n",
        "x = week5_train.iloc[:,1:6]\n",
        "y = week5_train.iloc[:,6]\n",
        "from sklearn.model_selection import train_test_split\n",
        "x_train,x_test,y_train,y_test =train_test_split(x,y, test_size = 0.2, random_state = 0 )"
      ],
      "execution_count": 0,
      "outputs": []
    },
    {
      "cell_type": "code",
      "metadata": {
        "id": "okKwxmsjx-PY",
        "colab_type": "code",
        "colab": {}
      },
      "source": [
        "#Adding Population Data\n",
        "pop = pd.read_csv(\"/content/drive/My Drive/Master Online Exams/Dataset/population_by_country_2020.csv\")\n",
        "# select only population\n",
        "pop = pop.iloc[:, :2]\n",
        "# rename column names\n",
        "pop.columns = ['Country/Region', 'Population']\n",
        "# merged data\n",
        "country_wise = pd.merge(country_wise, pop, on='Country/Region', how='left')\n",
        "# update population\n",
        "cols = ['Burma', 'Congo (Brazzaville)', 'Congo (Kinshasa)', \"Cote d'Ivoire\", 'Czechia', \n",
        "        'Kosovo', 'Saint Kitts and Nevis', 'Saint Vincent and the Grenadines', \n",
        "        'Taiwan*', 'US', 'West Bank and Gaza']\n",
        "pops = [54409800, 89561403, 5518087, 26378274, 10708981, 1793000, \n",
        "        53109, 110854, 23806638, 330541757, 4543126]\n",
        "for c, p in zip(cols, pops):\n",
        "    country_wise.loc[country_wise['Country/Region']== c, 'Population'] = p\n",
        "country_wise['Cases / Million People'] = round((country_wise['Confirmed'] / country_wise['Population']) * 1000000)"
      ],
      "execution_count": 0,
      "outputs": []
    },
    {
      "cell_type": "code",
      "metadata": {
        "id": "eijwu_3Ax-Pd",
        "colab_type": "code",
        "outputId": "050a3d94-1ef0-4d9a-e384-fdf38570df7e",
        "colab": {
          "base_uri": "https://localhost:8080/",
          "height": 1000
        }
      },
      "source": [
        "temp = country_wise.copy()\n",
        "temp = temp.iloc[:,:6]\n",
        "temp = temp.sort_values('Confirmed',ascending=False).reset_index()\n",
        "temp.style.background_gradient(cmap='Blues',subset=[\"Confirmed\"])\\\n",
        "                        .background_gradient(cmap='Reds',subset=[\"Deaths\"])\\\n",
        "                        .background_gradient(cmap='Greens',subset=[\"Recovered\"])\\\n",
        "                        .background_gradient(cmap='Purples',subset=[\"Active\"])\\\n",
        "                        .background_gradient(cmap='PuBu',subset=[\"New cases\"])"
      ],
      "execution_count": 70,
      "outputs": [
        {
          "output_type": "execute_result",
          "data": {
            "text/html": [
              "<style  type=\"text/css\" >\n",
              "    #T_f13b9c0c_9b7a_11ea_90e4_0242ac1c0002row0_col2 {\n",
              "            background-color:  #08306b;\n",
              "            color:  #f1f1f1;\n",
              "        }    #T_f13b9c0c_9b7a_11ea_90e4_0242ac1c0002row0_col3 {\n",
              "            background-color:  #67000d;\n",
              "            color:  #f1f1f1;\n",
              "        }    #T_f13b9c0c_9b7a_11ea_90e4_0242ac1c0002row0_col4 {\n",
              "            background-color:  #00441b;\n",
              "            color:  #f1f1f1;\n",
              "        }    #T_f13b9c0c_9b7a_11ea_90e4_0242ac1c0002row0_col5 {\n",
              "            background-color:  #3f007d;\n",
              "            color:  #f1f1f1;\n",
              "        }    #T_f13b9c0c_9b7a_11ea_90e4_0242ac1c0002row0_col6 {\n",
              "            background-color:  #023858;\n",
              "            color:  #f1f1f1;\n",
              "        }    #T_f13b9c0c_9b7a_11ea_90e4_0242ac1c0002row1_col2 {\n",
              "            background-color:  #d6e5f4;\n",
              "            color:  #000000;\n",
              "        }    #T_f13b9c0c_9b7a_11ea_90e4_0242ac1c0002row1_col3 {\n",
              "            background-color:  #fca082;\n",
              "            color:  #000000;\n",
              "        }    #T_f13b9c0c_9b7a_11ea_90e4_0242ac1c0002row1_col4 {\n",
              "            background-color:  #3fa95c;\n",
              "            color:  #000000;\n",
              "        }    #T_f13b9c0c_9b7a_11ea_90e4_0242ac1c0002row1_col5 {\n",
              "            background-color:  #f6f4f9;\n",
              "            color:  #000000;\n",
              "        }    #T_f13b9c0c_9b7a_11ea_90e4_0242ac1c0002row1_col6 {\n",
              "            background-color:  #f9f2f8;\n",
              "            color:  #000000;\n",
              "        }    #T_f13b9c0c_9b7a_11ea_90e4_0242ac1c0002row2_col2 {\n",
              "            background-color:  #d6e6f4;\n",
              "            color:  #000000;\n",
              "        }    #T_f13b9c0c_9b7a_11ea_90e4_0242ac1c0002row2_col3 {\n",
              "            background-color:  #fc8a6a;\n",
              "            color:  #000000;\n",
              "        }    #T_f13b9c0c_9b7a_11ea_90e4_0242ac1c0002row2_col4 {\n",
              "            background-color:  #f6fcf4;\n",
              "            color:  #000000;\n",
              "        }    #T_f13b9c0c_9b7a_11ea_90e4_0242ac1c0002row2_col5 {\n",
              "            background-color:  #e6e5f1;\n",
              "            color:  #000000;\n",
              "        }    #T_f13b9c0c_9b7a_11ea_90e4_0242ac1c0002row2_col6 {\n",
              "            background-color:  #dcdaeb;\n",
              "            color:  #000000;\n",
              "        }    #T_f13b9c0c_9b7a_11ea_90e4_0242ac1c0002row3_col2 {\n",
              "            background-color:  #d6e6f4;\n",
              "            color:  #000000;\n",
              "        }    #T_f13b9c0c_9b7a_11ea_90e4_0242ac1c0002row3_col3 {\n",
              "            background-color:  #fc8f6f;\n",
              "            color:  #000000;\n",
              "        }    #T_f13b9c0c_9b7a_11ea_90e4_0242ac1c0002row3_col4 {\n",
              "            background-color:  #79c67a;\n",
              "            color:  #000000;\n",
              "        }    #T_f13b9c0c_9b7a_11ea_90e4_0242ac1c0002row3_col5 {\n",
              "            background-color:  #f4f2f8;\n",
              "            color:  #000000;\n",
              "        }    #T_f13b9c0c_9b7a_11ea_90e4_0242ac1c0002row3_col6 {\n",
              "            background-color:  #f9f2f8;\n",
              "            color:  #000000;\n",
              "        }    #T_f13b9c0c_9b7a_11ea_90e4_0242ac1c0002row4_col2 {\n",
              "            background-color:  #d8e7f5;\n",
              "            color:  #000000;\n",
              "        }    #T_f13b9c0c_9b7a_11ea_90e4_0242ac1c0002row4_col3 {\n",
              "            background-color:  #fff1ea;\n",
              "            color:  #000000;\n",
              "        }    #T_f13b9c0c_9b7a_11ea_90e4_0242ac1c0002row4_col4 {\n",
              "            background-color:  #ddf2d8;\n",
              "            color:  #000000;\n",
              "        }    #T_f13b9c0c_9b7a_11ea_90e4_0242ac1c0002row4_col5 {\n",
              "            background-color:  #e8e7f2;\n",
              "            color:  #000000;\n",
              "        }    #T_f13b9c0c_9b7a_11ea_90e4_0242ac1c0002row4_col6 {\n",
              "            background-color:  #569dc8;\n",
              "            color:  #000000;\n",
              "        }    #T_f13b9c0c_9b7a_11ea_90e4_0242ac1c0002row5_col2 {\n",
              "            background-color:  #dceaf6;\n",
              "            color:  #000000;\n",
              "        }    #T_f13b9c0c_9b7a_11ea_90e4_0242ac1c0002row5_col3 {\n",
              "            background-color:  #fca183;\n",
              "            color:  #000000;\n",
              "        }    #T_f13b9c0c_9b7a_11ea_90e4_0242ac1c0002row5_col4 {\n",
              "            background-color:  #c4e8bd;\n",
              "            color:  #000000;\n",
              "        }    #T_f13b9c0c_9b7a_11ea_90e4_0242ac1c0002row5_col5 {\n",
              "            background-color:  #f3f1f7;\n",
              "            color:  #000000;\n",
              "        }    #T_f13b9c0c_9b7a_11ea_90e4_0242ac1c0002row5_col6 {\n",
              "            background-color:  #fdf5fa;\n",
              "            color:  #000000;\n",
              "        }    #T_f13b9c0c_9b7a_11ea_90e4_0242ac1c0002row6_col2 {\n",
              "            background-color:  #ddeaf7;\n",
              "            color:  #000000;\n",
              "        }    #T_f13b9c0c_9b7a_11ea_90e4_0242ac1c0002row6_col3 {\n",
              "            background-color:  #fee5d9;\n",
              "            color:  #000000;\n",
              "        }    #T_f13b9c0c_9b7a_11ea_90e4_0242ac1c0002row6_col4 {\n",
              "            background-color:  #369f54;\n",
              "            color:  #000000;\n",
              "        }    #T_f13b9c0c_9b7a_11ea_90e4_0242ac1c0002row6_col5 {\n",
              "            background-color:  #faf9fc;\n",
              "            color:  #000000;\n",
              "        }    #T_f13b9c0c_9b7a_11ea_90e4_0242ac1c0002row6_col6 {\n",
              "            background-color:  #fbf3f9;\n",
              "            color:  #000000;\n",
              "        }    #T_f13b9c0c_9b7a_11ea_90e4_0242ac1c0002row7_col2 {\n",
              "            background-color:  #dfebf7;\n",
              "            color:  #000000;\n",
              "        }    #T_f13b9c0c_9b7a_11ea_90e4_0242ac1c0002row7_col3 {\n",
              "            background-color:  #fedccd;\n",
              "            color:  #000000;\n",
              "        }    #T_f13b9c0c_9b7a_11ea_90e4_0242ac1c0002row7_col4 {\n",
              "            background-color:  #b8e3b2;\n",
              "            color:  #000000;\n",
              "        }    #T_f13b9c0c_9b7a_11ea_90e4_0242ac1c0002row7_col5 {\n",
              "            background-color:  #f3f2f8;\n",
              "            color:  #000000;\n",
              "        }    #T_f13b9c0c_9b7a_11ea_90e4_0242ac1c0002row7_col6 {\n",
              "            background-color:  #b3c3de;\n",
              "            color:  #000000;\n",
              "        }    #T_f13b9c0c_9b7a_11ea_90e4_0242ac1c0002row8_col2 {\n",
              "            background-color:  #e3eef8;\n",
              "            color:  #000000;\n",
              "        }    #T_f13b9c0c_9b7a_11ea_90e4_0242ac1c0002row8_col3 {\n",
              "            background-color:  #ffede5;\n",
              "            color:  #000000;\n",
              "        }    #T_f13b9c0c_9b7a_11ea_90e4_0242ac1c0002row8_col4 {\n",
              "            background-color:  #8ed08b;\n",
              "            color:  #000000;\n",
              "        }    #T_f13b9c0c_9b7a_11ea_90e4_0242ac1c0002row8_col5 {\n",
              "            background-color:  #f8f7fa;\n",
              "            color:  #000000;\n",
              "        }    #T_f13b9c0c_9b7a_11ea_90e4_0242ac1c0002row8_col6 {\n",
              "            background-color:  #f3edf5;\n",
              "            color:  #000000;\n",
              "        }    #T_f13b9c0c_9b7a_11ea_90e4_0242ac1c0002row9_col2 {\n",
              "            background-color:  #e7f1fa;\n",
              "            color:  #000000;\n",
              "        }    #T_f13b9c0c_9b7a_11ea_90e4_0242ac1c0002row9_col3 {\n",
              "            background-color:  #fee7dc;\n",
              "            color:  #000000;\n",
              "        }    #T_f13b9c0c_9b7a_11ea_90e4_0242ac1c0002row9_col4 {\n",
              "            background-color:  #98d594;\n",
              "            color:  #000000;\n",
              "        }    #T_f13b9c0c_9b7a_11ea_90e4_0242ac1c0002row9_col5 {\n",
              "            background-color:  #fbfafc;\n",
              "            color:  #000000;\n",
              "        }    #T_f13b9c0c_9b7a_11ea_90e4_0242ac1c0002row9_col6 {\n",
              "            background-color:  #f5eef6;\n",
              "            color:  #000000;\n",
              "        }    #T_f13b9c0c_9b7a_11ea_90e4_0242ac1c0002row10_col2 {\n",
              "            background-color:  #eaf3fb;\n",
              "            color:  #000000;\n",
              "        }    #T_f13b9c0c_9b7a_11ea_90e4_0242ac1c0002row10_col3 {\n",
              "            background-color:  #ffece3;\n",
              "            color:  #000000;\n",
              "        }    #T_f13b9c0c_9b7a_11ea_90e4_0242ac1c0002row10_col4 {\n",
              "            background-color:  #a4da9e;\n",
              "            color:  #000000;\n",
              "        }    #T_f13b9c0c_9b7a_11ea_90e4_0242ac1c0002row10_col5 {\n",
              "            background-color:  #fcfbfd;\n",
              "            color:  #000000;\n",
              "        }    #T_f13b9c0c_9b7a_11ea_90e4_0242ac1c0002row10_col6 {\n",
              "            background-color:  #fff7fb;\n",
              "            color:  #000000;\n",
              "        }    #T_f13b9c0c_9b7a_11ea_90e4_0242ac1c0002row11_col2 {\n",
              "            background-color:  #edf4fc;\n",
              "            color:  #000000;\n",
              "        }    #T_f13b9c0c_9b7a_11ea_90e4_0242ac1c0002row11_col3 {\n",
              "            background-color:  #feeae1;\n",
              "            color:  #000000;\n",
              "        }    #T_f13b9c0c_9b7a_11ea_90e4_0242ac1c0002row11_col4 {\n",
              "            background-color:  #f7fcf5;\n",
              "            color:  #000000;\n",
              "        }    #T_f13b9c0c_9b7a_11ea_90e4_0242ac1c0002row11_col5 {\n",
              "            background-color:  #f5f4f9;\n",
              "            color:  #000000;\n",
              "        }    #T_f13b9c0c_9b7a_11ea_90e4_0242ac1c0002row11_col6 {\n",
              "            background-color:  #f6eff7;\n",
              "            color:  #000000;\n",
              "        }    #T_f13b9c0c_9b7a_11ea_90e4_0242ac1c0002row12_col2 {\n",
              "            background-color:  #eef5fc;\n",
              "            color:  #000000;\n",
              "        }    #T_f13b9c0c_9b7a_11ea_90e4_0242ac1c0002row12_col3 {\n",
              "            background-color:  #fff1ea;\n",
              "            color:  #000000;\n",
              "        }    #T_f13b9c0c_9b7a_11ea_90e4_0242ac1c0002row12_col4 {\n",
              "            background-color:  #e9f7e5;\n",
              "            color:  #000000;\n",
              "        }    #T_f13b9c0c_9b7a_11ea_90e4_0242ac1c0002row12_col5 {\n",
              "            background-color:  #f8f7fa;\n",
              "            color:  #000000;\n",
              "        }    #T_f13b9c0c_9b7a_11ea_90e4_0242ac1c0002row12_col6 {\n",
              "            background-color:  #eee8f3;\n",
              "            color:  #000000;\n",
              "        }    #T_f13b9c0c_9b7a_11ea_90e4_0242ac1c0002row13_col2 {\n",
              "            background-color:  #eef5fc;\n",
              "            color:  #000000;\n",
              "        }    #T_f13b9c0c_9b7a_11ea_90e4_0242ac1c0002row13_col3 {\n",
              "            background-color:  #fff0e9;\n",
              "            color:  #000000;\n",
              "        }    #T_f13b9c0c_9b7a_11ea_90e4_0242ac1c0002row13_col4 {\n",
              "            background-color:  #e9f7e5;\n",
              "            color:  #000000;\n",
              "        }    #T_f13b9c0c_9b7a_11ea_90e4_0242ac1c0002row13_col5 {\n",
              "            background-color:  #f8f7fa;\n",
              "            color:  #000000;\n",
              "        }    #T_f13b9c0c_9b7a_11ea_90e4_0242ac1c0002row13_col6 {\n",
              "            background-color:  #d7d6e9;\n",
              "            color:  #000000;\n",
              "        }    #T_f13b9c0c_9b7a_11ea_90e4_0242ac1c0002row14_col2 {\n",
              "            background-color:  #eff6fc;\n",
              "            color:  #000000;\n",
              "        }    #T_f13b9c0c_9b7a_11ea_90e4_0242ac1c0002row14_col3 {\n",
              "            background-color:  #fee3d7;\n",
              "            color:  #000000;\n",
              "        }    #T_f13b9c0c_9b7a_11ea_90e4_0242ac1c0002row14_col4 {\n",
              "            background-color:  #eef8ea;\n",
              "            color:  #000000;\n",
              "        }    #T_f13b9c0c_9b7a_11ea_90e4_0242ac1c0002row14_col5 {\n",
              "            background-color:  #f9f8fb;\n",
              "            color:  #000000;\n",
              "        }    #T_f13b9c0c_9b7a_11ea_90e4_0242ac1c0002row14_col6 {\n",
              "            background-color:  #fbf4f9;\n",
              "            color:  #000000;\n",
              "        }    #T_f13b9c0c_9b7a_11ea_90e4_0242ac1c0002row15_col2 {\n",
              "            background-color:  #f1f7fd;\n",
              "            color:  #000000;\n",
              "        }    #T_f13b9c0c_9b7a_11ea_90e4_0242ac1c0002row15_col3 {\n",
              "            background-color:  #feeae0;\n",
              "            color:  #000000;\n",
              "        }    #T_f13b9c0c_9b7a_11ea_90e4_0242ac1c0002row15_col4 {\n",
              "            background-color:  #f7fcf5;\n",
              "            color:  #000000;\n",
              "        }    #T_f13b9c0c_9b7a_11ea_90e4_0242ac1c0002row15_col5 {\n",
              "            background-color:  #f8f7fb;\n",
              "            color:  #000000;\n",
              "        }    #T_f13b9c0c_9b7a_11ea_90e4_0242ac1c0002row15_col6 {\n",
              "            background-color:  #fdf5fa;\n",
              "            color:  #000000;\n",
              "        }    #T_f13b9c0c_9b7a_11ea_90e4_0242ac1c0002row16_col2 {\n",
              "            background-color:  #f2f7fd;\n",
              "            color:  #000000;\n",
              "        }    #T_f13b9c0c_9b7a_11ea_90e4_0242ac1c0002row16_col3 {\n",
              "            background-color:  #fff5f0;\n",
              "            color:  #000000;\n",
              "        }    #T_f13b9c0c_9b7a_11ea_90e4_0242ac1c0002row16_col4 {\n",
              "            background-color:  #f0f9ec;\n",
              "            color:  #000000;\n",
              "        }    #T_f13b9c0c_9b7a_11ea_90e4_0242ac1c0002row16_col5 {\n",
              "            background-color:  #faf8fb;\n",
              "            color:  #000000;\n",
              "        }    #T_f13b9c0c_9b7a_11ea_90e4_0242ac1c0002row16_col6 {\n",
              "            background-color:  #f1ebf4;\n",
              "            color:  #000000;\n",
              "        }    #T_f13b9c0c_9b7a_11ea_90e4_0242ac1c0002row17_col2 {\n",
              "            background-color:  #f2f8fd;\n",
              "            color:  #000000;\n",
              "        }    #T_f13b9c0c_9b7a_11ea_90e4_0242ac1c0002row17_col3 {\n",
              "            background-color:  #ffeee6;\n",
              "            color:  #000000;\n",
              "        }    #T_f13b9c0c_9b7a_11ea_90e4_0242ac1c0002row17_col4 {\n",
              "            background-color:  #e9f7e5;\n",
              "            color:  #000000;\n",
              "        }    #T_f13b9c0c_9b7a_11ea_90e4_0242ac1c0002row17_col5 {\n",
              "            background-color:  #fbfafc;\n",
              "            color:  #000000;\n",
              "        }    #T_f13b9c0c_9b7a_11ea_90e4_0242ac1c0002row17_col6 {\n",
              "            background-color:  #f3edf5;\n",
              "            color:  #000000;\n",
              "        }    #T_f13b9c0c_9b7a_11ea_90e4_0242ac1c0002row18_col2 {\n",
              "            background-color:  #f3f8fe;\n",
              "            color:  #000000;\n",
              "        }    #T_f13b9c0c_9b7a_11ea_90e4_0242ac1c0002row18_col3 {\n",
              "            background-color:  #fff4ee;\n",
              "            color:  #000000;\n",
              "        }    #T_f13b9c0c_9b7a_11ea_90e4_0242ac1c0002row18_col4 {\n",
              "            background-color:  #f2faef;\n",
              "            color:  #000000;\n",
              "        }    #T_f13b9c0c_9b7a_11ea_90e4_0242ac1c0002row18_col5 {\n",
              "            background-color:  #faf9fc;\n",
              "            color:  #000000;\n",
              "        }    #T_f13b9c0c_9b7a_11ea_90e4_0242ac1c0002row18_col6 {\n",
              "            background-color:  #f3edf5;\n",
              "            color:  #000000;\n",
              "        }    #T_f13b9c0c_9b7a_11ea_90e4_0242ac1c0002row19_col2 {\n",
              "            background-color:  #f3f8fe;\n",
              "            color:  #000000;\n",
              "        }    #T_f13b9c0c_9b7a_11ea_90e4_0242ac1c0002row19_col3 {\n",
              "            background-color:  #fff2eb;\n",
              "            color:  #000000;\n",
              "        }    #T_f13b9c0c_9b7a_11ea_90e4_0242ac1c0002row19_col4 {\n",
              "            background-color:  #e5f5e1;\n",
              "            color:  #000000;\n",
              "        }    #T_f13b9c0c_9b7a_11ea_90e4_0242ac1c0002row19_col5 {\n",
              "            background-color:  #fcfbfd;\n",
              "            color:  #000000;\n",
              "        }    #T_f13b9c0c_9b7a_11ea_90e4_0242ac1c0002row19_col6 {\n",
              "            background-color:  #fff7fb;\n",
              "            color:  #000000;\n",
              "        }    #T_f13b9c0c_9b7a_11ea_90e4_0242ac1c0002row20_col2 {\n",
              "            background-color:  #f3f8fe;\n",
              "            color:  #000000;\n",
              "        }    #T_f13b9c0c_9b7a_11ea_90e4_0242ac1c0002row20_col3 {\n",
              "            background-color:  #fff1ea;\n",
              "            color:  #000000;\n",
              "        }    #T_f13b9c0c_9b7a_11ea_90e4_0242ac1c0002row20_col4 {\n",
              "            background-color:  #f5fbf2;\n",
              "            color:  #000000;\n",
              "        }    #T_f13b9c0c_9b7a_11ea_90e4_0242ac1c0002row20_col5 {\n",
              "            background-color:  #faf9fc;\n",
              "            color:  #000000;\n",
              "        }    #T_f13b9c0c_9b7a_11ea_90e4_0242ac1c0002row20_col6 {\n",
              "            background-color:  #fbf4f9;\n",
              "            color:  #000000;\n",
              "        }    #T_f13b9c0c_9b7a_11ea_90e4_0242ac1c0002row21_col2 {\n",
              "            background-color:  #f3f8fe;\n",
              "            color:  #000000;\n",
              "        }    #T_f13b9c0c_9b7a_11ea_90e4_0242ac1c0002row21_col3 {\n",
              "            background-color:  #fff4ef;\n",
              "            color:  #000000;\n",
              "        }    #T_f13b9c0c_9b7a_11ea_90e4_0242ac1c0002row21_col4 {\n",
              "            background-color:  #eff9eb;\n",
              "            color:  #000000;\n",
              "        }    #T_f13b9c0c_9b7a_11ea_90e4_0242ac1c0002row21_col5 {\n",
              "            background-color:  #fbfafc;\n",
              "            color:  #000000;\n",
              "        }    #T_f13b9c0c_9b7a_11ea_90e4_0242ac1c0002row21_col6 {\n",
              "            background-color:  #f2ecf5;\n",
              "            color:  #000000;\n",
              "        }    #T_f13b9c0c_9b7a_11ea_90e4_0242ac1c0002row22_col2 {\n",
              "            background-color:  #f3f8fe;\n",
              "            color:  #000000;\n",
              "        }    #T_f13b9c0c_9b7a_11ea_90e4_0242ac1c0002row22_col3 {\n",
              "            background-color:  #fff3ed;\n",
              "            color:  #000000;\n",
              "        }    #T_f13b9c0c_9b7a_11ea_90e4_0242ac1c0002row22_col4 {\n",
              "            background-color:  #f5fbf3;\n",
              "            color:  #000000;\n",
              "        }    #T_f13b9c0c_9b7a_11ea_90e4_0242ac1c0002row22_col5 {\n",
              "            background-color:  #faf9fc;\n",
              "            color:  #000000;\n",
              "        }    #T_f13b9c0c_9b7a_11ea_90e4_0242ac1c0002row22_col6 {\n",
              "            background-color:  #fef6fa;\n",
              "            color:  #000000;\n",
              "        }    #T_f13b9c0c_9b7a_11ea_90e4_0242ac1c0002row23_col2 {\n",
              "            background-color:  #f3f8fe;\n",
              "            color:  #000000;\n",
              "        }    #T_f13b9c0c_9b7a_11ea_90e4_0242ac1c0002row23_col3 {\n",
              "            background-color:  #ffeee7;\n",
              "            color:  #000000;\n",
              "        }    #T_f13b9c0c_9b7a_11ea_90e4_0242ac1c0002row23_col4 {\n",
              "            background-color:  #f4fbf2;\n",
              "            color:  #000000;\n",
              "        }    #T_f13b9c0c_9b7a_11ea_90e4_0242ac1c0002row23_col5 {\n",
              "            background-color:  #faf9fc;\n",
              "            color:  #000000;\n",
              "        }    #T_f13b9c0c_9b7a_11ea_90e4_0242ac1c0002row23_col6 {\n",
              "            background-color:  #fcf4fa;\n",
              "            color:  #000000;\n",
              "        }    #T_f13b9c0c_9b7a_11ea_90e4_0242ac1c0002row24_col2 {\n",
              "            background-color:  #f4f9fe;\n",
              "            color:  #000000;\n",
              "        }    #T_f13b9c0c_9b7a_11ea_90e4_0242ac1c0002row24_col3 {\n",
              "            background-color:  #fff5f0;\n",
              "            color:  #000000;\n",
              "        }    #T_f13b9c0c_9b7a_11ea_90e4_0242ac1c0002row24_col4 {\n",
              "            background-color:  #f5fbf3;\n",
              "            color:  #000000;\n",
              "        }    #T_f13b9c0c_9b7a_11ea_90e4_0242ac1c0002row24_col5 {\n",
              "            background-color:  #faf9fc;\n",
              "            color:  #000000;\n",
              "        }    #T_f13b9c0c_9b7a_11ea_90e4_0242ac1c0002row24_col6 {\n",
              "            background-color:  #f8f1f8;\n",
              "            color:  #000000;\n",
              "        }    #T_f13b9c0c_9b7a_11ea_90e4_0242ac1c0002row25_col2 {\n",
              "            background-color:  #f4f9fe;\n",
              "            color:  #000000;\n",
              "        }    #T_f13b9c0c_9b7a_11ea_90e4_0242ac1c0002row25_col3 {\n",
              "            background-color:  #fff2ec;\n",
              "            color:  #000000;\n",
              "        }    #T_f13b9c0c_9b7a_11ea_90e4_0242ac1c0002row25_col4 {\n",
              "            background-color:  #ecf8e8;\n",
              "            color:  #000000;\n",
              "        }    #T_f13b9c0c_9b7a_11ea_90e4_0242ac1c0002row25_col5 {\n",
              "            background-color:  #fcfbfd;\n",
              "            color:  #000000;\n",
              "        }    #T_f13b9c0c_9b7a_11ea_90e4_0242ac1c0002row25_col6 {\n",
              "            background-color:  #fdf5fa;\n",
              "            color:  #000000;\n",
              "        }    #T_f13b9c0c_9b7a_11ea_90e4_0242ac1c0002row26_col2 {\n",
              "            background-color:  #f4f9fe;\n",
              "            color:  #000000;\n",
              "        }    #T_f13b9c0c_9b7a_11ea_90e4_0242ac1c0002row26_col3 {\n",
              "            background-color:  #fff5f0;\n",
              "            color:  #000000;\n",
              "        }    #T_f13b9c0c_9b7a_11ea_90e4_0242ac1c0002row26_col4 {\n",
              "            background-color:  #f3faf0;\n",
              "            color:  #000000;\n",
              "        }    #T_f13b9c0c_9b7a_11ea_90e4_0242ac1c0002row26_col5 {\n",
              "            background-color:  #faf9fc;\n",
              "            color:  #000000;\n",
              "        }    #T_f13b9c0c_9b7a_11ea_90e4_0242ac1c0002row26_col6 {\n",
              "            background-color:  #f8f1f8;\n",
              "            color:  #000000;\n",
              "        }    #T_f13b9c0c_9b7a_11ea_90e4_0242ac1c0002row27_col2 {\n",
              "            background-color:  #f4f9fe;\n",
              "            color:  #000000;\n",
              "        }    #T_f13b9c0c_9b7a_11ea_90e4_0242ac1c0002row27_col3 {\n",
              "            background-color:  #fff5f0;\n",
              "            color:  #000000;\n",
              "        }    #T_f13b9c0c_9b7a_11ea_90e4_0242ac1c0002row27_col4 {\n",
              "            background-color:  #f5fbf3;\n",
              "            color:  #000000;\n",
              "        }    #T_f13b9c0c_9b7a_11ea_90e4_0242ac1c0002row27_col5 {\n",
              "            background-color:  #faf9fc;\n",
              "            color:  #000000;\n",
              "        }    #T_f13b9c0c_9b7a_11ea_90e4_0242ac1c0002row27_col6 {\n",
              "            background-color:  #f6eff7;\n",
              "            color:  #000000;\n",
              "        }    #T_f13b9c0c_9b7a_11ea_90e4_0242ac1c0002row28_col2 {\n",
              "            background-color:  #f5f9fe;\n",
              "            color:  #000000;\n",
              "        }    #T_f13b9c0c_9b7a_11ea_90e4_0242ac1c0002row28_col3 {\n",
              "            background-color:  #fff5f0;\n",
              "            color:  #000000;\n",
              "        }    #T_f13b9c0c_9b7a_11ea_90e4_0242ac1c0002row28_col4 {\n",
              "            background-color:  #f4fbf2;\n",
              "            color:  #000000;\n",
              "        }    #T_f13b9c0c_9b7a_11ea_90e4_0242ac1c0002row28_col5 {\n",
              "            background-color:  #fbfafc;\n",
              "            color:  #000000;\n",
              "        }    #T_f13b9c0c_9b7a_11ea_90e4_0242ac1c0002row28_col6 {\n",
              "            background-color:  #f9f2f8;\n",
              "            color:  #000000;\n",
              "        }    #T_f13b9c0c_9b7a_11ea_90e4_0242ac1c0002row29_col2 {\n",
              "            background-color:  #f5f9fe;\n",
              "            color:  #000000;\n",
              "        }    #T_f13b9c0c_9b7a_11ea_90e4_0242ac1c0002row29_col3 {\n",
              "            background-color:  #fff5f0;\n",
              "            color:  #000000;\n",
              "        }    #T_f13b9c0c_9b7a_11ea_90e4_0242ac1c0002row29_col4 {\n",
              "            background-color:  #f0f9ec;\n",
              "            color:  #000000;\n",
              "        }    #T_f13b9c0c_9b7a_11ea_90e4_0242ac1c0002row29_col5 {\n",
              "            background-color:  #fcfbfd;\n",
              "            color:  #000000;\n",
              "        }    #T_f13b9c0c_9b7a_11ea_90e4_0242ac1c0002row29_col6 {\n",
              "            background-color:  #fff7fb;\n",
              "            color:  #000000;\n",
              "        }    #T_f13b9c0c_9b7a_11ea_90e4_0242ac1c0002row30_col2 {\n",
              "            background-color:  #f5f9fe;\n",
              "            color:  #000000;\n",
              "        }    #T_f13b9c0c_9b7a_11ea_90e4_0242ac1c0002row30_col3 {\n",
              "            background-color:  #fff4ee;\n",
              "            color:  #000000;\n",
              "        }    #T_f13b9c0c_9b7a_11ea_90e4_0242ac1c0002row30_col4 {\n",
              "            background-color:  #f4fbf1;\n",
              "            color:  #000000;\n",
              "        }    #T_f13b9c0c_9b7a_11ea_90e4_0242ac1c0002row30_col5 {\n",
              "            background-color:  #fbfafc;\n",
              "            color:  #000000;\n",
              "        }    #T_f13b9c0c_9b7a_11ea_90e4_0242ac1c0002row30_col6 {\n",
              "            background-color:  #fdf5fa;\n",
              "            color:  #000000;\n",
              "        }    #T_f13b9c0c_9b7a_11ea_90e4_0242ac1c0002row31_col2 {\n",
              "            background-color:  #f5f9fe;\n",
              "            color:  #000000;\n",
              "        }    #T_f13b9c0c_9b7a_11ea_90e4_0242ac1c0002row31_col3 {\n",
              "            background-color:  #fff4ef;\n",
              "            color:  #000000;\n",
              "        }    #T_f13b9c0c_9b7a_11ea_90e4_0242ac1c0002row31_col4 {\n",
              "            background-color:  #eef8ea;\n",
              "            color:  #000000;\n",
              "        }    #T_f13b9c0c_9b7a_11ea_90e4_0242ac1c0002row31_col5 {\n",
              "            background-color:  #fcfbfd;\n",
              "            color:  #000000;\n",
              "        }    #T_f13b9c0c_9b7a_11ea_90e4_0242ac1c0002row31_col6 {\n",
              "            background-color:  #fff7fb;\n",
              "            color:  #000000;\n",
              "        }    #T_f13b9c0c_9b7a_11ea_90e4_0242ac1c0002row32_col2 {\n",
              "            background-color:  #f5f9fe;\n",
              "            color:  #000000;\n",
              "        }    #T_f13b9c0c_9b7a_11ea_90e4_0242ac1c0002row32_col3 {\n",
              "            background-color:  #fff4ee;\n",
              "            color:  #000000;\n",
              "        }    #T_f13b9c0c_9b7a_11ea_90e4_0242ac1c0002row32_col4 {\n",
              "            background-color:  #f2faef;\n",
              "            color:  #000000;\n",
              "        }    #T_f13b9c0c_9b7a_11ea_90e4_0242ac1c0002row32_col5 {\n",
              "            background-color:  #fcfbfd;\n",
              "            color:  #000000;\n",
              "        }    #T_f13b9c0c_9b7a_11ea_90e4_0242ac1c0002row32_col6 {\n",
              "            background-color:  #fef6fb;\n",
              "            color:  #000000;\n",
              "        }    #T_f13b9c0c_9b7a_11ea_90e4_0242ac1c0002row33_col2 {\n",
              "            background-color:  #f5fafe;\n",
              "            color:  #000000;\n",
              "        }    #T_f13b9c0c_9b7a_11ea_90e4_0242ac1c0002row33_col3 {\n",
              "            background-color:  #fff3ed;\n",
              "            color:  #000000;\n",
              "        }    #T_f13b9c0c_9b7a_11ea_90e4_0242ac1c0002row33_col4 {\n",
              "            background-color:  #f2faf0;\n",
              "            color:  #000000;\n",
              "        }    #T_f13b9c0c_9b7a_11ea_90e4_0242ac1c0002row33_col5 {\n",
              "            background-color:  #fcfbfd;\n",
              "            color:  #000000;\n",
              "        }    #T_f13b9c0c_9b7a_11ea_90e4_0242ac1c0002row33_col6 {\n",
              "            background-color:  #fdf5fa;\n",
              "            color:  #000000;\n",
              "        }    #T_f13b9c0c_9b7a_11ea_90e4_0242ac1c0002row34_col2 {\n",
              "            background-color:  #f5fafe;\n",
              "            color:  #000000;\n",
              "        }    #T_f13b9c0c_9b7a_11ea_90e4_0242ac1c0002row34_col3 {\n",
              "            background-color:  #fff4ef;\n",
              "            color:  #000000;\n",
              "        }    #T_f13b9c0c_9b7a_11ea_90e4_0242ac1c0002row34_col4 {\n",
              "            background-color:  #f5fbf3;\n",
              "            color:  #000000;\n",
              "        }    #T_f13b9c0c_9b7a_11ea_90e4_0242ac1c0002row34_col5 {\n",
              "            background-color:  #fbfafc;\n",
              "            color:  #000000;\n",
              "        }    #T_f13b9c0c_9b7a_11ea_90e4_0242ac1c0002row34_col6 {\n",
              "            background-color:  #fbf4f9;\n",
              "            color:  #000000;\n",
              "        }    #T_f13b9c0c_9b7a_11ea_90e4_0242ac1c0002row35_col2 {\n",
              "            background-color:  #f5fafe;\n",
              "            color:  #000000;\n",
              "        }    #T_f13b9c0c_9b7a_11ea_90e4_0242ac1c0002row35_col3 {\n",
              "            background-color:  #fff5f0;\n",
              "            color:  #000000;\n",
              "        }    #T_f13b9c0c_9b7a_11ea_90e4_0242ac1c0002row35_col4 {\n",
              "            background-color:  #f5fbf3;\n",
              "            color:  #000000;\n",
              "        }    #T_f13b9c0c_9b7a_11ea_90e4_0242ac1c0002row35_col5 {\n",
              "            background-color:  #fbfafc;\n",
              "            color:  #000000;\n",
              "        }    #T_f13b9c0c_9b7a_11ea_90e4_0242ac1c0002row35_col6 {\n",
              "            background-color:  #f8f1f8;\n",
              "            color:  #000000;\n",
              "        }    #T_f13b9c0c_9b7a_11ea_90e4_0242ac1c0002row36_col2 {\n",
              "            background-color:  #f5fafe;\n",
              "            color:  #000000;\n",
              "        }    #T_f13b9c0c_9b7a_11ea_90e4_0242ac1c0002row36_col3 {\n",
              "            background-color:  #fff3ed;\n",
              "            color:  #000000;\n",
              "        }    #T_f13b9c0c_9b7a_11ea_90e4_0242ac1c0002row36_col4 {\n",
              "            background-color:  #f5fbf3;\n",
              "            color:  #000000;\n",
              "        }    #T_f13b9c0c_9b7a_11ea_90e4_0242ac1c0002row36_col5 {\n",
              "            background-color:  #fbfafc;\n",
              "            color:  #000000;\n",
              "        }    #T_f13b9c0c_9b7a_11ea_90e4_0242ac1c0002row36_col6 {\n",
              "            background-color:  #fcf4fa;\n",
              "            color:  #000000;\n",
              "        }    #T_f13b9c0c_9b7a_11ea_90e4_0242ac1c0002row37_col2 {\n",
              "            background-color:  #f5fafe;\n",
              "            color:  #000000;\n",
              "        }    #T_f13b9c0c_9b7a_11ea_90e4_0242ac1c0002row37_col3 {\n",
              "            background-color:  #fff4ef;\n",
              "            color:  #000000;\n",
              "        }    #T_f13b9c0c_9b7a_11ea_90e4_0242ac1c0002row37_col4 {\n",
              "            background-color:  #f5fbf3;\n",
              "            color:  #000000;\n",
              "        }    #T_f13b9c0c_9b7a_11ea_90e4_0242ac1c0002row37_col5 {\n",
              "            background-color:  #fcfbfd;\n",
              "            color:  #000000;\n",
              "        }    #T_f13b9c0c_9b7a_11ea_90e4_0242ac1c0002row37_col6 {\n",
              "            background-color:  #fbf3f9;\n",
              "            color:  #000000;\n",
              "        }    #T_f13b9c0c_9b7a_11ea_90e4_0242ac1c0002row38_col2 {\n",
              "            background-color:  #f5fafe;\n",
              "            color:  #000000;\n",
              "        }    #T_f13b9c0c_9b7a_11ea_90e4_0242ac1c0002row38_col3 {\n",
              "            background-color:  #fff5f0;\n",
              "            color:  #000000;\n",
              "        }    #T_f13b9c0c_9b7a_11ea_90e4_0242ac1c0002row38_col4 {\n",
              "            background-color:  #f1faee;\n",
              "            color:  #000000;\n",
              "        }    #T_f13b9c0c_9b7a_11ea_90e4_0242ac1c0002row38_col5 {\n",
              "            background-color:  #fcfbfd;\n",
              "            color:  #000000;\n",
              "        }    #T_f13b9c0c_9b7a_11ea_90e4_0242ac1c0002row38_col6 {\n",
              "            background-color:  #fff7fb;\n",
              "            color:  #000000;\n",
              "        }    #T_f13b9c0c_9b7a_11ea_90e4_0242ac1c0002row39_col2 {\n",
              "            background-color:  #f5fafe;\n",
              "            color:  #000000;\n",
              "        }    #T_f13b9c0c_9b7a_11ea_90e4_0242ac1c0002row39_col3 {\n",
              "            background-color:  #fff4ee;\n",
              "            color:  #000000;\n",
              "        }    #T_f13b9c0c_9b7a_11ea_90e4_0242ac1c0002row39_col4 {\n",
              "            background-color:  #f6fcf4;\n",
              "            color:  #000000;\n",
              "        }    #T_f13b9c0c_9b7a_11ea_90e4_0242ac1c0002row39_col5 {\n",
              "            background-color:  #fbfafc;\n",
              "            color:  #000000;\n",
              "        }    #T_f13b9c0c_9b7a_11ea_90e4_0242ac1c0002row39_col6 {\n",
              "            background-color:  #fef6fa;\n",
              "            color:  #000000;\n",
              "        }    #T_f13b9c0c_9b7a_11ea_90e4_0242ac1c0002row40_col2 {\n",
              "            background-color:  #f5fafe;\n",
              "            color:  #000000;\n",
              "        }    #T_f13b9c0c_9b7a_11ea_90e4_0242ac1c0002row40_col3 {\n",
              "            background-color:  #fff4ef;\n",
              "            color:  #000000;\n",
              "        }    #T_f13b9c0c_9b7a_11ea_90e4_0242ac1c0002row40_col4 {\n",
              "            background-color:  #f2faef;\n",
              "            color:  #000000;\n",
              "        }    #T_f13b9c0c_9b7a_11ea_90e4_0242ac1c0002row40_col5 {\n",
              "            background-color:  #fcfbfd;\n",
              "            color:  #000000;\n",
              "        }    #T_f13b9c0c_9b7a_11ea_90e4_0242ac1c0002row40_col6 {\n",
              "            background-color:  #fef6fb;\n",
              "            color:  #000000;\n",
              "        }    #T_f13b9c0c_9b7a_11ea_90e4_0242ac1c0002row41_col2 {\n",
              "            background-color:  #f6faff;\n",
              "            color:  #000000;\n",
              "        }    #T_f13b9c0c_9b7a_11ea_90e4_0242ac1c0002row41_col3 {\n",
              "            background-color:  #fff4ef;\n",
              "            color:  #000000;\n",
              "        }    #T_f13b9c0c_9b7a_11ea_90e4_0242ac1c0002row41_col4 {\n",
              "            background-color:  #f5fbf3;\n",
              "            color:  #000000;\n",
              "        }    #T_f13b9c0c_9b7a_11ea_90e4_0242ac1c0002row41_col5 {\n",
              "            background-color:  #fcfbfd;\n",
              "            color:  #000000;\n",
              "        }    #T_f13b9c0c_9b7a_11ea_90e4_0242ac1c0002row41_col6 {\n",
              "            background-color:  #fbf4f9;\n",
              "            color:  #000000;\n",
              "        }    #T_f13b9c0c_9b7a_11ea_90e4_0242ac1c0002row42_col2 {\n",
              "            background-color:  #f6faff;\n",
              "            color:  #000000;\n",
              "        }    #T_f13b9c0c_9b7a_11ea_90e4_0242ac1c0002row42_col3 {\n",
              "            background-color:  #fff5f0;\n",
              "            color:  #000000;\n",
              "        }    #T_f13b9c0c_9b7a_11ea_90e4_0242ac1c0002row42_col4 {\n",
              "            background-color:  #f5fbf3;\n",
              "            color:  #000000;\n",
              "        }    #T_f13b9c0c_9b7a_11ea_90e4_0242ac1c0002row42_col5 {\n",
              "            background-color:  #fcfbfd;\n",
              "            color:  #000000;\n",
              "        }    #T_f13b9c0c_9b7a_11ea_90e4_0242ac1c0002row42_col6 {\n",
              "            background-color:  #fff7fb;\n",
              "            color:  #000000;\n",
              "        }    #T_f13b9c0c_9b7a_11ea_90e4_0242ac1c0002row43_col2 {\n",
              "            background-color:  #f6faff;\n",
              "            color:  #000000;\n",
              "        }    #T_f13b9c0c_9b7a_11ea_90e4_0242ac1c0002row43_col3 {\n",
              "            background-color:  #fff5f0;\n",
              "            color:  #000000;\n",
              "        }    #T_f13b9c0c_9b7a_11ea_90e4_0242ac1c0002row43_col4 {\n",
              "            background-color:  #f5fbf2;\n",
              "            color:  #000000;\n",
              "        }    #T_f13b9c0c_9b7a_11ea_90e4_0242ac1c0002row43_col5 {\n",
              "            background-color:  #fcfbfd;\n",
              "            color:  #000000;\n",
              "        }    #T_f13b9c0c_9b7a_11ea_90e4_0242ac1c0002row43_col6 {\n",
              "            background-color:  #fbf3f9;\n",
              "            color:  #000000;\n",
              "        }    #T_f13b9c0c_9b7a_11ea_90e4_0242ac1c0002row44_col2 {\n",
              "            background-color:  #f6faff;\n",
              "            color:  #000000;\n",
              "        }    #T_f13b9c0c_9b7a_11ea_90e4_0242ac1c0002row44_col3 {\n",
              "            background-color:  #fff4ef;\n",
              "            color:  #000000;\n",
              "        }    #T_f13b9c0c_9b7a_11ea_90e4_0242ac1c0002row44_col4 {\n",
              "            background-color:  #f6fcf4;\n",
              "            color:  #000000;\n",
              "        }    #T_f13b9c0c_9b7a_11ea_90e4_0242ac1c0002row44_col5 {\n",
              "            background-color:  #fcfbfd;\n",
              "            color:  #000000;\n",
              "        }    #T_f13b9c0c_9b7a_11ea_90e4_0242ac1c0002row44_col6 {\n",
              "            background-color:  #fcf4fa;\n",
              "            color:  #000000;\n",
              "        }    #T_f13b9c0c_9b7a_11ea_90e4_0242ac1c0002row45_col2 {\n",
              "            background-color:  #f6faff;\n",
              "            color:  #000000;\n",
              "        }    #T_f13b9c0c_9b7a_11ea_90e4_0242ac1c0002row45_col3 {\n",
              "            background-color:  #fff5f0;\n",
              "            color:  #000000;\n",
              "        }    #T_f13b9c0c_9b7a_11ea_90e4_0242ac1c0002row45_col4 {\n",
              "            background-color:  #f5fbf3;\n",
              "            color:  #000000;\n",
              "        }    #T_f13b9c0c_9b7a_11ea_90e4_0242ac1c0002row45_col5 {\n",
              "            background-color:  #fcfbfd;\n",
              "            color:  #000000;\n",
              "        }    #T_f13b9c0c_9b7a_11ea_90e4_0242ac1c0002row45_col6 {\n",
              "            background-color:  #f7f0f7;\n",
              "            color:  #000000;\n",
              "        }    #T_f13b9c0c_9b7a_11ea_90e4_0242ac1c0002row46_col2 {\n",
              "            background-color:  #f6faff;\n",
              "            color:  #000000;\n",
              "        }    #T_f13b9c0c_9b7a_11ea_90e4_0242ac1c0002row46_col3 {\n",
              "            background-color:  #fff5f0;\n",
              "            color:  #000000;\n",
              "        }    #T_f13b9c0c_9b7a_11ea_90e4_0242ac1c0002row46_col4 {\n",
              "            background-color:  #f4fbf2;\n",
              "            color:  #000000;\n",
              "        }    #T_f13b9c0c_9b7a_11ea_90e4_0242ac1c0002row46_col5 {\n",
              "            background-color:  #fcfbfd;\n",
              "            color:  #000000;\n",
              "        }    #T_f13b9c0c_9b7a_11ea_90e4_0242ac1c0002row46_col6 {\n",
              "            background-color:  #fef6fa;\n",
              "            color:  #000000;\n",
              "        }    #T_f13b9c0c_9b7a_11ea_90e4_0242ac1c0002row47_col2 {\n",
              "            background-color:  #f6faff;\n",
              "            color:  #000000;\n",
              "        }    #T_f13b9c0c_9b7a_11ea_90e4_0242ac1c0002row47_col3 {\n",
              "            background-color:  #fff5f0;\n",
              "            color:  #000000;\n",
              "        }    #T_f13b9c0c_9b7a_11ea_90e4_0242ac1c0002row47_col4 {\n",
              "            background-color:  #f4fbf2;\n",
              "            color:  #000000;\n",
              "        }    #T_f13b9c0c_9b7a_11ea_90e4_0242ac1c0002row47_col5 {\n",
              "            background-color:  #fcfbfd;\n",
              "            color:  #000000;\n",
              "        }    #T_f13b9c0c_9b7a_11ea_90e4_0242ac1c0002row47_col6 {\n",
              "            background-color:  #fff7fb;\n",
              "            color:  #000000;\n",
              "        }    #T_f13b9c0c_9b7a_11ea_90e4_0242ac1c0002row48_col2 {\n",
              "            background-color:  #f6faff;\n",
              "            color:  #000000;\n",
              "        }    #T_f13b9c0c_9b7a_11ea_90e4_0242ac1c0002row48_col3 {\n",
              "            background-color:  #fff5f0;\n",
              "            color:  #000000;\n",
              "        }    #T_f13b9c0c_9b7a_11ea_90e4_0242ac1c0002row48_col4 {\n",
              "            background-color:  #f7fcf5;\n",
              "            color:  #000000;\n",
              "        }    #T_f13b9c0c_9b7a_11ea_90e4_0242ac1c0002row48_col5 {\n",
              "            background-color:  #fcfbfd;\n",
              "            color:  #000000;\n",
              "        }    #T_f13b9c0c_9b7a_11ea_90e4_0242ac1c0002row48_col6 {\n",
              "            background-color:  #fff7fb;\n",
              "            color:  #000000;\n",
              "        }    #T_f13b9c0c_9b7a_11ea_90e4_0242ac1c0002row49_col2 {\n",
              "            background-color:  #f6faff;\n",
              "            color:  #000000;\n",
              "        }    #T_f13b9c0c_9b7a_11ea_90e4_0242ac1c0002row49_col3 {\n",
              "            background-color:  #fff5f0;\n",
              "            color:  #000000;\n",
              "        }    #T_f13b9c0c_9b7a_11ea_90e4_0242ac1c0002row49_col4 {\n",
              "            background-color:  #f3faf0;\n",
              "            color:  #000000;\n",
              "        }    #T_f13b9c0c_9b7a_11ea_90e4_0242ac1c0002row49_col5 {\n",
              "            background-color:  #fcfbfd;\n",
              "            color:  #000000;\n",
              "        }    #T_f13b9c0c_9b7a_11ea_90e4_0242ac1c0002row49_col6 {\n",
              "            background-color:  #fff7fb;\n",
              "            color:  #000000;\n",
              "        }    #T_f13b9c0c_9b7a_11ea_90e4_0242ac1c0002row50_col2 {\n",
              "            background-color:  #f6faff;\n",
              "            color:  #000000;\n",
              "        }    #T_f13b9c0c_9b7a_11ea_90e4_0242ac1c0002row50_col3 {\n",
              "            background-color:  #fff5f0;\n",
              "            color:  #000000;\n",
              "        }    #T_f13b9c0c_9b7a_11ea_90e4_0242ac1c0002row50_col4 {\n",
              "            background-color:  #f4fbf2;\n",
              "            color:  #000000;\n",
              "        }    #T_f13b9c0c_9b7a_11ea_90e4_0242ac1c0002row50_col5 {\n",
              "            background-color:  #fcfbfd;\n",
              "            color:  #000000;\n",
              "        }    #T_f13b9c0c_9b7a_11ea_90e4_0242ac1c0002row50_col6 {\n",
              "            background-color:  #fff7fb;\n",
              "            color:  #000000;\n",
              "        }    #T_f13b9c0c_9b7a_11ea_90e4_0242ac1c0002row51_col2 {\n",
              "            background-color:  #f6faff;\n",
              "            color:  #000000;\n",
              "        }    #T_f13b9c0c_9b7a_11ea_90e4_0242ac1c0002row51_col3 {\n",
              "            background-color:  #fff5f0;\n",
              "            color:  #000000;\n",
              "        }    #T_f13b9c0c_9b7a_11ea_90e4_0242ac1c0002row51_col4 {\n",
              "            background-color:  #f5fbf3;\n",
              "            color:  #000000;\n",
              "        }    #T_f13b9c0c_9b7a_11ea_90e4_0242ac1c0002row51_col5 {\n",
              "            background-color:  #fcfbfd;\n",
              "            color:  #000000;\n",
              "        }    #T_f13b9c0c_9b7a_11ea_90e4_0242ac1c0002row51_col6 {\n",
              "            background-color:  #fef6fb;\n",
              "            color:  #000000;\n",
              "        }    #T_f13b9c0c_9b7a_11ea_90e4_0242ac1c0002row52_col2 {\n",
              "            background-color:  #f6faff;\n",
              "            color:  #000000;\n",
              "        }    #T_f13b9c0c_9b7a_11ea_90e4_0242ac1c0002row52_col3 {\n",
              "            background-color:  #fff5f0;\n",
              "            color:  #000000;\n",
              "        }    #T_f13b9c0c_9b7a_11ea_90e4_0242ac1c0002row52_col4 {\n",
              "            background-color:  #f6fcf4;\n",
              "            color:  #000000;\n",
              "        }    #T_f13b9c0c_9b7a_11ea_90e4_0242ac1c0002row52_col5 {\n",
              "            background-color:  #fcfbfd;\n",
              "            color:  #000000;\n",
              "        }    #T_f13b9c0c_9b7a_11ea_90e4_0242ac1c0002row52_col6 {\n",
              "            background-color:  #fdf5fa;\n",
              "            color:  #000000;\n",
              "        }    #T_f13b9c0c_9b7a_11ea_90e4_0242ac1c0002row53_col2 {\n",
              "            background-color:  #f6faff;\n",
              "            color:  #000000;\n",
              "        }    #T_f13b9c0c_9b7a_11ea_90e4_0242ac1c0002row53_col3 {\n",
              "            background-color:  #fff5f0;\n",
              "            color:  #000000;\n",
              "        }    #T_f13b9c0c_9b7a_11ea_90e4_0242ac1c0002row53_col4 {\n",
              "            background-color:  #f5fbf2;\n",
              "            color:  #000000;\n",
              "        }    #T_f13b9c0c_9b7a_11ea_90e4_0242ac1c0002row53_col5 {\n",
              "            background-color:  #fcfbfd;\n",
              "            color:  #000000;\n",
              "        }    #T_f13b9c0c_9b7a_11ea_90e4_0242ac1c0002row53_col6 {\n",
              "            background-color:  #fef6fb;\n",
              "            color:  #000000;\n",
              "        }    #T_f13b9c0c_9b7a_11ea_90e4_0242ac1c0002row54_col2 {\n",
              "            background-color:  #f6faff;\n",
              "            color:  #000000;\n",
              "        }    #T_f13b9c0c_9b7a_11ea_90e4_0242ac1c0002row54_col3 {\n",
              "            background-color:  #fff4ef;\n",
              "            color:  #000000;\n",
              "        }    #T_f13b9c0c_9b7a_11ea_90e4_0242ac1c0002row54_col4 {\n",
              "            background-color:  #f5fbf3;\n",
              "            color:  #000000;\n",
              "        }    #T_f13b9c0c_9b7a_11ea_90e4_0242ac1c0002row54_col5 {\n",
              "            background-color:  #fcfbfd;\n",
              "            color:  #000000;\n",
              "        }    #T_f13b9c0c_9b7a_11ea_90e4_0242ac1c0002row54_col6 {\n",
              "            background-color:  #fef6fa;\n",
              "            color:  #000000;\n",
              "        }    #T_f13b9c0c_9b7a_11ea_90e4_0242ac1c0002row55_col2 {\n",
              "            background-color:  #f7fbff;\n",
              "            color:  #000000;\n",
              "        }    #T_f13b9c0c_9b7a_11ea_90e4_0242ac1c0002row55_col3 {\n",
              "            background-color:  #fff5f0;\n",
              "            color:  #000000;\n",
              "        }    #T_f13b9c0c_9b7a_11ea_90e4_0242ac1c0002row55_col4 {\n",
              "            background-color:  #f6fcf4;\n",
              "            color:  #000000;\n",
              "        }    #T_f13b9c0c_9b7a_11ea_90e4_0242ac1c0002row55_col5 {\n",
              "            background-color:  #fcfbfd;\n",
              "            color:  #000000;\n",
              "        }    #T_f13b9c0c_9b7a_11ea_90e4_0242ac1c0002row55_col6 {\n",
              "            background-color:  #fef6fb;\n",
              "            color:  #000000;\n",
              "        }    #T_f13b9c0c_9b7a_11ea_90e4_0242ac1c0002row56_col2 {\n",
              "            background-color:  #f7fbff;\n",
              "            color:  #000000;\n",
              "        }    #T_f13b9c0c_9b7a_11ea_90e4_0242ac1c0002row56_col3 {\n",
              "            background-color:  #fff5f0;\n",
              "            color:  #000000;\n",
              "        }    #T_f13b9c0c_9b7a_11ea_90e4_0242ac1c0002row56_col4 {\n",
              "            background-color:  #f6fcf4;\n",
              "            color:  #000000;\n",
              "        }    #T_f13b9c0c_9b7a_11ea_90e4_0242ac1c0002row56_col5 {\n",
              "            background-color:  #fcfbfd;\n",
              "            color:  #000000;\n",
              "        }    #T_f13b9c0c_9b7a_11ea_90e4_0242ac1c0002row56_col6 {\n",
              "            background-color:  #fef6fa;\n",
              "            color:  #000000;\n",
              "        }    #T_f13b9c0c_9b7a_11ea_90e4_0242ac1c0002row57_col2 {\n",
              "            background-color:  #f7fbff;\n",
              "            color:  #000000;\n",
              "        }    #T_f13b9c0c_9b7a_11ea_90e4_0242ac1c0002row57_col3 {\n",
              "            background-color:  #fff5f0;\n",
              "            color:  #000000;\n",
              "        }    #T_f13b9c0c_9b7a_11ea_90e4_0242ac1c0002row57_col4 {\n",
              "            background-color:  #f6fcf4;\n",
              "            color:  #000000;\n",
              "        }    #T_f13b9c0c_9b7a_11ea_90e4_0242ac1c0002row57_col5 {\n",
              "            background-color:  #fcfbfd;\n",
              "            color:  #000000;\n",
              "        }    #T_f13b9c0c_9b7a_11ea_90e4_0242ac1c0002row57_col6 {\n",
              "            background-color:  #fff7fb;\n",
              "            color:  #000000;\n",
              "        }    #T_f13b9c0c_9b7a_11ea_90e4_0242ac1c0002row58_col2 {\n",
              "            background-color:  #f7fbff;\n",
              "            color:  #000000;\n",
              "        }    #T_f13b9c0c_9b7a_11ea_90e4_0242ac1c0002row58_col3 {\n",
              "            background-color:  #fff5f0;\n",
              "            color:  #000000;\n",
              "        }    #T_f13b9c0c_9b7a_11ea_90e4_0242ac1c0002row58_col4 {\n",
              "            background-color:  #f7fcf5;\n",
              "            color:  #000000;\n",
              "        }    #T_f13b9c0c_9b7a_11ea_90e4_0242ac1c0002row58_col5 {\n",
              "            background-color:  #fcfbfd;\n",
              "            color:  #000000;\n",
              "        }    #T_f13b9c0c_9b7a_11ea_90e4_0242ac1c0002row58_col6 {\n",
              "            background-color:  #fdf5fa;\n",
              "            color:  #000000;\n",
              "        }    #T_f13b9c0c_9b7a_11ea_90e4_0242ac1c0002row59_col2 {\n",
              "            background-color:  #f7fbff;\n",
              "            color:  #000000;\n",
              "        }    #T_f13b9c0c_9b7a_11ea_90e4_0242ac1c0002row59_col3 {\n",
              "            background-color:  #fff5f0;\n",
              "            color:  #000000;\n",
              "        }    #T_f13b9c0c_9b7a_11ea_90e4_0242ac1c0002row59_col4 {\n",
              "            background-color:  #f7fcf5;\n",
              "            color:  #000000;\n",
              "        }    #T_f13b9c0c_9b7a_11ea_90e4_0242ac1c0002row59_col5 {\n",
              "            background-color:  #fcfbfd;\n",
              "            color:  #000000;\n",
              "        }    #T_f13b9c0c_9b7a_11ea_90e4_0242ac1c0002row59_col6 {\n",
              "            background-color:  #fdf5fa;\n",
              "            color:  #000000;\n",
              "        }    #T_f13b9c0c_9b7a_11ea_90e4_0242ac1c0002row60_col2 {\n",
              "            background-color:  #f7fbff;\n",
              "            color:  #000000;\n",
              "        }    #T_f13b9c0c_9b7a_11ea_90e4_0242ac1c0002row60_col3 {\n",
              "            background-color:  #fff5f0;\n",
              "            color:  #000000;\n",
              "        }    #T_f13b9c0c_9b7a_11ea_90e4_0242ac1c0002row60_col4 {\n",
              "            background-color:  #f7fcf5;\n",
              "            color:  #000000;\n",
              "        }    #T_f13b9c0c_9b7a_11ea_90e4_0242ac1c0002row60_col5 {\n",
              "            background-color:  #fcfbfd;\n",
              "            color:  #000000;\n",
              "        }    #T_f13b9c0c_9b7a_11ea_90e4_0242ac1c0002row60_col6 {\n",
              "            background-color:  #fff7fb;\n",
              "            color:  #000000;\n",
              "        }    #T_f13b9c0c_9b7a_11ea_90e4_0242ac1c0002row61_col2 {\n",
              "            background-color:  #f7fbff;\n",
              "            color:  #000000;\n",
              "        }    #T_f13b9c0c_9b7a_11ea_90e4_0242ac1c0002row61_col3 {\n",
              "            background-color:  #fff5f0;\n",
              "            color:  #000000;\n",
              "        }    #T_f13b9c0c_9b7a_11ea_90e4_0242ac1c0002row61_col4 {\n",
              "            background-color:  #f5fbf2;\n",
              "            color:  #000000;\n",
              "        }    #T_f13b9c0c_9b7a_11ea_90e4_0242ac1c0002row61_col5 {\n",
              "            background-color:  #fcfbfd;\n",
              "            color:  #000000;\n",
              "        }    #T_f13b9c0c_9b7a_11ea_90e4_0242ac1c0002row61_col6 {\n",
              "            background-color:  #fff7fb;\n",
              "            color:  #000000;\n",
              "        }    #T_f13b9c0c_9b7a_11ea_90e4_0242ac1c0002row62_col2 {\n",
              "            background-color:  #f7fbff;\n",
              "            color:  #000000;\n",
              "        }    #T_f13b9c0c_9b7a_11ea_90e4_0242ac1c0002row62_col3 {\n",
              "            background-color:  #fff5f0;\n",
              "            color:  #000000;\n",
              "        }    #T_f13b9c0c_9b7a_11ea_90e4_0242ac1c0002row62_col4 {\n",
              "            background-color:  #f6fcf4;\n",
              "            color:  #000000;\n",
              "        }    #T_f13b9c0c_9b7a_11ea_90e4_0242ac1c0002row62_col5 {\n",
              "            background-color:  #fcfbfd;\n",
              "            color:  #000000;\n",
              "        }    #T_f13b9c0c_9b7a_11ea_90e4_0242ac1c0002row62_col6 {\n",
              "            background-color:  #fef6fa;\n",
              "            color:  #000000;\n",
              "        }    #T_f13b9c0c_9b7a_11ea_90e4_0242ac1c0002row63_col2 {\n",
              "            background-color:  #f7fbff;\n",
              "            color:  #000000;\n",
              "        }    #T_f13b9c0c_9b7a_11ea_90e4_0242ac1c0002row63_col3 {\n",
              "            background-color:  #fff5f0;\n",
              "            color:  #000000;\n",
              "        }    #T_f13b9c0c_9b7a_11ea_90e4_0242ac1c0002row63_col4 {\n",
              "            background-color:  #f6fcf4;\n",
              "            color:  #000000;\n",
              "        }    #T_f13b9c0c_9b7a_11ea_90e4_0242ac1c0002row63_col5 {\n",
              "            background-color:  #fcfbfd;\n",
              "            color:  #000000;\n",
              "        }    #T_f13b9c0c_9b7a_11ea_90e4_0242ac1c0002row63_col6 {\n",
              "            background-color:  #fef6fb;\n",
              "            color:  #000000;\n",
              "        }    #T_f13b9c0c_9b7a_11ea_90e4_0242ac1c0002row64_col2 {\n",
              "            background-color:  #f7fbff;\n",
              "            color:  #000000;\n",
              "        }    #T_f13b9c0c_9b7a_11ea_90e4_0242ac1c0002row64_col3 {\n",
              "            background-color:  #fff4ef;\n",
              "            color:  #000000;\n",
              "        }    #T_f13b9c0c_9b7a_11ea_90e4_0242ac1c0002row64_col4 {\n",
              "            background-color:  #f6fcf4;\n",
              "            color:  #000000;\n",
              "        }    #T_f13b9c0c_9b7a_11ea_90e4_0242ac1c0002row64_col5 {\n",
              "            background-color:  #fcfbfd;\n",
              "            color:  #000000;\n",
              "        }    #T_f13b9c0c_9b7a_11ea_90e4_0242ac1c0002row64_col6 {\n",
              "            background-color:  #fff7fb;\n",
              "            color:  #000000;\n",
              "        }    #T_f13b9c0c_9b7a_11ea_90e4_0242ac1c0002row65_col2 {\n",
              "            background-color:  #f7fbff;\n",
              "            color:  #000000;\n",
              "        }    #T_f13b9c0c_9b7a_11ea_90e4_0242ac1c0002row65_col3 {\n",
              "            background-color:  #fff5f0;\n",
              "            color:  #000000;\n",
              "        }    #T_f13b9c0c_9b7a_11ea_90e4_0242ac1c0002row65_col4 {\n",
              "            background-color:  #f5fbf3;\n",
              "            color:  #000000;\n",
              "        }    #T_f13b9c0c_9b7a_11ea_90e4_0242ac1c0002row65_col5 {\n",
              "            background-color:  #fcfbfd;\n",
              "            color:  #000000;\n",
              "        }    #T_f13b9c0c_9b7a_11ea_90e4_0242ac1c0002row65_col6 {\n",
              "            background-color:  #fff7fb;\n",
              "            color:  #000000;\n",
              "        }    #T_f13b9c0c_9b7a_11ea_90e4_0242ac1c0002row66_col2 {\n",
              "            background-color:  #f7fbff;\n",
              "            color:  #000000;\n",
              "        }    #T_f13b9c0c_9b7a_11ea_90e4_0242ac1c0002row66_col3 {\n",
              "            background-color:  #fff5f0;\n",
              "            color:  #000000;\n",
              "        }    #T_f13b9c0c_9b7a_11ea_90e4_0242ac1c0002row66_col4 {\n",
              "            background-color:  #f6fcf4;\n",
              "            color:  #000000;\n",
              "        }    #T_f13b9c0c_9b7a_11ea_90e4_0242ac1c0002row66_col5 {\n",
              "            background-color:  #fcfbfd;\n",
              "            color:  #000000;\n",
              "        }    #T_f13b9c0c_9b7a_11ea_90e4_0242ac1c0002row66_col6 {\n",
              "            background-color:  #fef6fb;\n",
              "            color:  #000000;\n",
              "        }    #T_f13b9c0c_9b7a_11ea_90e4_0242ac1c0002row67_col2 {\n",
              "            background-color:  #f7fbff;\n",
              "            color:  #000000;\n",
              "        }    #T_f13b9c0c_9b7a_11ea_90e4_0242ac1c0002row67_col3 {\n",
              "            background-color:  #fff5f0;\n",
              "            color:  #000000;\n",
              "        }    #T_f13b9c0c_9b7a_11ea_90e4_0242ac1c0002row67_col4 {\n",
              "            background-color:  #f6fcf4;\n",
              "            color:  #000000;\n",
              "        }    #T_f13b9c0c_9b7a_11ea_90e4_0242ac1c0002row67_col5 {\n",
              "            background-color:  #fcfbfd;\n",
              "            color:  #000000;\n",
              "        }    #T_f13b9c0c_9b7a_11ea_90e4_0242ac1c0002row67_col6 {\n",
              "            background-color:  #fff7fb;\n",
              "            color:  #000000;\n",
              "        }    #T_f13b9c0c_9b7a_11ea_90e4_0242ac1c0002row68_col2 {\n",
              "            background-color:  #f7fbff;\n",
              "            color:  #000000;\n",
              "        }    #T_f13b9c0c_9b7a_11ea_90e4_0242ac1c0002row68_col3 {\n",
              "            background-color:  #fff5f0;\n",
              "            color:  #000000;\n",
              "        }    #T_f13b9c0c_9b7a_11ea_90e4_0242ac1c0002row68_col4 {\n",
              "            background-color:  #f6fcf4;\n",
              "            color:  #000000;\n",
              "        }    #T_f13b9c0c_9b7a_11ea_90e4_0242ac1c0002row68_col5 {\n",
              "            background-color:  #fcfbfd;\n",
              "            color:  #000000;\n",
              "        }    #T_f13b9c0c_9b7a_11ea_90e4_0242ac1c0002row68_col6 {\n",
              "            background-color:  #fdf5fa;\n",
              "            color:  #000000;\n",
              "        }    #T_f13b9c0c_9b7a_11ea_90e4_0242ac1c0002row69_col2 {\n",
              "            background-color:  #f7fbff;\n",
              "            color:  #000000;\n",
              "        }    #T_f13b9c0c_9b7a_11ea_90e4_0242ac1c0002row69_col3 {\n",
              "            background-color:  #fff5f0;\n",
              "            color:  #000000;\n",
              "        }    #T_f13b9c0c_9b7a_11ea_90e4_0242ac1c0002row69_col4 {\n",
              "            background-color:  #f7fcf5;\n",
              "            color:  #000000;\n",
              "        }    #T_f13b9c0c_9b7a_11ea_90e4_0242ac1c0002row69_col5 {\n",
              "            background-color:  #fcfbfd;\n",
              "            color:  #000000;\n",
              "        }    #T_f13b9c0c_9b7a_11ea_90e4_0242ac1c0002row69_col6 {\n",
              "            background-color:  #fef6fb;\n",
              "            color:  #000000;\n",
              "        }    #T_f13b9c0c_9b7a_11ea_90e4_0242ac1c0002row70_col2 {\n",
              "            background-color:  #f7fbff;\n",
              "            color:  #000000;\n",
              "        }    #T_f13b9c0c_9b7a_11ea_90e4_0242ac1c0002row70_col3 {\n",
              "            background-color:  #fff5f0;\n",
              "            color:  #000000;\n",
              "        }    #T_f13b9c0c_9b7a_11ea_90e4_0242ac1c0002row70_col4 {\n",
              "            background-color:  #f6fcf4;\n",
              "            color:  #000000;\n",
              "        }    #T_f13b9c0c_9b7a_11ea_90e4_0242ac1c0002row70_col5 {\n",
              "            background-color:  #fcfbfd;\n",
              "            color:  #000000;\n",
              "        }    #T_f13b9c0c_9b7a_11ea_90e4_0242ac1c0002row70_col6 {\n",
              "            background-color:  #fef6fb;\n",
              "            color:  #000000;\n",
              "        }    #T_f13b9c0c_9b7a_11ea_90e4_0242ac1c0002row71_col2 {\n",
              "            background-color:  #f7fbff;\n",
              "            color:  #000000;\n",
              "        }    #T_f13b9c0c_9b7a_11ea_90e4_0242ac1c0002row71_col3 {\n",
              "            background-color:  #fff5f0;\n",
              "            color:  #000000;\n",
              "        }    #T_f13b9c0c_9b7a_11ea_90e4_0242ac1c0002row71_col4 {\n",
              "            background-color:  #f6fcf4;\n",
              "            color:  #000000;\n",
              "        }    #T_f13b9c0c_9b7a_11ea_90e4_0242ac1c0002row71_col5 {\n",
              "            background-color:  #fcfbfd;\n",
              "            color:  #000000;\n",
              "        }    #T_f13b9c0c_9b7a_11ea_90e4_0242ac1c0002row71_col6 {\n",
              "            background-color:  #fff7fb;\n",
              "            color:  #000000;\n",
              "        }    #T_f13b9c0c_9b7a_11ea_90e4_0242ac1c0002row72_col2 {\n",
              "            background-color:  #f7fbff;\n",
              "            color:  #000000;\n",
              "        }    #T_f13b9c0c_9b7a_11ea_90e4_0242ac1c0002row72_col3 {\n",
              "            background-color:  #fff5f0;\n",
              "            color:  #000000;\n",
              "        }    #T_f13b9c0c_9b7a_11ea_90e4_0242ac1c0002row72_col4 {\n",
              "            background-color:  #f6fcf4;\n",
              "            color:  #000000;\n",
              "        }    #T_f13b9c0c_9b7a_11ea_90e4_0242ac1c0002row72_col5 {\n",
              "            background-color:  #fcfbfd;\n",
              "            color:  #000000;\n",
              "        }    #T_f13b9c0c_9b7a_11ea_90e4_0242ac1c0002row72_col6 {\n",
              "            background-color:  #fff7fb;\n",
              "            color:  #000000;\n",
              "        }    #T_f13b9c0c_9b7a_11ea_90e4_0242ac1c0002row73_col2 {\n",
              "            background-color:  #f7fbff;\n",
              "            color:  #000000;\n",
              "        }    #T_f13b9c0c_9b7a_11ea_90e4_0242ac1c0002row73_col3 {\n",
              "            background-color:  #fff5f0;\n",
              "            color:  #000000;\n",
              "        }    #T_f13b9c0c_9b7a_11ea_90e4_0242ac1c0002row73_col4 {\n",
              "            background-color:  #f7fcf5;\n",
              "            color:  #000000;\n",
              "        }    #T_f13b9c0c_9b7a_11ea_90e4_0242ac1c0002row73_col5 {\n",
              "            background-color:  #fcfbfd;\n",
              "            color:  #000000;\n",
              "        }    #T_f13b9c0c_9b7a_11ea_90e4_0242ac1c0002row73_col6 {\n",
              "            background-color:  #fef6fb;\n",
              "            color:  #000000;\n",
              "        }    #T_f13b9c0c_9b7a_11ea_90e4_0242ac1c0002row74_col2 {\n",
              "            background-color:  #f7fbff;\n",
              "            color:  #000000;\n",
              "        }    #T_f13b9c0c_9b7a_11ea_90e4_0242ac1c0002row74_col3 {\n",
              "            background-color:  #fff5f0;\n",
              "            color:  #000000;\n",
              "        }    #T_f13b9c0c_9b7a_11ea_90e4_0242ac1c0002row74_col4 {\n",
              "            background-color:  #f6fcf4;\n",
              "            color:  #000000;\n",
              "        }    #T_f13b9c0c_9b7a_11ea_90e4_0242ac1c0002row74_col5 {\n",
              "            background-color:  #fcfbfd;\n",
              "            color:  #000000;\n",
              "        }    #T_f13b9c0c_9b7a_11ea_90e4_0242ac1c0002row74_col6 {\n",
              "            background-color:  #fff7fb;\n",
              "            color:  #000000;\n",
              "        }    #T_f13b9c0c_9b7a_11ea_90e4_0242ac1c0002row75_col2 {\n",
              "            background-color:  #f7fbff;\n",
              "            color:  #000000;\n",
              "        }    #T_f13b9c0c_9b7a_11ea_90e4_0242ac1c0002row75_col3 {\n",
              "            background-color:  #fff5f0;\n",
              "            color:  #000000;\n",
              "        }    #T_f13b9c0c_9b7a_11ea_90e4_0242ac1c0002row75_col4 {\n",
              "            background-color:  #f7fcf5;\n",
              "            color:  #000000;\n",
              "        }    #T_f13b9c0c_9b7a_11ea_90e4_0242ac1c0002row75_col5 {\n",
              "            background-color:  #fcfbfd;\n",
              "            color:  #000000;\n",
              "        }    #T_f13b9c0c_9b7a_11ea_90e4_0242ac1c0002row75_col6 {\n",
              "            background-color:  #fef6fb;\n",
              "            color:  #000000;\n",
              "        }    #T_f13b9c0c_9b7a_11ea_90e4_0242ac1c0002row76_col2 {\n",
              "            background-color:  #f7fbff;\n",
              "            color:  #000000;\n",
              "        }    #T_f13b9c0c_9b7a_11ea_90e4_0242ac1c0002row76_col3 {\n",
              "            background-color:  #fff5f0;\n",
              "            color:  #000000;\n",
              "        }    #T_f13b9c0c_9b7a_11ea_90e4_0242ac1c0002row76_col4 {\n",
              "            background-color:  #f7fcf5;\n",
              "            color:  #000000;\n",
              "        }    #T_f13b9c0c_9b7a_11ea_90e4_0242ac1c0002row76_col5 {\n",
              "            background-color:  #fcfbfd;\n",
              "            color:  #000000;\n",
              "        }    #T_f13b9c0c_9b7a_11ea_90e4_0242ac1c0002row76_col6 {\n",
              "            background-color:  #fff7fb;\n",
              "            color:  #000000;\n",
              "        }    #T_f13b9c0c_9b7a_11ea_90e4_0242ac1c0002row77_col2 {\n",
              "            background-color:  #f7fbff;\n",
              "            color:  #000000;\n",
              "        }    #T_f13b9c0c_9b7a_11ea_90e4_0242ac1c0002row77_col3 {\n",
              "            background-color:  #fff5f0;\n",
              "            color:  #000000;\n",
              "        }    #T_f13b9c0c_9b7a_11ea_90e4_0242ac1c0002row77_col4 {\n",
              "            background-color:  #f6fcf4;\n",
              "            color:  #000000;\n",
              "        }    #T_f13b9c0c_9b7a_11ea_90e4_0242ac1c0002row77_col5 {\n",
              "            background-color:  #fcfbfd;\n",
              "            color:  #000000;\n",
              "        }    #T_f13b9c0c_9b7a_11ea_90e4_0242ac1c0002row77_col6 {\n",
              "            background-color:  #fff7fb;\n",
              "            color:  #000000;\n",
              "        }    #T_f13b9c0c_9b7a_11ea_90e4_0242ac1c0002row78_col2 {\n",
              "            background-color:  #f7fbff;\n",
              "            color:  #000000;\n",
              "        }    #T_f13b9c0c_9b7a_11ea_90e4_0242ac1c0002row78_col3 {\n",
              "            background-color:  #fff5f0;\n",
              "            color:  #000000;\n",
              "        }    #T_f13b9c0c_9b7a_11ea_90e4_0242ac1c0002row78_col4 {\n",
              "            background-color:  #f6fcf4;\n",
              "            color:  #000000;\n",
              "        }    #T_f13b9c0c_9b7a_11ea_90e4_0242ac1c0002row78_col5 {\n",
              "            background-color:  #fcfbfd;\n",
              "            color:  #000000;\n",
              "        }    #T_f13b9c0c_9b7a_11ea_90e4_0242ac1c0002row78_col6 {\n",
              "            background-color:  #fff7fb;\n",
              "            color:  #000000;\n",
              "        }    #T_f13b9c0c_9b7a_11ea_90e4_0242ac1c0002row79_col2 {\n",
              "            background-color:  #f7fbff;\n",
              "            color:  #000000;\n",
              "        }    #T_f13b9c0c_9b7a_11ea_90e4_0242ac1c0002row79_col3 {\n",
              "            background-color:  #fff5f0;\n",
              "            color:  #000000;\n",
              "        }    #T_f13b9c0c_9b7a_11ea_90e4_0242ac1c0002row79_col4 {\n",
              "            background-color:  #f7fcf5;\n",
              "            color:  #000000;\n",
              "        }    #T_f13b9c0c_9b7a_11ea_90e4_0242ac1c0002row79_col5 {\n",
              "            background-color:  #fcfbfd;\n",
              "            color:  #000000;\n",
              "        }    #T_f13b9c0c_9b7a_11ea_90e4_0242ac1c0002row79_col6 {\n",
              "            background-color:  #fff7fb;\n",
              "            color:  #000000;\n",
              "        }    #T_f13b9c0c_9b7a_11ea_90e4_0242ac1c0002row80_col2 {\n",
              "            background-color:  #f7fbff;\n",
              "            color:  #000000;\n",
              "        }    #T_f13b9c0c_9b7a_11ea_90e4_0242ac1c0002row80_col3 {\n",
              "            background-color:  #fff5f0;\n",
              "            color:  #000000;\n",
              "        }    #T_f13b9c0c_9b7a_11ea_90e4_0242ac1c0002row80_col4 {\n",
              "            background-color:  #f7fcf5;\n",
              "            color:  #000000;\n",
              "        }    #T_f13b9c0c_9b7a_11ea_90e4_0242ac1c0002row80_col5 {\n",
              "            background-color:  #fcfbfd;\n",
              "            color:  #000000;\n",
              "        }    #T_f13b9c0c_9b7a_11ea_90e4_0242ac1c0002row80_col6 {\n",
              "            background-color:  #fff7fb;\n",
              "            color:  #000000;\n",
              "        }    #T_f13b9c0c_9b7a_11ea_90e4_0242ac1c0002row81_col2 {\n",
              "            background-color:  #f7fbff;\n",
              "            color:  #000000;\n",
              "        }    #T_f13b9c0c_9b7a_11ea_90e4_0242ac1c0002row81_col3 {\n",
              "            background-color:  #fff5f0;\n",
              "            color:  #000000;\n",
              "        }    #T_f13b9c0c_9b7a_11ea_90e4_0242ac1c0002row81_col4 {\n",
              "            background-color:  #f7fcf5;\n",
              "            color:  #000000;\n",
              "        }    #T_f13b9c0c_9b7a_11ea_90e4_0242ac1c0002row81_col5 {\n",
              "            background-color:  #fcfbfd;\n",
              "            color:  #000000;\n",
              "        }    #T_f13b9c0c_9b7a_11ea_90e4_0242ac1c0002row81_col6 {\n",
              "            background-color:  #fff7fb;\n",
              "            color:  #000000;\n",
              "        }    #T_f13b9c0c_9b7a_11ea_90e4_0242ac1c0002row82_col2 {\n",
              "            background-color:  #f7fbff;\n",
              "            color:  #000000;\n",
              "        }    #T_f13b9c0c_9b7a_11ea_90e4_0242ac1c0002row82_col3 {\n",
              "            background-color:  #fff5f0;\n",
              "            color:  #000000;\n",
              "        }    #T_f13b9c0c_9b7a_11ea_90e4_0242ac1c0002row82_col4 {\n",
              "            background-color:  #f6fcf4;\n",
              "            color:  #000000;\n",
              "        }    #T_f13b9c0c_9b7a_11ea_90e4_0242ac1c0002row82_col5 {\n",
              "            background-color:  #fcfbfd;\n",
              "            color:  #000000;\n",
              "        }    #T_f13b9c0c_9b7a_11ea_90e4_0242ac1c0002row82_col6 {\n",
              "            background-color:  #fff7fb;\n",
              "            color:  #000000;\n",
              "        }    #T_f13b9c0c_9b7a_11ea_90e4_0242ac1c0002row83_col2 {\n",
              "            background-color:  #f7fbff;\n",
              "            color:  #000000;\n",
              "        }    #T_f13b9c0c_9b7a_11ea_90e4_0242ac1c0002row83_col3 {\n",
              "            background-color:  #fff5f0;\n",
              "            color:  #000000;\n",
              "        }    #T_f13b9c0c_9b7a_11ea_90e4_0242ac1c0002row83_col4 {\n",
              "            background-color:  #f6fcf4;\n",
              "            color:  #000000;\n",
              "        }    #T_f13b9c0c_9b7a_11ea_90e4_0242ac1c0002row83_col5 {\n",
              "            background-color:  #fcfbfd;\n",
              "            color:  #000000;\n",
              "        }    #T_f13b9c0c_9b7a_11ea_90e4_0242ac1c0002row83_col6 {\n",
              "            background-color:  #fff7fb;\n",
              "            color:  #000000;\n",
              "        }    #T_f13b9c0c_9b7a_11ea_90e4_0242ac1c0002row84_col2 {\n",
              "            background-color:  #f7fbff;\n",
              "            color:  #000000;\n",
              "        }    #T_f13b9c0c_9b7a_11ea_90e4_0242ac1c0002row84_col3 {\n",
              "            background-color:  #fff5f0;\n",
              "            color:  #000000;\n",
              "        }    #T_f13b9c0c_9b7a_11ea_90e4_0242ac1c0002row84_col4 {\n",
              "            background-color:  #f7fcf5;\n",
              "            color:  #000000;\n",
              "        }    #T_f13b9c0c_9b7a_11ea_90e4_0242ac1c0002row84_col5 {\n",
              "            background-color:  #fcfbfd;\n",
              "            color:  #000000;\n",
              "        }    #T_f13b9c0c_9b7a_11ea_90e4_0242ac1c0002row84_col6 {\n",
              "            background-color:  #fff7fb;\n",
              "            color:  #000000;\n",
              "        }    #T_f13b9c0c_9b7a_11ea_90e4_0242ac1c0002row85_col2 {\n",
              "            background-color:  #f7fbff;\n",
              "            color:  #000000;\n",
              "        }    #T_f13b9c0c_9b7a_11ea_90e4_0242ac1c0002row85_col3 {\n",
              "            background-color:  #fff5f0;\n",
              "            color:  #000000;\n",
              "        }    #T_f13b9c0c_9b7a_11ea_90e4_0242ac1c0002row85_col4 {\n",
              "            background-color:  #f7fcf5;\n",
              "            color:  #000000;\n",
              "        }    #T_f13b9c0c_9b7a_11ea_90e4_0242ac1c0002row85_col5 {\n",
              "            background-color:  #fcfbfd;\n",
              "            color:  #000000;\n",
              "        }    #T_f13b9c0c_9b7a_11ea_90e4_0242ac1c0002row85_col6 {\n",
              "            background-color:  #fff7fb;\n",
              "            color:  #000000;\n",
              "        }    #T_f13b9c0c_9b7a_11ea_90e4_0242ac1c0002row86_col2 {\n",
              "            background-color:  #f7fbff;\n",
              "            color:  #000000;\n",
              "        }    #T_f13b9c0c_9b7a_11ea_90e4_0242ac1c0002row86_col3 {\n",
              "            background-color:  #fff5f0;\n",
              "            color:  #000000;\n",
              "        }    #T_f13b9c0c_9b7a_11ea_90e4_0242ac1c0002row86_col4 {\n",
              "            background-color:  #f6fcf4;\n",
              "            color:  #000000;\n",
              "        }    #T_f13b9c0c_9b7a_11ea_90e4_0242ac1c0002row86_col5 {\n",
              "            background-color:  #fcfbfd;\n",
              "            color:  #000000;\n",
              "        }    #T_f13b9c0c_9b7a_11ea_90e4_0242ac1c0002row86_col6 {\n",
              "            background-color:  #fff7fb;\n",
              "            color:  #000000;\n",
              "        }    #T_f13b9c0c_9b7a_11ea_90e4_0242ac1c0002row87_col2 {\n",
              "            background-color:  #f7fbff;\n",
              "            color:  #000000;\n",
              "        }    #T_f13b9c0c_9b7a_11ea_90e4_0242ac1c0002row87_col3 {\n",
              "            background-color:  #fff5f0;\n",
              "            color:  #000000;\n",
              "        }    #T_f13b9c0c_9b7a_11ea_90e4_0242ac1c0002row87_col4 {\n",
              "            background-color:  #f7fcf5;\n",
              "            color:  #000000;\n",
              "        }    #T_f13b9c0c_9b7a_11ea_90e4_0242ac1c0002row87_col5 {\n",
              "            background-color:  #fcfbfd;\n",
              "            color:  #000000;\n",
              "        }    #T_f13b9c0c_9b7a_11ea_90e4_0242ac1c0002row87_col6 {\n",
              "            background-color:  #fef6fa;\n",
              "            color:  #000000;\n",
              "        }    #T_f13b9c0c_9b7a_11ea_90e4_0242ac1c0002row88_col2 {\n",
              "            background-color:  #f7fbff;\n",
              "            color:  #000000;\n",
              "        }    #T_f13b9c0c_9b7a_11ea_90e4_0242ac1c0002row88_col3 {\n",
              "            background-color:  #fff5f0;\n",
              "            color:  #000000;\n",
              "        }    #T_f13b9c0c_9b7a_11ea_90e4_0242ac1c0002row88_col4 {\n",
              "            background-color:  #f6fcf4;\n",
              "            color:  #000000;\n",
              "        }    #T_f13b9c0c_9b7a_11ea_90e4_0242ac1c0002row88_col5 {\n",
              "            background-color:  #fcfbfd;\n",
              "            color:  #000000;\n",
              "        }    #T_f13b9c0c_9b7a_11ea_90e4_0242ac1c0002row88_col6 {\n",
              "            background-color:  #fff7fb;\n",
              "            color:  #000000;\n",
              "        }    #T_f13b9c0c_9b7a_11ea_90e4_0242ac1c0002row89_col2 {\n",
              "            background-color:  #f7fbff;\n",
              "            color:  #000000;\n",
              "        }    #T_f13b9c0c_9b7a_11ea_90e4_0242ac1c0002row89_col3 {\n",
              "            background-color:  #fff5f0;\n",
              "            color:  #000000;\n",
              "        }    #T_f13b9c0c_9b7a_11ea_90e4_0242ac1c0002row89_col4 {\n",
              "            background-color:  #f7fcf5;\n",
              "            color:  #000000;\n",
              "        }    #T_f13b9c0c_9b7a_11ea_90e4_0242ac1c0002row89_col5 {\n",
              "            background-color:  #fcfbfd;\n",
              "            color:  #000000;\n",
              "        }    #T_f13b9c0c_9b7a_11ea_90e4_0242ac1c0002row89_col6 {\n",
              "            background-color:  #fff7fb;\n",
              "            color:  #000000;\n",
              "        }    #T_f13b9c0c_9b7a_11ea_90e4_0242ac1c0002row90_col2 {\n",
              "            background-color:  #f7fbff;\n",
              "            color:  #000000;\n",
              "        }    #T_f13b9c0c_9b7a_11ea_90e4_0242ac1c0002row90_col3 {\n",
              "            background-color:  #fff5f0;\n",
              "            color:  #000000;\n",
              "        }    #T_f13b9c0c_9b7a_11ea_90e4_0242ac1c0002row90_col4 {\n",
              "            background-color:  #f7fcf5;\n",
              "            color:  #000000;\n",
              "        }    #T_f13b9c0c_9b7a_11ea_90e4_0242ac1c0002row90_col5 {\n",
              "            background-color:  #fcfbfd;\n",
              "            color:  #000000;\n",
              "        }    #T_f13b9c0c_9b7a_11ea_90e4_0242ac1c0002row90_col6 {\n",
              "            background-color:  #fef6fb;\n",
              "            color:  #000000;\n",
              "        }    #T_f13b9c0c_9b7a_11ea_90e4_0242ac1c0002row91_col2 {\n",
              "            background-color:  #f7fbff;\n",
              "            color:  #000000;\n",
              "        }    #T_f13b9c0c_9b7a_11ea_90e4_0242ac1c0002row91_col3 {\n",
              "            background-color:  #fff5f0;\n",
              "            color:  #000000;\n",
              "        }    #T_f13b9c0c_9b7a_11ea_90e4_0242ac1c0002row91_col4 {\n",
              "            background-color:  #f7fcf5;\n",
              "            color:  #000000;\n",
              "        }    #T_f13b9c0c_9b7a_11ea_90e4_0242ac1c0002row91_col5 {\n",
              "            background-color:  #fcfbfd;\n",
              "            color:  #000000;\n",
              "        }    #T_f13b9c0c_9b7a_11ea_90e4_0242ac1c0002row91_col6 {\n",
              "            background-color:  #fff7fb;\n",
              "            color:  #000000;\n",
              "        }    #T_f13b9c0c_9b7a_11ea_90e4_0242ac1c0002row92_col2 {\n",
              "            background-color:  #f7fbff;\n",
              "            color:  #000000;\n",
              "        }    #T_f13b9c0c_9b7a_11ea_90e4_0242ac1c0002row92_col3 {\n",
              "            background-color:  #fff5f0;\n",
              "            color:  #000000;\n",
              "        }    #T_f13b9c0c_9b7a_11ea_90e4_0242ac1c0002row92_col4 {\n",
              "            background-color:  #f7fcf5;\n",
              "            color:  #000000;\n",
              "        }    #T_f13b9c0c_9b7a_11ea_90e4_0242ac1c0002row92_col5 {\n",
              "            background-color:  #fcfbfd;\n",
              "            color:  #000000;\n",
              "        }    #T_f13b9c0c_9b7a_11ea_90e4_0242ac1c0002row92_col6 {\n",
              "            background-color:  #fff7fb;\n",
              "            color:  #000000;\n",
              "        }    #T_f13b9c0c_9b7a_11ea_90e4_0242ac1c0002row93_col2 {\n",
              "            background-color:  #f7fbff;\n",
              "            color:  #000000;\n",
              "        }    #T_f13b9c0c_9b7a_11ea_90e4_0242ac1c0002row93_col3 {\n",
              "            background-color:  #fff5f0;\n",
              "            color:  #000000;\n",
              "        }    #T_f13b9c0c_9b7a_11ea_90e4_0242ac1c0002row93_col4 {\n",
              "            background-color:  #f7fcf5;\n",
              "            color:  #000000;\n",
              "        }    #T_f13b9c0c_9b7a_11ea_90e4_0242ac1c0002row93_col5 {\n",
              "            background-color:  #fcfbfd;\n",
              "            color:  #000000;\n",
              "        }    #T_f13b9c0c_9b7a_11ea_90e4_0242ac1c0002row93_col6 {\n",
              "            background-color:  #fff7fb;\n",
              "            color:  #000000;\n",
              "        }    #T_f13b9c0c_9b7a_11ea_90e4_0242ac1c0002row94_col2 {\n",
              "            background-color:  #f7fbff;\n",
              "            color:  #000000;\n",
              "        }    #T_f13b9c0c_9b7a_11ea_90e4_0242ac1c0002row94_col3 {\n",
              "            background-color:  #fff5f0;\n",
              "            color:  #000000;\n",
              "        }    #T_f13b9c0c_9b7a_11ea_90e4_0242ac1c0002row94_col4 {\n",
              "            background-color:  #f7fcf5;\n",
              "            color:  #000000;\n",
              "        }    #T_f13b9c0c_9b7a_11ea_90e4_0242ac1c0002row94_col5 {\n",
              "            background-color:  #fcfbfd;\n",
              "            color:  #000000;\n",
              "        }    #T_f13b9c0c_9b7a_11ea_90e4_0242ac1c0002row94_col6 {\n",
              "            background-color:  #fff7fb;\n",
              "            color:  #000000;\n",
              "        }    #T_f13b9c0c_9b7a_11ea_90e4_0242ac1c0002row95_col2 {\n",
              "            background-color:  #f7fbff;\n",
              "            color:  #000000;\n",
              "        }    #T_f13b9c0c_9b7a_11ea_90e4_0242ac1c0002row95_col3 {\n",
              "            background-color:  #fff5f0;\n",
              "            color:  #000000;\n",
              "        }    #T_f13b9c0c_9b7a_11ea_90e4_0242ac1c0002row95_col4 {\n",
              "            background-color:  #f7fcf5;\n",
              "            color:  #000000;\n",
              "        }    #T_f13b9c0c_9b7a_11ea_90e4_0242ac1c0002row95_col5 {\n",
              "            background-color:  #fcfbfd;\n",
              "            color:  #000000;\n",
              "        }    #T_f13b9c0c_9b7a_11ea_90e4_0242ac1c0002row95_col6 {\n",
              "            background-color:  #fff7fb;\n",
              "            color:  #000000;\n",
              "        }    #T_f13b9c0c_9b7a_11ea_90e4_0242ac1c0002row96_col2 {\n",
              "            background-color:  #f7fbff;\n",
              "            color:  #000000;\n",
              "        }    #T_f13b9c0c_9b7a_11ea_90e4_0242ac1c0002row96_col3 {\n",
              "            background-color:  #fff5f0;\n",
              "            color:  #000000;\n",
              "        }    #T_f13b9c0c_9b7a_11ea_90e4_0242ac1c0002row96_col4 {\n",
              "            background-color:  #f7fcf5;\n",
              "            color:  #000000;\n",
              "        }    #T_f13b9c0c_9b7a_11ea_90e4_0242ac1c0002row96_col5 {\n",
              "            background-color:  #fcfbfd;\n",
              "            color:  #000000;\n",
              "        }    #T_f13b9c0c_9b7a_11ea_90e4_0242ac1c0002row96_col6 {\n",
              "            background-color:  #fef6fb;\n",
              "            color:  #000000;\n",
              "        }    #T_f13b9c0c_9b7a_11ea_90e4_0242ac1c0002row97_col2 {\n",
              "            background-color:  #f7fbff;\n",
              "            color:  #000000;\n",
              "        }    #T_f13b9c0c_9b7a_11ea_90e4_0242ac1c0002row97_col3 {\n",
              "            background-color:  #fff5f0;\n",
              "            color:  #000000;\n",
              "        }    #T_f13b9c0c_9b7a_11ea_90e4_0242ac1c0002row97_col4 {\n",
              "            background-color:  #f7fcf5;\n",
              "            color:  #000000;\n",
              "        }    #T_f13b9c0c_9b7a_11ea_90e4_0242ac1c0002row97_col5 {\n",
              "            background-color:  #fcfbfd;\n",
              "            color:  #000000;\n",
              "        }    #T_f13b9c0c_9b7a_11ea_90e4_0242ac1c0002row97_col6 {\n",
              "            background-color:  #fff7fb;\n",
              "            color:  #000000;\n",
              "        }    #T_f13b9c0c_9b7a_11ea_90e4_0242ac1c0002row98_col2 {\n",
              "            background-color:  #f7fbff;\n",
              "            color:  #000000;\n",
              "        }    #T_f13b9c0c_9b7a_11ea_90e4_0242ac1c0002row98_col3 {\n",
              "            background-color:  #fff5f0;\n",
              "            color:  #000000;\n",
              "        }    #T_f13b9c0c_9b7a_11ea_90e4_0242ac1c0002row98_col4 {\n",
              "            background-color:  #f7fcf5;\n",
              "            color:  #000000;\n",
              "        }    #T_f13b9c0c_9b7a_11ea_90e4_0242ac1c0002row98_col5 {\n",
              "            background-color:  #fcfbfd;\n",
              "            color:  #000000;\n",
              "        }    #T_f13b9c0c_9b7a_11ea_90e4_0242ac1c0002row98_col6 {\n",
              "            background-color:  #fff7fb;\n",
              "            color:  #000000;\n",
              "        }    #T_f13b9c0c_9b7a_11ea_90e4_0242ac1c0002row99_col2 {\n",
              "            background-color:  #f7fbff;\n",
              "            color:  #000000;\n",
              "        }    #T_f13b9c0c_9b7a_11ea_90e4_0242ac1c0002row99_col3 {\n",
              "            background-color:  #fff5f0;\n",
              "            color:  #000000;\n",
              "        }    #T_f13b9c0c_9b7a_11ea_90e4_0242ac1c0002row99_col4 {\n",
              "            background-color:  #f7fcf5;\n",
              "            color:  #000000;\n",
              "        }    #T_f13b9c0c_9b7a_11ea_90e4_0242ac1c0002row99_col5 {\n",
              "            background-color:  #fcfbfd;\n",
              "            color:  #000000;\n",
              "        }    #T_f13b9c0c_9b7a_11ea_90e4_0242ac1c0002row99_col6 {\n",
              "            background-color:  #fff7fb;\n",
              "            color:  #000000;\n",
              "        }    #T_f13b9c0c_9b7a_11ea_90e4_0242ac1c0002row100_col2 {\n",
              "            background-color:  #f7fbff;\n",
              "            color:  #000000;\n",
              "        }    #T_f13b9c0c_9b7a_11ea_90e4_0242ac1c0002row100_col3 {\n",
              "            background-color:  #fff5f0;\n",
              "            color:  #000000;\n",
              "        }    #T_f13b9c0c_9b7a_11ea_90e4_0242ac1c0002row100_col4 {\n",
              "            background-color:  #f7fcf5;\n",
              "            color:  #000000;\n",
              "        }    #T_f13b9c0c_9b7a_11ea_90e4_0242ac1c0002row100_col5 {\n",
              "            background-color:  #fcfbfd;\n",
              "            color:  #000000;\n",
              "        }    #T_f13b9c0c_9b7a_11ea_90e4_0242ac1c0002row100_col6 {\n",
              "            background-color:  #fff7fb;\n",
              "            color:  #000000;\n",
              "        }    #T_f13b9c0c_9b7a_11ea_90e4_0242ac1c0002row101_col2 {\n",
              "            background-color:  #f7fbff;\n",
              "            color:  #000000;\n",
              "        }    #T_f13b9c0c_9b7a_11ea_90e4_0242ac1c0002row101_col3 {\n",
              "            background-color:  #fff5f0;\n",
              "            color:  #000000;\n",
              "        }    #T_f13b9c0c_9b7a_11ea_90e4_0242ac1c0002row101_col4 {\n",
              "            background-color:  #f7fcf5;\n",
              "            color:  #000000;\n",
              "        }    #T_f13b9c0c_9b7a_11ea_90e4_0242ac1c0002row101_col5 {\n",
              "            background-color:  #fcfbfd;\n",
              "            color:  #000000;\n",
              "        }    #T_f13b9c0c_9b7a_11ea_90e4_0242ac1c0002row101_col6 {\n",
              "            background-color:  #fff7fb;\n",
              "            color:  #000000;\n",
              "        }    #T_f13b9c0c_9b7a_11ea_90e4_0242ac1c0002row102_col2 {\n",
              "            background-color:  #f7fbff;\n",
              "            color:  #000000;\n",
              "        }    #T_f13b9c0c_9b7a_11ea_90e4_0242ac1c0002row102_col3 {\n",
              "            background-color:  #fff5f0;\n",
              "            color:  #000000;\n",
              "        }    #T_f13b9c0c_9b7a_11ea_90e4_0242ac1c0002row102_col4 {\n",
              "            background-color:  #f7fcf5;\n",
              "            color:  #000000;\n",
              "        }    #T_f13b9c0c_9b7a_11ea_90e4_0242ac1c0002row102_col5 {\n",
              "            background-color:  #fcfbfd;\n",
              "            color:  #000000;\n",
              "        }    #T_f13b9c0c_9b7a_11ea_90e4_0242ac1c0002row102_col6 {\n",
              "            background-color:  #fff7fb;\n",
              "            color:  #000000;\n",
              "        }    #T_f13b9c0c_9b7a_11ea_90e4_0242ac1c0002row103_col2 {\n",
              "            background-color:  #f7fbff;\n",
              "            color:  #000000;\n",
              "        }    #T_f13b9c0c_9b7a_11ea_90e4_0242ac1c0002row103_col3 {\n",
              "            background-color:  #fff5f0;\n",
              "            color:  #000000;\n",
              "        }    #T_f13b9c0c_9b7a_11ea_90e4_0242ac1c0002row103_col4 {\n",
              "            background-color:  #f7fcf5;\n",
              "            color:  #000000;\n",
              "        }    #T_f13b9c0c_9b7a_11ea_90e4_0242ac1c0002row103_col5 {\n",
              "            background-color:  #fcfbfd;\n",
              "            color:  #000000;\n",
              "        }    #T_f13b9c0c_9b7a_11ea_90e4_0242ac1c0002row103_col6 {\n",
              "            background-color:  #fff7fb;\n",
              "            color:  #000000;\n",
              "        }    #T_f13b9c0c_9b7a_11ea_90e4_0242ac1c0002row104_col2 {\n",
              "            background-color:  #f7fbff;\n",
              "            color:  #000000;\n",
              "        }    #T_f13b9c0c_9b7a_11ea_90e4_0242ac1c0002row104_col3 {\n",
              "            background-color:  #fff5f0;\n",
              "            color:  #000000;\n",
              "        }    #T_f13b9c0c_9b7a_11ea_90e4_0242ac1c0002row104_col4 {\n",
              "            background-color:  #f7fcf5;\n",
              "            color:  #000000;\n",
              "        }    #T_f13b9c0c_9b7a_11ea_90e4_0242ac1c0002row104_col5 {\n",
              "            background-color:  #fcfbfd;\n",
              "            color:  #000000;\n",
              "        }    #T_f13b9c0c_9b7a_11ea_90e4_0242ac1c0002row104_col6 {\n",
              "            background-color:  #fff7fb;\n",
              "            color:  #000000;\n",
              "        }    #T_f13b9c0c_9b7a_11ea_90e4_0242ac1c0002row105_col2 {\n",
              "            background-color:  #f7fbff;\n",
              "            color:  #000000;\n",
              "        }    #T_f13b9c0c_9b7a_11ea_90e4_0242ac1c0002row105_col3 {\n",
              "            background-color:  #fff5f0;\n",
              "            color:  #000000;\n",
              "        }    #T_f13b9c0c_9b7a_11ea_90e4_0242ac1c0002row105_col4 {\n",
              "            background-color:  #f7fcf5;\n",
              "            color:  #000000;\n",
              "        }    #T_f13b9c0c_9b7a_11ea_90e4_0242ac1c0002row105_col5 {\n",
              "            background-color:  #fcfbfd;\n",
              "            color:  #000000;\n",
              "        }    #T_f13b9c0c_9b7a_11ea_90e4_0242ac1c0002row105_col6 {\n",
              "            background-color:  #fff7fb;\n",
              "            color:  #000000;\n",
              "        }    #T_f13b9c0c_9b7a_11ea_90e4_0242ac1c0002row106_col2 {\n",
              "            background-color:  #f7fbff;\n",
              "            color:  #000000;\n",
              "        }    #T_f13b9c0c_9b7a_11ea_90e4_0242ac1c0002row106_col3 {\n",
              "            background-color:  #fff5f0;\n",
              "            color:  #000000;\n",
              "        }    #T_f13b9c0c_9b7a_11ea_90e4_0242ac1c0002row106_col4 {\n",
              "            background-color:  #f7fcf5;\n",
              "            color:  #000000;\n",
              "        }    #T_f13b9c0c_9b7a_11ea_90e4_0242ac1c0002row106_col5 {\n",
              "            background-color:  #fcfbfd;\n",
              "            color:  #000000;\n",
              "        }    #T_f13b9c0c_9b7a_11ea_90e4_0242ac1c0002row106_col6 {\n",
              "            background-color:  #fef6fb;\n",
              "            color:  #000000;\n",
              "        }    #T_f13b9c0c_9b7a_11ea_90e4_0242ac1c0002row107_col2 {\n",
              "            background-color:  #f7fbff;\n",
              "            color:  #000000;\n",
              "        }    #T_f13b9c0c_9b7a_11ea_90e4_0242ac1c0002row107_col3 {\n",
              "            background-color:  #fff5f0;\n",
              "            color:  #000000;\n",
              "        }    #T_f13b9c0c_9b7a_11ea_90e4_0242ac1c0002row107_col4 {\n",
              "            background-color:  #f7fcf5;\n",
              "            color:  #000000;\n",
              "        }    #T_f13b9c0c_9b7a_11ea_90e4_0242ac1c0002row107_col5 {\n",
              "            background-color:  #fcfbfd;\n",
              "            color:  #000000;\n",
              "        }    #T_f13b9c0c_9b7a_11ea_90e4_0242ac1c0002row107_col6 {\n",
              "            background-color:  #fff7fb;\n",
              "            color:  #000000;\n",
              "        }    #T_f13b9c0c_9b7a_11ea_90e4_0242ac1c0002row108_col2 {\n",
              "            background-color:  #f7fbff;\n",
              "            color:  #000000;\n",
              "        }    #T_f13b9c0c_9b7a_11ea_90e4_0242ac1c0002row108_col3 {\n",
              "            background-color:  #fff5f0;\n",
              "            color:  #000000;\n",
              "        }    #T_f13b9c0c_9b7a_11ea_90e4_0242ac1c0002row108_col4 {\n",
              "            background-color:  #f7fcf5;\n",
              "            color:  #000000;\n",
              "        }    #T_f13b9c0c_9b7a_11ea_90e4_0242ac1c0002row108_col5 {\n",
              "            background-color:  #fcfbfd;\n",
              "            color:  #000000;\n",
              "        }    #T_f13b9c0c_9b7a_11ea_90e4_0242ac1c0002row108_col6 {\n",
              "            background-color:  #fff7fb;\n",
              "            color:  #000000;\n",
              "        }    #T_f13b9c0c_9b7a_11ea_90e4_0242ac1c0002row109_col2 {\n",
              "            background-color:  #f7fbff;\n",
              "            color:  #000000;\n",
              "        }    #T_f13b9c0c_9b7a_11ea_90e4_0242ac1c0002row109_col3 {\n",
              "            background-color:  #fff5f0;\n",
              "            color:  #000000;\n",
              "        }    #T_f13b9c0c_9b7a_11ea_90e4_0242ac1c0002row109_col4 {\n",
              "            background-color:  #f7fcf5;\n",
              "            color:  #000000;\n",
              "        }    #T_f13b9c0c_9b7a_11ea_90e4_0242ac1c0002row109_col5 {\n",
              "            background-color:  #fcfbfd;\n",
              "            color:  #000000;\n",
              "        }    #T_f13b9c0c_9b7a_11ea_90e4_0242ac1c0002row109_col6 {\n",
              "            background-color:  #fff7fb;\n",
              "            color:  #000000;\n",
              "        }    #T_f13b9c0c_9b7a_11ea_90e4_0242ac1c0002row110_col2 {\n",
              "            background-color:  #f7fbff;\n",
              "            color:  #000000;\n",
              "        }    #T_f13b9c0c_9b7a_11ea_90e4_0242ac1c0002row110_col3 {\n",
              "            background-color:  #fff5f0;\n",
              "            color:  #000000;\n",
              "        }    #T_f13b9c0c_9b7a_11ea_90e4_0242ac1c0002row110_col4 {\n",
              "            background-color:  #f7fcf5;\n",
              "            color:  #000000;\n",
              "        }    #T_f13b9c0c_9b7a_11ea_90e4_0242ac1c0002row110_col5 {\n",
              "            background-color:  #fcfbfd;\n",
              "            color:  #000000;\n",
              "        }    #T_f13b9c0c_9b7a_11ea_90e4_0242ac1c0002row110_col6 {\n",
              "            background-color:  #fff7fb;\n",
              "            color:  #000000;\n",
              "        }    #T_f13b9c0c_9b7a_11ea_90e4_0242ac1c0002row111_col2 {\n",
              "            background-color:  #f7fbff;\n",
              "            color:  #000000;\n",
              "        }    #T_f13b9c0c_9b7a_11ea_90e4_0242ac1c0002row111_col3 {\n",
              "            background-color:  #fff5f0;\n",
              "            color:  #000000;\n",
              "        }    #T_f13b9c0c_9b7a_11ea_90e4_0242ac1c0002row111_col4 {\n",
              "            background-color:  #f7fcf5;\n",
              "            color:  #000000;\n",
              "        }    #T_f13b9c0c_9b7a_11ea_90e4_0242ac1c0002row111_col5 {\n",
              "            background-color:  #fcfbfd;\n",
              "            color:  #000000;\n",
              "        }    #T_f13b9c0c_9b7a_11ea_90e4_0242ac1c0002row111_col6 {\n",
              "            background-color:  #fff7fb;\n",
              "            color:  #000000;\n",
              "        }    #T_f13b9c0c_9b7a_11ea_90e4_0242ac1c0002row112_col2 {\n",
              "            background-color:  #f7fbff;\n",
              "            color:  #000000;\n",
              "        }    #T_f13b9c0c_9b7a_11ea_90e4_0242ac1c0002row112_col3 {\n",
              "            background-color:  #fff5f0;\n",
              "            color:  #000000;\n",
              "        }    #T_f13b9c0c_9b7a_11ea_90e4_0242ac1c0002row112_col4 {\n",
              "            background-color:  #f7fcf5;\n",
              "            color:  #000000;\n",
              "        }    #T_f13b9c0c_9b7a_11ea_90e4_0242ac1c0002row112_col5 {\n",
              "            background-color:  #fcfbfd;\n",
              "            color:  #000000;\n",
              "        }    #T_f13b9c0c_9b7a_11ea_90e4_0242ac1c0002row112_col6 {\n",
              "            background-color:  #fff7fb;\n",
              "            color:  #000000;\n",
              "        }    #T_f13b9c0c_9b7a_11ea_90e4_0242ac1c0002row113_col2 {\n",
              "            background-color:  #f7fbff;\n",
              "            color:  #000000;\n",
              "        }    #T_f13b9c0c_9b7a_11ea_90e4_0242ac1c0002row113_col3 {\n",
              "            background-color:  #fff5f0;\n",
              "            color:  #000000;\n",
              "        }    #T_f13b9c0c_9b7a_11ea_90e4_0242ac1c0002row113_col4 {\n",
              "            background-color:  #f7fcf5;\n",
              "            color:  #000000;\n",
              "        }    #T_f13b9c0c_9b7a_11ea_90e4_0242ac1c0002row113_col5 {\n",
              "            background-color:  #fcfbfd;\n",
              "            color:  #000000;\n",
              "        }    #T_f13b9c0c_9b7a_11ea_90e4_0242ac1c0002row113_col6 {\n",
              "            background-color:  #fff7fb;\n",
              "            color:  #000000;\n",
              "        }    #T_f13b9c0c_9b7a_11ea_90e4_0242ac1c0002row114_col2 {\n",
              "            background-color:  #f7fbff;\n",
              "            color:  #000000;\n",
              "        }    #T_f13b9c0c_9b7a_11ea_90e4_0242ac1c0002row114_col3 {\n",
              "            background-color:  #fff5f0;\n",
              "            color:  #000000;\n",
              "        }    #T_f13b9c0c_9b7a_11ea_90e4_0242ac1c0002row114_col4 {\n",
              "            background-color:  #f7fcf5;\n",
              "            color:  #000000;\n",
              "        }    #T_f13b9c0c_9b7a_11ea_90e4_0242ac1c0002row114_col5 {\n",
              "            background-color:  #fcfbfd;\n",
              "            color:  #000000;\n",
              "        }    #T_f13b9c0c_9b7a_11ea_90e4_0242ac1c0002row114_col6 {\n",
              "            background-color:  #fff7fb;\n",
              "            color:  #000000;\n",
              "        }    #T_f13b9c0c_9b7a_11ea_90e4_0242ac1c0002row115_col2 {\n",
              "            background-color:  #f7fbff;\n",
              "            color:  #000000;\n",
              "        }    #T_f13b9c0c_9b7a_11ea_90e4_0242ac1c0002row115_col3 {\n",
              "            background-color:  #fff5f0;\n",
              "            color:  #000000;\n",
              "        }    #T_f13b9c0c_9b7a_11ea_90e4_0242ac1c0002row115_col4 {\n",
              "            background-color:  #f7fcf5;\n",
              "            color:  #000000;\n",
              "        }    #T_f13b9c0c_9b7a_11ea_90e4_0242ac1c0002row115_col5 {\n",
              "            background-color:  #fcfbfd;\n",
              "            color:  #000000;\n",
              "        }    #T_f13b9c0c_9b7a_11ea_90e4_0242ac1c0002row115_col6 {\n",
              "            background-color:  #fff7fb;\n",
              "            color:  #000000;\n",
              "        }    #T_f13b9c0c_9b7a_11ea_90e4_0242ac1c0002row116_col2 {\n",
              "            background-color:  #f7fbff;\n",
              "            color:  #000000;\n",
              "        }    #T_f13b9c0c_9b7a_11ea_90e4_0242ac1c0002row116_col3 {\n",
              "            background-color:  #fff5f0;\n",
              "            color:  #000000;\n",
              "        }    #T_f13b9c0c_9b7a_11ea_90e4_0242ac1c0002row116_col4 {\n",
              "            background-color:  #f7fcf5;\n",
              "            color:  #000000;\n",
              "        }    #T_f13b9c0c_9b7a_11ea_90e4_0242ac1c0002row116_col5 {\n",
              "            background-color:  #fcfbfd;\n",
              "            color:  #000000;\n",
              "        }    #T_f13b9c0c_9b7a_11ea_90e4_0242ac1c0002row116_col6 {\n",
              "            background-color:  #fff7fb;\n",
              "            color:  #000000;\n",
              "        }    #T_f13b9c0c_9b7a_11ea_90e4_0242ac1c0002row117_col2 {\n",
              "            background-color:  #f7fbff;\n",
              "            color:  #000000;\n",
              "        }    #T_f13b9c0c_9b7a_11ea_90e4_0242ac1c0002row117_col3 {\n",
              "            background-color:  #fff5f0;\n",
              "            color:  #000000;\n",
              "        }    #T_f13b9c0c_9b7a_11ea_90e4_0242ac1c0002row117_col4 {\n",
              "            background-color:  #f7fcf5;\n",
              "            color:  #000000;\n",
              "        }    #T_f13b9c0c_9b7a_11ea_90e4_0242ac1c0002row117_col5 {\n",
              "            background-color:  #fcfbfd;\n",
              "            color:  #000000;\n",
              "        }    #T_f13b9c0c_9b7a_11ea_90e4_0242ac1c0002row117_col6 {\n",
              "            background-color:  #fff7fb;\n",
              "            color:  #000000;\n",
              "        }    #T_f13b9c0c_9b7a_11ea_90e4_0242ac1c0002row118_col2 {\n",
              "            background-color:  #f7fbff;\n",
              "            color:  #000000;\n",
              "        }    #T_f13b9c0c_9b7a_11ea_90e4_0242ac1c0002row118_col3 {\n",
              "            background-color:  #fff5f0;\n",
              "            color:  #000000;\n",
              "        }    #T_f13b9c0c_9b7a_11ea_90e4_0242ac1c0002row118_col4 {\n",
              "            background-color:  #f7fcf5;\n",
              "            color:  #000000;\n",
              "        }    #T_f13b9c0c_9b7a_11ea_90e4_0242ac1c0002row118_col5 {\n",
              "            background-color:  #fcfbfd;\n",
              "            color:  #000000;\n",
              "        }    #T_f13b9c0c_9b7a_11ea_90e4_0242ac1c0002row118_col6 {\n",
              "            background-color:  #fff7fb;\n",
              "            color:  #000000;\n",
              "        }    #T_f13b9c0c_9b7a_11ea_90e4_0242ac1c0002row119_col2 {\n",
              "            background-color:  #f7fbff;\n",
              "            color:  #000000;\n",
              "        }    #T_f13b9c0c_9b7a_11ea_90e4_0242ac1c0002row119_col3 {\n",
              "            background-color:  #fff5f0;\n",
              "            color:  #000000;\n",
              "        }    #T_f13b9c0c_9b7a_11ea_90e4_0242ac1c0002row119_col4 {\n",
              "            background-color:  #f7fcf5;\n",
              "            color:  #000000;\n",
              "        }    #T_f13b9c0c_9b7a_11ea_90e4_0242ac1c0002row119_col5 {\n",
              "            background-color:  #fcfbfd;\n",
              "            color:  #000000;\n",
              "        }    #T_f13b9c0c_9b7a_11ea_90e4_0242ac1c0002row119_col6 {\n",
              "            background-color:  #fff7fb;\n",
              "            color:  #000000;\n",
              "        }    #T_f13b9c0c_9b7a_11ea_90e4_0242ac1c0002row120_col2 {\n",
              "            background-color:  #f7fbff;\n",
              "            color:  #000000;\n",
              "        }    #T_f13b9c0c_9b7a_11ea_90e4_0242ac1c0002row120_col3 {\n",
              "            background-color:  #fff5f0;\n",
              "            color:  #000000;\n",
              "        }    #T_f13b9c0c_9b7a_11ea_90e4_0242ac1c0002row120_col4 {\n",
              "            background-color:  #f7fcf5;\n",
              "            color:  #000000;\n",
              "        }    #T_f13b9c0c_9b7a_11ea_90e4_0242ac1c0002row120_col5 {\n",
              "            background-color:  #fcfbfd;\n",
              "            color:  #000000;\n",
              "        }    #T_f13b9c0c_9b7a_11ea_90e4_0242ac1c0002row120_col6 {\n",
              "            background-color:  #fff7fb;\n",
              "            color:  #000000;\n",
              "        }    #T_f13b9c0c_9b7a_11ea_90e4_0242ac1c0002row121_col2 {\n",
              "            background-color:  #f7fbff;\n",
              "            color:  #000000;\n",
              "        }    #T_f13b9c0c_9b7a_11ea_90e4_0242ac1c0002row121_col3 {\n",
              "            background-color:  #fff5f0;\n",
              "            color:  #000000;\n",
              "        }    #T_f13b9c0c_9b7a_11ea_90e4_0242ac1c0002row121_col4 {\n",
              "            background-color:  #f7fcf5;\n",
              "            color:  #000000;\n",
              "        }    #T_f13b9c0c_9b7a_11ea_90e4_0242ac1c0002row121_col5 {\n",
              "            background-color:  #fcfbfd;\n",
              "            color:  #000000;\n",
              "        }    #T_f13b9c0c_9b7a_11ea_90e4_0242ac1c0002row121_col6 {\n",
              "            background-color:  #fff7fb;\n",
              "            color:  #000000;\n",
              "        }    #T_f13b9c0c_9b7a_11ea_90e4_0242ac1c0002row122_col2 {\n",
              "            background-color:  #f7fbff;\n",
              "            color:  #000000;\n",
              "        }    #T_f13b9c0c_9b7a_11ea_90e4_0242ac1c0002row122_col3 {\n",
              "            background-color:  #fff5f0;\n",
              "            color:  #000000;\n",
              "        }    #T_f13b9c0c_9b7a_11ea_90e4_0242ac1c0002row122_col4 {\n",
              "            background-color:  #f7fcf5;\n",
              "            color:  #000000;\n",
              "        }    #T_f13b9c0c_9b7a_11ea_90e4_0242ac1c0002row122_col5 {\n",
              "            background-color:  #fcfbfd;\n",
              "            color:  #000000;\n",
              "        }    #T_f13b9c0c_9b7a_11ea_90e4_0242ac1c0002row122_col6 {\n",
              "            background-color:  #fff7fb;\n",
              "            color:  #000000;\n",
              "        }    #T_f13b9c0c_9b7a_11ea_90e4_0242ac1c0002row123_col2 {\n",
              "            background-color:  #f7fbff;\n",
              "            color:  #000000;\n",
              "        }    #T_f13b9c0c_9b7a_11ea_90e4_0242ac1c0002row123_col3 {\n",
              "            background-color:  #fff5f0;\n",
              "            color:  #000000;\n",
              "        }    #T_f13b9c0c_9b7a_11ea_90e4_0242ac1c0002row123_col4 {\n",
              "            background-color:  #f7fcf5;\n",
              "            color:  #000000;\n",
              "        }    #T_f13b9c0c_9b7a_11ea_90e4_0242ac1c0002row123_col5 {\n",
              "            background-color:  #fcfbfd;\n",
              "            color:  #000000;\n",
              "        }    #T_f13b9c0c_9b7a_11ea_90e4_0242ac1c0002row123_col6 {\n",
              "            background-color:  #fff7fb;\n",
              "            color:  #000000;\n",
              "        }    #T_f13b9c0c_9b7a_11ea_90e4_0242ac1c0002row124_col2 {\n",
              "            background-color:  #f7fbff;\n",
              "            color:  #000000;\n",
              "        }    #T_f13b9c0c_9b7a_11ea_90e4_0242ac1c0002row124_col3 {\n",
              "            background-color:  #fff5f0;\n",
              "            color:  #000000;\n",
              "        }    #T_f13b9c0c_9b7a_11ea_90e4_0242ac1c0002row124_col4 {\n",
              "            background-color:  #f7fcf5;\n",
              "            color:  #000000;\n",
              "        }    #T_f13b9c0c_9b7a_11ea_90e4_0242ac1c0002row124_col5 {\n",
              "            background-color:  #fcfbfd;\n",
              "            color:  #000000;\n",
              "        }    #T_f13b9c0c_9b7a_11ea_90e4_0242ac1c0002row124_col6 {\n",
              "            background-color:  #fff7fb;\n",
              "            color:  #000000;\n",
              "        }    #T_f13b9c0c_9b7a_11ea_90e4_0242ac1c0002row125_col2 {\n",
              "            background-color:  #f7fbff;\n",
              "            color:  #000000;\n",
              "        }    #T_f13b9c0c_9b7a_11ea_90e4_0242ac1c0002row125_col3 {\n",
              "            background-color:  #fff5f0;\n",
              "            color:  #000000;\n",
              "        }    #T_f13b9c0c_9b7a_11ea_90e4_0242ac1c0002row125_col4 {\n",
              "            background-color:  #f7fcf5;\n",
              "            color:  #000000;\n",
              "        }    #T_f13b9c0c_9b7a_11ea_90e4_0242ac1c0002row125_col5 {\n",
              "            background-color:  #fcfbfd;\n",
              "            color:  #000000;\n",
              "        }    #T_f13b9c0c_9b7a_11ea_90e4_0242ac1c0002row125_col6 {\n",
              "            background-color:  #fff7fb;\n",
              "            color:  #000000;\n",
              "        }    #T_f13b9c0c_9b7a_11ea_90e4_0242ac1c0002row126_col2 {\n",
              "            background-color:  #f7fbff;\n",
              "            color:  #000000;\n",
              "        }    #T_f13b9c0c_9b7a_11ea_90e4_0242ac1c0002row126_col3 {\n",
              "            background-color:  #fff5f0;\n",
              "            color:  #000000;\n",
              "        }    #T_f13b9c0c_9b7a_11ea_90e4_0242ac1c0002row126_col4 {\n",
              "            background-color:  #f7fcf5;\n",
              "            color:  #000000;\n",
              "        }    #T_f13b9c0c_9b7a_11ea_90e4_0242ac1c0002row126_col5 {\n",
              "            background-color:  #fcfbfd;\n",
              "            color:  #000000;\n",
              "        }    #T_f13b9c0c_9b7a_11ea_90e4_0242ac1c0002row126_col6 {\n",
              "            background-color:  #fff7fb;\n",
              "            color:  #000000;\n",
              "        }    #T_f13b9c0c_9b7a_11ea_90e4_0242ac1c0002row127_col2 {\n",
              "            background-color:  #f7fbff;\n",
              "            color:  #000000;\n",
              "        }    #T_f13b9c0c_9b7a_11ea_90e4_0242ac1c0002row127_col3 {\n",
              "            background-color:  #fff5f0;\n",
              "            color:  #000000;\n",
              "        }    #T_f13b9c0c_9b7a_11ea_90e4_0242ac1c0002row127_col4 {\n",
              "            background-color:  #f7fcf5;\n",
              "            color:  #000000;\n",
              "        }    #T_f13b9c0c_9b7a_11ea_90e4_0242ac1c0002row127_col5 {\n",
              "            background-color:  #fcfbfd;\n",
              "            color:  #000000;\n",
              "        }    #T_f13b9c0c_9b7a_11ea_90e4_0242ac1c0002row127_col6 {\n",
              "            background-color:  #fff7fb;\n",
              "            color:  #000000;\n",
              "        }    #T_f13b9c0c_9b7a_11ea_90e4_0242ac1c0002row128_col2 {\n",
              "            background-color:  #f7fbff;\n",
              "            color:  #000000;\n",
              "        }    #T_f13b9c0c_9b7a_11ea_90e4_0242ac1c0002row128_col3 {\n",
              "            background-color:  #fff5f0;\n",
              "            color:  #000000;\n",
              "        }    #T_f13b9c0c_9b7a_11ea_90e4_0242ac1c0002row128_col4 {\n",
              "            background-color:  #f7fcf5;\n",
              "            color:  #000000;\n",
              "        }    #T_f13b9c0c_9b7a_11ea_90e4_0242ac1c0002row128_col5 {\n",
              "            background-color:  #fcfbfd;\n",
              "            color:  #000000;\n",
              "        }    #T_f13b9c0c_9b7a_11ea_90e4_0242ac1c0002row128_col6 {\n",
              "            background-color:  #fff7fb;\n",
              "            color:  #000000;\n",
              "        }    #T_f13b9c0c_9b7a_11ea_90e4_0242ac1c0002row129_col2 {\n",
              "            background-color:  #f7fbff;\n",
              "            color:  #000000;\n",
              "        }    #T_f13b9c0c_9b7a_11ea_90e4_0242ac1c0002row129_col3 {\n",
              "            background-color:  #fff5f0;\n",
              "            color:  #000000;\n",
              "        }    #T_f13b9c0c_9b7a_11ea_90e4_0242ac1c0002row129_col4 {\n",
              "            background-color:  #f7fcf5;\n",
              "            color:  #000000;\n",
              "        }    #T_f13b9c0c_9b7a_11ea_90e4_0242ac1c0002row129_col5 {\n",
              "            background-color:  #fcfbfd;\n",
              "            color:  #000000;\n",
              "        }    #T_f13b9c0c_9b7a_11ea_90e4_0242ac1c0002row129_col6 {\n",
              "            background-color:  #fff7fb;\n",
              "            color:  #000000;\n",
              "        }    #T_f13b9c0c_9b7a_11ea_90e4_0242ac1c0002row130_col2 {\n",
              "            background-color:  #f7fbff;\n",
              "            color:  #000000;\n",
              "        }    #T_f13b9c0c_9b7a_11ea_90e4_0242ac1c0002row130_col3 {\n",
              "            background-color:  #fff5f0;\n",
              "            color:  #000000;\n",
              "        }    #T_f13b9c0c_9b7a_11ea_90e4_0242ac1c0002row130_col4 {\n",
              "            background-color:  #f7fcf5;\n",
              "            color:  #000000;\n",
              "        }    #T_f13b9c0c_9b7a_11ea_90e4_0242ac1c0002row130_col5 {\n",
              "            background-color:  #fcfbfd;\n",
              "            color:  #000000;\n",
              "        }    #T_f13b9c0c_9b7a_11ea_90e4_0242ac1c0002row130_col6 {\n",
              "            background-color:  #fff7fb;\n",
              "            color:  #000000;\n",
              "        }    #T_f13b9c0c_9b7a_11ea_90e4_0242ac1c0002row131_col2 {\n",
              "            background-color:  #f7fbff;\n",
              "            color:  #000000;\n",
              "        }    #T_f13b9c0c_9b7a_11ea_90e4_0242ac1c0002row131_col3 {\n",
              "            background-color:  #fff5f0;\n",
              "            color:  #000000;\n",
              "        }    #T_f13b9c0c_9b7a_11ea_90e4_0242ac1c0002row131_col4 {\n",
              "            background-color:  #f7fcf5;\n",
              "            color:  #000000;\n",
              "        }    #T_f13b9c0c_9b7a_11ea_90e4_0242ac1c0002row131_col5 {\n",
              "            background-color:  #fcfbfd;\n",
              "            color:  #000000;\n",
              "        }    #T_f13b9c0c_9b7a_11ea_90e4_0242ac1c0002row131_col6 {\n",
              "            background-color:  #fff7fb;\n",
              "            color:  #000000;\n",
              "        }    #T_f13b9c0c_9b7a_11ea_90e4_0242ac1c0002row132_col2 {\n",
              "            background-color:  #f7fbff;\n",
              "            color:  #000000;\n",
              "        }    #T_f13b9c0c_9b7a_11ea_90e4_0242ac1c0002row132_col3 {\n",
              "            background-color:  #fff5f0;\n",
              "            color:  #000000;\n",
              "        }    #T_f13b9c0c_9b7a_11ea_90e4_0242ac1c0002row132_col4 {\n",
              "            background-color:  #f7fcf5;\n",
              "            color:  #000000;\n",
              "        }    #T_f13b9c0c_9b7a_11ea_90e4_0242ac1c0002row132_col5 {\n",
              "            background-color:  #fcfbfd;\n",
              "            color:  #000000;\n",
              "        }    #T_f13b9c0c_9b7a_11ea_90e4_0242ac1c0002row132_col6 {\n",
              "            background-color:  #fff7fb;\n",
              "            color:  #000000;\n",
              "        }    #T_f13b9c0c_9b7a_11ea_90e4_0242ac1c0002row133_col2 {\n",
              "            background-color:  #f7fbff;\n",
              "            color:  #000000;\n",
              "        }    #T_f13b9c0c_9b7a_11ea_90e4_0242ac1c0002row133_col3 {\n",
              "            background-color:  #fff5f0;\n",
              "            color:  #000000;\n",
              "        }    #T_f13b9c0c_9b7a_11ea_90e4_0242ac1c0002row133_col4 {\n",
              "            background-color:  #f7fcf5;\n",
              "            color:  #000000;\n",
              "        }    #T_f13b9c0c_9b7a_11ea_90e4_0242ac1c0002row133_col5 {\n",
              "            background-color:  #fcfbfd;\n",
              "            color:  #000000;\n",
              "        }    #T_f13b9c0c_9b7a_11ea_90e4_0242ac1c0002row133_col6 {\n",
              "            background-color:  #fff7fb;\n",
              "            color:  #000000;\n",
              "        }    #T_f13b9c0c_9b7a_11ea_90e4_0242ac1c0002row134_col2 {\n",
              "            background-color:  #f7fbff;\n",
              "            color:  #000000;\n",
              "        }    #T_f13b9c0c_9b7a_11ea_90e4_0242ac1c0002row134_col3 {\n",
              "            background-color:  #fff5f0;\n",
              "            color:  #000000;\n",
              "        }    #T_f13b9c0c_9b7a_11ea_90e4_0242ac1c0002row134_col4 {\n",
              "            background-color:  #f7fcf5;\n",
              "            color:  #000000;\n",
              "        }    #T_f13b9c0c_9b7a_11ea_90e4_0242ac1c0002row134_col5 {\n",
              "            background-color:  #fcfbfd;\n",
              "            color:  #000000;\n",
              "        }    #T_f13b9c0c_9b7a_11ea_90e4_0242ac1c0002row134_col6 {\n",
              "            background-color:  #fff7fb;\n",
              "            color:  #000000;\n",
              "        }    #T_f13b9c0c_9b7a_11ea_90e4_0242ac1c0002row135_col2 {\n",
              "            background-color:  #f7fbff;\n",
              "            color:  #000000;\n",
              "        }    #T_f13b9c0c_9b7a_11ea_90e4_0242ac1c0002row135_col3 {\n",
              "            background-color:  #fff5f0;\n",
              "            color:  #000000;\n",
              "        }    #T_f13b9c0c_9b7a_11ea_90e4_0242ac1c0002row135_col4 {\n",
              "            background-color:  #f7fcf5;\n",
              "            color:  #000000;\n",
              "        }    #T_f13b9c0c_9b7a_11ea_90e4_0242ac1c0002row135_col5 {\n",
              "            background-color:  #fcfbfd;\n",
              "            color:  #000000;\n",
              "        }    #T_f13b9c0c_9b7a_11ea_90e4_0242ac1c0002row135_col6 {\n",
              "            background-color:  #fff7fb;\n",
              "            color:  #000000;\n",
              "        }    #T_f13b9c0c_9b7a_11ea_90e4_0242ac1c0002row136_col2 {\n",
              "            background-color:  #f7fbff;\n",
              "            color:  #000000;\n",
              "        }    #T_f13b9c0c_9b7a_11ea_90e4_0242ac1c0002row136_col3 {\n",
              "            background-color:  #fff5f0;\n",
              "            color:  #000000;\n",
              "        }    #T_f13b9c0c_9b7a_11ea_90e4_0242ac1c0002row136_col4 {\n",
              "            background-color:  #f7fcf5;\n",
              "            color:  #000000;\n",
              "        }    #T_f13b9c0c_9b7a_11ea_90e4_0242ac1c0002row136_col5 {\n",
              "            background-color:  #fcfbfd;\n",
              "            color:  #000000;\n",
              "        }    #T_f13b9c0c_9b7a_11ea_90e4_0242ac1c0002row136_col6 {\n",
              "            background-color:  #fff7fb;\n",
              "            color:  #000000;\n",
              "        }    #T_f13b9c0c_9b7a_11ea_90e4_0242ac1c0002row137_col2 {\n",
              "            background-color:  #f7fbff;\n",
              "            color:  #000000;\n",
              "        }    #T_f13b9c0c_9b7a_11ea_90e4_0242ac1c0002row137_col3 {\n",
              "            background-color:  #fff5f0;\n",
              "            color:  #000000;\n",
              "        }    #T_f13b9c0c_9b7a_11ea_90e4_0242ac1c0002row137_col4 {\n",
              "            background-color:  #f7fcf5;\n",
              "            color:  #000000;\n",
              "        }    #T_f13b9c0c_9b7a_11ea_90e4_0242ac1c0002row137_col5 {\n",
              "            background-color:  #fcfbfd;\n",
              "            color:  #000000;\n",
              "        }    #T_f13b9c0c_9b7a_11ea_90e4_0242ac1c0002row137_col6 {\n",
              "            background-color:  #fff7fb;\n",
              "            color:  #000000;\n",
              "        }    #T_f13b9c0c_9b7a_11ea_90e4_0242ac1c0002row138_col2 {\n",
              "            background-color:  #f7fbff;\n",
              "            color:  #000000;\n",
              "        }    #T_f13b9c0c_9b7a_11ea_90e4_0242ac1c0002row138_col3 {\n",
              "            background-color:  #fff5f0;\n",
              "            color:  #000000;\n",
              "        }    #T_f13b9c0c_9b7a_11ea_90e4_0242ac1c0002row138_col4 {\n",
              "            background-color:  #f7fcf5;\n",
              "            color:  #000000;\n",
              "        }    #T_f13b9c0c_9b7a_11ea_90e4_0242ac1c0002row138_col5 {\n",
              "            background-color:  #fcfbfd;\n",
              "            color:  #000000;\n",
              "        }    #T_f13b9c0c_9b7a_11ea_90e4_0242ac1c0002row138_col6 {\n",
              "            background-color:  #fff7fb;\n",
              "            color:  #000000;\n",
              "        }    #T_f13b9c0c_9b7a_11ea_90e4_0242ac1c0002row139_col2 {\n",
              "            background-color:  #f7fbff;\n",
              "            color:  #000000;\n",
              "        }    #T_f13b9c0c_9b7a_11ea_90e4_0242ac1c0002row139_col3 {\n",
              "            background-color:  #fff5f0;\n",
              "            color:  #000000;\n",
              "        }    #T_f13b9c0c_9b7a_11ea_90e4_0242ac1c0002row139_col4 {\n",
              "            background-color:  #f7fcf5;\n",
              "            color:  #000000;\n",
              "        }    #T_f13b9c0c_9b7a_11ea_90e4_0242ac1c0002row139_col5 {\n",
              "            background-color:  #fcfbfd;\n",
              "            color:  #000000;\n",
              "        }    #T_f13b9c0c_9b7a_11ea_90e4_0242ac1c0002row139_col6 {\n",
              "            background-color:  #fff7fb;\n",
              "            color:  #000000;\n",
              "        }    #T_f13b9c0c_9b7a_11ea_90e4_0242ac1c0002row140_col2 {\n",
              "            background-color:  #f7fbff;\n",
              "            color:  #000000;\n",
              "        }    #T_f13b9c0c_9b7a_11ea_90e4_0242ac1c0002row140_col3 {\n",
              "            background-color:  #fff5f0;\n",
              "            color:  #000000;\n",
              "        }    #T_f13b9c0c_9b7a_11ea_90e4_0242ac1c0002row140_col4 {\n",
              "            background-color:  #f7fcf5;\n",
              "            color:  #000000;\n",
              "        }    #T_f13b9c0c_9b7a_11ea_90e4_0242ac1c0002row140_col5 {\n",
              "            background-color:  #fcfbfd;\n",
              "            color:  #000000;\n",
              "        }    #T_f13b9c0c_9b7a_11ea_90e4_0242ac1c0002row140_col6 {\n",
              "            background-color:  #fff7fb;\n",
              "            color:  #000000;\n",
              "        }    #T_f13b9c0c_9b7a_11ea_90e4_0242ac1c0002row141_col2 {\n",
              "            background-color:  #f7fbff;\n",
              "            color:  #000000;\n",
              "        }    #T_f13b9c0c_9b7a_11ea_90e4_0242ac1c0002row141_col3 {\n",
              "            background-color:  #fff5f0;\n",
              "            color:  #000000;\n",
              "        }    #T_f13b9c0c_9b7a_11ea_90e4_0242ac1c0002row141_col4 {\n",
              "            background-color:  #f7fcf5;\n",
              "            color:  #000000;\n",
              "        }    #T_f13b9c0c_9b7a_11ea_90e4_0242ac1c0002row141_col5 {\n",
              "            background-color:  #fcfbfd;\n",
              "            color:  #000000;\n",
              "        }    #T_f13b9c0c_9b7a_11ea_90e4_0242ac1c0002row141_col6 {\n",
              "            background-color:  #fff7fb;\n",
              "            color:  #000000;\n",
              "        }    #T_f13b9c0c_9b7a_11ea_90e4_0242ac1c0002row142_col2 {\n",
              "            background-color:  #f7fbff;\n",
              "            color:  #000000;\n",
              "        }    #T_f13b9c0c_9b7a_11ea_90e4_0242ac1c0002row142_col3 {\n",
              "            background-color:  #fff5f0;\n",
              "            color:  #000000;\n",
              "        }    #T_f13b9c0c_9b7a_11ea_90e4_0242ac1c0002row142_col4 {\n",
              "            background-color:  #f7fcf5;\n",
              "            color:  #000000;\n",
              "        }    #T_f13b9c0c_9b7a_11ea_90e4_0242ac1c0002row142_col5 {\n",
              "            background-color:  #fcfbfd;\n",
              "            color:  #000000;\n",
              "        }    #T_f13b9c0c_9b7a_11ea_90e4_0242ac1c0002row142_col6 {\n",
              "            background-color:  #fff7fb;\n",
              "            color:  #000000;\n",
              "        }    #T_f13b9c0c_9b7a_11ea_90e4_0242ac1c0002row143_col2 {\n",
              "            background-color:  #f7fbff;\n",
              "            color:  #000000;\n",
              "        }    #T_f13b9c0c_9b7a_11ea_90e4_0242ac1c0002row143_col3 {\n",
              "            background-color:  #fff5f0;\n",
              "            color:  #000000;\n",
              "        }    #T_f13b9c0c_9b7a_11ea_90e4_0242ac1c0002row143_col4 {\n",
              "            background-color:  #f7fcf5;\n",
              "            color:  #000000;\n",
              "        }    #T_f13b9c0c_9b7a_11ea_90e4_0242ac1c0002row143_col5 {\n",
              "            background-color:  #fcfbfd;\n",
              "            color:  #000000;\n",
              "        }    #T_f13b9c0c_9b7a_11ea_90e4_0242ac1c0002row143_col6 {\n",
              "            background-color:  #fff7fb;\n",
              "            color:  #000000;\n",
              "        }    #T_f13b9c0c_9b7a_11ea_90e4_0242ac1c0002row144_col2 {\n",
              "            background-color:  #f7fbff;\n",
              "            color:  #000000;\n",
              "        }    #T_f13b9c0c_9b7a_11ea_90e4_0242ac1c0002row144_col3 {\n",
              "            background-color:  #fff5f0;\n",
              "            color:  #000000;\n",
              "        }    #T_f13b9c0c_9b7a_11ea_90e4_0242ac1c0002row144_col4 {\n",
              "            background-color:  #f7fcf5;\n",
              "            color:  #000000;\n",
              "        }    #T_f13b9c0c_9b7a_11ea_90e4_0242ac1c0002row144_col5 {\n",
              "            background-color:  #fcfbfd;\n",
              "            color:  #000000;\n",
              "        }    #T_f13b9c0c_9b7a_11ea_90e4_0242ac1c0002row144_col6 {\n",
              "            background-color:  #fff7fb;\n",
              "            color:  #000000;\n",
              "        }    #T_f13b9c0c_9b7a_11ea_90e4_0242ac1c0002row145_col2 {\n",
              "            background-color:  #f7fbff;\n",
              "            color:  #000000;\n",
              "        }    #T_f13b9c0c_9b7a_11ea_90e4_0242ac1c0002row145_col3 {\n",
              "            background-color:  #fff5f0;\n",
              "            color:  #000000;\n",
              "        }    #T_f13b9c0c_9b7a_11ea_90e4_0242ac1c0002row145_col4 {\n",
              "            background-color:  #f7fcf5;\n",
              "            color:  #000000;\n",
              "        }    #T_f13b9c0c_9b7a_11ea_90e4_0242ac1c0002row145_col5 {\n",
              "            background-color:  #fcfbfd;\n",
              "            color:  #000000;\n",
              "        }    #T_f13b9c0c_9b7a_11ea_90e4_0242ac1c0002row145_col6 {\n",
              "            background-color:  #fff7fb;\n",
              "            color:  #000000;\n",
              "        }    #T_f13b9c0c_9b7a_11ea_90e4_0242ac1c0002row146_col2 {\n",
              "            background-color:  #f7fbff;\n",
              "            color:  #000000;\n",
              "        }    #T_f13b9c0c_9b7a_11ea_90e4_0242ac1c0002row146_col3 {\n",
              "            background-color:  #fff5f0;\n",
              "            color:  #000000;\n",
              "        }    #T_f13b9c0c_9b7a_11ea_90e4_0242ac1c0002row146_col4 {\n",
              "            background-color:  #f7fcf5;\n",
              "            color:  #000000;\n",
              "        }    #T_f13b9c0c_9b7a_11ea_90e4_0242ac1c0002row146_col5 {\n",
              "            background-color:  #fcfbfd;\n",
              "            color:  #000000;\n",
              "        }    #T_f13b9c0c_9b7a_11ea_90e4_0242ac1c0002row146_col6 {\n",
              "            background-color:  #fff7fb;\n",
              "            color:  #000000;\n",
              "        }    #T_f13b9c0c_9b7a_11ea_90e4_0242ac1c0002row147_col2 {\n",
              "            background-color:  #f7fbff;\n",
              "            color:  #000000;\n",
              "        }    #T_f13b9c0c_9b7a_11ea_90e4_0242ac1c0002row147_col3 {\n",
              "            background-color:  #fff5f0;\n",
              "            color:  #000000;\n",
              "        }    #T_f13b9c0c_9b7a_11ea_90e4_0242ac1c0002row147_col4 {\n",
              "            background-color:  #f7fcf5;\n",
              "            color:  #000000;\n",
              "        }    #T_f13b9c0c_9b7a_11ea_90e4_0242ac1c0002row147_col5 {\n",
              "            background-color:  #fcfbfd;\n",
              "            color:  #000000;\n",
              "        }    #T_f13b9c0c_9b7a_11ea_90e4_0242ac1c0002row147_col6 {\n",
              "            background-color:  #fff7fb;\n",
              "            color:  #000000;\n",
              "        }    #T_f13b9c0c_9b7a_11ea_90e4_0242ac1c0002row148_col2 {\n",
              "            background-color:  #f7fbff;\n",
              "            color:  #000000;\n",
              "        }    #T_f13b9c0c_9b7a_11ea_90e4_0242ac1c0002row148_col3 {\n",
              "            background-color:  #fff5f0;\n",
              "            color:  #000000;\n",
              "        }    #T_f13b9c0c_9b7a_11ea_90e4_0242ac1c0002row148_col4 {\n",
              "            background-color:  #f7fcf5;\n",
              "            color:  #000000;\n",
              "        }    #T_f13b9c0c_9b7a_11ea_90e4_0242ac1c0002row148_col5 {\n",
              "            background-color:  #fcfbfd;\n",
              "            color:  #000000;\n",
              "        }    #T_f13b9c0c_9b7a_11ea_90e4_0242ac1c0002row148_col6 {\n",
              "            background-color:  #fff7fb;\n",
              "            color:  #000000;\n",
              "        }    #T_f13b9c0c_9b7a_11ea_90e4_0242ac1c0002row149_col2 {\n",
              "            background-color:  #f7fbff;\n",
              "            color:  #000000;\n",
              "        }    #T_f13b9c0c_9b7a_11ea_90e4_0242ac1c0002row149_col3 {\n",
              "            background-color:  #fff5f0;\n",
              "            color:  #000000;\n",
              "        }    #T_f13b9c0c_9b7a_11ea_90e4_0242ac1c0002row149_col4 {\n",
              "            background-color:  #f7fcf5;\n",
              "            color:  #000000;\n",
              "        }    #T_f13b9c0c_9b7a_11ea_90e4_0242ac1c0002row149_col5 {\n",
              "            background-color:  #fcfbfd;\n",
              "            color:  #000000;\n",
              "        }    #T_f13b9c0c_9b7a_11ea_90e4_0242ac1c0002row149_col6 {\n",
              "            background-color:  #fff7fb;\n",
              "            color:  #000000;\n",
              "        }    #T_f13b9c0c_9b7a_11ea_90e4_0242ac1c0002row150_col2 {\n",
              "            background-color:  #f7fbff;\n",
              "            color:  #000000;\n",
              "        }    #T_f13b9c0c_9b7a_11ea_90e4_0242ac1c0002row150_col3 {\n",
              "            background-color:  #fff5f0;\n",
              "            color:  #000000;\n",
              "        }    #T_f13b9c0c_9b7a_11ea_90e4_0242ac1c0002row150_col4 {\n",
              "            background-color:  #f7fcf5;\n",
              "            color:  #000000;\n",
              "        }    #T_f13b9c0c_9b7a_11ea_90e4_0242ac1c0002row150_col5 {\n",
              "            background-color:  #fcfbfd;\n",
              "            color:  #000000;\n",
              "        }    #T_f13b9c0c_9b7a_11ea_90e4_0242ac1c0002row150_col6 {\n",
              "            background-color:  #fff7fb;\n",
              "            color:  #000000;\n",
              "        }    #T_f13b9c0c_9b7a_11ea_90e4_0242ac1c0002row151_col2 {\n",
              "            background-color:  #f7fbff;\n",
              "            color:  #000000;\n",
              "        }    #T_f13b9c0c_9b7a_11ea_90e4_0242ac1c0002row151_col3 {\n",
              "            background-color:  #fff5f0;\n",
              "            color:  #000000;\n",
              "        }    #T_f13b9c0c_9b7a_11ea_90e4_0242ac1c0002row151_col4 {\n",
              "            background-color:  #f7fcf5;\n",
              "            color:  #000000;\n",
              "        }    #T_f13b9c0c_9b7a_11ea_90e4_0242ac1c0002row151_col5 {\n",
              "            background-color:  #fcfbfd;\n",
              "            color:  #000000;\n",
              "        }    #T_f13b9c0c_9b7a_11ea_90e4_0242ac1c0002row151_col6 {\n",
              "            background-color:  #fff7fb;\n",
              "            color:  #000000;\n",
              "        }    #T_f13b9c0c_9b7a_11ea_90e4_0242ac1c0002row152_col2 {\n",
              "            background-color:  #f7fbff;\n",
              "            color:  #000000;\n",
              "        }    #T_f13b9c0c_9b7a_11ea_90e4_0242ac1c0002row152_col3 {\n",
              "            background-color:  #fff5f0;\n",
              "            color:  #000000;\n",
              "        }    #T_f13b9c0c_9b7a_11ea_90e4_0242ac1c0002row152_col4 {\n",
              "            background-color:  #f7fcf5;\n",
              "            color:  #000000;\n",
              "        }    #T_f13b9c0c_9b7a_11ea_90e4_0242ac1c0002row152_col5 {\n",
              "            background-color:  #fcfbfd;\n",
              "            color:  #000000;\n",
              "        }    #T_f13b9c0c_9b7a_11ea_90e4_0242ac1c0002row152_col6 {\n",
              "            background-color:  #fff7fb;\n",
              "            color:  #000000;\n",
              "        }    #T_f13b9c0c_9b7a_11ea_90e4_0242ac1c0002row153_col2 {\n",
              "            background-color:  #f7fbff;\n",
              "            color:  #000000;\n",
              "        }    #T_f13b9c0c_9b7a_11ea_90e4_0242ac1c0002row153_col3 {\n",
              "            background-color:  #fff5f0;\n",
              "            color:  #000000;\n",
              "        }    #T_f13b9c0c_9b7a_11ea_90e4_0242ac1c0002row153_col4 {\n",
              "            background-color:  #f7fcf5;\n",
              "            color:  #000000;\n",
              "        }    #T_f13b9c0c_9b7a_11ea_90e4_0242ac1c0002row153_col5 {\n",
              "            background-color:  #fcfbfd;\n",
              "            color:  #000000;\n",
              "        }    #T_f13b9c0c_9b7a_11ea_90e4_0242ac1c0002row153_col6 {\n",
              "            background-color:  #fff7fb;\n",
              "            color:  #000000;\n",
              "        }    #T_f13b9c0c_9b7a_11ea_90e4_0242ac1c0002row154_col2 {\n",
              "            background-color:  #f7fbff;\n",
              "            color:  #000000;\n",
              "        }    #T_f13b9c0c_9b7a_11ea_90e4_0242ac1c0002row154_col3 {\n",
              "            background-color:  #fff5f0;\n",
              "            color:  #000000;\n",
              "        }    #T_f13b9c0c_9b7a_11ea_90e4_0242ac1c0002row154_col4 {\n",
              "            background-color:  #f7fcf5;\n",
              "            color:  #000000;\n",
              "        }    #T_f13b9c0c_9b7a_11ea_90e4_0242ac1c0002row154_col5 {\n",
              "            background-color:  #fcfbfd;\n",
              "            color:  #000000;\n",
              "        }    #T_f13b9c0c_9b7a_11ea_90e4_0242ac1c0002row154_col6 {\n",
              "            background-color:  #fff7fb;\n",
              "            color:  #000000;\n",
              "        }    #T_f13b9c0c_9b7a_11ea_90e4_0242ac1c0002row155_col2 {\n",
              "            background-color:  #f7fbff;\n",
              "            color:  #000000;\n",
              "        }    #T_f13b9c0c_9b7a_11ea_90e4_0242ac1c0002row155_col3 {\n",
              "            background-color:  #fff5f0;\n",
              "            color:  #000000;\n",
              "        }    #T_f13b9c0c_9b7a_11ea_90e4_0242ac1c0002row155_col4 {\n",
              "            background-color:  #f7fcf5;\n",
              "            color:  #000000;\n",
              "        }    #T_f13b9c0c_9b7a_11ea_90e4_0242ac1c0002row155_col5 {\n",
              "            background-color:  #fcfbfd;\n",
              "            color:  #000000;\n",
              "        }    #T_f13b9c0c_9b7a_11ea_90e4_0242ac1c0002row155_col6 {\n",
              "            background-color:  #fff7fb;\n",
              "            color:  #000000;\n",
              "        }    #T_f13b9c0c_9b7a_11ea_90e4_0242ac1c0002row156_col2 {\n",
              "            background-color:  #f7fbff;\n",
              "            color:  #000000;\n",
              "        }    #T_f13b9c0c_9b7a_11ea_90e4_0242ac1c0002row156_col3 {\n",
              "            background-color:  #fff5f0;\n",
              "            color:  #000000;\n",
              "        }    #T_f13b9c0c_9b7a_11ea_90e4_0242ac1c0002row156_col4 {\n",
              "            background-color:  #f7fcf5;\n",
              "            color:  #000000;\n",
              "        }    #T_f13b9c0c_9b7a_11ea_90e4_0242ac1c0002row156_col5 {\n",
              "            background-color:  #fcfbfd;\n",
              "            color:  #000000;\n",
              "        }    #T_f13b9c0c_9b7a_11ea_90e4_0242ac1c0002row156_col6 {\n",
              "            background-color:  #fff7fb;\n",
              "            color:  #000000;\n",
              "        }    #T_f13b9c0c_9b7a_11ea_90e4_0242ac1c0002row157_col2 {\n",
              "            background-color:  #f7fbff;\n",
              "            color:  #000000;\n",
              "        }    #T_f13b9c0c_9b7a_11ea_90e4_0242ac1c0002row157_col3 {\n",
              "            background-color:  #fff5f0;\n",
              "            color:  #000000;\n",
              "        }    #T_f13b9c0c_9b7a_11ea_90e4_0242ac1c0002row157_col4 {\n",
              "            background-color:  #f7fcf5;\n",
              "            color:  #000000;\n",
              "        }    #T_f13b9c0c_9b7a_11ea_90e4_0242ac1c0002row157_col5 {\n",
              "            background-color:  #fcfbfd;\n",
              "            color:  #000000;\n",
              "        }    #T_f13b9c0c_9b7a_11ea_90e4_0242ac1c0002row157_col6 {\n",
              "            background-color:  #fff7fb;\n",
              "            color:  #000000;\n",
              "        }    #T_f13b9c0c_9b7a_11ea_90e4_0242ac1c0002row158_col2 {\n",
              "            background-color:  #f7fbff;\n",
              "            color:  #000000;\n",
              "        }    #T_f13b9c0c_9b7a_11ea_90e4_0242ac1c0002row158_col3 {\n",
              "            background-color:  #fff5f0;\n",
              "            color:  #000000;\n",
              "        }    #T_f13b9c0c_9b7a_11ea_90e4_0242ac1c0002row158_col4 {\n",
              "            background-color:  #f7fcf5;\n",
              "            color:  #000000;\n",
              "        }    #T_f13b9c0c_9b7a_11ea_90e4_0242ac1c0002row158_col5 {\n",
              "            background-color:  #fcfbfd;\n",
              "            color:  #000000;\n",
              "        }    #T_f13b9c0c_9b7a_11ea_90e4_0242ac1c0002row158_col6 {\n",
              "            background-color:  #fff7fb;\n",
              "            color:  #000000;\n",
              "        }    #T_f13b9c0c_9b7a_11ea_90e4_0242ac1c0002row159_col2 {\n",
              "            background-color:  #f7fbff;\n",
              "            color:  #000000;\n",
              "        }    #T_f13b9c0c_9b7a_11ea_90e4_0242ac1c0002row159_col3 {\n",
              "            background-color:  #fff5f0;\n",
              "            color:  #000000;\n",
              "        }    #T_f13b9c0c_9b7a_11ea_90e4_0242ac1c0002row159_col4 {\n",
              "            background-color:  #f7fcf5;\n",
              "            color:  #000000;\n",
              "        }    #T_f13b9c0c_9b7a_11ea_90e4_0242ac1c0002row159_col5 {\n",
              "            background-color:  #fcfbfd;\n",
              "            color:  #000000;\n",
              "        }    #T_f13b9c0c_9b7a_11ea_90e4_0242ac1c0002row159_col6 {\n",
              "            background-color:  #fff7fb;\n",
              "            color:  #000000;\n",
              "        }    #T_f13b9c0c_9b7a_11ea_90e4_0242ac1c0002row160_col2 {\n",
              "            background-color:  #f7fbff;\n",
              "            color:  #000000;\n",
              "        }    #T_f13b9c0c_9b7a_11ea_90e4_0242ac1c0002row160_col3 {\n",
              "            background-color:  #fff5f0;\n",
              "            color:  #000000;\n",
              "        }    #T_f13b9c0c_9b7a_11ea_90e4_0242ac1c0002row160_col4 {\n",
              "            background-color:  #f7fcf5;\n",
              "            color:  #000000;\n",
              "        }    #T_f13b9c0c_9b7a_11ea_90e4_0242ac1c0002row160_col5 {\n",
              "            background-color:  #fcfbfd;\n",
              "            color:  #000000;\n",
              "        }    #T_f13b9c0c_9b7a_11ea_90e4_0242ac1c0002row160_col6 {\n",
              "            background-color:  #fff7fb;\n",
              "            color:  #000000;\n",
              "        }    #T_f13b9c0c_9b7a_11ea_90e4_0242ac1c0002row161_col2 {\n",
              "            background-color:  #f7fbff;\n",
              "            color:  #000000;\n",
              "        }    #T_f13b9c0c_9b7a_11ea_90e4_0242ac1c0002row161_col3 {\n",
              "            background-color:  #fff5f0;\n",
              "            color:  #000000;\n",
              "        }    #T_f13b9c0c_9b7a_11ea_90e4_0242ac1c0002row161_col4 {\n",
              "            background-color:  #f7fcf5;\n",
              "            color:  #000000;\n",
              "        }    #T_f13b9c0c_9b7a_11ea_90e4_0242ac1c0002row161_col5 {\n",
              "            background-color:  #fcfbfd;\n",
              "            color:  #000000;\n",
              "        }    #T_f13b9c0c_9b7a_11ea_90e4_0242ac1c0002row161_col6 {\n",
              "            background-color:  #fff7fb;\n",
              "            color:  #000000;\n",
              "        }    #T_f13b9c0c_9b7a_11ea_90e4_0242ac1c0002row162_col2 {\n",
              "            background-color:  #f7fbff;\n",
              "            color:  #000000;\n",
              "        }    #T_f13b9c0c_9b7a_11ea_90e4_0242ac1c0002row162_col3 {\n",
              "            background-color:  #fff5f0;\n",
              "            color:  #000000;\n",
              "        }    #T_f13b9c0c_9b7a_11ea_90e4_0242ac1c0002row162_col4 {\n",
              "            background-color:  #f7fcf5;\n",
              "            color:  #000000;\n",
              "        }    #T_f13b9c0c_9b7a_11ea_90e4_0242ac1c0002row162_col5 {\n",
              "            background-color:  #fcfbfd;\n",
              "            color:  #000000;\n",
              "        }    #T_f13b9c0c_9b7a_11ea_90e4_0242ac1c0002row162_col6 {\n",
              "            background-color:  #fff7fb;\n",
              "            color:  #000000;\n",
              "        }    #T_f13b9c0c_9b7a_11ea_90e4_0242ac1c0002row163_col2 {\n",
              "            background-color:  #f7fbff;\n",
              "            color:  #000000;\n",
              "        }    #T_f13b9c0c_9b7a_11ea_90e4_0242ac1c0002row163_col3 {\n",
              "            background-color:  #fff5f0;\n",
              "            color:  #000000;\n",
              "        }    #T_f13b9c0c_9b7a_11ea_90e4_0242ac1c0002row163_col4 {\n",
              "            background-color:  #f7fcf5;\n",
              "            color:  #000000;\n",
              "        }    #T_f13b9c0c_9b7a_11ea_90e4_0242ac1c0002row163_col5 {\n",
              "            background-color:  #fcfbfd;\n",
              "            color:  #000000;\n",
              "        }    #T_f13b9c0c_9b7a_11ea_90e4_0242ac1c0002row163_col6 {\n",
              "            background-color:  #fff7fb;\n",
              "            color:  #000000;\n",
              "        }    #T_f13b9c0c_9b7a_11ea_90e4_0242ac1c0002row164_col2 {\n",
              "            background-color:  #f7fbff;\n",
              "            color:  #000000;\n",
              "        }    #T_f13b9c0c_9b7a_11ea_90e4_0242ac1c0002row164_col3 {\n",
              "            background-color:  #fff5f0;\n",
              "            color:  #000000;\n",
              "        }    #T_f13b9c0c_9b7a_11ea_90e4_0242ac1c0002row164_col4 {\n",
              "            background-color:  #f7fcf5;\n",
              "            color:  #000000;\n",
              "        }    #T_f13b9c0c_9b7a_11ea_90e4_0242ac1c0002row164_col5 {\n",
              "            background-color:  #fcfbfd;\n",
              "            color:  #000000;\n",
              "        }    #T_f13b9c0c_9b7a_11ea_90e4_0242ac1c0002row164_col6 {\n",
              "            background-color:  #fff7fb;\n",
              "            color:  #000000;\n",
              "        }    #T_f13b9c0c_9b7a_11ea_90e4_0242ac1c0002row165_col2 {\n",
              "            background-color:  #f7fbff;\n",
              "            color:  #000000;\n",
              "        }    #T_f13b9c0c_9b7a_11ea_90e4_0242ac1c0002row165_col3 {\n",
              "            background-color:  #fff5f0;\n",
              "            color:  #000000;\n",
              "        }    #T_f13b9c0c_9b7a_11ea_90e4_0242ac1c0002row165_col4 {\n",
              "            background-color:  #f7fcf5;\n",
              "            color:  #000000;\n",
              "        }    #T_f13b9c0c_9b7a_11ea_90e4_0242ac1c0002row165_col5 {\n",
              "            background-color:  #fcfbfd;\n",
              "            color:  #000000;\n",
              "        }    #T_f13b9c0c_9b7a_11ea_90e4_0242ac1c0002row165_col6 {\n",
              "            background-color:  #fff7fb;\n",
              "            color:  #000000;\n",
              "        }    #T_f13b9c0c_9b7a_11ea_90e4_0242ac1c0002row166_col2 {\n",
              "            background-color:  #f7fbff;\n",
              "            color:  #000000;\n",
              "        }    #T_f13b9c0c_9b7a_11ea_90e4_0242ac1c0002row166_col3 {\n",
              "            background-color:  #fff5f0;\n",
              "            color:  #000000;\n",
              "        }    #T_f13b9c0c_9b7a_11ea_90e4_0242ac1c0002row166_col4 {\n",
              "            background-color:  #f7fcf5;\n",
              "            color:  #000000;\n",
              "        }    #T_f13b9c0c_9b7a_11ea_90e4_0242ac1c0002row166_col5 {\n",
              "            background-color:  #fcfbfd;\n",
              "            color:  #000000;\n",
              "        }    #T_f13b9c0c_9b7a_11ea_90e4_0242ac1c0002row166_col6 {\n",
              "            background-color:  #fff7fb;\n",
              "            color:  #000000;\n",
              "        }    #T_f13b9c0c_9b7a_11ea_90e4_0242ac1c0002row167_col2 {\n",
              "            background-color:  #f7fbff;\n",
              "            color:  #000000;\n",
              "        }    #T_f13b9c0c_9b7a_11ea_90e4_0242ac1c0002row167_col3 {\n",
              "            background-color:  #fff5f0;\n",
              "            color:  #000000;\n",
              "        }    #T_f13b9c0c_9b7a_11ea_90e4_0242ac1c0002row167_col4 {\n",
              "            background-color:  #f7fcf5;\n",
              "            color:  #000000;\n",
              "        }    #T_f13b9c0c_9b7a_11ea_90e4_0242ac1c0002row167_col5 {\n",
              "            background-color:  #fcfbfd;\n",
              "            color:  #000000;\n",
              "        }    #T_f13b9c0c_9b7a_11ea_90e4_0242ac1c0002row167_col6 {\n",
              "            background-color:  #fff7fb;\n",
              "            color:  #000000;\n",
              "        }    #T_f13b9c0c_9b7a_11ea_90e4_0242ac1c0002row168_col2 {\n",
              "            background-color:  #f7fbff;\n",
              "            color:  #000000;\n",
              "        }    #T_f13b9c0c_9b7a_11ea_90e4_0242ac1c0002row168_col3 {\n",
              "            background-color:  #fff5f0;\n",
              "            color:  #000000;\n",
              "        }    #T_f13b9c0c_9b7a_11ea_90e4_0242ac1c0002row168_col4 {\n",
              "            background-color:  #f7fcf5;\n",
              "            color:  #000000;\n",
              "        }    #T_f13b9c0c_9b7a_11ea_90e4_0242ac1c0002row168_col5 {\n",
              "            background-color:  #fcfbfd;\n",
              "            color:  #000000;\n",
              "        }    #T_f13b9c0c_9b7a_11ea_90e4_0242ac1c0002row168_col6 {\n",
              "            background-color:  #fff7fb;\n",
              "            color:  #000000;\n",
              "        }    #T_f13b9c0c_9b7a_11ea_90e4_0242ac1c0002row169_col2 {\n",
              "            background-color:  #f7fbff;\n",
              "            color:  #000000;\n",
              "        }    #T_f13b9c0c_9b7a_11ea_90e4_0242ac1c0002row169_col3 {\n",
              "            background-color:  #fff5f0;\n",
              "            color:  #000000;\n",
              "        }    #T_f13b9c0c_9b7a_11ea_90e4_0242ac1c0002row169_col4 {\n",
              "            background-color:  #f7fcf5;\n",
              "            color:  #000000;\n",
              "        }    #T_f13b9c0c_9b7a_11ea_90e4_0242ac1c0002row169_col5 {\n",
              "            background-color:  #fcfbfd;\n",
              "            color:  #000000;\n",
              "        }    #T_f13b9c0c_9b7a_11ea_90e4_0242ac1c0002row169_col6 {\n",
              "            background-color:  #fff7fb;\n",
              "            color:  #000000;\n",
              "        }    #T_f13b9c0c_9b7a_11ea_90e4_0242ac1c0002row170_col2 {\n",
              "            background-color:  #f7fbff;\n",
              "            color:  #000000;\n",
              "        }    #T_f13b9c0c_9b7a_11ea_90e4_0242ac1c0002row170_col3 {\n",
              "            background-color:  #fff5f0;\n",
              "            color:  #000000;\n",
              "        }    #T_f13b9c0c_9b7a_11ea_90e4_0242ac1c0002row170_col4 {\n",
              "            background-color:  #f7fcf5;\n",
              "            color:  #000000;\n",
              "        }    #T_f13b9c0c_9b7a_11ea_90e4_0242ac1c0002row170_col5 {\n",
              "            background-color:  #fcfbfd;\n",
              "            color:  #000000;\n",
              "        }    #T_f13b9c0c_9b7a_11ea_90e4_0242ac1c0002row170_col6 {\n",
              "            background-color:  #fff7fb;\n",
              "            color:  #000000;\n",
              "        }    #T_f13b9c0c_9b7a_11ea_90e4_0242ac1c0002row171_col2 {\n",
              "            background-color:  #f7fbff;\n",
              "            color:  #000000;\n",
              "        }    #T_f13b9c0c_9b7a_11ea_90e4_0242ac1c0002row171_col3 {\n",
              "            background-color:  #fff5f0;\n",
              "            color:  #000000;\n",
              "        }    #T_f13b9c0c_9b7a_11ea_90e4_0242ac1c0002row171_col4 {\n",
              "            background-color:  #f7fcf5;\n",
              "            color:  #000000;\n",
              "        }    #T_f13b9c0c_9b7a_11ea_90e4_0242ac1c0002row171_col5 {\n",
              "            background-color:  #fcfbfd;\n",
              "            color:  #000000;\n",
              "        }    #T_f13b9c0c_9b7a_11ea_90e4_0242ac1c0002row171_col6 {\n",
              "            background-color:  #fff7fb;\n",
              "            color:  #000000;\n",
              "        }    #T_f13b9c0c_9b7a_11ea_90e4_0242ac1c0002row172_col2 {\n",
              "            background-color:  #f7fbff;\n",
              "            color:  #000000;\n",
              "        }    #T_f13b9c0c_9b7a_11ea_90e4_0242ac1c0002row172_col3 {\n",
              "            background-color:  #fff5f0;\n",
              "            color:  #000000;\n",
              "        }    #T_f13b9c0c_9b7a_11ea_90e4_0242ac1c0002row172_col4 {\n",
              "            background-color:  #f7fcf5;\n",
              "            color:  #000000;\n",
              "        }    #T_f13b9c0c_9b7a_11ea_90e4_0242ac1c0002row172_col5 {\n",
              "            background-color:  #fcfbfd;\n",
              "            color:  #000000;\n",
              "        }    #T_f13b9c0c_9b7a_11ea_90e4_0242ac1c0002row172_col6 {\n",
              "            background-color:  #fff7fb;\n",
              "            color:  #000000;\n",
              "        }    #T_f13b9c0c_9b7a_11ea_90e4_0242ac1c0002row173_col2 {\n",
              "            background-color:  #f7fbff;\n",
              "            color:  #000000;\n",
              "        }    #T_f13b9c0c_9b7a_11ea_90e4_0242ac1c0002row173_col3 {\n",
              "            background-color:  #fff5f0;\n",
              "            color:  #000000;\n",
              "        }    #T_f13b9c0c_9b7a_11ea_90e4_0242ac1c0002row173_col4 {\n",
              "            background-color:  #f7fcf5;\n",
              "            color:  #000000;\n",
              "        }    #T_f13b9c0c_9b7a_11ea_90e4_0242ac1c0002row173_col5 {\n",
              "            background-color:  #fcfbfd;\n",
              "            color:  #000000;\n",
              "        }    #T_f13b9c0c_9b7a_11ea_90e4_0242ac1c0002row173_col6 {\n",
              "            background-color:  #fff7fb;\n",
              "            color:  #000000;\n",
              "        }    #T_f13b9c0c_9b7a_11ea_90e4_0242ac1c0002row174_col2 {\n",
              "            background-color:  #f7fbff;\n",
              "            color:  #000000;\n",
              "        }    #T_f13b9c0c_9b7a_11ea_90e4_0242ac1c0002row174_col3 {\n",
              "            background-color:  #fff5f0;\n",
              "            color:  #000000;\n",
              "        }    #T_f13b9c0c_9b7a_11ea_90e4_0242ac1c0002row174_col4 {\n",
              "            background-color:  #f7fcf5;\n",
              "            color:  #000000;\n",
              "        }    #T_f13b9c0c_9b7a_11ea_90e4_0242ac1c0002row174_col5 {\n",
              "            background-color:  #fcfbfd;\n",
              "            color:  #000000;\n",
              "        }    #T_f13b9c0c_9b7a_11ea_90e4_0242ac1c0002row174_col6 {\n",
              "            background-color:  #fff7fb;\n",
              "            color:  #000000;\n",
              "        }    #T_f13b9c0c_9b7a_11ea_90e4_0242ac1c0002row175_col2 {\n",
              "            background-color:  #f7fbff;\n",
              "            color:  #000000;\n",
              "        }    #T_f13b9c0c_9b7a_11ea_90e4_0242ac1c0002row175_col3 {\n",
              "            background-color:  #fff5f0;\n",
              "            color:  #000000;\n",
              "        }    #T_f13b9c0c_9b7a_11ea_90e4_0242ac1c0002row175_col4 {\n",
              "            background-color:  #f7fcf5;\n",
              "            color:  #000000;\n",
              "        }    #T_f13b9c0c_9b7a_11ea_90e4_0242ac1c0002row175_col5 {\n",
              "            background-color:  #fcfbfd;\n",
              "            color:  #000000;\n",
              "        }    #T_f13b9c0c_9b7a_11ea_90e4_0242ac1c0002row175_col6 {\n",
              "            background-color:  #fff7fb;\n",
              "            color:  #000000;\n",
              "        }    #T_f13b9c0c_9b7a_11ea_90e4_0242ac1c0002row176_col2 {\n",
              "            background-color:  #f7fbff;\n",
              "            color:  #000000;\n",
              "        }    #T_f13b9c0c_9b7a_11ea_90e4_0242ac1c0002row176_col3 {\n",
              "            background-color:  #fff5f0;\n",
              "            color:  #000000;\n",
              "        }    #T_f13b9c0c_9b7a_11ea_90e4_0242ac1c0002row176_col4 {\n",
              "            background-color:  #f7fcf5;\n",
              "            color:  #000000;\n",
              "        }    #T_f13b9c0c_9b7a_11ea_90e4_0242ac1c0002row176_col5 {\n",
              "            background-color:  #fcfbfd;\n",
              "            color:  #000000;\n",
              "        }    #T_f13b9c0c_9b7a_11ea_90e4_0242ac1c0002row176_col6 {\n",
              "            background-color:  #fff7fb;\n",
              "            color:  #000000;\n",
              "        }    #T_f13b9c0c_9b7a_11ea_90e4_0242ac1c0002row177_col2 {\n",
              "            background-color:  #f7fbff;\n",
              "            color:  #000000;\n",
              "        }    #T_f13b9c0c_9b7a_11ea_90e4_0242ac1c0002row177_col3 {\n",
              "            background-color:  #fff5f0;\n",
              "            color:  #000000;\n",
              "        }    #T_f13b9c0c_9b7a_11ea_90e4_0242ac1c0002row177_col4 {\n",
              "            background-color:  #f7fcf5;\n",
              "            color:  #000000;\n",
              "        }    #T_f13b9c0c_9b7a_11ea_90e4_0242ac1c0002row177_col5 {\n",
              "            background-color:  #fcfbfd;\n",
              "            color:  #000000;\n",
              "        }    #T_f13b9c0c_9b7a_11ea_90e4_0242ac1c0002row177_col6 {\n",
              "            background-color:  #fff7fb;\n",
              "            color:  #000000;\n",
              "        }    #T_f13b9c0c_9b7a_11ea_90e4_0242ac1c0002row178_col2 {\n",
              "            background-color:  #f7fbff;\n",
              "            color:  #000000;\n",
              "        }    #T_f13b9c0c_9b7a_11ea_90e4_0242ac1c0002row178_col3 {\n",
              "            background-color:  #fff5f0;\n",
              "            color:  #000000;\n",
              "        }    #T_f13b9c0c_9b7a_11ea_90e4_0242ac1c0002row178_col4 {\n",
              "            background-color:  #f7fcf5;\n",
              "            color:  #000000;\n",
              "        }    #T_f13b9c0c_9b7a_11ea_90e4_0242ac1c0002row178_col5 {\n",
              "            background-color:  #fcfbfd;\n",
              "            color:  #000000;\n",
              "        }    #T_f13b9c0c_9b7a_11ea_90e4_0242ac1c0002row178_col6 {\n",
              "            background-color:  #fff7fb;\n",
              "            color:  #000000;\n",
              "        }    #T_f13b9c0c_9b7a_11ea_90e4_0242ac1c0002row179_col2 {\n",
              "            background-color:  #f7fbff;\n",
              "            color:  #000000;\n",
              "        }    #T_f13b9c0c_9b7a_11ea_90e4_0242ac1c0002row179_col3 {\n",
              "            background-color:  #fff5f0;\n",
              "            color:  #000000;\n",
              "        }    #T_f13b9c0c_9b7a_11ea_90e4_0242ac1c0002row179_col4 {\n",
              "            background-color:  #f7fcf5;\n",
              "            color:  #000000;\n",
              "        }    #T_f13b9c0c_9b7a_11ea_90e4_0242ac1c0002row179_col5 {\n",
              "            background-color:  #fcfbfd;\n",
              "            color:  #000000;\n",
              "        }    #T_f13b9c0c_9b7a_11ea_90e4_0242ac1c0002row179_col6 {\n",
              "            background-color:  #fff7fb;\n",
              "            color:  #000000;\n",
              "        }    #T_f13b9c0c_9b7a_11ea_90e4_0242ac1c0002row180_col2 {\n",
              "            background-color:  #f7fbff;\n",
              "            color:  #000000;\n",
              "        }    #T_f13b9c0c_9b7a_11ea_90e4_0242ac1c0002row180_col3 {\n",
              "            background-color:  #fff5f0;\n",
              "            color:  #000000;\n",
              "        }    #T_f13b9c0c_9b7a_11ea_90e4_0242ac1c0002row180_col4 {\n",
              "            background-color:  #f7fcf5;\n",
              "            color:  #000000;\n",
              "        }    #T_f13b9c0c_9b7a_11ea_90e4_0242ac1c0002row180_col5 {\n",
              "            background-color:  #fcfbfd;\n",
              "            color:  #000000;\n",
              "        }    #T_f13b9c0c_9b7a_11ea_90e4_0242ac1c0002row180_col6 {\n",
              "            background-color:  #fff7fb;\n",
              "            color:  #000000;\n",
              "        }    #T_f13b9c0c_9b7a_11ea_90e4_0242ac1c0002row181_col2 {\n",
              "            background-color:  #f7fbff;\n",
              "            color:  #000000;\n",
              "        }    #T_f13b9c0c_9b7a_11ea_90e4_0242ac1c0002row181_col3 {\n",
              "            background-color:  #fff5f0;\n",
              "            color:  #000000;\n",
              "        }    #T_f13b9c0c_9b7a_11ea_90e4_0242ac1c0002row181_col4 {\n",
              "            background-color:  #f7fcf5;\n",
              "            color:  #000000;\n",
              "        }    #T_f13b9c0c_9b7a_11ea_90e4_0242ac1c0002row181_col5 {\n",
              "            background-color:  #fcfbfd;\n",
              "            color:  #000000;\n",
              "        }    #T_f13b9c0c_9b7a_11ea_90e4_0242ac1c0002row181_col6 {\n",
              "            background-color:  #fff7fb;\n",
              "            color:  #000000;\n",
              "        }    #T_f13b9c0c_9b7a_11ea_90e4_0242ac1c0002row182_col2 {\n",
              "            background-color:  #f7fbff;\n",
              "            color:  #000000;\n",
              "        }    #T_f13b9c0c_9b7a_11ea_90e4_0242ac1c0002row182_col3 {\n",
              "            background-color:  #fff5f0;\n",
              "            color:  #000000;\n",
              "        }    #T_f13b9c0c_9b7a_11ea_90e4_0242ac1c0002row182_col4 {\n",
              "            background-color:  #f7fcf5;\n",
              "            color:  #000000;\n",
              "        }    #T_f13b9c0c_9b7a_11ea_90e4_0242ac1c0002row182_col5 {\n",
              "            background-color:  #fcfbfd;\n",
              "            color:  #000000;\n",
              "        }    #T_f13b9c0c_9b7a_11ea_90e4_0242ac1c0002row182_col6 {\n",
              "            background-color:  #fff7fb;\n",
              "            color:  #000000;\n",
              "        }    #T_f13b9c0c_9b7a_11ea_90e4_0242ac1c0002row183_col2 {\n",
              "            background-color:  #f7fbff;\n",
              "            color:  #000000;\n",
              "        }    #T_f13b9c0c_9b7a_11ea_90e4_0242ac1c0002row183_col3 {\n",
              "            background-color:  #fff5f0;\n",
              "            color:  #000000;\n",
              "        }    #T_f13b9c0c_9b7a_11ea_90e4_0242ac1c0002row183_col4 {\n",
              "            background-color:  #f7fcf5;\n",
              "            color:  #000000;\n",
              "        }    #T_f13b9c0c_9b7a_11ea_90e4_0242ac1c0002row183_col5 {\n",
              "            background-color:  #fcfbfd;\n",
              "            color:  #000000;\n",
              "        }    #T_f13b9c0c_9b7a_11ea_90e4_0242ac1c0002row183_col6 {\n",
              "            background-color:  #fff7fb;\n",
              "            color:  #000000;\n",
              "        }    #T_f13b9c0c_9b7a_11ea_90e4_0242ac1c0002row184_col2 {\n",
              "            background-color:  #f7fbff;\n",
              "            color:  #000000;\n",
              "        }    #T_f13b9c0c_9b7a_11ea_90e4_0242ac1c0002row184_col3 {\n",
              "            background-color:  #fff5f0;\n",
              "            color:  #000000;\n",
              "        }    #T_f13b9c0c_9b7a_11ea_90e4_0242ac1c0002row184_col4 {\n",
              "            background-color:  #f7fcf5;\n",
              "            color:  #000000;\n",
              "        }    #T_f13b9c0c_9b7a_11ea_90e4_0242ac1c0002row184_col5 {\n",
              "            background-color:  #fcfbfd;\n",
              "            color:  #000000;\n",
              "        }    #T_f13b9c0c_9b7a_11ea_90e4_0242ac1c0002row184_col6 {\n",
              "            background-color:  #fff7fb;\n",
              "            color:  #000000;\n",
              "        }    #T_f13b9c0c_9b7a_11ea_90e4_0242ac1c0002row185_col2 {\n",
              "            background-color:  #f7fbff;\n",
              "            color:  #000000;\n",
              "        }    #T_f13b9c0c_9b7a_11ea_90e4_0242ac1c0002row185_col3 {\n",
              "            background-color:  #fff5f0;\n",
              "            color:  #000000;\n",
              "        }    #T_f13b9c0c_9b7a_11ea_90e4_0242ac1c0002row185_col4 {\n",
              "            background-color:  #f7fcf5;\n",
              "            color:  #000000;\n",
              "        }    #T_f13b9c0c_9b7a_11ea_90e4_0242ac1c0002row185_col5 {\n",
              "            background-color:  #fcfbfd;\n",
              "            color:  #000000;\n",
              "        }    #T_f13b9c0c_9b7a_11ea_90e4_0242ac1c0002row185_col6 {\n",
              "            background-color:  #fff7fb;\n",
              "            color:  #000000;\n",
              "        }    #T_f13b9c0c_9b7a_11ea_90e4_0242ac1c0002row186_col2 {\n",
              "            background-color:  #f7fbff;\n",
              "            color:  #000000;\n",
              "        }    #T_f13b9c0c_9b7a_11ea_90e4_0242ac1c0002row186_col3 {\n",
              "            background-color:  #fff5f0;\n",
              "            color:  #000000;\n",
              "        }    #T_f13b9c0c_9b7a_11ea_90e4_0242ac1c0002row186_col4 {\n",
              "            background-color:  #f7fcf5;\n",
              "            color:  #000000;\n",
              "        }    #T_f13b9c0c_9b7a_11ea_90e4_0242ac1c0002row186_col5 {\n",
              "            background-color:  #fcfbfd;\n",
              "            color:  #000000;\n",
              "        }    #T_f13b9c0c_9b7a_11ea_90e4_0242ac1c0002row186_col6 {\n",
              "            background-color:  #fff7fb;\n",
              "            color:  #000000;\n",
              "        }</style><table id=\"T_f13b9c0c_9b7a_11ea_90e4_0242ac1c0002\" ><thead>    <tr>        <th class=\"blank level0\" ></th>        <th class=\"col_heading level0 col0\" >index</th>        <th class=\"col_heading level0 col1\" >Country/Region</th>        <th class=\"col_heading level0 col2\" >Confirmed</th>        <th class=\"col_heading level0 col3\" >Deaths</th>        <th class=\"col_heading level0 col4\" >Recovered</th>        <th class=\"col_heading level0 col5\" >Active</th>        <th class=\"col_heading level0 col6\" >New cases</th>    </tr></thead><tbody>\n",
              "                <tr>\n",
              "                        <th id=\"T_f13b9c0c_9b7a_11ea_90e4_0242ac1c0002level0_row0\" class=\"row_heading level0 row0\" >0</th>\n",
              "                        <td id=\"T_f13b9c0c_9b7a_11ea_90e4_0242ac1c0002row0_col0\" class=\"data row0 col0\" >173</td>\n",
              "                        <td id=\"T_f13b9c0c_9b7a_11ea_90e4_0242ac1c0002row0_col1\" class=\"data row0 col1\" >US</td>\n",
              "                        <td id=\"T_f13b9c0c_9b7a_11ea_90e4_0242ac1c0002row0_col2\" class=\"data row0 col2\" >1329260</td>\n",
              "                        <td id=\"T_f13b9c0c_9b7a_11ea_90e4_0242ac1c0002row0_col3\" class=\"data row0 col3\" >79526</td>\n",
              "                        <td id=\"T_f13b9c0c_9b7a_11ea_90e4_0242ac1c0002row0_col4\" class=\"data row0 col4\" >216169</td>\n",
              "                        <td id=\"T_f13b9c0c_9b7a_11ea_90e4_0242ac1c0002row0_col5\" class=\"data row0 col5\" >1033565</td>\n",
              "                        <td id=\"T_f13b9c0c_9b7a_11ea_90e4_0242ac1c0002row0_col6\" class=\"data row0 col6\" >19710</td>\n",
              "            </tr>\n",
              "            <tr>\n",
              "                        <th id=\"T_f13b9c0c_9b7a_11ea_90e4_0242ac1c0002level0_row1\" class=\"row_heading level0 row1\" >1</th>\n",
              "                        <td id=\"T_f13b9c0c_9b7a_11ea_90e4_0242ac1c0002row1_col0\" class=\"data row1 col0\" >157</td>\n",
              "                        <td id=\"T_f13b9c0c_9b7a_11ea_90e4_0242ac1c0002row1_col1\" class=\"data row1 col1\" >Spain</td>\n",
              "                        <td id=\"T_f13b9c0c_9b7a_11ea_90e4_0242ac1c0002row1_col2\" class=\"data row1 col2\" >224350</td>\n",
              "                        <td id=\"T_f13b9c0c_9b7a_11ea_90e4_0242ac1c0002row1_col3\" class=\"data row1 col3\" >26621</td>\n",
              "                        <td id=\"T_f13b9c0c_9b7a_11ea_90e4_0242ac1c0002row1_col4\" class=\"data row1 col4\" >136166</td>\n",
              "                        <td id=\"T_f13b9c0c_9b7a_11ea_90e4_0242ac1c0002row1_col5\" class=\"data row1 col5\" >61563</td>\n",
              "                        <td id=\"T_f13b9c0c_9b7a_11ea_90e4_0242ac1c0002row1_col6\" class=\"data row1 col6\" >772</td>\n",
              "            </tr>\n",
              "            <tr>\n",
              "                        <th id=\"T_f13b9c0c_9b7a_11ea_90e4_0242ac1c0002level0_row2\" class=\"row_heading level0 row2\" >2</th>\n",
              "                        <td id=\"T_f13b9c0c_9b7a_11ea_90e4_0242ac1c0002row2_col0\" class=\"data row2 col0\" >177</td>\n",
              "                        <td id=\"T_f13b9c0c_9b7a_11ea_90e4_0242ac1c0002row2_col1\" class=\"data row2 col1\" >United Kingdom</td>\n",
              "                        <td id=\"T_f13b9c0c_9b7a_11ea_90e4_0242ac1c0002row2_col2\" class=\"data row2 col2\" >220449</td>\n",
              "                        <td id=\"T_f13b9c0c_9b7a_11ea_90e4_0242ac1c0002row2_col3\" class=\"data row2 col3\" >31930</td>\n",
              "                        <td id=\"T_f13b9c0c_9b7a_11ea_90e4_0242ac1c0002row2_col4\" class=\"data row2 col4\" >1002</td>\n",
              "                        <td id=\"T_f13b9c0c_9b7a_11ea_90e4_0242ac1c0002row2_col5\" class=\"data row2 col5\" >187517</td>\n",
              "                        <td id=\"T_f13b9c0c_9b7a_11ea_90e4_0242ac1c0002row2_col6\" class=\"data row2 col6\" >3924</td>\n",
              "            </tr>\n",
              "            <tr>\n",
              "                        <th id=\"T_f13b9c0c_9b7a_11ea_90e4_0242ac1c0002level0_row3\" class=\"row_heading level0 row3\" >3</th>\n",
              "                        <td id=\"T_f13b9c0c_9b7a_11ea_90e4_0242ac1c0002row3_col0\" class=\"data row3 col0\" >85</td>\n",
              "                        <td id=\"T_f13b9c0c_9b7a_11ea_90e4_0242ac1c0002row3_col1\" class=\"data row3 col1\" >Italy</td>\n",
              "                        <td id=\"T_f13b9c0c_9b7a_11ea_90e4_0242ac1c0002row3_col2\" class=\"data row3 col2\" >219070</td>\n",
              "                        <td id=\"T_f13b9c0c_9b7a_11ea_90e4_0242ac1c0002row3_col3\" class=\"data row3 col3\" >30560</td>\n",
              "                        <td id=\"T_f13b9c0c_9b7a_11ea_90e4_0242ac1c0002row3_col4\" class=\"data row3 col4\" >105186</td>\n",
              "                        <td id=\"T_f13b9c0c_9b7a_11ea_90e4_0242ac1c0002row3_col5\" class=\"data row3 col5\" >83324</td>\n",
              "                        <td id=\"T_f13b9c0c_9b7a_11ea_90e4_0242ac1c0002row3_col6\" class=\"data row3 col6\" >802</td>\n",
              "            </tr>\n",
              "            <tr>\n",
              "                        <th id=\"T_f13b9c0c_9b7a_11ea_90e4_0242ac1c0002level0_row4\" class=\"row_heading level0 row4\" >4</th>\n",
              "                        <td id=\"T_f13b9c0c_9b7a_11ea_90e4_0242ac1c0002row4_col0\" class=\"data row4 col0\" >138</td>\n",
              "                        <td id=\"T_f13b9c0c_9b7a_11ea_90e4_0242ac1c0002row4_col1\" class=\"data row4 col1\" >Russia</td>\n",
              "                        <td id=\"T_f13b9c0c_9b7a_11ea_90e4_0242ac1c0002row4_col2\" class=\"data row4 col2\" >209688</td>\n",
              "                        <td id=\"T_f13b9c0c_9b7a_11ea_90e4_0242ac1c0002row4_col3\" class=\"data row4 col3\" >1915</td>\n",
              "                        <td id=\"T_f13b9c0c_9b7a_11ea_90e4_0242ac1c0002row4_col4\" class=\"data row4 col4\" >34306</td>\n",
              "                        <td id=\"T_f13b9c0c_9b7a_11ea_90e4_0242ac1c0002row4_col5\" class=\"data row4 col5\" >173467</td>\n",
              "                        <td id=\"T_f13b9c0c_9b7a_11ea_90e4_0242ac1c0002row4_col6\" class=\"data row4 col6\" >11012</td>\n",
              "            </tr>\n",
              "            <tr>\n",
              "                        <th id=\"T_f13b9c0c_9b7a_11ea_90e4_0242ac1c0002level0_row5\" class=\"row_heading level0 row5\" >5</th>\n",
              "                        <td id=\"T_f13b9c0c_9b7a_11ea_90e4_0242ac1c0002row5_col0\" class=\"data row5 col0\" >62</td>\n",
              "                        <td id=\"T_f13b9c0c_9b7a_11ea_90e4_0242ac1c0002row5_col1\" class=\"data row5 col1\" >France</td>\n",
              "                        <td id=\"T_f13b9c0c_9b7a_11ea_90e4_0242ac1c0002row5_col2\" class=\"data row5 col2\" >177094</td>\n",
              "                        <td id=\"T_f13b9c0c_9b7a_11ea_90e4_0242ac1c0002row5_col3\" class=\"data row5 col3\" >26383</td>\n",
              "                        <td id=\"T_f13b9c0c_9b7a_11ea_90e4_0242ac1c0002row5_col4\" class=\"data row5 col4\" >56327</td>\n",
              "                        <td id=\"T_f13b9c0c_9b7a_11ea_90e4_0242ac1c0002row5_col5\" class=\"data row5 col5\" >94384</td>\n",
              "                        <td id=\"T_f13b9c0c_9b7a_11ea_90e4_0242ac1c0002row5_col6\" class=\"data row5 col6\" >312</td>\n",
              "            </tr>\n",
              "            <tr>\n",
              "                        <th id=\"T_f13b9c0c_9b7a_11ea_90e4_0242ac1c0002level0_row6\" class=\"row_heading level0 row6\" >6</th>\n",
              "                        <td id=\"T_f13b9c0c_9b7a_11ea_90e4_0242ac1c0002row6_col0\" class=\"data row6 col0\" >66</td>\n",
              "                        <td id=\"T_f13b9c0c_9b7a_11ea_90e4_0242ac1c0002row6_col1\" class=\"data row6 col1\" >Germany</td>\n",
              "                        <td id=\"T_f13b9c0c_9b7a_11ea_90e4_0242ac1c0002row6_col2\" class=\"data row6 col2\" >171879</td>\n",
              "                        <td id=\"T_f13b9c0c_9b7a_11ea_90e4_0242ac1c0002row6_col3\" class=\"data row6 col3\" >7569</td>\n",
              "                        <td id=\"T_f13b9c0c_9b7a_11ea_90e4_0242ac1c0002row6_col4\" class=\"data row6 col4\" >144400</td>\n",
              "                        <td id=\"T_f13b9c0c_9b7a_11ea_90e4_0242ac1c0002row6_col5\" class=\"data row6 col5\" >19910</td>\n",
              "                        <td id=\"T_f13b9c0c_9b7a_11ea_90e4_0242ac1c0002row6_col6\" class=\"data row6 col6\" >555</td>\n",
              "            </tr>\n",
              "            <tr>\n",
              "                        <th id=\"T_f13b9c0c_9b7a_11ea_90e4_0242ac1c0002level0_row7\" class=\"row_heading level0 row7\" >7</th>\n",
              "                        <td id=\"T_f13b9c0c_9b7a_11ea_90e4_0242ac1c0002row7_col0\" class=\"data row7 col0\" >23</td>\n",
              "                        <td id=\"T_f13b9c0c_9b7a_11ea_90e4_0242ac1c0002row7_col1\" class=\"data row7 col1\" >Brazil</td>\n",
              "                        <td id=\"T_f13b9c0c_9b7a_11ea_90e4_0242ac1c0002row7_col2\" class=\"data row7 col2\" >162699</td>\n",
              "                        <td id=\"T_f13b9c0c_9b7a_11ea_90e4_0242ac1c0002row7_col3\" class=\"data row7 col3\" >11123</td>\n",
              "                        <td id=\"T_f13b9c0c_9b7a_11ea_90e4_0242ac1c0002row7_col4\" class=\"data row7 col4\" >64957</td>\n",
              "                        <td id=\"T_f13b9c0c_9b7a_11ea_90e4_0242ac1c0002row7_col5\" class=\"data row7 col5\" >86619</td>\n",
              "                        <td id=\"T_f13b9c0c_9b7a_11ea_90e4_0242ac1c0002row7_col6\" class=\"data row7 col6\" >6638</td>\n",
              "            </tr>\n",
              "            <tr>\n",
              "                        <th id=\"T_f13b9c0c_9b7a_11ea_90e4_0242ac1c0002level0_row8\" class=\"row_heading level0 row8\" >8</th>\n",
              "                        <td id=\"T_f13b9c0c_9b7a_11ea_90e4_0242ac1c0002row8_col0\" class=\"data row8 col0\" >172</td>\n",
              "                        <td id=\"T_f13b9c0c_9b7a_11ea_90e4_0242ac1c0002row8_col1\" class=\"data row8 col1\" >Turkey</td>\n",
              "                        <td id=\"T_f13b9c0c_9b7a_11ea_90e4_0242ac1c0002row8_col2\" class=\"data row8 col2\" >138657</td>\n",
              "                        <td id=\"T_f13b9c0c_9b7a_11ea_90e4_0242ac1c0002row8_col3\" class=\"data row8 col3\" >3786</td>\n",
              "                        <td id=\"T_f13b9c0c_9b7a_11ea_90e4_0242ac1c0002row8_col4\" class=\"data row8 col4\" >92691</td>\n",
              "                        <td id=\"T_f13b9c0c_9b7a_11ea_90e4_0242ac1c0002row8_col5\" class=\"data row8 col5\" >42180</td>\n",
              "                        <td id=\"T_f13b9c0c_9b7a_11ea_90e4_0242ac1c0002row8_col6\" class=\"data row8 col6\" >1542</td>\n",
              "            </tr>\n",
              "            <tr>\n",
              "                        <th id=\"T_f13b9c0c_9b7a_11ea_90e4_0242ac1c0002level0_row9\" class=\"row_heading level0 row9\" >9</th>\n",
              "                        <td id=\"T_f13b9c0c_9b7a_11ea_90e4_0242ac1c0002row9_col0\" class=\"data row9 col0\" >81</td>\n",
              "                        <td id=\"T_f13b9c0c_9b7a_11ea_90e4_0242ac1c0002row9_col1\" class=\"data row9 col1\" >Iran</td>\n",
              "                        <td id=\"T_f13b9c0c_9b7a_11ea_90e4_0242ac1c0002row9_col2\" class=\"data row9 col2\" >107603</td>\n",
              "                        <td id=\"T_f13b9c0c_9b7a_11ea_90e4_0242ac1c0002row9_col3\" class=\"data row9 col3\" >6640</td>\n",
              "                        <td id=\"T_f13b9c0c_9b7a_11ea_90e4_0242ac1c0002row9_col4\" class=\"data row9 col4\" >86143</td>\n",
              "                        <td id=\"T_f13b9c0c_9b7a_11ea_90e4_0242ac1c0002row9_col5\" class=\"data row9 col5\" >14820</td>\n",
              "                        <td id=\"T_f13b9c0c_9b7a_11ea_90e4_0242ac1c0002row9_col6\" class=\"data row9 col6\" >1383</td>\n",
              "            </tr>\n",
              "            <tr>\n",
              "                        <th id=\"T_f13b9c0c_9b7a_11ea_90e4_0242ac1c0002level0_row10\" class=\"row_heading level0 row10\" >10</th>\n",
              "                        <td id=\"T_f13b9c0c_9b7a_11ea_90e4_0242ac1c0002row10_col0\" class=\"data row10 col0\" >36</td>\n",
              "                        <td id=\"T_f13b9c0c_9b7a_11ea_90e4_0242ac1c0002row10_col1\" class=\"data row10 col1\" >China</td>\n",
              "                        <td id=\"T_f13b9c0c_9b7a_11ea_90e4_0242ac1c0002row10_col2\" class=\"data row10 col2\" >84010</td>\n",
              "                        <td id=\"T_f13b9c0c_9b7a_11ea_90e4_0242ac1c0002row10_col3\" class=\"data row10 col3\" >4637</td>\n",
              "                        <td id=\"T_f13b9c0c_9b7a_11ea_90e4_0242ac1c0002row10_col4\" class=\"data row10 col4\" >79167</td>\n",
              "                        <td id=\"T_f13b9c0c_9b7a_11ea_90e4_0242ac1c0002row10_col5\" class=\"data row10 col5\" >206</td>\n",
              "                        <td id=\"T_f13b9c0c_9b7a_11ea_90e4_0242ac1c0002row10_col6\" class=\"data row10 col6\" >20</td>\n",
              "            </tr>\n",
              "            <tr>\n",
              "                        <th id=\"T_f13b9c0c_9b7a_11ea_90e4_0242ac1c0002level0_row11\" class=\"row_heading level0 row11\" >11</th>\n",
              "                        <td id=\"T_f13b9c0c_9b7a_11ea_90e4_0242ac1c0002row11_col0\" class=\"data row11 col0\" >32</td>\n",
              "                        <td id=\"T_f13b9c0c_9b7a_11ea_90e4_0242ac1c0002row11_col1\" class=\"data row11 col1\" >Canada</td>\n",
              "                        <td id=\"T_f13b9c0c_9b7a_11ea_90e4_0242ac1c0002row11_col2\" class=\"data row11 col2\" >70091</td>\n",
              "                        <td id=\"T_f13b9c0c_9b7a_11ea_90e4_0242ac1c0002row11_col3\" class=\"data row11 col3\" >4991</td>\n",
              "                        <td id=\"T_f13b9c0c_9b7a_11ea_90e4_0242ac1c0002row11_col4\" class=\"data row11 col4\" >0</td>\n",
              "                        <td id=\"T_f13b9c0c_9b7a_11ea_90e4_0242ac1c0002row11_col5\" class=\"data row11 col5\" >65100</td>\n",
              "                        <td id=\"T_f13b9c0c_9b7a_11ea_90e4_0242ac1c0002row11_col6\" class=\"data row11 col6\" >1173</td>\n",
              "            </tr>\n",
              "            <tr>\n",
              "                        <th id=\"T_f13b9c0c_9b7a_11ea_90e4_0242ac1c0002level0_row12\" class=\"row_heading level0 row12\" >12</th>\n",
              "                        <td id=\"T_f13b9c0c_9b7a_11ea_90e4_0242ac1c0002row12_col0\" class=\"data row12 col0\" >132</td>\n",
              "                        <td id=\"T_f13b9c0c_9b7a_11ea_90e4_0242ac1c0002row12_col1\" class=\"data row12 col1\" >Peru</td>\n",
              "                        <td id=\"T_f13b9c0c_9b7a_11ea_90e4_0242ac1c0002row12_col2\" class=\"data row12 col2\" >67307</td>\n",
              "                        <td id=\"T_f13b9c0c_9b7a_11ea_90e4_0242ac1c0002row12_col3\" class=\"data row12 col3\" >1889</td>\n",
              "                        <td id=\"T_f13b9c0c_9b7a_11ea_90e4_0242ac1c0002row12_col4\" class=\"data row12 col4\" >21349</td>\n",
              "                        <td id=\"T_f13b9c0c_9b7a_11ea_90e4_0242ac1c0002row12_col5\" class=\"data row12 col5\" >44069</td>\n",
              "                        <td id=\"T_f13b9c0c_9b7a_11ea_90e4_0242ac1c0002row12_col6\" class=\"data row12 col6\" >2292</td>\n",
              "            </tr>\n",
              "            <tr>\n",
              "                        <th id=\"T_f13b9c0c_9b7a_11ea_90e4_0242ac1c0002level0_row13\" class=\"row_heading level0 row13\" >13</th>\n",
              "                        <td id=\"T_f13b9c0c_9b7a_11ea_90e4_0242ac1c0002row13_col0\" class=\"data row13 col0\" >79</td>\n",
              "                        <td id=\"T_f13b9c0c_9b7a_11ea_90e4_0242ac1c0002row13_col1\" class=\"data row13 col1\" >India</td>\n",
              "                        <td id=\"T_f13b9c0c_9b7a_11ea_90e4_0242ac1c0002row13_col2\" class=\"data row13 col2\" >67161</td>\n",
              "                        <td id=\"T_f13b9c0c_9b7a_11ea_90e4_0242ac1c0002row13_col3\" class=\"data row13 col3\" >2212</td>\n",
              "                        <td id=\"T_f13b9c0c_9b7a_11ea_90e4_0242ac1c0002row13_col4\" class=\"data row13 col4\" >20969</td>\n",
              "                        <td id=\"T_f13b9c0c_9b7a_11ea_90e4_0242ac1c0002row13_col5\" class=\"data row13 col5\" >43980</td>\n",
              "                        <td id=\"T_f13b9c0c_9b7a_11ea_90e4_0242ac1c0002row13_col6\" class=\"data row13 col6\" >4353</td>\n",
              "            </tr>\n",
              "            <tr>\n",
              "                        <th id=\"T_f13b9c0c_9b7a_11ea_90e4_0242ac1c0002level0_row14\" class=\"row_heading level0 row14\" >14</th>\n",
              "                        <td id=\"T_f13b9c0c_9b7a_11ea_90e4_0242ac1c0002row14_col0\" class=\"data row14 col0\" >16</td>\n",
              "                        <td id=\"T_f13b9c0c_9b7a_11ea_90e4_0242ac1c0002row14_col1\" class=\"data row14 col1\" >Belgium</td>\n",
              "                        <td id=\"T_f13b9c0c_9b7a_11ea_90e4_0242ac1c0002row14_col2\" class=\"data row14 col2\" >53081</td>\n",
              "                        <td id=\"T_f13b9c0c_9b7a_11ea_90e4_0242ac1c0002row14_col3\" class=\"data row14 col3\" >8656</td>\n",
              "                        <td id=\"T_f13b9c0c_9b7a_11ea_90e4_0242ac1c0002row14_col4\" class=\"data row14 col4\" >13642</td>\n",
              "                        <td id=\"T_f13b9c0c_9b7a_11ea_90e4_0242ac1c0002row14_col5\" class=\"data row14 col5\" >30783</td>\n",
              "                        <td id=\"T_f13b9c0c_9b7a_11ea_90e4_0242ac1c0002row14_col6\" class=\"data row14 col6\" >485</td>\n",
              "            </tr>\n",
              "            <tr>\n",
              "                        <th id=\"T_f13b9c0c_9b7a_11ea_90e4_0242ac1c0002level0_row15\" class=\"row_heading level0 row15\" >15</th>\n",
              "                        <td id=\"T_f13b9c0c_9b7a_11ea_90e4_0242ac1c0002row15_col0\" class=\"data row15 col0\" >120</td>\n",
              "                        <td id=\"T_f13b9c0c_9b7a_11ea_90e4_0242ac1c0002row15_col1\" class=\"data row15 col1\" >Netherlands</td>\n",
              "                        <td id=\"T_f13b9c0c_9b7a_11ea_90e4_0242ac1c0002row15_col2\" class=\"data row15 col2\" >42820</td>\n",
              "                        <td id=\"T_f13b9c0c_9b7a_11ea_90e4_0242ac1c0002row15_col3\" class=\"data row15 col3\" >5459</td>\n",
              "                        <td id=\"T_f13b9c0c_9b7a_11ea_90e4_0242ac1c0002row15_col4\" class=\"data row15 col4\" >149</td>\n",
              "                        <td id=\"T_f13b9c0c_9b7a_11ea_90e4_0242ac1c0002row15_col5\" class=\"data row15 col5\" >37212</td>\n",
              "                        <td id=\"T_f13b9c0c_9b7a_11ea_90e4_0242ac1c0002row15_col6\" class=\"data row15 col6\" >245</td>\n",
              "            </tr>\n",
              "            <tr>\n",
              "                        <th id=\"T_f13b9c0c_9b7a_11ea_90e4_0242ac1c0002level0_row16\" class=\"row_heading level0 row16\" >16</th>\n",
              "                        <td id=\"T_f13b9c0c_9b7a_11ea_90e4_0242ac1c0002row16_col0\" class=\"data row16 col0\" >145</td>\n",
              "                        <td id=\"T_f13b9c0c_9b7a_11ea_90e4_0242ac1c0002row16_col1\" class=\"data row16 col1\" >Saudi Arabia</td>\n",
              "                        <td id=\"T_f13b9c0c_9b7a_11ea_90e4_0242ac1c0002row16_col2\" class=\"data row16 col2\" >39048</td>\n",
              "                        <td id=\"T_f13b9c0c_9b7a_11ea_90e4_0242ac1c0002row16_col3\" class=\"data row16 col3\" >246</td>\n",
              "                        <td id=\"T_f13b9c0c_9b7a_11ea_90e4_0242ac1c0002row16_col4\" class=\"data row16 col4\" >11457</td>\n",
              "                        <td id=\"T_f13b9c0c_9b7a_11ea_90e4_0242ac1c0002row16_col5\" class=\"data row16 col5\" >27345</td>\n",
              "                        <td id=\"T_f13b9c0c_9b7a_11ea_90e4_0242ac1c0002row16_col6\" class=\"data row16 col6\" >1912</td>\n",
              "            </tr>\n",
              "            <tr>\n",
              "                        <th id=\"T_f13b9c0c_9b7a_11ea_90e4_0242ac1c0002level0_row17\" class=\"row_heading level0 row17\" >17</th>\n",
              "                        <td id=\"T_f13b9c0c_9b7a_11ea_90e4_0242ac1c0002row17_col0\" class=\"data row17 col0\" >111</td>\n",
              "                        <td id=\"T_f13b9c0c_9b7a_11ea_90e4_0242ac1c0002row17_col1\" class=\"data row17 col1\" >Mexico</td>\n",
              "                        <td id=\"T_f13b9c0c_9b7a_11ea_90e4_0242ac1c0002row17_col2\" class=\"data row17 col2\" >35022</td>\n",
              "                        <td id=\"T_f13b9c0c_9b7a_11ea_90e4_0242ac1c0002row17_col3\" class=\"data row17 col3\" >3465</td>\n",
              "                        <td id=\"T_f13b9c0c_9b7a_11ea_90e4_0242ac1c0002row17_col4\" class=\"data row17 col4\" >21824</td>\n",
              "                        <td id=\"T_f13b9c0c_9b7a_11ea_90e4_0242ac1c0002row17_col5\" class=\"data row17 col5\" >9733</td>\n",
              "                        <td id=\"T_f13b9c0c_9b7a_11ea_90e4_0242ac1c0002row17_col6\" class=\"data row17 col6\" >1562</td>\n",
              "            </tr>\n",
              "            <tr>\n",
              "                        <th id=\"T_f13b9c0c_9b7a_11ea_90e4_0242ac1c0002level0_row18\" class=\"row_heading level0 row18\" >18</th>\n",
              "                        <td id=\"T_f13b9c0c_9b7a_11ea_90e4_0242ac1c0002row18_col0\" class=\"data row18 col0\" >128</td>\n",
              "                        <td id=\"T_f13b9c0c_9b7a_11ea_90e4_0242ac1c0002row18_col1\" class=\"data row18 col1\" >Pakistan</td>\n",
              "                        <td id=\"T_f13b9c0c_9b7a_11ea_90e4_0242ac1c0002row18_col2\" class=\"data row18 col2\" >30334</td>\n",
              "                        <td id=\"T_f13b9c0c_9b7a_11ea_90e4_0242ac1c0002row18_col3\" class=\"data row18 col3\" >659</td>\n",
              "                        <td id=\"T_f13b9c0c_9b7a_11ea_90e4_0242ac1c0002row18_col4\" class=\"data row18 col4\" >8063</td>\n",
              "                        <td id=\"T_f13b9c0c_9b7a_11ea_90e4_0242ac1c0002row18_col5\" class=\"data row18 col5\" >21612</td>\n",
              "                        <td id=\"T_f13b9c0c_9b7a_11ea_90e4_0242ac1c0002row18_col6\" class=\"data row18 col6\" >1598</td>\n",
              "            </tr>\n",
              "            <tr>\n",
              "                        <th id=\"T_f13b9c0c_9b7a_11ea_90e4_0242ac1c0002level0_row19\" class=\"row_heading level0 row19\" >19</th>\n",
              "                        <td id=\"T_f13b9c0c_9b7a_11ea_90e4_0242ac1c0002row19_col0\" class=\"data row19 col0\" >162</td>\n",
              "                        <td id=\"T_f13b9c0c_9b7a_11ea_90e4_0242ac1c0002row19_col1\" class=\"data row19 col1\" >Switzerland</td>\n",
              "                        <td id=\"T_f13b9c0c_9b7a_11ea_90e4_0242ac1c0002row19_col2\" class=\"data row19 col2\" >30305</td>\n",
              "                        <td id=\"T_f13b9c0c_9b7a_11ea_90e4_0242ac1c0002row19_col3\" class=\"data row19 col3\" >1833</td>\n",
              "                        <td id=\"T_f13b9c0c_9b7a_11ea_90e4_0242ac1c0002row19_col4\" class=\"data row19 col4\" >26600</td>\n",
              "                        <td id=\"T_f13b9c0c_9b7a_11ea_90e4_0242ac1c0002row19_col5\" class=\"data row19 col5\" >1872</td>\n",
              "                        <td id=\"T_f13b9c0c_9b7a_11ea_90e4_0242ac1c0002row19_col6\" class=\"data row19 col6\" >54</td>\n",
              "            </tr>\n",
              "            <tr>\n",
              "                        <th id=\"T_f13b9c0c_9b7a_11ea_90e4_0242ac1c0002level0_row20\" class=\"row_heading level0 row20\" >20</th>\n",
              "                        <td id=\"T_f13b9c0c_9b7a_11ea_90e4_0242ac1c0002row20_col0\" class=\"data row20 col0\" >52</td>\n",
              "                        <td id=\"T_f13b9c0c_9b7a_11ea_90e4_0242ac1c0002row20_col1\" class=\"data row20 col1\" >Ecuador</td>\n",
              "                        <td id=\"T_f13b9c0c_9b7a_11ea_90e4_0242ac1c0002row20_col2\" class=\"data row20 col2\" >29559</td>\n",
              "                        <td id=\"T_f13b9c0c_9b7a_11ea_90e4_0242ac1c0002row20_col3\" class=\"data row20 col3\" >2127</td>\n",
              "                        <td id=\"T_f13b9c0c_9b7a_11ea_90e4_0242ac1c0002row20_col4\" class=\"data row20 col4\" >3433</td>\n",
              "                        <td id=\"T_f13b9c0c_9b7a_11ea_90e4_0242ac1c0002row20_col5\" class=\"data row20 col5\" >23999</td>\n",
              "                        <td id=\"T_f13b9c0c_9b7a_11ea_90e4_0242ac1c0002row20_col6\" class=\"data row20 col6\" >488</td>\n",
              "            </tr>\n",
              "            <tr>\n",
              "                        <th id=\"T_f13b9c0c_9b7a_11ea_90e4_0242ac1c0002level0_row21\" class=\"row_heading level0 row21\" >21</th>\n",
              "                        <td id=\"T_f13b9c0c_9b7a_11ea_90e4_0242ac1c0002row21_col0\" class=\"data row21 col0\" >35</td>\n",
              "                        <td id=\"T_f13b9c0c_9b7a_11ea_90e4_0242ac1c0002row21_col1\" class=\"data row21 col1\" >Chile</td>\n",
              "                        <td id=\"T_f13b9c0c_9b7a_11ea_90e4_0242ac1c0002row21_col2\" class=\"data row21 col2\" >28866</td>\n",
              "                        <td id=\"T_f13b9c0c_9b7a_11ea_90e4_0242ac1c0002row21_col3\" class=\"data row21 col3\" >312</td>\n",
              "                        <td id=\"T_f13b9c0c_9b7a_11ea_90e4_0242ac1c0002row21_col4\" class=\"data row21 col4\" >13112</td>\n",
              "                        <td id=\"T_f13b9c0c_9b7a_11ea_90e4_0242ac1c0002row21_col5\" class=\"data row21 col5\" >15442</td>\n",
              "                        <td id=\"T_f13b9c0c_9b7a_11ea_90e4_0242ac1c0002row21_col6\" class=\"data row21 col6\" >1647</td>\n",
              "            </tr>\n",
              "            <tr>\n",
              "                        <th id=\"T_f13b9c0c_9b7a_11ea_90e4_0242ac1c0002level0_row22\" class=\"row_heading level0 row22\" >22</th>\n",
              "                        <td id=\"T_f13b9c0c_9b7a_11ea_90e4_0242ac1c0002row22_col0\" class=\"data row22 col0\" >135</td>\n",
              "                        <td id=\"T_f13b9c0c_9b7a_11ea_90e4_0242ac1c0002row22_col1\" class=\"data row22 col1\" >Portugal</td>\n",
              "                        <td id=\"T_f13b9c0c_9b7a_11ea_90e4_0242ac1c0002row22_col2\" class=\"data row22 col2\" >27581</td>\n",
              "                        <td id=\"T_f13b9c0c_9b7a_11ea_90e4_0242ac1c0002row22_col3\" class=\"data row22 col3\" >1135</td>\n",
              "                        <td id=\"T_f13b9c0c_9b7a_11ea_90e4_0242ac1c0002row22_col4\" class=\"data row22 col4\" >2549</td>\n",
              "                        <td id=\"T_f13b9c0c_9b7a_11ea_90e4_0242ac1c0002row22_col5\" class=\"data row22 col5\" >23897</td>\n",
              "                        <td id=\"T_f13b9c0c_9b7a_11ea_90e4_0242ac1c0002row22_col6\" class=\"data row22 col6\" >175</td>\n",
              "            </tr>\n",
              "            <tr>\n",
              "                        <th id=\"T_f13b9c0c_9b7a_11ea_90e4_0242ac1c0002level0_row23\" class=\"row_heading level0 row23\" >23</th>\n",
              "                        <td id=\"T_f13b9c0c_9b7a_11ea_90e4_0242ac1c0002row23_col0\" class=\"data row23 col0\" >161</td>\n",
              "                        <td id=\"T_f13b9c0c_9b7a_11ea_90e4_0242ac1c0002row23_col1\" class=\"data row23 col1\" >Sweden</td>\n",
              "                        <td id=\"T_f13b9c0c_9b7a_11ea_90e4_0242ac1c0002row23_col2\" class=\"data row23 col2\" >26322</td>\n",
              "                        <td id=\"T_f13b9c0c_9b7a_11ea_90e4_0242ac1c0002row23_col3\" class=\"data row23 col3\" >3225</td>\n",
              "                        <td id=\"T_f13b9c0c_9b7a_11ea_90e4_0242ac1c0002row23_col4\" class=\"data row23 col4\" >4971</td>\n",
              "                        <td id=\"T_f13b9c0c_9b7a_11ea_90e4_0242ac1c0002row23_col5\" class=\"data row23 col5\" >18126</td>\n",
              "                        <td id=\"T_f13b9c0c_9b7a_11ea_90e4_0242ac1c0002row23_col6\" class=\"data row23 col6\" >401</td>\n",
              "            </tr>\n",
              "            <tr>\n",
              "                        <th id=\"T_f13b9c0c_9b7a_11ea_90e4_0242ac1c0002level0_row24\" class=\"row_heading level0 row24\" >24</th>\n",
              "                        <td id=\"T_f13b9c0c_9b7a_11ea_90e4_0242ac1c0002row24_col0\" class=\"data row24 col0\" >150</td>\n",
              "                        <td id=\"T_f13b9c0c_9b7a_11ea_90e4_0242ac1c0002row24_col1\" class=\"data row24 col1\" >Singapore</td>\n",
              "                        <td id=\"T_f13b9c0c_9b7a_11ea_90e4_0242ac1c0002row24_col2\" class=\"data row24 col2\" >23336</td>\n",
              "                        <td id=\"T_f13b9c0c_9b7a_11ea_90e4_0242ac1c0002row24_col3\" class=\"data row24 col3\" >20</td>\n",
              "                        <td id=\"T_f13b9c0c_9b7a_11ea_90e4_0242ac1c0002row24_col4\" class=\"data row24 col4\" >2721</td>\n",
              "                        <td id=\"T_f13b9c0c_9b7a_11ea_90e4_0242ac1c0002row24_col5\" class=\"data row24 col5\" >20595</td>\n",
              "                        <td id=\"T_f13b9c0c_9b7a_11ea_90e4_0242ac1c0002row24_col6\" class=\"data row24 col6\" >876</td>\n",
              "            </tr>\n",
              "            <tr>\n",
              "                        <th id=\"T_f13b9c0c_9b7a_11ea_90e4_0242ac1c0002level0_row25\" class=\"row_heading level0 row25\" >25</th>\n",
              "                        <td id=\"T_f13b9c0c_9b7a_11ea_90e4_0242ac1c0002row25_col0\" class=\"data row25 col0\" >83</td>\n",
              "                        <td id=\"T_f13b9c0c_9b7a_11ea_90e4_0242ac1c0002row25_col1\" class=\"data row25 col1\" >Ireland</td>\n",
              "                        <td id=\"T_f13b9c0c_9b7a_11ea_90e4_0242ac1c0002row25_col2\" class=\"data row25 col2\" >22996</td>\n",
              "                        <td id=\"T_f13b9c0c_9b7a_11ea_90e4_0242ac1c0002row25_col3\" class=\"data row25 col3\" >1458</td>\n",
              "                        <td id=\"T_f13b9c0c_9b7a_11ea_90e4_0242ac1c0002row25_col4\" class=\"data row25 col4\" >17110</td>\n",
              "                        <td id=\"T_f13b9c0c_9b7a_11ea_90e4_0242ac1c0002row25_col5\" class=\"data row25 col5\" >4428</td>\n",
              "                        <td id=\"T_f13b9c0c_9b7a_11ea_90e4_0242ac1c0002row25_col6\" class=\"data row25 col6\" >236</td>\n",
              "            </tr>\n",
              "            <tr>\n",
              "                        <th id=\"T_f13b9c0c_9b7a_11ea_90e4_0242ac1c0002level0_row26\" class=\"row_heading level0 row26\" >26</th>\n",
              "                        <td id=\"T_f13b9c0c_9b7a_11ea_90e4_0242ac1c0002row26_col0\" class=\"data row26 col0\" >15</td>\n",
              "                        <td id=\"T_f13b9c0c_9b7a_11ea_90e4_0242ac1c0002row26_col1\" class=\"data row26 col1\" >Belarus</td>\n",
              "                        <td id=\"T_f13b9c0c_9b7a_11ea_90e4_0242ac1c0002row26_col2\" class=\"data row26 col2\" >22973</td>\n",
              "                        <td id=\"T_f13b9c0c_9b7a_11ea_90e4_0242ac1c0002row26_col3\" class=\"data row26 col3\" >131</td>\n",
              "                        <td id=\"T_f13b9c0c_9b7a_11ea_90e4_0242ac1c0002row26_col4\" class=\"data row26 col4\" >6406</td>\n",
              "                        <td id=\"T_f13b9c0c_9b7a_11ea_90e4_0242ac1c0002row26_col5\" class=\"data row26 col5\" >16436</td>\n",
              "                        <td id=\"T_f13b9c0c_9b7a_11ea_90e4_0242ac1c0002row26_col6\" class=\"data row26 col6\" >921</td>\n",
              "            </tr>\n",
              "            <tr>\n",
              "                        <th id=\"T_f13b9c0c_9b7a_11ea_90e4_0242ac1c0002level0_row27\" class=\"row_heading level0 row27\" >27</th>\n",
              "                        <td id=\"T_f13b9c0c_9b7a_11ea_90e4_0242ac1c0002row27_col0\" class=\"data row27 col0\" >136</td>\n",
              "                        <td id=\"T_f13b9c0c_9b7a_11ea_90e4_0242ac1c0002row27_col1\" class=\"data row27 col1\" >Qatar</td>\n",
              "                        <td id=\"T_f13b9c0c_9b7a_11ea_90e4_0242ac1c0002row27_col2\" class=\"data row27 col2\" >22520</td>\n",
              "                        <td id=\"T_f13b9c0c_9b7a_11ea_90e4_0242ac1c0002row27_col3\" class=\"data row27 col3\" >14</td>\n",
              "                        <td id=\"T_f13b9c0c_9b7a_11ea_90e4_0242ac1c0002row27_col4\" class=\"data row27 col4\" >2753</td>\n",
              "                        <td id=\"T_f13b9c0c_9b7a_11ea_90e4_0242ac1c0002row27_col5\" class=\"data row27 col5\" >19753</td>\n",
              "                        <td id=\"T_f13b9c0c_9b7a_11ea_90e4_0242ac1c0002row27_col6\" class=\"data row27 col6\" >1189</td>\n",
              "            </tr>\n",
              "            <tr>\n",
              "                        <th id=\"T_f13b9c0c_9b7a_11ea_90e4_0242ac1c0002level0_row28\" class=\"row_heading level0 row28\" >28</th>\n",
              "                        <td id=\"T_f13b9c0c_9b7a_11ea_90e4_0242ac1c0002row28_col0\" class=\"data row28 col0\" >176</td>\n",
              "                        <td id=\"T_f13b9c0c_9b7a_11ea_90e4_0242ac1c0002row28_col1\" class=\"data row28 col1\" >United Arab Emirates</td>\n",
              "                        <td id=\"T_f13b9c0c_9b7a_11ea_90e4_0242ac1c0002row28_col2\" class=\"data row28 col2\" >18198</td>\n",
              "                        <td id=\"T_f13b9c0c_9b7a_11ea_90e4_0242ac1c0002row28_col3\" class=\"data row28 col3\" >198</td>\n",
              "                        <td id=\"T_f13b9c0c_9b7a_11ea_90e4_0242ac1c0002row28_col4\" class=\"data row28 col4\" >4804</td>\n",
              "                        <td id=\"T_f13b9c0c_9b7a_11ea_90e4_0242ac1c0002row28_col5\" class=\"data row28 col5\" >13196</td>\n",
              "                        <td id=\"T_f13b9c0c_9b7a_11ea_90e4_0242ac1c0002row28_col6\" class=\"data row28 col6\" >781</td>\n",
              "            </tr>\n",
              "            <tr>\n",
              "                        <th id=\"T_f13b9c0c_9b7a_11ea_90e4_0242ac1c0002level0_row29\" class=\"row_heading level0 row29\" >29</th>\n",
              "                        <td id=\"T_f13b9c0c_9b7a_11ea_90e4_0242ac1c0002row29_col0\" class=\"data row29 col0\" >84</td>\n",
              "                        <td id=\"T_f13b9c0c_9b7a_11ea_90e4_0242ac1c0002row29_col1\" class=\"data row29 col1\" >Israel</td>\n",
              "                        <td id=\"T_f13b9c0c_9b7a_11ea_90e4_0242ac1c0002row29_col2\" class=\"data row29 col2\" >16477</td>\n",
              "                        <td id=\"T_f13b9c0c_9b7a_11ea_90e4_0242ac1c0002row29_col3\" class=\"data row29 col3\" >252</td>\n",
              "                        <td id=\"T_f13b9c0c_9b7a_11ea_90e4_0242ac1c0002row29_col4\" class=\"data row29 col4\" >11430</td>\n",
              "                        <td id=\"T_f13b9c0c_9b7a_11ea_90e4_0242ac1c0002row29_col5\" class=\"data row29 col5\" >4795</td>\n",
              "                        <td id=\"T_f13b9c0c_9b7a_11ea_90e4_0242ac1c0002row29_col6\" class=\"data row29 col6\" >23</td>\n",
              "            </tr>\n",
              "            <tr>\n",
              "                        <th id=\"T_f13b9c0c_9b7a_11ea_90e4_0242ac1c0002level0_row30\" class=\"row_heading level0 row30\" >30</th>\n",
              "                        <td id=\"T_f13b9c0c_9b7a_11ea_90e4_0242ac1c0002row30_col0\" class=\"data row30 col0\" >134</td>\n",
              "                        <td id=\"T_f13b9c0c_9b7a_11ea_90e4_0242ac1c0002row30_col1\" class=\"data row30 col1\" >Poland</td>\n",
              "                        <td id=\"T_f13b9c0c_9b7a_11ea_90e4_0242ac1c0002row30_col2\" class=\"data row30 col2\" >15996</td>\n",
              "                        <td id=\"T_f13b9c0c_9b7a_11ea_90e4_0242ac1c0002row30_col3\" class=\"data row30 col3\" >800</td>\n",
              "                        <td id=\"T_f13b9c0c_9b7a_11ea_90e4_0242ac1c0002row30_col4\" class=\"data row30 col4\" >5698</td>\n",
              "                        <td id=\"T_f13b9c0c_9b7a_11ea_90e4_0242ac1c0002row30_col5\" class=\"data row30 col5\" >9498</td>\n",
              "                        <td id=\"T_f13b9c0c_9b7a_11ea_90e4_0242ac1c0002row30_col6\" class=\"data row30 col6\" >345</td>\n",
              "            </tr>\n",
              "            <tr>\n",
              "                        <th id=\"T_f13b9c0c_9b7a_11ea_90e4_0242ac1c0002level0_row31\" class=\"row_heading level0 row31\" >31</th>\n",
              "                        <td id=\"T_f13b9c0c_9b7a_11ea_90e4_0242ac1c0002row31_col0\" class=\"data row31 col0\" >9</td>\n",
              "                        <td id=\"T_f13b9c0c_9b7a_11ea_90e4_0242ac1c0002row31_col1\" class=\"data row31 col1\" >Austria</td>\n",
              "                        <td id=\"T_f13b9c0c_9b7a_11ea_90e4_0242ac1c0002row31_col2\" class=\"data row31 col2\" >15871</td>\n",
              "                        <td id=\"T_f13b9c0c_9b7a_11ea_90e4_0242ac1c0002row31_col3\" class=\"data row31 col3\" >618</td>\n",
              "                        <td id=\"T_f13b9c0c_9b7a_11ea_90e4_0242ac1c0002row31_col4\" class=\"data row31 col4\" >13991</td>\n",
              "                        <td id=\"T_f13b9c0c_9b7a_11ea_90e4_0242ac1c0002row31_col5\" class=\"data row31 col5\" >1262</td>\n",
              "                        <td id=\"T_f13b9c0c_9b7a_11ea_90e4_0242ac1c0002row31_col6\" class=\"data row31 col6\" >38</td>\n",
              "            </tr>\n",
              "            <tr>\n",
              "                        <th id=\"T_f13b9c0c_9b7a_11ea_90e4_0242ac1c0002level0_row32\" class=\"row_heading level0 row32\" >32</th>\n",
              "                        <td id=\"T_f13b9c0c_9b7a_11ea_90e4_0242ac1c0002row32_col0\" class=\"data row32 col0\" >87</td>\n",
              "                        <td id=\"T_f13b9c0c_9b7a_11ea_90e4_0242ac1c0002row32_col1\" class=\"data row32 col1\" >Japan</td>\n",
              "                        <td id=\"T_f13b9c0c_9b7a_11ea_90e4_0242ac1c0002row32_col2\" class=\"data row32 col2\" >15777</td>\n",
              "                        <td id=\"T_f13b9c0c_9b7a_11ea_90e4_0242ac1c0002row32_col3\" class=\"data row32 col3\" >624</td>\n",
              "                        <td id=\"T_f13b9c0c_9b7a_11ea_90e4_0242ac1c0002row32_col4\" class=\"data row32 col4\" >8127</td>\n",
              "                        <td id=\"T_f13b9c0c_9b7a_11ea_90e4_0242ac1c0002row32_col5\" class=\"data row32 col5\" >7026</td>\n",
              "                        <td id=\"T_f13b9c0c_9b7a_11ea_90e4_0242ac1c0002row32_col6\" class=\"data row32 col6\" >114</td>\n",
              "            </tr>\n",
              "            <tr>\n",
              "                        <th id=\"T_f13b9c0c_9b7a_11ea_90e4_0242ac1c0002level0_row33\" class=\"row_heading level0 row33\" >33</th>\n",
              "                        <td id=\"T_f13b9c0c_9b7a_11ea_90e4_0242ac1c0002row33_col0\" class=\"data row33 col0\" >137</td>\n",
              "                        <td id=\"T_f13b9c0c_9b7a_11ea_90e4_0242ac1c0002row33_col1\" class=\"data row33 col1\" >Romania</td>\n",
              "                        <td id=\"T_f13b9c0c_9b7a_11ea_90e4_0242ac1c0002row33_col2\" class=\"data row33 col2\" >15362</td>\n",
              "                        <td id=\"T_f13b9c0c_9b7a_11ea_90e4_0242ac1c0002row33_col3\" class=\"data row33 col3\" >961</td>\n",
              "                        <td id=\"T_f13b9c0c_9b7a_11ea_90e4_0242ac1c0002row33_col4\" class=\"data row33 col4\" >7051</td>\n",
              "                        <td id=\"T_f13b9c0c_9b7a_11ea_90e4_0242ac1c0002row33_col5\" class=\"data row33 col5\" >7350</td>\n",
              "                        <td id=\"T_f13b9c0c_9b7a_11ea_90e4_0242ac1c0002row33_col6\" class=\"data row33 col6\" >231</td>\n",
              "            </tr>\n",
              "            <tr>\n",
              "                        <th id=\"T_f13b9c0c_9b7a_11ea_90e4_0242ac1c0002level0_row34\" class=\"row_heading level0 row34\" >34</th>\n",
              "                        <td id=\"T_f13b9c0c_9b7a_11ea_90e4_0242ac1c0002row34_col0\" class=\"data row34 col0\" >175</td>\n",
              "                        <td id=\"T_f13b9c0c_9b7a_11ea_90e4_0242ac1c0002row34_col1\" class=\"data row34 col1\" >Ukraine</td>\n",
              "                        <td id=\"T_f13b9c0c_9b7a_11ea_90e4_0242ac1c0002row34_col2\" class=\"data row34 col2\" >15232</td>\n",
              "                        <td id=\"T_f13b9c0c_9b7a_11ea_90e4_0242ac1c0002row34_col3\" class=\"data row34 col3\" >391</td>\n",
              "                        <td id=\"T_f13b9c0c_9b7a_11ea_90e4_0242ac1c0002row34_col4\" class=\"data row34 col4\" >3060</td>\n",
              "                        <td id=\"T_f13b9c0c_9b7a_11ea_90e4_0242ac1c0002row34_col5\" class=\"data row34 col5\" >11781</td>\n",
              "                        <td id=\"T_f13b9c0c_9b7a_11ea_90e4_0242ac1c0002row34_col6\" class=\"data row34 col6\" >522</td>\n",
              "            </tr>\n",
              "            <tr>\n",
              "                        <th id=\"T_f13b9c0c_9b7a_11ea_90e4_0242ac1c0002level0_row35\" class=\"row_heading level0 row35\" >35</th>\n",
              "                        <td id=\"T_f13b9c0c_9b7a_11ea_90e4_0242ac1c0002row35_col0\" class=\"data row35 col0\" >13</td>\n",
              "                        <td id=\"T_f13b9c0c_9b7a_11ea_90e4_0242ac1c0002row35_col1\" class=\"data row35 col1\" >Bangladesh</td>\n",
              "                        <td id=\"T_f13b9c0c_9b7a_11ea_90e4_0242ac1c0002row35_col2\" class=\"data row35 col2\" >14657</td>\n",
              "                        <td id=\"T_f13b9c0c_9b7a_11ea_90e4_0242ac1c0002row35_col3\" class=\"data row35 col3\" >228</td>\n",
              "                        <td id=\"T_f13b9c0c_9b7a_11ea_90e4_0242ac1c0002row35_col4\" class=\"data row35 col4\" >2650</td>\n",
              "                        <td id=\"T_f13b9c0c_9b7a_11ea_90e4_0242ac1c0002row35_col5\" class=\"data row35 col5\" >11779</td>\n",
              "                        <td id=\"T_f13b9c0c_9b7a_11ea_90e4_0242ac1c0002row35_col6\" class=\"data row35 col6\" >887</td>\n",
              "            </tr>\n",
              "            <tr>\n",
              "                        <th id=\"T_f13b9c0c_9b7a_11ea_90e4_0242ac1c0002level0_row36\" class=\"row_heading level0 row36\" >36</th>\n",
              "                        <td id=\"T_f13b9c0c_9b7a_11ea_90e4_0242ac1c0002row36_col0\" class=\"data row36 col0\" >80</td>\n",
              "                        <td id=\"T_f13b9c0c_9b7a_11ea_90e4_0242ac1c0002row36_col1\" class=\"data row36 col1\" >Indonesia</td>\n",
              "                        <td id=\"T_f13b9c0c_9b7a_11ea_90e4_0242ac1c0002row36_col2\" class=\"data row36 col2\" >14032</td>\n",
              "                        <td id=\"T_f13b9c0c_9b7a_11ea_90e4_0242ac1c0002row36_col3\" class=\"data row36 col3\" >973</td>\n",
              "                        <td id=\"T_f13b9c0c_9b7a_11ea_90e4_0242ac1c0002row36_col4\" class=\"data row36 col4\" >2698</td>\n",
              "                        <td id=\"T_f13b9c0c_9b7a_11ea_90e4_0242ac1c0002row36_col5\" class=\"data row36 col5\" >10361</td>\n",
              "                        <td id=\"T_f13b9c0c_9b7a_11ea_90e4_0242ac1c0002row36_col6\" class=\"data row36 col6\" >387</td>\n",
              "            </tr>\n",
              "            <tr>\n",
              "                        <th id=\"T_f13b9c0c_9b7a_11ea_90e4_0242ac1c0002level0_row37\" class=\"row_heading level0 row37\" >37</th>\n",
              "                        <td id=\"T_f13b9c0c_9b7a_11ea_90e4_0242ac1c0002row37_col0\" class=\"data row37 col0\" >37</td>\n",
              "                        <td id=\"T_f13b9c0c_9b7a_11ea_90e4_0242ac1c0002row37_col1\" class=\"data row37 col1\" >Colombia</td>\n",
              "                        <td id=\"T_f13b9c0c_9b7a_11ea_90e4_0242ac1c0002row37_col2\" class=\"data row37 col2\" >11063</td>\n",
              "                        <td id=\"T_f13b9c0c_9b7a_11ea_90e4_0242ac1c0002row37_col3\" class=\"data row37 col3\" >463</td>\n",
              "                        <td id=\"T_f13b9c0c_9b7a_11ea_90e4_0242ac1c0002row37_col4\" class=\"data row37 col4\" >2705</td>\n",
              "                        <td id=\"T_f13b9c0c_9b7a_11ea_90e4_0242ac1c0002row37_col5\" class=\"data row37 col5\" >7895</td>\n",
              "                        <td id=\"T_f13b9c0c_9b7a_11ea_90e4_0242ac1c0002row37_col6\" class=\"data row37 col6\" >568</td>\n",
              "            </tr>\n",
              "            <tr>\n",
              "                        <th id=\"T_f13b9c0c_9b7a_11ea_90e4_0242ac1c0002level0_row38\" class=\"row_heading level0 row38\" >38</th>\n",
              "                        <td id=\"T_f13b9c0c_9b7a_11ea_90e4_0242ac1c0002row38_col0\" class=\"data row38 col0\" >155</td>\n",
              "                        <td id=\"T_f13b9c0c_9b7a_11ea_90e4_0242ac1c0002row38_col1\" class=\"data row38 col1\" >South Korea</td>\n",
              "                        <td id=\"T_f13b9c0c_9b7a_11ea_90e4_0242ac1c0002row38_col2\" class=\"data row38 col2\" >10909</td>\n",
              "                        <td id=\"T_f13b9c0c_9b7a_11ea_90e4_0242ac1c0002row38_col3\" class=\"data row38 col3\" >256</td>\n",
              "                        <td id=\"T_f13b9c0c_9b7a_11ea_90e4_0242ac1c0002row38_col4\" class=\"data row38 col4\" >9632</td>\n",
              "                        <td id=\"T_f13b9c0c_9b7a_11ea_90e4_0242ac1c0002row38_col5\" class=\"data row38 col5\" >1021</td>\n",
              "                        <td id=\"T_f13b9c0c_9b7a_11ea_90e4_0242ac1c0002row38_col6\" class=\"data row38 col6\" >35</td>\n",
              "            </tr>\n",
              "            <tr>\n",
              "                        <th id=\"T_f13b9c0c_9b7a_11ea_90e4_0242ac1c0002level0_row39\" class=\"row_heading level0 row39\" >39</th>\n",
              "                        <td id=\"T_f13b9c0c_9b7a_11ea_90e4_0242ac1c0002row39_col0\" class=\"data row39 col0\" >133</td>\n",
              "                        <td id=\"T_f13b9c0c_9b7a_11ea_90e4_0242ac1c0002row39_col1\" class=\"data row39 col1\" >Philippines</td>\n",
              "                        <td id=\"T_f13b9c0c_9b7a_11ea_90e4_0242ac1c0002row39_col2\" class=\"data row39 col2\" >10794</td>\n",
              "                        <td id=\"T_f13b9c0c_9b7a_11ea_90e4_0242ac1c0002row39_col3\" class=\"data row39 col3\" >719</td>\n",
              "                        <td id=\"T_f13b9c0c_9b7a_11ea_90e4_0242ac1c0002row39_col4\" class=\"data row39 col4\" >1924</td>\n",
              "                        <td id=\"T_f13b9c0c_9b7a_11ea_90e4_0242ac1c0002row39_col5\" class=\"data row39 col5\" >8151</td>\n",
              "                        <td id=\"T_f13b9c0c_9b7a_11ea_90e4_0242ac1c0002row39_col6\" class=\"data row39 col6\" >184</td>\n",
              "            </tr>\n",
              "            <tr>\n",
              "                        <th id=\"T_f13b9c0c_9b7a_11ea_90e4_0242ac1c0002level0_row40\" class=\"row_heading level0 row40\" >40</th>\n",
              "                        <td id=\"T_f13b9c0c_9b7a_11ea_90e4_0242ac1c0002row40_col0\" class=\"data row40 col0\" >47</td>\n",
              "                        <td id=\"T_f13b9c0c_9b7a_11ea_90e4_0242ac1c0002row40_col1\" class=\"data row40 col1\" >Denmark</td>\n",
              "                        <td id=\"T_f13b9c0c_9b7a_11ea_90e4_0242ac1c0002row40_col2\" class=\"data row40 col2\" >10627</td>\n",
              "                        <td id=\"T_f13b9c0c_9b7a_11ea_90e4_0242ac1c0002row40_col3\" class=\"data row40 col3\" >529</td>\n",
              "                        <td id=\"T_f13b9c0c_9b7a_11ea_90e4_0242ac1c0002row40_col4\" class=\"data row40 col4\" >8415</td>\n",
              "                        <td id=\"T_f13b9c0c_9b7a_11ea_90e4_0242ac1c0002row40_col5\" class=\"data row40 col5\" >1683</td>\n",
              "                        <td id=\"T_f13b9c0c_9b7a_11ea_90e4_0242ac1c0002row40_col6\" class=\"data row40 col6\" >110</td>\n",
              "            </tr>\n",
              "            <tr>\n",
              "                        <th id=\"T_f13b9c0c_9b7a_11ea_90e4_0242ac1c0002level0_row41\" class=\"row_heading level0 row41\" >41</th>\n",
              "                        <td id=\"T_f13b9c0c_9b7a_11ea_90e4_0242ac1c0002row41_col0\" class=\"data row41 col0\" >51</td>\n",
              "                        <td id=\"T_f13b9c0c_9b7a_11ea_90e4_0242ac1c0002row41_col1\" class=\"data row41 col1\" >Dominican Republic</td>\n",
              "                        <td id=\"T_f13b9c0c_9b7a_11ea_90e4_0242ac1c0002row41_col2\" class=\"data row41 col2\" >10347</td>\n",
              "                        <td id=\"T_f13b9c0c_9b7a_11ea_90e4_0242ac1c0002row41_col3\" class=\"data row41 col3\" >388</td>\n",
              "                        <td id=\"T_f13b9c0c_9b7a_11ea_90e4_0242ac1c0002row41_col4\" class=\"data row41 col4\" >2763</td>\n",
              "                        <td id=\"T_f13b9c0c_9b7a_11ea_90e4_0242ac1c0002row41_col5\" class=\"data row41 col5\" >7196</td>\n",
              "                        <td id=\"T_f13b9c0c_9b7a_11ea_90e4_0242ac1c0002row41_col6\" class=\"data row41 col6\" >465</td>\n",
              "            </tr>\n",
              "            <tr>\n",
              "                        <th id=\"T_f13b9c0c_9b7a_11ea_90e4_0242ac1c0002level0_row42\" class=\"row_heading level0 row42\" >42</th>\n",
              "                        <td id=\"T_f13b9c0c_9b7a_11ea_90e4_0242ac1c0002row42_col0\" class=\"data row42 col0\" >147</td>\n",
              "                        <td id=\"T_f13b9c0c_9b7a_11ea_90e4_0242ac1c0002row42_col1\" class=\"data row42 col1\" >Serbia</td>\n",
              "                        <td id=\"T_f13b9c0c_9b7a_11ea_90e4_0242ac1c0002row42_col2\" class=\"data row42 col2\" >10032</td>\n",
              "                        <td id=\"T_f13b9c0c_9b7a_11ea_90e4_0242ac1c0002row42_col3\" class=\"data row42 col3\" >215</td>\n",
              "                        <td id=\"T_f13b9c0c_9b7a_11ea_90e4_0242ac1c0002row42_col4\" class=\"data row42 col4\" >2732</td>\n",
              "                        <td id=\"T_f13b9c0c_9b7a_11ea_90e4_0242ac1c0002row42_col5\" class=\"data row42 col5\" >7085</td>\n",
              "                        <td id=\"T_f13b9c0c_9b7a_11ea_90e4_0242ac1c0002row42_col6\" class=\"data row42 col6\" >0</td>\n",
              "            </tr>\n",
              "            <tr>\n",
              "                        <th id=\"T_f13b9c0c_9b7a_11ea_90e4_0242ac1c0002level0_row43\" class=\"row_heading level0 row43\" >43</th>\n",
              "                        <td id=\"T_f13b9c0c_9b7a_11ea_90e4_0242ac1c0002row43_col0\" class=\"data row43 col0\" >154</td>\n",
              "                        <td id=\"T_f13b9c0c_9b7a_11ea_90e4_0242ac1c0002row43_col1\" class=\"data row43 col1\" >South Africa</td>\n",
              "                        <td id=\"T_f13b9c0c_9b7a_11ea_90e4_0242ac1c0002row43_col2\" class=\"data row43 col2\" >10015</td>\n",
              "                        <td id=\"T_f13b9c0c_9b7a_11ea_90e4_0242ac1c0002row43_col3\" class=\"data row43 col3\" >194</td>\n",
              "                        <td id=\"T_f13b9c0c_9b7a_11ea_90e4_0242ac1c0002row43_col4\" class=\"data row43 col4\" >4173</td>\n",
              "                        <td id=\"T_f13b9c0c_9b7a_11ea_90e4_0242ac1c0002row43_col5\" class=\"data row43 col5\" >5648</td>\n",
              "                        <td id=\"T_f13b9c0c_9b7a_11ea_90e4_0242ac1c0002row43_col6\" class=\"data row43 col6\" >595</td>\n",
              "            </tr>\n",
              "            <tr>\n",
              "                        <th id=\"T_f13b9c0c_9b7a_11ea_90e4_0242ac1c0002level0_row44\" class=\"row_heading level0 row44\" >44</th>\n",
              "                        <td id=\"T_f13b9c0c_9b7a_11ea_90e4_0242ac1c0002row44_col0\" class=\"data row44 col0\" >53</td>\n",
              "                        <td id=\"T_f13b9c0c_9b7a_11ea_90e4_0242ac1c0002row44_col1\" class=\"data row44 col1\" >Egypt</td>\n",
              "                        <td id=\"T_f13b9c0c_9b7a_11ea_90e4_0242ac1c0002row44_col2\" class=\"data row44 col2\" >9400</td>\n",
              "                        <td id=\"T_f13b9c0c_9b7a_11ea_90e4_0242ac1c0002row44_col3\" class=\"data row44 col3\" >525</td>\n",
              "                        <td id=\"T_f13b9c0c_9b7a_11ea_90e4_0242ac1c0002row44_col4\" class=\"data row44 col4\" >2075</td>\n",
              "                        <td id=\"T_f13b9c0c_9b7a_11ea_90e4_0242ac1c0002row44_col5\" class=\"data row44 col5\" >6800</td>\n",
              "                        <td id=\"T_f13b9c0c_9b7a_11ea_90e4_0242ac1c0002row44_col6\" class=\"data row44 col6\" >436</td>\n",
              "            </tr>\n",
              "            <tr>\n",
              "                        <th id=\"T_f13b9c0c_9b7a_11ea_90e4_0242ac1c0002level0_row45\" class=\"row_heading level0 row45\" >45</th>\n",
              "                        <td id=\"T_f13b9c0c_9b7a_11ea_90e4_0242ac1c0002row45_col0\" class=\"data row45 col0\" >92</td>\n",
              "                        <td id=\"T_f13b9c0c_9b7a_11ea_90e4_0242ac1c0002row45_col1\" class=\"data row45 col1\" >Kuwait</td>\n",
              "                        <td id=\"T_f13b9c0c_9b7a_11ea_90e4_0242ac1c0002row45_col2\" class=\"data row45 col2\" >8688</td>\n",
              "                        <td id=\"T_f13b9c0c_9b7a_11ea_90e4_0242ac1c0002row45_col3\" class=\"data row45 col3\" >58</td>\n",
              "                        <td id=\"T_f13b9c0c_9b7a_11ea_90e4_0242ac1c0002row45_col4\" class=\"data row45 col4\" >2729</td>\n",
              "                        <td id=\"T_f13b9c0c_9b7a_11ea_90e4_0242ac1c0002row45_col5\" class=\"data row45 col5\" >5901</td>\n",
              "                        <td id=\"T_f13b9c0c_9b7a_11ea_90e4_0242ac1c0002row45_col6\" class=\"data row45 col6\" >1065</td>\n",
              "            </tr>\n",
              "            <tr>\n",
              "                        <th id=\"T_f13b9c0c_9b7a_11ea_90e4_0242ac1c0002level0_row46\" class=\"row_heading level0 row46\" >46</th>\n",
              "                        <td id=\"T_f13b9c0c_9b7a_11ea_90e4_0242ac1c0002row46_col0\" class=\"data row46 col0\" >129</td>\n",
              "                        <td id=\"T_f13b9c0c_9b7a_11ea_90e4_0242ac1c0002row46_col1\" class=\"data row46 col1\" >Panama</td>\n",
              "                        <td id=\"T_f13b9c0c_9b7a_11ea_90e4_0242ac1c0002row46_col2\" class=\"data row46 col2\" >8448</td>\n",
              "                        <td id=\"T_f13b9c0c_9b7a_11ea_90e4_0242ac1c0002row46_col3\" class=\"data row46 col3\" >244</td>\n",
              "                        <td id=\"T_f13b9c0c_9b7a_11ea_90e4_0242ac1c0002row46_col4\" class=\"data row46 col4\" >4687</td>\n",
              "                        <td id=\"T_f13b9c0c_9b7a_11ea_90e4_0242ac1c0002row46_col5\" class=\"data row46 col5\" >3517</td>\n",
              "                        <td id=\"T_f13b9c0c_9b7a_11ea_90e4_0242ac1c0002row46_col6\" class=\"data row46 col6\" >166</td>\n",
              "            </tr>\n",
              "            <tr>\n",
              "                        <th id=\"T_f13b9c0c_9b7a_11ea_90e4_0242ac1c0002level0_row47\" class=\"row_heading level0 row47\" >47</th>\n",
              "                        <td id=\"T_f13b9c0c_9b7a_11ea_90e4_0242ac1c0002row47_col0\" class=\"data row47 col0\" >46</td>\n",
              "                        <td id=\"T_f13b9c0c_9b7a_11ea_90e4_0242ac1c0002row47_col1\" class=\"data row47 col1\" >Czechia</td>\n",
              "                        <td id=\"T_f13b9c0c_9b7a_11ea_90e4_0242ac1c0002row47_col2\" class=\"data row47 col2\" >8123</td>\n",
              "                        <td id=\"T_f13b9c0c_9b7a_11ea_90e4_0242ac1c0002row47_col3\" class=\"data row47 col3\" >280</td>\n",
              "                        <td id=\"T_f13b9c0c_9b7a_11ea_90e4_0242ac1c0002row47_col4\" class=\"data row47 col4\" >4474</td>\n",
              "                        <td id=\"T_f13b9c0c_9b7a_11ea_90e4_0242ac1c0002row47_col5\" class=\"data row47 col5\" >3369</td>\n",
              "                        <td id=\"T_f13b9c0c_9b7a_11ea_90e4_0242ac1c0002row47_col6\" class=\"data row47 col6\" >28</td>\n",
              "            </tr>\n",
              "            <tr>\n",
              "                        <th id=\"T_f13b9c0c_9b7a_11ea_90e4_0242ac1c0002level0_row48\" class=\"row_heading level0 row48\" >48</th>\n",
              "                        <td id=\"T_f13b9c0c_9b7a_11ea_90e4_0242ac1c0002row48_col0\" class=\"data row48 col0\" >126</td>\n",
              "                        <td id=\"T_f13b9c0c_9b7a_11ea_90e4_0242ac1c0002row48_col1\" class=\"data row48 col1\" >Norway</td>\n",
              "                        <td id=\"T_f13b9c0c_9b7a_11ea_90e4_0242ac1c0002row48_col2\" class=\"data row48 col2\" >8105</td>\n",
              "                        <td id=\"T_f13b9c0c_9b7a_11ea_90e4_0242ac1c0002row48_col3\" class=\"data row48 col3\" >219</td>\n",
              "                        <td id=\"T_f13b9c0c_9b7a_11ea_90e4_0242ac1c0002row48_col4\" class=\"data row48 col4\" >32</td>\n",
              "                        <td id=\"T_f13b9c0c_9b7a_11ea_90e4_0242ac1c0002row48_col5\" class=\"data row48 col5\" >7854</td>\n",
              "                        <td id=\"T_f13b9c0c_9b7a_11ea_90e4_0242ac1c0002row48_col6\" class=\"data row48 col6\" >6</td>\n",
              "            </tr>\n",
              "            <tr>\n",
              "                        <th id=\"T_f13b9c0c_9b7a_11ea_90e4_0242ac1c0002level0_row49\" class=\"row_heading level0 row49\" >49</th>\n",
              "                        <td id=\"T_f13b9c0c_9b7a_11ea_90e4_0242ac1c0002row49_col0\" class=\"data row49 col0\" >8</td>\n",
              "                        <td id=\"T_f13b9c0c_9b7a_11ea_90e4_0242ac1c0002row49_col1\" class=\"data row49 col1\" >Australia</td>\n",
              "                        <td id=\"T_f13b9c0c_9b7a_11ea_90e4_0242ac1c0002row49_col2\" class=\"data row49 col2\" >6948</td>\n",
              "                        <td id=\"T_f13b9c0c_9b7a_11ea_90e4_0242ac1c0002row49_col3\" class=\"data row49 col3\" >97</td>\n",
              "                        <td id=\"T_f13b9c0c_9b7a_11ea_90e4_0242ac1c0002row49_col4\" class=\"data row49 col4\" >6167</td>\n",
              "                        <td id=\"T_f13b9c0c_9b7a_11ea_90e4_0242ac1c0002row49_col5\" class=\"data row49 col5\" >684</td>\n",
              "                        <td id=\"T_f13b9c0c_9b7a_11ea_90e4_0242ac1c0002row49_col6\" class=\"data row49 col6\" >9</td>\n",
              "            </tr>\n",
              "            <tr>\n",
              "                        <th id=\"T_f13b9c0c_9b7a_11ea_90e4_0242ac1c0002level0_row50\" class=\"row_heading level0 row50\" >50</th>\n",
              "                        <td id=\"T_f13b9c0c_9b7a_11ea_90e4_0242ac1c0002row50_col0\" class=\"data row50 col0\" >105</td>\n",
              "                        <td id=\"T_f13b9c0c_9b7a_11ea_90e4_0242ac1c0002row50_col1\" class=\"data row50 col1\" >Malaysia</td>\n",
              "                        <td id=\"T_f13b9c0c_9b7a_11ea_90e4_0242ac1c0002row50_col2\" class=\"data row50 col2\" >6656</td>\n",
              "                        <td id=\"T_f13b9c0c_9b7a_11ea_90e4_0242ac1c0002row50_col3\" class=\"data row50 col3\" >108</td>\n",
              "                        <td id=\"T_f13b9c0c_9b7a_11ea_90e4_0242ac1c0002row50_col4\" class=\"data row50 col4\" >5025</td>\n",
              "                        <td id=\"T_f13b9c0c_9b7a_11ea_90e4_0242ac1c0002row50_col5\" class=\"data row50 col5\" >1523</td>\n",
              "                        <td id=\"T_f13b9c0c_9b7a_11ea_90e4_0242ac1c0002row50_col6\" class=\"data row50 col6\" >67</td>\n",
              "            </tr>\n",
              "            <tr>\n",
              "                        <th id=\"T_f13b9c0c_9b7a_11ea_90e4_0242ac1c0002level0_row51\" class=\"row_heading level0 row51\" >51</th>\n",
              "                        <td id=\"T_f13b9c0c_9b7a_11ea_90e4_0242ac1c0002row51_col0\" class=\"data row51 col0\" >116</td>\n",
              "                        <td id=\"T_f13b9c0c_9b7a_11ea_90e4_0242ac1c0002row51_col1\" class=\"data row51 col1\" >Morocco</td>\n",
              "                        <td id=\"T_f13b9c0c_9b7a_11ea_90e4_0242ac1c0002row51_col2\" class=\"data row51 col2\" >6063</td>\n",
              "                        <td id=\"T_f13b9c0c_9b7a_11ea_90e4_0242ac1c0002row51_col3\" class=\"data row51 col3\" >188</td>\n",
              "                        <td id=\"T_f13b9c0c_9b7a_11ea_90e4_0242ac1c0002row51_col4\" class=\"data row51 col4\" >2554</td>\n",
              "                        <td id=\"T_f13b9c0c_9b7a_11ea_90e4_0242ac1c0002row51_col5\" class=\"data row51 col5\" >3321</td>\n",
              "                        <td id=\"T_f13b9c0c_9b7a_11ea_90e4_0242ac1c0002row51_col6\" class=\"data row51 col6\" >153</td>\n",
              "            </tr>\n",
              "            <tr>\n",
              "                        <th id=\"T_f13b9c0c_9b7a_11ea_90e4_0242ac1c0002level0_row52\" class=\"row_heading level0 row52\" >52</th>\n",
              "                        <td id=\"T_f13b9c0c_9b7a_11ea_90e4_0242ac1c0002row52_col0\" class=\"data row52 col0\" >6</td>\n",
              "                        <td id=\"T_f13b9c0c_9b7a_11ea_90e4_0242ac1c0002row52_col1\" class=\"data row52 col1\" >Argentina</td>\n",
              "                        <td id=\"T_f13b9c0c_9b7a_11ea_90e4_0242ac1c0002row52_col2\" class=\"data row52 col2\" >6034</td>\n",
              "                        <td id=\"T_f13b9c0c_9b7a_11ea_90e4_0242ac1c0002row52_col3\" class=\"data row52 col3\" >305</td>\n",
              "                        <td id=\"T_f13b9c0c_9b7a_11ea_90e4_0242ac1c0002row52_col4\" class=\"data row52 col4\" >1757</td>\n",
              "                        <td id=\"T_f13b9c0c_9b7a_11ea_90e4_0242ac1c0002row52_col5\" class=\"data row52 col5\" >3972</td>\n",
              "                        <td id=\"T_f13b9c0c_9b7a_11ea_90e4_0242ac1c0002row52_col6\" class=\"data row52 col6\" >258</td>\n",
              "            </tr>\n",
              "            <tr>\n",
              "                        <th id=\"T_f13b9c0c_9b7a_11ea_90e4_0242ac1c0002level0_row53\" class=\"row_heading level0 row53\" >53</th>\n",
              "                        <td id=\"T_f13b9c0c_9b7a_11ea_90e4_0242ac1c0002row53_col0\" class=\"data row53 col0\" >61</td>\n",
              "                        <td id=\"T_f13b9c0c_9b7a_11ea_90e4_0242ac1c0002row53_col1\" class=\"data row53 col1\" >Finland</td>\n",
              "                        <td id=\"T_f13b9c0c_9b7a_11ea_90e4_0242ac1c0002row53_col2\" class=\"data row53 col2\" >5962</td>\n",
              "                        <td id=\"T_f13b9c0c_9b7a_11ea_90e4_0242ac1c0002row53_col3\" class=\"data row53 col3\" >267</td>\n",
              "                        <td id=\"T_f13b9c0c_9b7a_11ea_90e4_0242ac1c0002row53_col4\" class=\"data row53 col4\" >4000</td>\n",
              "                        <td id=\"T_f13b9c0c_9b7a_11ea_90e4_0242ac1c0002row53_col5\" class=\"data row53 col5\" >1695</td>\n",
              "                        <td id=\"T_f13b9c0c_9b7a_11ea_90e4_0242ac1c0002row53_col6\" class=\"data row53 col6\" >82</td>\n",
              "            </tr>\n",
              "            <tr>\n",
              "                        <th id=\"T_f13b9c0c_9b7a_11ea_90e4_0242ac1c0002level0_row54\" class=\"row_heading level0 row54\" >54</th>\n",
              "                        <td id=\"T_f13b9c0c_9b7a_11ea_90e4_0242ac1c0002row54_col0\" class=\"data row54 col0\" >2</td>\n",
              "                        <td id=\"T_f13b9c0c_9b7a_11ea_90e4_0242ac1c0002row54_col1\" class=\"data row54 col1\" >Algeria</td>\n",
              "                        <td id=\"T_f13b9c0c_9b7a_11ea_90e4_0242ac1c0002row54_col2\" class=\"data row54 col2\" >5723</td>\n",
              "                        <td id=\"T_f13b9c0c_9b7a_11ea_90e4_0242ac1c0002row54_col3\" class=\"data row54 col3\" >502</td>\n",
              "                        <td id=\"T_f13b9c0c_9b7a_11ea_90e4_0242ac1c0002row54_col4\" class=\"data row54 col4\" >2678</td>\n",
              "                        <td id=\"T_f13b9c0c_9b7a_11ea_90e4_0242ac1c0002row54_col5\" class=\"data row54 col5\" >2543</td>\n",
              "                        <td id=\"T_f13b9c0c_9b7a_11ea_90e4_0242ac1c0002row54_col6\" class=\"data row54 col6\" >165</td>\n",
              "            </tr>\n",
              "            <tr>\n",
              "                        <th id=\"T_f13b9c0c_9b7a_11ea_90e4_0242ac1c0002level0_row55\" class=\"row_heading level0 row55\" >55</th>\n",
              "                        <td id=\"T_f13b9c0c_9b7a_11ea_90e4_0242ac1c0002row55_col0\" class=\"data row55 col0\" >89</td>\n",
              "                        <td id=\"T_f13b9c0c_9b7a_11ea_90e4_0242ac1c0002row55_col1\" class=\"data row55 col1\" >Kazakhstan</td>\n",
              "                        <td id=\"T_f13b9c0c_9b7a_11ea_90e4_0242ac1c0002row55_col2\" class=\"data row55 col2\" >5090</td>\n",
              "                        <td id=\"T_f13b9c0c_9b7a_11ea_90e4_0242ac1c0002row55_col3\" class=\"data row55 col3\" >31</td>\n",
              "                        <td id=\"T_f13b9c0c_9b7a_11ea_90e4_0242ac1c0002row55_col4\" class=\"data row55 col4\" >1941</td>\n",
              "                        <td id=\"T_f13b9c0c_9b7a_11ea_90e4_0242ac1c0002row55_col5\" class=\"data row55 col5\" >3118</td>\n",
              "                        <td id=\"T_f13b9c0c_9b7a_11ea_90e4_0242ac1c0002row55_col6\" class=\"data row55 col6\" >115</td>\n",
              "            </tr>\n",
              "            <tr>\n",
              "                        <th id=\"T_f13b9c0c_9b7a_11ea_90e4_0242ac1c0002level0_row56\" class=\"row_heading level0 row56\" >56</th>\n",
              "                        <td id=\"T_f13b9c0c_9b7a_11ea_90e4_0242ac1c0002row56_col0\" class=\"data row56 col0\" >12</td>\n",
              "                        <td id=\"T_f13b9c0c_9b7a_11ea_90e4_0242ac1c0002row56_col1\" class=\"data row56 col1\" >Bahrain</td>\n",
              "                        <td id=\"T_f13b9c0c_9b7a_11ea_90e4_0242ac1c0002row56_col2\" class=\"data row56 col2\" >4941</td>\n",
              "                        <td id=\"T_f13b9c0c_9b7a_11ea_90e4_0242ac1c0002row56_col3\" class=\"data row56 col3\" >8</td>\n",
              "                        <td id=\"T_f13b9c0c_9b7a_11ea_90e4_0242ac1c0002row56_col4\" class=\"data row56 col4\" >2070</td>\n",
              "                        <td id=\"T_f13b9c0c_9b7a_11ea_90e4_0242ac1c0002row56_col5\" class=\"data row56 col5\" >2863</td>\n",
              "                        <td id=\"T_f13b9c0c_9b7a_11ea_90e4_0242ac1c0002row56_col6\" class=\"data row56 col6\" >167</td>\n",
              "            </tr>\n",
              "            <tr>\n",
              "                        <th id=\"T_f13b9c0c_9b7a_11ea_90e4_0242ac1c0002level0_row57\" class=\"row_heading level0 row57\" >57</th>\n",
              "                        <td id=\"T_f13b9c0c_9b7a_11ea_90e4_0242ac1c0002row57_col0\" class=\"data row57 col0\" >112</td>\n",
              "                        <td id=\"T_f13b9c0c_9b7a_11ea_90e4_0242ac1c0002row57_col1\" class=\"data row57 col1\" >Moldova</td>\n",
              "                        <td id=\"T_f13b9c0c_9b7a_11ea_90e4_0242ac1c0002row57_col2\" class=\"data row57 col2\" >4927</td>\n",
              "                        <td id=\"T_f13b9c0c_9b7a_11ea_90e4_0242ac1c0002row57_col3\" class=\"data row57 col3\" >169</td>\n",
              "                        <td id=\"T_f13b9c0c_9b7a_11ea_90e4_0242ac1c0002row57_col4\" class=\"data row57 col4\" >1958</td>\n",
              "                        <td id=\"T_f13b9c0c_9b7a_11ea_90e4_0242ac1c0002row57_col5\" class=\"data row57 col5\" >2800</td>\n",
              "                        <td id=\"T_f13b9c0c_9b7a_11ea_90e4_0242ac1c0002row57_col6\" class=\"data row57 col6\" >60</td>\n",
              "            </tr>\n",
              "            <tr>\n",
              "                        <th id=\"T_f13b9c0c_9b7a_11ea_90e4_0242ac1c0002level0_row58\" class=\"row_heading level0 row58\" >58</th>\n",
              "                        <td id=\"T_f13b9c0c_9b7a_11ea_90e4_0242ac1c0002row58_col0\" class=\"data row58 col0\" >0</td>\n",
              "                        <td id=\"T_f13b9c0c_9b7a_11ea_90e4_0242ac1c0002row58_col1\" class=\"data row58 col1\" >Afghanistan</td>\n",
              "                        <td id=\"T_f13b9c0c_9b7a_11ea_90e4_0242ac1c0002row58_col2\" class=\"data row58 col2\" >4402</td>\n",
              "                        <td id=\"T_f13b9c0c_9b7a_11ea_90e4_0242ac1c0002row58_col3\" class=\"data row58 col3\" >120</td>\n",
              "                        <td id=\"T_f13b9c0c_9b7a_11ea_90e4_0242ac1c0002row58_col4\" class=\"data row58 col4\" >558</td>\n",
              "                        <td id=\"T_f13b9c0c_9b7a_11ea_90e4_0242ac1c0002row58_col5\" class=\"data row58 col5\" >3724</td>\n",
              "                        <td id=\"T_f13b9c0c_9b7a_11ea_90e4_0242ac1c0002row58_col6\" class=\"data row58 col6\" >369</td>\n",
              "            </tr>\n",
              "            <tr>\n",
              "                        <th id=\"T_f13b9c0c_9b7a_11ea_90e4_0242ac1c0002level0_row59\" class=\"row_heading level0 row59\" >59</th>\n",
              "                        <td id=\"T_f13b9c0c_9b7a_11ea_90e4_0242ac1c0002row59_col0\" class=\"data row59 col0\" >124</td>\n",
              "                        <td id=\"T_f13b9c0c_9b7a_11ea_90e4_0242ac1c0002row59_col1\" class=\"data row59 col1\" >Nigeria</td>\n",
              "                        <td id=\"T_f13b9c0c_9b7a_11ea_90e4_0242ac1c0002row59_col2\" class=\"data row59 col2\" >4399</td>\n",
              "                        <td id=\"T_f13b9c0c_9b7a_11ea_90e4_0242ac1c0002row59_col3\" class=\"data row59 col3\" >143</td>\n",
              "                        <td id=\"T_f13b9c0c_9b7a_11ea_90e4_0242ac1c0002row59_col4\" class=\"data row59 col4\" >778</td>\n",
              "                        <td id=\"T_f13b9c0c_9b7a_11ea_90e4_0242ac1c0002row59_col5\" class=\"data row59 col5\" >3478</td>\n",
              "                        <td id=\"T_f13b9c0c_9b7a_11ea_90e4_0242ac1c0002row59_col6\" class=\"data row59 col6\" >248</td>\n",
              "            </tr>\n",
              "            <tr>\n",
              "                        <th id=\"T_f13b9c0c_9b7a_11ea_90e4_0242ac1c0002level0_row60\" class=\"row_heading level0 row60\" >60</th>\n",
              "                        <td id=\"T_f13b9c0c_9b7a_11ea_90e4_0242ac1c0002row60_col0\" class=\"data row60 col0\" >67</td>\n",
              "                        <td id=\"T_f13b9c0c_9b7a_11ea_90e4_0242ac1c0002row60_col1\" class=\"data row60 col1\" >Ghana</td>\n",
              "                        <td id=\"T_f13b9c0c_9b7a_11ea_90e4_0242ac1c0002row60_col2\" class=\"data row60 col2\" >4263</td>\n",
              "                        <td id=\"T_f13b9c0c_9b7a_11ea_90e4_0242ac1c0002row60_col3\" class=\"data row60 col3\" >22</td>\n",
              "                        <td id=\"T_f13b9c0c_9b7a_11ea_90e4_0242ac1c0002row60_col4\" class=\"data row60 col4\" >378</td>\n",
              "                        <td id=\"T_f13b9c0c_9b7a_11ea_90e4_0242ac1c0002row60_col5\" class=\"data row60 col5\" >3863</td>\n",
              "                        <td id=\"T_f13b9c0c_9b7a_11ea_90e4_0242ac1c0002row60_col6\" class=\"data row60 col6\" >0</td>\n",
              "            </tr>\n",
              "            <tr>\n",
              "                        <th id=\"T_f13b9c0c_9b7a_11ea_90e4_0242ac1c0002level0_row61\" class=\"row_heading level0 row61\" >61</th>\n",
              "                        <td id=\"T_f13b9c0c_9b7a_11ea_90e4_0242ac1c0002row61_col0\" class=\"data row61 col0\" >101</td>\n",
              "                        <td id=\"T_f13b9c0c_9b7a_11ea_90e4_0242ac1c0002row61_col1\" class=\"data row61 col1\" >Luxembourg</td>\n",
              "                        <td id=\"T_f13b9c0c_9b7a_11ea_90e4_0242ac1c0002row61_col2\" class=\"data row61 col2\" >3886</td>\n",
              "                        <td id=\"T_f13b9c0c_9b7a_11ea_90e4_0242ac1c0002row61_col3\" class=\"data row61 col3\" >101</td>\n",
              "                        <td id=\"T_f13b9c0c_9b7a_11ea_90e4_0242ac1c0002row61_col4\" class=\"data row61 col4\" >3586</td>\n",
              "                        <td id=\"T_f13b9c0c_9b7a_11ea_90e4_0242ac1c0002row61_col5\" class=\"data row61 col5\" >199</td>\n",
              "                        <td id=\"T_f13b9c0c_9b7a_11ea_90e4_0242ac1c0002row61_col6\" class=\"data row61 col6\" >9</td>\n",
              "            </tr>\n",
              "            <tr>\n",
              "                        <th id=\"T_f13b9c0c_9b7a_11ea_90e4_0242ac1c0002level0_row62\" class=\"row_heading level0 row62\" >62</th>\n",
              "                        <td id=\"T_f13b9c0c_9b7a_11ea_90e4_0242ac1c0002row62_col0\" class=\"data row62 col0\" >127</td>\n",
              "                        <td id=\"T_f13b9c0c_9b7a_11ea_90e4_0242ac1c0002row62_col1\" class=\"data row62 col1\" >Oman</td>\n",
              "                        <td id=\"T_f13b9c0c_9b7a_11ea_90e4_0242ac1c0002row62_col2\" class=\"data row62 col2\" >3399</td>\n",
              "                        <td id=\"T_f13b9c0c_9b7a_11ea_90e4_0242ac1c0002row62_col3\" class=\"data row62 col3\" >17</td>\n",
              "                        <td id=\"T_f13b9c0c_9b7a_11ea_90e4_0242ac1c0002row62_col4\" class=\"data row62 col4\" >1117</td>\n",
              "                        <td id=\"T_f13b9c0c_9b7a_11ea_90e4_0242ac1c0002row62_col5\" class=\"data row62 col5\" >2265</td>\n",
              "                        <td id=\"T_f13b9c0c_9b7a_11ea_90e4_0242ac1c0002row62_col6\" class=\"data row62 col6\" >175</td>\n",
              "            </tr>\n",
              "            <tr>\n",
              "                        <th id=\"T_f13b9c0c_9b7a_11ea_90e4_0242ac1c0002level0_row63\" class=\"row_heading level0 row63\" >63</th>\n",
              "                        <td id=\"T_f13b9c0c_9b7a_11ea_90e4_0242ac1c0002row63_col0\" class=\"data row63 col0\" >7</td>\n",
              "                        <td id=\"T_f13b9c0c_9b7a_11ea_90e4_0242ac1c0002row63_col1\" class=\"data row63 col1\" >Armenia</td>\n",
              "                        <td id=\"T_f13b9c0c_9b7a_11ea_90e4_0242ac1c0002row63_col2\" class=\"data row63 col2\" >3313</td>\n",
              "                        <td id=\"T_f13b9c0c_9b7a_11ea_90e4_0242ac1c0002row63_col3\" class=\"data row63 col3\" >45</td>\n",
              "                        <td id=\"T_f13b9c0c_9b7a_11ea_90e4_0242ac1c0002row63_col4\" class=\"data row63 col4\" >1325</td>\n",
              "                        <td id=\"T_f13b9c0c_9b7a_11ea_90e4_0242ac1c0002row63_col5\" class=\"data row63 col5\" >1943</td>\n",
              "                        <td id=\"T_f13b9c0c_9b7a_11ea_90e4_0242ac1c0002row63_col6\" class=\"data row63 col6\" >138</td>\n",
              "            </tr>\n",
              "            <tr>\n",
              "                        <th id=\"T_f13b9c0c_9b7a_11ea_90e4_0242ac1c0002level0_row64\" class=\"row_heading level0 row64\" >64</th>\n",
              "                        <td id=\"T_f13b9c0c_9b7a_11ea_90e4_0242ac1c0002row64_col0\" class=\"data row64 col0\" >77</td>\n",
              "                        <td id=\"T_f13b9c0c_9b7a_11ea_90e4_0242ac1c0002row64_col1\" class=\"data row64 col1\" >Hungary</td>\n",
              "                        <td id=\"T_f13b9c0c_9b7a_11ea_90e4_0242ac1c0002row64_col2\" class=\"data row64 col2\" >3263</td>\n",
              "                        <td id=\"T_f13b9c0c_9b7a_11ea_90e4_0242ac1c0002row64_col3\" class=\"data row64 col3\" >413</td>\n",
              "                        <td id=\"T_f13b9c0c_9b7a_11ea_90e4_0242ac1c0002row64_col4\" class=\"data row64 col4\" >933</td>\n",
              "                        <td id=\"T_f13b9c0c_9b7a_11ea_90e4_0242ac1c0002row64_col5\" class=\"data row64 col5\" >1917</td>\n",
              "                        <td id=\"T_f13b9c0c_9b7a_11ea_90e4_0242ac1c0002row64_col6\" class=\"data row64 col6\" >50</td>\n",
              "            </tr>\n",
              "            <tr>\n",
              "                        <th id=\"T_f13b9c0c_9b7a_11ea_90e4_0242ac1c0002level0_row65\" class=\"row_heading level0 row65\" >65</th>\n",
              "                        <td id=\"T_f13b9c0c_9b7a_11ea_90e4_0242ac1c0002row65_col0\" class=\"data row65 col0\" >167</td>\n",
              "                        <td id=\"T_f13b9c0c_9b7a_11ea_90e4_0242ac1c0002row65_col1\" class=\"data row65 col1\" >Thailand</td>\n",
              "                        <td id=\"T_f13b9c0c_9b7a_11ea_90e4_0242ac1c0002row65_col2\" class=\"data row65 col2\" >3009</td>\n",
              "                        <td id=\"T_f13b9c0c_9b7a_11ea_90e4_0242ac1c0002row65_col3\" class=\"data row65 col3\" >56</td>\n",
              "                        <td id=\"T_f13b9c0c_9b7a_11ea_90e4_0242ac1c0002row65_col4\" class=\"data row65 col4\" >2794</td>\n",
              "                        <td id=\"T_f13b9c0c_9b7a_11ea_90e4_0242ac1c0002row65_col5\" class=\"data row65 col5\" >159</td>\n",
              "                        <td id=\"T_f13b9c0c_9b7a_11ea_90e4_0242ac1c0002row65_col6\" class=\"data row65 col6\" >5</td>\n",
              "            </tr>\n",
              "            <tr>\n",
              "                        <th id=\"T_f13b9c0c_9b7a_11ea_90e4_0242ac1c0002level0_row66\" class=\"row_heading level0 row66\" >66</th>\n",
              "                        <td id=\"T_f13b9c0c_9b7a_11ea_90e4_0242ac1c0002row66_col0\" class=\"data row66 col0\" >82</td>\n",
              "                        <td id=\"T_f13b9c0c_9b7a_11ea_90e4_0242ac1c0002row66_col1\" class=\"data row66 col1\" >Iraq</td>\n",
              "                        <td id=\"T_f13b9c0c_9b7a_11ea_90e4_0242ac1c0002row66_col2\" class=\"data row66 col2\" >2767</td>\n",
              "                        <td id=\"T_f13b9c0c_9b7a_11ea_90e4_0242ac1c0002row66_col3\" class=\"data row66 col3\" >109</td>\n",
              "                        <td id=\"T_f13b9c0c_9b7a_11ea_90e4_0242ac1c0002row66_col4\" class=\"data row66 col4\" >1734</td>\n",
              "                        <td id=\"T_f13b9c0c_9b7a_11ea_90e4_0242ac1c0002row66_col5\" class=\"data row66 col5\" >924</td>\n",
              "                        <td id=\"T_f13b9c0c_9b7a_11ea_90e4_0242ac1c0002row66_col6\" class=\"data row66 col6\" >88</td>\n",
              "            </tr>\n",
              "            <tr>\n",
              "                        <th id=\"T_f13b9c0c_9b7a_11ea_90e4_0242ac1c0002level0_row67\" class=\"row_heading level0 row67\" >67</th>\n",
              "                        <td id=\"T_f13b9c0c_9b7a_11ea_90e4_0242ac1c0002row67_col0\" class=\"data row67 col0\" >68</td>\n",
              "                        <td id=\"T_f13b9c0c_9b7a_11ea_90e4_0242ac1c0002row67_col1\" class=\"data row67 col1\" >Greece</td>\n",
              "                        <td id=\"T_f13b9c0c_9b7a_11ea_90e4_0242ac1c0002row67_col2\" class=\"data row67 col2\" >2716</td>\n",
              "                        <td id=\"T_f13b9c0c_9b7a_11ea_90e4_0242ac1c0002row67_col3\" class=\"data row67 col3\" >151</td>\n",
              "                        <td id=\"T_f13b9c0c_9b7a_11ea_90e4_0242ac1c0002row67_col4\" class=\"data row67 col4\" >1374</td>\n",
              "                        <td id=\"T_f13b9c0c_9b7a_11ea_90e4_0242ac1c0002row67_col5\" class=\"data row67 col5\" >1191</td>\n",
              "                        <td id=\"T_f13b9c0c_9b7a_11ea_90e4_0242ac1c0002row67_col6\" class=\"data row67 col6\" >6</td>\n",
              "            </tr>\n",
              "            <tr>\n",
              "                        <th id=\"T_f13b9c0c_9b7a_11ea_90e4_0242ac1c0002level0_row68\" class=\"row_heading level0 row68\" >68</th>\n",
              "                        <td id=\"T_f13b9c0c_9b7a_11ea_90e4_0242ac1c0002row68_col0\" class=\"data row68 col0\" >31</td>\n",
              "                        <td id=\"T_f13b9c0c_9b7a_11ea_90e4_0242ac1c0002row68_col1\" class=\"data row68 col1\" >Cameroon</td>\n",
              "                        <td id=\"T_f13b9c0c_9b7a_11ea_90e4_0242ac1c0002row68_col2\" class=\"data row68 col2\" >2579</td>\n",
              "                        <td id=\"T_f13b9c0c_9b7a_11ea_90e4_0242ac1c0002row68_col3\" class=\"data row68 col3\" >114</td>\n",
              "                        <td id=\"T_f13b9c0c_9b7a_11ea_90e4_0242ac1c0002row68_col4\" class=\"data row68 col4\" >1465</td>\n",
              "                        <td id=\"T_f13b9c0c_9b7a_11ea_90e4_0242ac1c0002row68_col5\" class=\"data row68 col5\" >1000</td>\n",
              "                        <td id=\"T_f13b9c0c_9b7a_11ea_90e4_0242ac1c0002row68_col6\" class=\"data row68 col6\" >305</td>\n",
              "            </tr>\n",
              "            <tr>\n",
              "                        <th id=\"T_f13b9c0c_9b7a_11ea_90e4_0242ac1c0002level0_row69\" class=\"row_heading level0 row69\" >69</th>\n",
              "                        <td id=\"T_f13b9c0c_9b7a_11ea_90e4_0242ac1c0002row69_col0\" class=\"data row69 col0\" >20</td>\n",
              "                        <td id=\"T_f13b9c0c_9b7a_11ea_90e4_0242ac1c0002row69_col1\" class=\"data row69 col1\" >Bolivia</td>\n",
              "                        <td id=\"T_f13b9c0c_9b7a_11ea_90e4_0242ac1c0002row69_col2\" class=\"data row69 col2\" >2556</td>\n",
              "                        <td id=\"T_f13b9c0c_9b7a_11ea_90e4_0242ac1c0002row69_col3\" class=\"data row69 col3\" >118</td>\n",
              "                        <td id=\"T_f13b9c0c_9b7a_11ea_90e4_0242ac1c0002row69_col4\" class=\"data row69 col4\" >273</td>\n",
              "                        <td id=\"T_f13b9c0c_9b7a_11ea_90e4_0242ac1c0002row69_col5\" class=\"data row69 col5\" >2165</td>\n",
              "                        <td id=\"T_f13b9c0c_9b7a_11ea_90e4_0242ac1c0002row69_col6\" class=\"data row69 col6\" >119</td>\n",
              "            </tr>\n",
              "            <tr>\n",
              "                        <th id=\"T_f13b9c0c_9b7a_11ea_90e4_0242ac1c0002level0_row70\" class=\"row_heading level0 row70\" >70</th>\n",
              "                        <td id=\"T_f13b9c0c_9b7a_11ea_90e4_0242ac1c0002row70_col0\" class=\"data row70 col0\" >10</td>\n",
              "                        <td id=\"T_f13b9c0c_9b7a_11ea_90e4_0242ac1c0002row70_col1\" class=\"data row70 col1\" >Azerbaijan</td>\n",
              "                        <td id=\"T_f13b9c0c_9b7a_11ea_90e4_0242ac1c0002row70_col2\" class=\"data row70 col2\" >2519</td>\n",
              "                        <td id=\"T_f13b9c0c_9b7a_11ea_90e4_0242ac1c0002row70_col3\" class=\"data row70 col3\" >32</td>\n",
              "                        <td id=\"T_f13b9c0c_9b7a_11ea_90e4_0242ac1c0002row70_col4\" class=\"data row70 col4\" >1650</td>\n",
              "                        <td id=\"T_f13b9c0c_9b7a_11ea_90e4_0242ac1c0002row70_col5\" class=\"data row70 col5\" >837</td>\n",
              "                        <td id=\"T_f13b9c0c_9b7a_11ea_90e4_0242ac1c0002row70_col6\" class=\"data row70 col6\" >97</td>\n",
              "            </tr>\n",
              "            <tr>\n",
              "                        <th id=\"T_f13b9c0c_9b7a_11ea_90e4_0242ac1c0002level0_row71\" class=\"row_heading level0 row71\" >71</th>\n",
              "                        <td id=\"T_f13b9c0c_9b7a_11ea_90e4_0242ac1c0002row71_col0\" class=\"data row71 col0\" >179</td>\n",
              "                        <td id=\"T_f13b9c0c_9b7a_11ea_90e4_0242ac1c0002row71_col1\" class=\"data row71 col1\" >Uzbekistan</td>\n",
              "                        <td id=\"T_f13b9c0c_9b7a_11ea_90e4_0242ac1c0002row71_col2\" class=\"data row71 col2\" >2418</td>\n",
              "                        <td id=\"T_f13b9c0c_9b7a_11ea_90e4_0242ac1c0002row71_col3\" class=\"data row71 col3\" >10</td>\n",
              "                        <td id=\"T_f13b9c0c_9b7a_11ea_90e4_0242ac1c0002row71_col4\" class=\"data row71 col4\" >1881</td>\n",
              "                        <td id=\"T_f13b9c0c_9b7a_11ea_90e4_0242ac1c0002row71_col5\" class=\"data row71 col5\" >527</td>\n",
              "                        <td id=\"T_f13b9c0c_9b7a_11ea_90e4_0242ac1c0002row71_col6\" class=\"data row71 col6\" >69</td>\n",
              "            </tr>\n",
              "            <tr>\n",
              "                        <th id=\"T_f13b9c0c_9b7a_11ea_90e4_0242ac1c0002level0_row72\" class=\"row_heading level0 row72\" >72</th>\n",
              "                        <td id=\"T_f13b9c0c_9b7a_11ea_90e4_0242ac1c0002row72_col0\" class=\"data row72 col0\" >43</td>\n",
              "                        <td id=\"T_f13b9c0c_9b7a_11ea_90e4_0242ac1c0002row72_col1\" class=\"data row72 col1\" >Croatia</td>\n",
              "                        <td id=\"T_f13b9c0c_9b7a_11ea_90e4_0242ac1c0002row72_col2\" class=\"data row72 col2\" >2187</td>\n",
              "                        <td id=\"T_f13b9c0c_9b7a_11ea_90e4_0242ac1c0002row72_col3\" class=\"data row72 col3\" >90</td>\n",
              "                        <td id=\"T_f13b9c0c_9b7a_11ea_90e4_0242ac1c0002row72_col4\" class=\"data row72 col4\" >1764</td>\n",
              "                        <td id=\"T_f13b9c0c_9b7a_11ea_90e4_0242ac1c0002row72_col5\" class=\"data row72 col5\" >333</td>\n",
              "                        <td id=\"T_f13b9c0c_9b7a_11ea_90e4_0242ac1c0002row72_col6\" class=\"data row72 col6\" >11</td>\n",
              "            </tr>\n",
              "            <tr>\n",
              "                        <th id=\"T_f13b9c0c_9b7a_11ea_90e4_0242ac1c0002level0_row73\" class=\"row_heading level0 row73\" >73</th>\n",
              "                        <td id=\"T_f13b9c0c_9b7a_11ea_90e4_0242ac1c0002row73_col0\" class=\"data row73 col0\" >71</td>\n",
              "                        <td id=\"T_f13b9c0c_9b7a_11ea_90e4_0242ac1c0002row73_col1\" class=\"data row73 col1\" >Guinea</td>\n",
              "                        <td id=\"T_f13b9c0c_9b7a_11ea_90e4_0242ac1c0002row73_col2\" class=\"data row73 col2\" >2146</td>\n",
              "                        <td id=\"T_f13b9c0c_9b7a_11ea_90e4_0242ac1c0002row73_col3\" class=\"data row73 col3\" >11</td>\n",
              "                        <td id=\"T_f13b9c0c_9b7a_11ea_90e4_0242ac1c0002row73_col4\" class=\"data row73 col4\" >714</td>\n",
              "                        <td id=\"T_f13b9c0c_9b7a_11ea_90e4_0242ac1c0002row73_col5\" class=\"data row73 col5\" >1421</td>\n",
              "                        <td id=\"T_f13b9c0c_9b7a_11ea_90e4_0242ac1c0002row73_col6\" class=\"data row73 col6\" >104</td>\n",
              "            </tr>\n",
              "            <tr>\n",
              "                        <th id=\"T_f13b9c0c_9b7a_11ea_90e4_0242ac1c0002level0_row74\" class=\"row_heading level0 row74\" >74</th>\n",
              "                        <td id=\"T_f13b9c0c_9b7a_11ea_90e4_0242ac1c0002row74_col0\" class=\"data row74 col0\" >21</td>\n",
              "                        <td id=\"T_f13b9c0c_9b7a_11ea_90e4_0242ac1c0002row74_col1\" class=\"data row74 col1\" >Bosnia and Herzegovina</td>\n",
              "                        <td id=\"T_f13b9c0c_9b7a_11ea_90e4_0242ac1c0002row74_col2\" class=\"data row74 col2\" >2117</td>\n",
              "                        <td id=\"T_f13b9c0c_9b7a_11ea_90e4_0242ac1c0002row74_col3\" class=\"data row74 col3\" >107</td>\n",
              "                        <td id=\"T_f13b9c0c_9b7a_11ea_90e4_0242ac1c0002row74_col4\" class=\"data row74 col4\" >1106</td>\n",
              "                        <td id=\"T_f13b9c0c_9b7a_11ea_90e4_0242ac1c0002row74_col5\" class=\"data row74 col5\" >904</td>\n",
              "                        <td id=\"T_f13b9c0c_9b7a_11ea_90e4_0242ac1c0002row74_col6\" class=\"data row74 col6\" >27</td>\n",
              "            </tr>\n",
              "            <tr>\n",
              "                        <th id=\"T_f13b9c0c_9b7a_11ea_90e4_0242ac1c0002level0_row75\" class=\"row_heading level0 row75\" >75</th>\n",
              "                        <td id=\"T_f13b9c0c_9b7a_11ea_90e4_0242ac1c0002row75_col0\" class=\"data row75 col0\" >76</td>\n",
              "                        <td id=\"T_f13b9c0c_9b7a_11ea_90e4_0242ac1c0002row75_col1\" class=\"data row75 col1\" >Honduras</td>\n",
              "                        <td id=\"T_f13b9c0c_9b7a_11ea_90e4_0242ac1c0002row75_col2\" class=\"data row75 col2\" >1972</td>\n",
              "                        <td id=\"T_f13b9c0c_9b7a_11ea_90e4_0242ac1c0002row75_col3\" class=\"data row75 col3\" >108</td>\n",
              "                        <td id=\"T_f13b9c0c_9b7a_11ea_90e4_0242ac1c0002row75_col4\" class=\"data row75 col4\" >203</td>\n",
              "                        <td id=\"T_f13b9c0c_9b7a_11ea_90e4_0242ac1c0002row75_col5\" class=\"data row75 col5\" >1661</td>\n",
              "                        <td id=\"T_f13b9c0c_9b7a_11ea_90e4_0242ac1c0002row75_col6\" class=\"data row75 col6\" >142</td>\n",
              "            </tr>\n",
              "            <tr>\n",
              "                        <th id=\"T_f13b9c0c_9b7a_11ea_90e4_0242ac1c0002level0_row76\" class=\"row_heading level0 row76\" >76</th>\n",
              "                        <td id=\"T_f13b9c0c_9b7a_11ea_90e4_0242ac1c0002row76_col0\" class=\"data row76 col0\" >25</td>\n",
              "                        <td id=\"T_f13b9c0c_9b7a_11ea_90e4_0242ac1c0002row76_col1\" class=\"data row76 col1\" >Bulgaria</td>\n",
              "                        <td id=\"T_f13b9c0c_9b7a_11ea_90e4_0242ac1c0002row76_col2\" class=\"data row76 col2\" >1965</td>\n",
              "                        <td id=\"T_f13b9c0c_9b7a_11ea_90e4_0242ac1c0002row76_col3\" class=\"data row76 col3\" >91</td>\n",
              "                        <td id=\"T_f13b9c0c_9b7a_11ea_90e4_0242ac1c0002row76_col4\" class=\"data row76 col4\" >444</td>\n",
              "                        <td id=\"T_f13b9c0c_9b7a_11ea_90e4_0242ac1c0002row76_col5\" class=\"data row76 col5\" >1430</td>\n",
              "                        <td id=\"T_f13b9c0c_9b7a_11ea_90e4_0242ac1c0002row76_col6\" class=\"data row76 col6\" >44</td>\n",
              "            </tr>\n",
              "            <tr>\n",
              "                        <th id=\"T_f13b9c0c_9b7a_11ea_90e4_0242ac1c0002level0_row77\" class=\"row_heading level0 row77\" >77</th>\n",
              "                        <td id=\"T_f13b9c0c_9b7a_11ea_90e4_0242ac1c0002row77_col0\" class=\"data row77 col0\" >78</td>\n",
              "                        <td id=\"T_f13b9c0c_9b7a_11ea_90e4_0242ac1c0002row77_col1\" class=\"data row77 col1\" >Iceland</td>\n",
              "                        <td id=\"T_f13b9c0c_9b7a_11ea_90e4_0242ac1c0002row77_col2\" class=\"data row77 col2\" >1801</td>\n",
              "                        <td id=\"T_f13b9c0c_9b7a_11ea_90e4_0242ac1c0002row77_col3\" class=\"data row77 col3\" >10</td>\n",
              "                        <td id=\"T_f13b9c0c_9b7a_11ea_90e4_0242ac1c0002row77_col4\" class=\"data row77 col4\" >1773</td>\n",
              "                        <td id=\"T_f13b9c0c_9b7a_11ea_90e4_0242ac1c0002row77_col5\" class=\"data row77 col5\" >18</td>\n",
              "                        <td id=\"T_f13b9c0c_9b7a_11ea_90e4_0242ac1c0002row77_col6\" class=\"data row77 col6\" >0</td>\n",
              "            </tr>\n",
              "            <tr>\n",
              "                        <th id=\"T_f13b9c0c_9b7a_11ea_90e4_0242ac1c0002level0_row78\" class=\"row_heading level0 row78\" >78</th>\n",
              "                        <td id=\"T_f13b9c0c_9b7a_11ea_90e4_0242ac1c0002row78_col0\" class=\"data row78 col0\" >44</td>\n",
              "                        <td id=\"T_f13b9c0c_9b7a_11ea_90e4_0242ac1c0002row78_col1\" class=\"data row78 col1\" >Cuba</td>\n",
              "                        <td id=\"T_f13b9c0c_9b7a_11ea_90e4_0242ac1c0002row78_col2\" class=\"data row78 col2\" >1766</td>\n",
              "                        <td id=\"T_f13b9c0c_9b7a_11ea_90e4_0242ac1c0002row78_col3\" class=\"data row78 col3\" >77</td>\n",
              "                        <td id=\"T_f13b9c0c_9b7a_11ea_90e4_0242ac1c0002row78_col4\" class=\"data row78 col4\" >1193</td>\n",
              "                        <td id=\"T_f13b9c0c_9b7a_11ea_90e4_0242ac1c0002row78_col5\" class=\"data row78 col5\" >496</td>\n",
              "                        <td id=\"T_f13b9c0c_9b7a_11ea_90e4_0242ac1c0002row78_col6\" class=\"data row78 col6\" >12</td>\n",
              "            </tr>\n",
              "            <tr>\n",
              "                        <th id=\"T_f13b9c0c_9b7a_11ea_90e4_0242ac1c0002level0_row79\" class=\"row_heading level0 row79\" >79</th>\n",
              "                        <td id=\"T_f13b9c0c_9b7a_11ea_90e4_0242ac1c0002row79_col0\" class=\"data row79 col0\" >57</td>\n",
              "                        <td id=\"T_f13b9c0c_9b7a_11ea_90e4_0242ac1c0002row79_col1\" class=\"data row79 col1\" >Estonia</td>\n",
              "                        <td id=\"T_f13b9c0c_9b7a_11ea_90e4_0242ac1c0002row79_col2\" class=\"data row79 col2\" >1739</td>\n",
              "                        <td id=\"T_f13b9c0c_9b7a_11ea_90e4_0242ac1c0002row79_col3\" class=\"data row79 col3\" >60</td>\n",
              "                        <td id=\"T_f13b9c0c_9b7a_11ea_90e4_0242ac1c0002row79_col4\" class=\"data row79 col4\" >750</td>\n",
              "                        <td id=\"T_f13b9c0c_9b7a_11ea_90e4_0242ac1c0002row79_col5\" class=\"data row79 col5\" >929</td>\n",
              "                        <td id=\"T_f13b9c0c_9b7a_11ea_90e4_0242ac1c0002row79_col6\" class=\"data row79 col6\" >6</td>\n",
              "            </tr>\n",
              "            <tr>\n",
              "                        <th id=\"T_f13b9c0c_9b7a_11ea_90e4_0242ac1c0002level0_row80\" class=\"row_heading level0 row80\" >80</th>\n",
              "                        <td id=\"T_f13b9c0c_9b7a_11ea_90e4_0242ac1c0002row80_col0\" class=\"data row80 col0\" >146</td>\n",
              "                        <td id=\"T_f13b9c0c_9b7a_11ea_90e4_0242ac1c0002row80_col1\" class=\"data row80 col1\" >Senegal</td>\n",
              "                        <td id=\"T_f13b9c0c_9b7a_11ea_90e4_0242ac1c0002row80_col2\" class=\"data row80 col2\" >1709</td>\n",
              "                        <td id=\"T_f13b9c0c_9b7a_11ea_90e4_0242ac1c0002row80_col3\" class=\"data row80 col3\" >19</td>\n",
              "                        <td id=\"T_f13b9c0c_9b7a_11ea_90e4_0242ac1c0002row80_col4\" class=\"data row80 col4\" >650</td>\n",
              "                        <td id=\"T_f13b9c0c_9b7a_11ea_90e4_0242ac1c0002row80_col5\" class=\"data row80 col5\" >1040</td>\n",
              "                        <td id=\"T_f13b9c0c_9b7a_11ea_90e4_0242ac1c0002row80_col6\" class=\"data row80 col6\" >75</td>\n",
              "            </tr>\n",
              "            <tr>\n",
              "                        <th id=\"T_f13b9c0c_9b7a_11ea_90e4_0242ac1c0002level0_row81\" class=\"row_heading level0 row81\" >81</th>\n",
              "                        <td id=\"T_f13b9c0c_9b7a_11ea_90e4_0242ac1c0002row81_col0\" class=\"data row81 col0\" >42</td>\n",
              "                        <td id=\"T_f13b9c0c_9b7a_11ea_90e4_0242ac1c0002row81_col1\" class=\"data row81 col1\" >Cote d'Ivoire</td>\n",
              "                        <td id=\"T_f13b9c0c_9b7a_11ea_90e4_0242ac1c0002row81_col2\" class=\"data row81 col2\" >1700</td>\n",
              "                        <td id=\"T_f13b9c0c_9b7a_11ea_90e4_0242ac1c0002row81_col3\" class=\"data row81 col3\" >21</td>\n",
              "                        <td id=\"T_f13b9c0c_9b7a_11ea_90e4_0242ac1c0002row81_col4\" class=\"data row81 col4\" >794</td>\n",
              "                        <td id=\"T_f13b9c0c_9b7a_11ea_90e4_0242ac1c0002row81_col5\" class=\"data row81 col5\" >885</td>\n",
              "                        <td id=\"T_f13b9c0c_9b7a_11ea_90e4_0242ac1c0002row81_col6\" class=\"data row81 col6\" >33</td>\n",
              "            </tr>\n",
              "            <tr>\n",
              "                        <th id=\"T_f13b9c0c_9b7a_11ea_90e4_0242ac1c0002level0_row82\" class=\"row_heading level0 row82\" >82</th>\n",
              "                        <td id=\"T_f13b9c0c_9b7a_11ea_90e4_0242ac1c0002row82_col0\" class=\"data row82 col0\" >125</td>\n",
              "                        <td id=\"T_f13b9c0c_9b7a_11ea_90e4_0242ac1c0002row82_col1\" class=\"data row82 col1\" >North Macedonia</td>\n",
              "                        <td id=\"T_f13b9c0c_9b7a_11ea_90e4_0242ac1c0002row82_col2\" class=\"data row82 col2\" >1642</td>\n",
              "                        <td id=\"T_f13b9c0c_9b7a_11ea_90e4_0242ac1c0002row82_col3\" class=\"data row82 col3\" >91</td>\n",
              "                        <td id=\"T_f13b9c0c_9b7a_11ea_90e4_0242ac1c0002row82_col4\" class=\"data row82 col4\" >1136</td>\n",
              "                        <td id=\"T_f13b9c0c_9b7a_11ea_90e4_0242ac1c0002row82_col5\" class=\"data row82 col5\" >415</td>\n",
              "                        <td id=\"T_f13b9c0c_9b7a_11ea_90e4_0242ac1c0002row82_col6\" class=\"data row82 col6\" >20</td>\n",
              "            </tr>\n",
              "            <tr>\n",
              "                        <th id=\"T_f13b9c0c_9b7a_11ea_90e4_0242ac1c0002level0_row83\" class=\"row_heading level0 row83\" >83</th>\n",
              "                        <td id=\"T_f13b9c0c_9b7a_11ea_90e4_0242ac1c0002row83_col0\" class=\"data row83 col0\" >121</td>\n",
              "                        <td id=\"T_f13b9c0c_9b7a_11ea_90e4_0242ac1c0002row83_col1\" class=\"data row83 col1\" >New Zealand</td>\n",
              "                        <td id=\"T_f13b9c0c_9b7a_11ea_90e4_0242ac1c0002row83_col2\" class=\"data row83 col2\" >1497</td>\n",
              "                        <td id=\"T_f13b9c0c_9b7a_11ea_90e4_0242ac1c0002row83_col3\" class=\"data row83 col3\" >21</td>\n",
              "                        <td id=\"T_f13b9c0c_9b7a_11ea_90e4_0242ac1c0002row83_col4\" class=\"data row83 col4\" >1386</td>\n",
              "                        <td id=\"T_f13b9c0c_9b7a_11ea_90e4_0242ac1c0002row83_col5\" class=\"data row83 col5\" >90</td>\n",
              "                        <td id=\"T_f13b9c0c_9b7a_11ea_90e4_0242ac1c0002row83_col6\" class=\"data row83 col6\" >3</td>\n",
              "            </tr>\n",
              "            <tr>\n",
              "                        <th id=\"T_f13b9c0c_9b7a_11ea_90e4_0242ac1c0002level0_row84\" class=\"row_heading level0 row84\" >84</th>\n",
              "                        <td id=\"T_f13b9c0c_9b7a_11ea_90e4_0242ac1c0002row84_col0\" class=\"data row84 col0\" >100</td>\n",
              "                        <td id=\"T_f13b9c0c_9b7a_11ea_90e4_0242ac1c0002row84_col1\" class=\"data row84 col1\" >Lithuania</td>\n",
              "                        <td id=\"T_f13b9c0c_9b7a_11ea_90e4_0242ac1c0002row84_col2\" class=\"data row84 col2\" >1479</td>\n",
              "                        <td id=\"T_f13b9c0c_9b7a_11ea_90e4_0242ac1c0002row84_col3\" class=\"data row84 col3\" >50</td>\n",
              "                        <td id=\"T_f13b9c0c_9b7a_11ea_90e4_0242ac1c0002row84_col4\" class=\"data row84 col4\" >828</td>\n",
              "                        <td id=\"T_f13b9c0c_9b7a_11ea_90e4_0242ac1c0002row84_col5\" class=\"data row84 col5\" >601</td>\n",
              "                        <td id=\"T_f13b9c0c_9b7a_11ea_90e4_0242ac1c0002row84_col6\" class=\"data row84 col6\" >35</td>\n",
              "            </tr>\n",
              "            <tr>\n",
              "                        <th id=\"T_f13b9c0c_9b7a_11ea_90e4_0242ac1c0002level0_row85\" class=\"row_heading level0 row85\" >85</th>\n",
              "                        <td id=\"T_f13b9c0c_9b7a_11ea_90e4_0242ac1c0002row85_col0\" class=\"data row85 col0\" >152</td>\n",
              "                        <td id=\"T_f13b9c0c_9b7a_11ea_90e4_0242ac1c0002row85_col1\" class=\"data row85 col1\" >Slovenia</td>\n",
              "                        <td id=\"T_f13b9c0c_9b7a_11ea_90e4_0242ac1c0002row85_col2\" class=\"data row85 col2\" >1457</td>\n",
              "                        <td id=\"T_f13b9c0c_9b7a_11ea_90e4_0242ac1c0002row85_col3\" class=\"data row85 col3\" >102</td>\n",
              "                        <td id=\"T_f13b9c0c_9b7a_11ea_90e4_0242ac1c0002row85_col4\" class=\"data row85 col4\" >256</td>\n",
              "                        <td id=\"T_f13b9c0c_9b7a_11ea_90e4_0242ac1c0002row85_col5\" class=\"data row85 col5\" >1099</td>\n",
              "                        <td id=\"T_f13b9c0c_9b7a_11ea_90e4_0242ac1c0002row85_col6\" class=\"data row85 col6\" >3</td>\n",
              "            </tr>\n",
              "            <tr>\n",
              "                        <th id=\"T_f13b9c0c_9b7a_11ea_90e4_0242ac1c0002level0_row86\" class=\"row_heading level0 row86\" >86</th>\n",
              "                        <td id=\"T_f13b9c0c_9b7a_11ea_90e4_0242ac1c0002row86_col0\" class=\"data row86 col0\" >151</td>\n",
              "                        <td id=\"T_f13b9c0c_9b7a_11ea_90e4_0242ac1c0002row86_col1\" class=\"data row86 col1\" >Slovakia</td>\n",
              "                        <td id=\"T_f13b9c0c_9b7a_11ea_90e4_0242ac1c0002row86_col2\" class=\"data row86 col2\" >1457</td>\n",
              "                        <td id=\"T_f13b9c0c_9b7a_11ea_90e4_0242ac1c0002row86_col3\" class=\"data row86 col3\" >26</td>\n",
              "                        <td id=\"T_f13b9c0c_9b7a_11ea_90e4_0242ac1c0002row86_col4\" class=\"data row86 col4\" >941</td>\n",
              "                        <td id=\"T_f13b9c0c_9b7a_11ea_90e4_0242ac1c0002row86_col5\" class=\"data row86 col5\" >490</td>\n",
              "                        <td id=\"T_f13b9c0c_9b7a_11ea_90e4_0242ac1c0002row86_col6\" class=\"data row86 col6\" >2</td>\n",
              "            </tr>\n",
              "            <tr>\n",
              "                        <th id=\"T_f13b9c0c_9b7a_11ea_90e4_0242ac1c0002level0_row87\" class=\"row_heading level0 row87\" >87</th>\n",
              "                        <td id=\"T_f13b9c0c_9b7a_11ea_90e4_0242ac1c0002row87_col0\" class=\"data row87 col0\" >159</td>\n",
              "                        <td id=\"T_f13b9c0c_9b7a_11ea_90e4_0242ac1c0002row87_col1\" class=\"data row87 col1\" >Sudan</td>\n",
              "                        <td id=\"T_f13b9c0c_9b7a_11ea_90e4_0242ac1c0002row87_col2\" class=\"data row87 col2\" >1365</td>\n",
              "                        <td id=\"T_f13b9c0c_9b7a_11ea_90e4_0242ac1c0002row87_col3\" class=\"data row87 col3\" >70</td>\n",
              "                        <td id=\"T_f13b9c0c_9b7a_11ea_90e4_0242ac1c0002row87_col4\" class=\"data row87 col4\" >149</td>\n",
              "                        <td id=\"T_f13b9c0c_9b7a_11ea_90e4_0242ac1c0002row87_col5\" class=\"data row87 col5\" >1146</td>\n",
              "                        <td id=\"T_f13b9c0c_9b7a_11ea_90e4_0242ac1c0002row87_col6\" class=\"data row87 col6\" >201</td>\n",
              "            </tr>\n",
              "            <tr>\n",
              "                        <th id=\"T_f13b9c0c_9b7a_11ea_90e4_0242ac1c0002level0_row88\" class=\"row_heading level0 row88\" >88</th>\n",
              "                        <td id=\"T_f13b9c0c_9b7a_11ea_90e4_0242ac1c0002row88_col0\" class=\"data row88 col0\" >49</td>\n",
              "                        <td id=\"T_f13b9c0c_9b7a_11ea_90e4_0242ac1c0002row88_col1\" class=\"data row88 col1\" >Djibouti</td>\n",
              "                        <td id=\"T_f13b9c0c_9b7a_11ea_90e4_0242ac1c0002row88_col2\" class=\"data row88 col2\" >1210</td>\n",
              "                        <td id=\"T_f13b9c0c_9b7a_11ea_90e4_0242ac1c0002row88_col3\" class=\"data row88 col3\" >3</td>\n",
              "                        <td id=\"T_f13b9c0c_9b7a_11ea_90e4_0242ac1c0002row88_col4\" class=\"data row88 col4\" >847</td>\n",
              "                        <td id=\"T_f13b9c0c_9b7a_11ea_90e4_0242ac1c0002row88_col5\" class=\"data row88 col5\" >360</td>\n",
              "                        <td id=\"T_f13b9c0c_9b7a_11ea_90e4_0242ac1c0002row88_col6\" class=\"data row88 col6\" >21</td>\n",
              "            </tr>\n",
              "            <tr>\n",
              "                        <th id=\"T_f13b9c0c_9b7a_11ea_90e4_0242ac1c0002level0_row89\" class=\"row_heading level0 row89\" >89</th>\n",
              "                        <td id=\"T_f13b9c0c_9b7a_11ea_90e4_0242ac1c0002row89_col0\" class=\"data row89 col0\" >153</td>\n",
              "                        <td id=\"T_f13b9c0c_9b7a_11ea_90e4_0242ac1c0002row89_col1\" class=\"data row89 col1\" >Somalia</td>\n",
              "                        <td id=\"T_f13b9c0c_9b7a_11ea_90e4_0242ac1c0002row89_col2\" class=\"data row89 col2\" >1054</td>\n",
              "                        <td id=\"T_f13b9c0c_9b7a_11ea_90e4_0242ac1c0002row89_col3\" class=\"data row89 col3\" >51</td>\n",
              "                        <td id=\"T_f13b9c0c_9b7a_11ea_90e4_0242ac1c0002row89_col4\" class=\"data row89 col4\" >118</td>\n",
              "                        <td id=\"T_f13b9c0c_9b7a_11ea_90e4_0242ac1c0002row89_col5\" class=\"data row89 col5\" >885</td>\n",
              "                        <td id=\"T_f13b9c0c_9b7a_11ea_90e4_0242ac1c0002row89_col6\" class=\"data row89 col6\" >57</td>\n",
              "            </tr>\n",
              "            <tr>\n",
              "                        <th id=\"T_f13b9c0c_9b7a_11ea_90e4_0242ac1c0002level0_row90\" class=\"row_heading level0 row90\" >90</th>\n",
              "                        <td id=\"T_f13b9c0c_9b7a_11ea_90e4_0242ac1c0002row90_col0\" class=\"data row90 col0\" >70</td>\n",
              "                        <td id=\"T_f13b9c0c_9b7a_11ea_90e4_0242ac1c0002row90_col1\" class=\"data row90 col1\" >Guatemala</td>\n",
              "                        <td id=\"T_f13b9c0c_9b7a_11ea_90e4_0242ac1c0002row90_col2\" class=\"data row90 col2\" >1052</td>\n",
              "                        <td id=\"T_f13b9c0c_9b7a_11ea_90e4_0242ac1c0002row90_col3\" class=\"data row90 col3\" >26</td>\n",
              "                        <td id=\"T_f13b9c0c_9b7a_11ea_90e4_0242ac1c0002row90_col4\" class=\"data row90 col4\" >110</td>\n",
              "                        <td id=\"T_f13b9c0c_9b7a_11ea_90e4_0242ac1c0002row90_col5\" class=\"data row90 col5\" >916</td>\n",
              "                        <td id=\"T_f13b9c0c_9b7a_11ea_90e4_0242ac1c0002row90_col6\" class=\"data row90 col6\" >85</td>\n",
              "            </tr>\n",
              "            <tr>\n",
              "                        <th id=\"T_f13b9c0c_9b7a_11ea_90e4_0242ac1c0002level0_row91\" class=\"row_heading level0 row91\" >91</th>\n",
              "                        <td id=\"T_f13b9c0c_9b7a_11ea_90e4_0242ac1c0002row91_col0\" class=\"data row91 col0\" >171</td>\n",
              "                        <td id=\"T_f13b9c0c_9b7a_11ea_90e4_0242ac1c0002row91_col1\" class=\"data row91 col1\" >Tunisia</td>\n",
              "                        <td id=\"T_f13b9c0c_9b7a_11ea_90e4_0242ac1c0002row91_col2\" class=\"data row91 col2\" >1032</td>\n",
              "                        <td id=\"T_f13b9c0c_9b7a_11ea_90e4_0242ac1c0002row91_col3\" class=\"data row91 col3\" >45</td>\n",
              "                        <td id=\"T_f13b9c0c_9b7a_11ea_90e4_0242ac1c0002row91_col4\" class=\"data row91 col4\" >700</td>\n",
              "                        <td id=\"T_f13b9c0c_9b7a_11ea_90e4_0242ac1c0002row91_col5\" class=\"data row91 col5\" >287</td>\n",
              "                        <td id=\"T_f13b9c0c_9b7a_11ea_90e4_0242ac1c0002row91_col6\" class=\"data row91 col6\" >0</td>\n",
              "            </tr>\n",
              "            <tr>\n",
              "                        <th id=\"T_f13b9c0c_9b7a_11ea_90e4_0242ac1c0002level0_row92\" class=\"row_heading level0 row92\" >92</th>\n",
              "                        <td id=\"T_f13b9c0c_9b7a_11ea_90e4_0242ac1c0002row92_col0\" class=\"data row92 col0\" >93</td>\n",
              "                        <td id=\"T_f13b9c0c_9b7a_11ea_90e4_0242ac1c0002row92_col1\" class=\"data row92 col1\" >Kyrgyzstan</td>\n",
              "                        <td id=\"T_f13b9c0c_9b7a_11ea_90e4_0242ac1c0002row92_col2\" class=\"data row92 col2\" >1002</td>\n",
              "                        <td id=\"T_f13b9c0c_9b7a_11ea_90e4_0242ac1c0002row92_col3\" class=\"data row92 col3\" >12</td>\n",
              "                        <td id=\"T_f13b9c0c_9b7a_11ea_90e4_0242ac1c0002row92_col4\" class=\"data row92 col4\" >675</td>\n",
              "                        <td id=\"T_f13b9c0c_9b7a_11ea_90e4_0242ac1c0002row92_col5\" class=\"data row92 col5\" >315</td>\n",
              "                        <td id=\"T_f13b9c0c_9b7a_11ea_90e4_0242ac1c0002row92_col6\" class=\"data row92 col6\" >71</td>\n",
              "            </tr>\n",
              "            <tr>\n",
              "                        <th id=\"T_f13b9c0c_9b7a_11ea_90e4_0242ac1c0002level0_row93\" class=\"row_heading level0 row93\" >93</th>\n",
              "                        <td id=\"T_f13b9c0c_9b7a_11ea_90e4_0242ac1c0002row93_col0\" class=\"data row93 col0\" >40</td>\n",
              "                        <td id=\"T_f13b9c0c_9b7a_11ea_90e4_0242ac1c0002row93_col1\" class=\"data row93 col1\" >Congo (Kinshasa)</td>\n",
              "                        <td id=\"T_f13b9c0c_9b7a_11ea_90e4_0242ac1c0002row93_col2\" class=\"data row93 col2\" >991</td>\n",
              "                        <td id=\"T_f13b9c0c_9b7a_11ea_90e4_0242ac1c0002row93_col3\" class=\"data row93 col3\" >41</td>\n",
              "                        <td id=\"T_f13b9c0c_9b7a_11ea_90e4_0242ac1c0002row93_col4\" class=\"data row93 col4\" >136</td>\n",
              "                        <td id=\"T_f13b9c0c_9b7a_11ea_90e4_0242ac1c0002row93_col5\" class=\"data row93 col5\" >814</td>\n",
              "                        <td id=\"T_f13b9c0c_9b7a_11ea_90e4_0242ac1c0002row93_col6\" class=\"data row93 col6\" >54</td>\n",
              "            </tr>\n",
              "            <tr>\n",
              "                        <th id=\"T_f13b9c0c_9b7a_11ea_90e4_0242ac1c0002level0_row94\" class=\"row_heading level0 row94\" >94</th>\n",
              "                        <td id=\"T_f13b9c0c_9b7a_11ea_90e4_0242ac1c0002row94_col0\" class=\"data row94 col0\" >95</td>\n",
              "                        <td id=\"T_f13b9c0c_9b7a_11ea_90e4_0242ac1c0002row94_col1\" class=\"data row94 col1\" >Latvia</td>\n",
              "                        <td id=\"T_f13b9c0c_9b7a_11ea_90e4_0242ac1c0002row94_col2\" class=\"data row94 col2\" >939</td>\n",
              "                        <td id=\"T_f13b9c0c_9b7a_11ea_90e4_0242ac1c0002row94_col3\" class=\"data row94 col3\" >18</td>\n",
              "                        <td id=\"T_f13b9c0c_9b7a_11ea_90e4_0242ac1c0002row94_col4\" class=\"data row94 col4\" >464</td>\n",
              "                        <td id=\"T_f13b9c0c_9b7a_11ea_90e4_0242ac1c0002row94_col5\" class=\"data row94 col5\" >457</td>\n",
              "                        <td id=\"T_f13b9c0c_9b7a_11ea_90e4_0242ac1c0002row94_col6\" class=\"data row94 col6\" >9</td>\n",
              "            </tr>\n",
              "            <tr>\n",
              "                        <th id=\"T_f13b9c0c_9b7a_11ea_90e4_0242ac1c0002level0_row95\" class=\"row_heading level0 row95\" >95</th>\n",
              "                        <td id=\"T_f13b9c0c_9b7a_11ea_90e4_0242ac1c0002row95_col0\" class=\"data row95 col0\" >45</td>\n",
              "                        <td id=\"T_f13b9c0c_9b7a_11ea_90e4_0242ac1c0002row95_col1\" class=\"data row95 col1\" >Cyprus</td>\n",
              "                        <td id=\"T_f13b9c0c_9b7a_11ea_90e4_0242ac1c0002row95_col2\" class=\"data row95 col2\" >898</td>\n",
              "                        <td id=\"T_f13b9c0c_9b7a_11ea_90e4_0242ac1c0002row95_col3\" class=\"data row95 col3\" >16</td>\n",
              "                        <td id=\"T_f13b9c0c_9b7a_11ea_90e4_0242ac1c0002row95_col4\" class=\"data row95 col4\" >401</td>\n",
              "                        <td id=\"T_f13b9c0c_9b7a_11ea_90e4_0242ac1c0002row95_col5\" class=\"data row95 col5\" >481</td>\n",
              "                        <td id=\"T_f13b9c0c_9b7a_11ea_90e4_0242ac1c0002row95_col6\" class=\"data row95 col6\" >6</td>\n",
              "            </tr>\n",
              "            <tr>\n",
              "                        <th id=\"T_f13b9c0c_9b7a_11ea_90e4_0242ac1c0002level0_row96\" class=\"row_heading level0 row96\" >96</th>\n",
              "                        <td id=\"T_f13b9c0c_9b7a_11ea_90e4_0242ac1c0002row96_col0\" class=\"data row96 col0\" >54</td>\n",
              "                        <td id=\"T_f13b9c0c_9b7a_11ea_90e4_0242ac1c0002row96_col1\" class=\"data row96 col1\" >El Salvador</td>\n",
              "                        <td id=\"T_f13b9c0c_9b7a_11ea_90e4_0242ac1c0002row96_col2\" class=\"data row96 col2\" >889</td>\n",
              "                        <td id=\"T_f13b9c0c_9b7a_11ea_90e4_0242ac1c0002row96_col3\" class=\"data row96 col3\" >17</td>\n",
              "                        <td id=\"T_f13b9c0c_9b7a_11ea_90e4_0242ac1c0002row96_col4\" class=\"data row96 col4\" >293</td>\n",
              "                        <td id=\"T_f13b9c0c_9b7a_11ea_90e4_0242ac1c0002row96_col5\" class=\"data row96 col5\" >579</td>\n",
              "                        <td id=\"T_f13b9c0c_9b7a_11ea_90e4_0242ac1c0002row96_col6\" class=\"data row96 col6\" >105</td>\n",
              "            </tr>\n",
              "            <tr>\n",
              "                        <th id=\"T_f13b9c0c_9b7a_11ea_90e4_0242ac1c0002level0_row97\" class=\"row_heading level0 row97\" >97</th>\n",
              "                        <td id=\"T_f13b9c0c_9b7a_11ea_90e4_0242ac1c0002row97_col0\" class=\"data row97 col0\" >91</td>\n",
              "                        <td id=\"T_f13b9c0c_9b7a_11ea_90e4_0242ac1c0002row97_col1\" class=\"data row97 col1\" >Kosovo</td>\n",
              "                        <td id=\"T_f13b9c0c_9b7a_11ea_90e4_0242ac1c0002row97_col2\" class=\"data row97 col2\" >870</td>\n",
              "                        <td id=\"T_f13b9c0c_9b7a_11ea_90e4_0242ac1c0002row97_col3\" class=\"data row97 col3\" >28</td>\n",
              "                        <td id=\"T_f13b9c0c_9b7a_11ea_90e4_0242ac1c0002row97_col4\" class=\"data row97 col4\" >653</td>\n",
              "                        <td id=\"T_f13b9c0c_9b7a_11ea_90e4_0242ac1c0002row97_col5\" class=\"data row97 col5\" >189</td>\n",
              "                        <td id=\"T_f13b9c0c_9b7a_11ea_90e4_0242ac1c0002row97_col6\" class=\"data row97 col6\" >8</td>\n",
              "            </tr>\n",
              "            <tr>\n",
              "                        <th id=\"T_f13b9c0c_9b7a_11ea_90e4_0242ac1c0002level0_row98\" class=\"row_heading level0 row98\" >98</th>\n",
              "                        <td id=\"T_f13b9c0c_9b7a_11ea_90e4_0242ac1c0002row98_col0\" class=\"data row98 col0\" >1</td>\n",
              "                        <td id=\"T_f13b9c0c_9b7a_11ea_90e4_0242ac1c0002row98_col1\" class=\"data row98 col1\" >Albania</td>\n",
              "                        <td id=\"T_f13b9c0c_9b7a_11ea_90e4_0242ac1c0002row98_col2\" class=\"data row98 col2\" >868</td>\n",
              "                        <td id=\"T_f13b9c0c_9b7a_11ea_90e4_0242ac1c0002row98_col3\" class=\"data row98 col3\" >31</td>\n",
              "                        <td id=\"T_f13b9c0c_9b7a_11ea_90e4_0242ac1c0002row98_col4\" class=\"data row98 col4\" >650</td>\n",
              "                        <td id=\"T_f13b9c0c_9b7a_11ea_90e4_0242ac1c0002row98_col5\" class=\"data row98 col5\" >187</td>\n",
              "                        <td id=\"T_f13b9c0c_9b7a_11ea_90e4_0242ac1c0002row98_col6\" class=\"data row98 col6\" >12</td>\n",
              "            </tr>\n",
              "            <tr>\n",
              "                        <th id=\"T_f13b9c0c_9b7a_11ea_90e4_0242ac1c0002level0_row99\" class=\"row_heading level0 row99\" >99</th>\n",
              "                        <td id=\"T_f13b9c0c_9b7a_11ea_90e4_0242ac1c0002row99_col0\" class=\"data row99 col0\" >158</td>\n",
              "                        <td id=\"T_f13b9c0c_9b7a_11ea_90e4_0242ac1c0002row99_col1\" class=\"data row99 col1\" >Sri Lanka</td>\n",
              "                        <td id=\"T_f13b9c0c_9b7a_11ea_90e4_0242ac1c0002row99_col2\" class=\"data row99 col2\" >863</td>\n",
              "                        <td id=\"T_f13b9c0c_9b7a_11ea_90e4_0242ac1c0002row99_col3\" class=\"data row99 col3\" >9</td>\n",
              "                        <td id=\"T_f13b9c0c_9b7a_11ea_90e4_0242ac1c0002row99_col4\" class=\"data row99 col4\" >321</td>\n",
              "                        <td id=\"T_f13b9c0c_9b7a_11ea_90e4_0242ac1c0002row99_col5\" class=\"data row99 col5\" >533</td>\n",
              "                        <td id=\"T_f13b9c0c_9b7a_11ea_90e4_0242ac1c0002row99_col6\" class=\"data row99 col6\" >16</td>\n",
              "            </tr>\n",
              "            <tr>\n",
              "                        <th id=\"T_f13b9c0c_9b7a_11ea_90e4_0242ac1c0002level0_row100\" class=\"row_heading level0 row100\" >100</th>\n",
              "                        <td id=\"T_f13b9c0c_9b7a_11ea_90e4_0242ac1c0002row100_col0\" class=\"data row100 col0\" >96</td>\n",
              "                        <td id=\"T_f13b9c0c_9b7a_11ea_90e4_0242ac1c0002row100_col1\" class=\"data row100 col1\" >Lebanon</td>\n",
              "                        <td id=\"T_f13b9c0c_9b7a_11ea_90e4_0242ac1c0002row100_col2\" class=\"data row100 col2\" >845</td>\n",
              "                        <td id=\"T_f13b9c0c_9b7a_11ea_90e4_0242ac1c0002row100_col3\" class=\"data row100 col3\" >26</td>\n",
              "                        <td id=\"T_f13b9c0c_9b7a_11ea_90e4_0242ac1c0002row100_col4\" class=\"data row100 col4\" >234</td>\n",
              "                        <td id=\"T_f13b9c0c_9b7a_11ea_90e4_0242ac1c0002row100_col5\" class=\"data row100 col5\" >585</td>\n",
              "                        <td id=\"T_f13b9c0c_9b7a_11ea_90e4_0242ac1c0002row100_col6\" class=\"data row100 col6\" >36</td>\n",
              "            </tr>\n",
              "            <tr>\n",
              "                        <th id=\"T_f13b9c0c_9b7a_11ea_90e4_0242ac1c0002level0_row101\" class=\"row_heading level0 row101\" >101</th>\n",
              "                        <td id=\"T_f13b9c0c_9b7a_11ea_90e4_0242ac1c0002row101_col0\" class=\"data row101 col0\" >106</td>\n",
              "                        <td id=\"T_f13b9c0c_9b7a_11ea_90e4_0242ac1c0002row101_col1\" class=\"data row101 col1\" >Maldives</td>\n",
              "                        <td id=\"T_f13b9c0c_9b7a_11ea_90e4_0242ac1c0002row101_col2\" class=\"data row101 col2\" >835</td>\n",
              "                        <td id=\"T_f13b9c0c_9b7a_11ea_90e4_0242ac1c0002row101_col3\" class=\"data row101 col3\" >3</td>\n",
              "                        <td id=\"T_f13b9c0c_9b7a_11ea_90e4_0242ac1c0002row101_col4\" class=\"data row101 col4\" >29</td>\n",
              "                        <td id=\"T_f13b9c0c_9b7a_11ea_90e4_0242ac1c0002row101_col5\" class=\"data row101 col5\" >803</td>\n",
              "                        <td id=\"T_f13b9c0c_9b7a_11ea_90e4_0242ac1c0002row101_col6\" class=\"data row101 col6\" >45</td>\n",
              "            </tr>\n",
              "            <tr>\n",
              "                        <th id=\"T_f13b9c0c_9b7a_11ea_90e4_0242ac1c0002level0_row102\" class=\"row_heading level0 row102\" >102</th>\n",
              "                        <td id=\"T_f13b9c0c_9b7a_11ea_90e4_0242ac1c0002row102_col0\" class=\"data row102 col0\" >123</td>\n",
              "                        <td id=\"T_f13b9c0c_9b7a_11ea_90e4_0242ac1c0002row102_col1\" class=\"data row102 col1\" >Niger</td>\n",
              "                        <td id=\"T_f13b9c0c_9b7a_11ea_90e4_0242ac1c0002row102_col2\" class=\"data row102 col2\" >821</td>\n",
              "                        <td id=\"T_f13b9c0c_9b7a_11ea_90e4_0242ac1c0002row102_col3\" class=\"data row102 col3\" >46</td>\n",
              "                        <td id=\"T_f13b9c0c_9b7a_11ea_90e4_0242ac1c0002row102_col4\" class=\"data row102 col4\" >624</td>\n",
              "                        <td id=\"T_f13b9c0c_9b7a_11ea_90e4_0242ac1c0002row102_col5\" class=\"data row102 col5\" >151</td>\n",
              "                        <td id=\"T_f13b9c0c_9b7a_11ea_90e4_0242ac1c0002row102_col6\" class=\"data row102 col6\" >6</td>\n",
              "            </tr>\n",
              "            <tr>\n",
              "                        <th id=\"T_f13b9c0c_9b7a_11ea_90e4_0242ac1c0002level0_row103\" class=\"row_heading level0 row103\" >103</th>\n",
              "                        <td id=\"T_f13b9c0c_9b7a_11ea_90e4_0242ac1c0002row103_col0\" class=\"data row103 col0\" >41</td>\n",
              "                        <td id=\"T_f13b9c0c_9b7a_11ea_90e4_0242ac1c0002row103_col1\" class=\"data row103 col1\" >Costa Rica</td>\n",
              "                        <td id=\"T_f13b9c0c_9b7a_11ea_90e4_0242ac1c0002row103_col2\" class=\"data row103 col2\" >792</td>\n",
              "                        <td id=\"T_f13b9c0c_9b7a_11ea_90e4_0242ac1c0002row103_col3\" class=\"data row103 col3\" >7</td>\n",
              "                        <td id=\"T_f13b9c0c_9b7a_11ea_90e4_0242ac1c0002row103_col4\" class=\"data row103 col4\" >501</td>\n",
              "                        <td id=\"T_f13b9c0c_9b7a_11ea_90e4_0242ac1c0002row103_col5\" class=\"data row103 col5\" >284</td>\n",
              "                        <td id=\"T_f13b9c0c_9b7a_11ea_90e4_0242ac1c0002row103_col6\" class=\"data row103 col6\" >12</td>\n",
              "            </tr>\n",
              "            <tr>\n",
              "                        <th id=\"T_f13b9c0c_9b7a_11ea_90e4_0242ac1c0002level0_row104\" class=\"row_heading level0 row104\" >104</th>\n",
              "                        <td id=\"T_f13b9c0c_9b7a_11ea_90e4_0242ac1c0002row104_col0\" class=\"data row104 col0\" >3</td>\n",
              "                        <td id=\"T_f13b9c0c_9b7a_11ea_90e4_0242ac1c0002row104_col1\" class=\"data row104 col1\" >Andorra</td>\n",
              "                        <td id=\"T_f13b9c0c_9b7a_11ea_90e4_0242ac1c0002row104_col2\" class=\"data row104 col2\" >755</td>\n",
              "                        <td id=\"T_f13b9c0c_9b7a_11ea_90e4_0242ac1c0002row104_col3\" class=\"data row104 col3\" >48</td>\n",
              "                        <td id=\"T_f13b9c0c_9b7a_11ea_90e4_0242ac1c0002row104_col4\" class=\"data row104 col4\" >550</td>\n",
              "                        <td id=\"T_f13b9c0c_9b7a_11ea_90e4_0242ac1c0002row104_col5\" class=\"data row104 col5\" >157</td>\n",
              "                        <td id=\"T_f13b9c0c_9b7a_11ea_90e4_0242ac1c0002row104_col6\" class=\"data row104 col6\" >1</td>\n",
              "            </tr>\n",
              "            <tr>\n",
              "                        <th id=\"T_f13b9c0c_9b7a_11ea_90e4_0242ac1c0002level0_row105\" class=\"row_heading level0 row105\" >105</th>\n",
              "                        <td id=\"T_f13b9c0c_9b7a_11ea_90e4_0242ac1c0002row105_col0\" class=\"data row105 col0\" >26</td>\n",
              "                        <td id=\"T_f13b9c0c_9b7a_11ea_90e4_0242ac1c0002row105_col1\" class=\"data row105 col1\" >Burkina Faso</td>\n",
              "                        <td id=\"T_f13b9c0c_9b7a_11ea_90e4_0242ac1c0002row105_col2\" class=\"data row105 col2\" >751</td>\n",
              "                        <td id=\"T_f13b9c0c_9b7a_11ea_90e4_0242ac1c0002row105_col3\" class=\"data row105 col3\" >49</td>\n",
              "                        <td id=\"T_f13b9c0c_9b7a_11ea_90e4_0242ac1c0002row105_col4\" class=\"data row105 col4\" >577</td>\n",
              "                        <td id=\"T_f13b9c0c_9b7a_11ea_90e4_0242ac1c0002row105_col5\" class=\"data row105 col5\" >125</td>\n",
              "                        <td id=\"T_f13b9c0c_9b7a_11ea_90e4_0242ac1c0002row105_col6\" class=\"data row105 col6\" >3</td>\n",
              "            </tr>\n",
              "            <tr>\n",
              "                        <th id=\"T_f13b9c0c_9b7a_11ea_90e4_0242ac1c0002level0_row106\" class=\"row_heading level0 row106\" >106</th>\n",
              "                        <td id=\"T_f13b9c0c_9b7a_11ea_90e4_0242ac1c0002row106_col0\" class=\"data row106 col0\" >72</td>\n",
              "                        <td id=\"T_f13b9c0c_9b7a_11ea_90e4_0242ac1c0002row106_col1\" class=\"data row106 col1\" >Guinea-Bissau</td>\n",
              "                        <td id=\"T_f13b9c0c_9b7a_11ea_90e4_0242ac1c0002row106_col2\" class=\"data row106 col2\" >726</td>\n",
              "                        <td id=\"T_f13b9c0c_9b7a_11ea_90e4_0242ac1c0002row106_col3\" class=\"data row106 col3\" >3</td>\n",
              "                        <td id=\"T_f13b9c0c_9b7a_11ea_90e4_0242ac1c0002row106_col4\" class=\"data row106 col4\" >26</td>\n",
              "                        <td id=\"T_f13b9c0c_9b7a_11ea_90e4_0242ac1c0002row106_col5\" class=\"data row106 col5\" >697</td>\n",
              "                        <td id=\"T_f13b9c0c_9b7a_11ea_90e4_0242ac1c0002row106_col6\" class=\"data row106 col6\" >85</td>\n",
              "            </tr>\n",
              "            <tr>\n",
              "                        <th id=\"T_f13b9c0c_9b7a_11ea_90e4_0242ac1c0002level0_row107\" class=\"row_heading level0 row107\" >107</th>\n",
              "                        <td id=\"T_f13b9c0c_9b7a_11ea_90e4_0242ac1c0002row107_col0\" class=\"data row107 col0\" >131</td>\n",
              "                        <td id=\"T_f13b9c0c_9b7a_11ea_90e4_0242ac1c0002row107_col1\" class=\"data row107 col1\" >Paraguay</td>\n",
              "                        <td id=\"T_f13b9c0c_9b7a_11ea_90e4_0242ac1c0002row107_col2\" class=\"data row107 col2\" >713</td>\n",
              "                        <td id=\"T_f13b9c0c_9b7a_11ea_90e4_0242ac1c0002row107_col3\" class=\"data row107 col3\" >10</td>\n",
              "                        <td id=\"T_f13b9c0c_9b7a_11ea_90e4_0242ac1c0002row107_col4\" class=\"data row107 col4\" >165</td>\n",
              "                        <td id=\"T_f13b9c0c_9b7a_11ea_90e4_0242ac1c0002row107_col5\" class=\"data row107 col5\" >538</td>\n",
              "                        <td id=\"T_f13b9c0c_9b7a_11ea_90e4_0242ac1c0002row107_col6\" class=\"data row107 col6\" >24</td>\n",
              "            </tr>\n",
              "            <tr>\n",
              "                        <th id=\"T_f13b9c0c_9b7a_11ea_90e4_0242ac1c0002level0_row108\" class=\"row_heading level0 row108\" >108</th>\n",
              "                        <td id=\"T_f13b9c0c_9b7a_11ea_90e4_0242ac1c0002row108_col0\" class=\"data row108 col0\" >48</td>\n",
              "                        <td id=\"T_f13b9c0c_9b7a_11ea_90e4_0242ac1c0002row108_col1\" class=\"data row108 col1\" >Diamond Princess</td>\n",
              "                        <td id=\"T_f13b9c0c_9b7a_11ea_90e4_0242ac1c0002row108_col2\" class=\"data row108 col2\" >712</td>\n",
              "                        <td id=\"T_f13b9c0c_9b7a_11ea_90e4_0242ac1c0002row108_col3\" class=\"data row108 col3\" >13</td>\n",
              "                        <td id=\"T_f13b9c0c_9b7a_11ea_90e4_0242ac1c0002row108_col4\" class=\"data row108 col4\" >651</td>\n",
              "                        <td id=\"T_f13b9c0c_9b7a_11ea_90e4_0242ac1c0002row108_col5\" class=\"data row108 col5\" >48</td>\n",
              "                        <td id=\"T_f13b9c0c_9b7a_11ea_90e4_0242ac1c0002row108_col6\" class=\"data row108 col6\" >0</td>\n",
              "            </tr>\n",
              "            <tr>\n",
              "                        <th id=\"T_f13b9c0c_9b7a_11ea_90e4_0242ac1c0002level0_row109\" class=\"row_heading level0 row109\" >109</th>\n",
              "                        <td id=\"T_f13b9c0c_9b7a_11ea_90e4_0242ac1c0002row109_col0\" class=\"data row109 col0\" >178</td>\n",
              "                        <td id=\"T_f13b9c0c_9b7a_11ea_90e4_0242ac1c0002row109_col1\" class=\"data row109 col1\" >Uruguay</td>\n",
              "                        <td id=\"T_f13b9c0c_9b7a_11ea_90e4_0242ac1c0002row109_col2\" class=\"data row109 col2\" >707</td>\n",
              "                        <td id=\"T_f13b9c0c_9b7a_11ea_90e4_0242ac1c0002row109_col3\" class=\"data row109 col3\" >19</td>\n",
              "                        <td id=\"T_f13b9c0c_9b7a_11ea_90e4_0242ac1c0002row109_col4\" class=\"data row109 col4\" >517</td>\n",
              "                        <td id=\"T_f13b9c0c_9b7a_11ea_90e4_0242ac1c0002row109_col5\" class=\"data row109 col5\" >171</td>\n",
              "                        <td id=\"T_f13b9c0c_9b7a_11ea_90e4_0242ac1c0002row109_col6\" class=\"data row109 col6\" >5</td>\n",
              "            </tr>\n",
              "            <tr>\n",
              "                        <th id=\"T_f13b9c0c_9b7a_11ea_90e4_0242ac1c0002level0_row110\" class=\"row_heading level0 row110\" >110</th>\n",
              "                        <td id=\"T_f13b9c0c_9b7a_11ea_90e4_0242ac1c0002row110_col0\" class=\"data row110 col0\" >107</td>\n",
              "                        <td id=\"T_f13b9c0c_9b7a_11ea_90e4_0242ac1c0002row110_col1\" class=\"data row110 col1\" >Mali</td>\n",
              "                        <td id=\"T_f13b9c0c_9b7a_11ea_90e4_0242ac1c0002row110_col2\" class=\"data row110 col2\" >704</td>\n",
              "                        <td id=\"T_f13b9c0c_9b7a_11ea_90e4_0242ac1c0002row110_col3\" class=\"data row110 col3\" >38</td>\n",
              "                        <td id=\"T_f13b9c0c_9b7a_11ea_90e4_0242ac1c0002row110_col4\" class=\"data row110 col4\" >351</td>\n",
              "                        <td id=\"T_f13b9c0c_9b7a_11ea_90e4_0242ac1c0002row110_col5\" class=\"data row110 col5\" >315</td>\n",
              "                        <td id=\"T_f13b9c0c_9b7a_11ea_90e4_0242ac1c0002row110_col6\" class=\"data row110 col6\" >12</td>\n",
              "            </tr>\n",
              "            <tr>\n",
              "                        <th id=\"T_f13b9c0c_9b7a_11ea_90e4_0242ac1c0002level0_row111\" class=\"row_heading level0 row111\" >111</th>\n",
              "                        <td id=\"T_f13b9c0c_9b7a_11ea_90e4_0242ac1c0002row111_col0\" class=\"data row111 col0\" >90</td>\n",
              "                        <td id=\"T_f13b9c0c_9b7a_11ea_90e4_0242ac1c0002row111_col1\" class=\"data row111 col1\" >Kenya</td>\n",
              "                        <td id=\"T_f13b9c0c_9b7a_11ea_90e4_0242ac1c0002row111_col2\" class=\"data row111 col2\" >672</td>\n",
              "                        <td id=\"T_f13b9c0c_9b7a_11ea_90e4_0242ac1c0002row111_col3\" class=\"data row111 col3\" >32</td>\n",
              "                        <td id=\"T_f13b9c0c_9b7a_11ea_90e4_0242ac1c0002row111_col4\" class=\"data row111 col4\" >239</td>\n",
              "                        <td id=\"T_f13b9c0c_9b7a_11ea_90e4_0242ac1c0002row111_col5\" class=\"data row111 col5\" >401</td>\n",
              "                        <td id=\"T_f13b9c0c_9b7a_11ea_90e4_0242ac1c0002row111_col6\" class=\"data row111 col6\" >23</td>\n",
              "            </tr>\n",
              "            <tr>\n",
              "                        <th id=\"T_f13b9c0c_9b7a_11ea_90e4_0242ac1c0002level0_row112\" class=\"row_heading level0 row112\" >112</th>\n",
              "                        <td id=\"T_f13b9c0c_9b7a_11ea_90e4_0242ac1c0002row112_col0\" class=\"data row112 col0\" >63</td>\n",
              "                        <td id=\"T_f13b9c0c_9b7a_11ea_90e4_0242ac1c0002row112_col1\" class=\"data row112 col1\" >Gabon</td>\n",
              "                        <td id=\"T_f13b9c0c_9b7a_11ea_90e4_0242ac1c0002row112_col2\" class=\"data row112 col2\" >661</td>\n",
              "                        <td id=\"T_f13b9c0c_9b7a_11ea_90e4_0242ac1c0002row112_col3\" class=\"data row112 col3\" >8</td>\n",
              "                        <td id=\"T_f13b9c0c_9b7a_11ea_90e4_0242ac1c0002row112_col4\" class=\"data row112 col4\" >110</td>\n",
              "                        <td id=\"T_f13b9c0c_9b7a_11ea_90e4_0242ac1c0002row112_col5\" class=\"data row112 col5\" >543</td>\n",
              "                        <td id=\"T_f13b9c0c_9b7a_11ea_90e4_0242ac1c0002row112_col6\" class=\"data row112 col6\" >0</td>\n",
              "            </tr>\n",
              "            <tr>\n",
              "                        <th id=\"T_f13b9c0c_9b7a_11ea_90e4_0242ac1c0002level0_row113\" class=\"row_heading level0 row113\" >113</th>\n",
              "                        <td id=\"T_f13b9c0c_9b7a_11ea_90e4_0242ac1c0002row113_col0\" class=\"data row113 col0\" >65</td>\n",
              "                        <td id=\"T_f13b9c0c_9b7a_11ea_90e4_0242ac1c0002row113_col1\" class=\"data row113 col1\" >Georgia</td>\n",
              "                        <td id=\"T_f13b9c0c_9b7a_11ea_90e4_0242ac1c0002row113_col2\" class=\"data row113 col2\" >635</td>\n",
              "                        <td id=\"T_f13b9c0c_9b7a_11ea_90e4_0242ac1c0002row113_col3\" class=\"data row113 col3\" >10</td>\n",
              "                        <td id=\"T_f13b9c0c_9b7a_11ea_90e4_0242ac1c0002row113_col4\" class=\"data row113 col4\" >309</td>\n",
              "                        <td id=\"T_f13b9c0c_9b7a_11ea_90e4_0242ac1c0002row113_col5\" class=\"data row113 col5\" >316</td>\n",
              "                        <td id=\"T_f13b9c0c_9b7a_11ea_90e4_0242ac1c0002row113_col6\" class=\"data row113 col6\" >9</td>\n",
              "            </tr>\n",
              "            <tr>\n",
              "                        <th id=\"T_f13b9c0c_9b7a_11ea_90e4_0242ac1c0002level0_row114\" class=\"row_heading level0 row114\" >114</th>\n",
              "                        <td id=\"T_f13b9c0c_9b7a_11ea_90e4_0242ac1c0002row114_col0\" class=\"data row114 col0\" >143</td>\n",
              "                        <td id=\"T_f13b9c0c_9b7a_11ea_90e4_0242ac1c0002row114_col1\" class=\"data row114 col1\" >San Marino</td>\n",
              "                        <td id=\"T_f13b9c0c_9b7a_11ea_90e4_0242ac1c0002row114_col2\" class=\"data row114 col2\" >628</td>\n",
              "                        <td id=\"T_f13b9c0c_9b7a_11ea_90e4_0242ac1c0002row114_col3\" class=\"data row114 col3\" >41</td>\n",
              "                        <td id=\"T_f13b9c0c_9b7a_11ea_90e4_0242ac1c0002row114_col4\" class=\"data row114 col4\" >126</td>\n",
              "                        <td id=\"T_f13b9c0c_9b7a_11ea_90e4_0242ac1c0002row114_col5\" class=\"data row114 col5\" >461</td>\n",
              "                        <td id=\"T_f13b9c0c_9b7a_11ea_90e4_0242ac1c0002row114_col6\" class=\"data row114 col6\" >0</td>\n",
              "            </tr>\n",
              "            <tr>\n",
              "                        <th id=\"T_f13b9c0c_9b7a_11ea_90e4_0242ac1c0002level0_row115\" class=\"row_heading level0 row115\" >115</th>\n",
              "                        <td id=\"T_f13b9c0c_9b7a_11ea_90e4_0242ac1c0002row115_col0\" class=\"data row115 col0\" >165</td>\n",
              "                        <td id=\"T_f13b9c0c_9b7a_11ea_90e4_0242ac1c0002row115_col1\" class=\"data row115 col1\" >Tajikistan</td>\n",
              "                        <td id=\"T_f13b9c0c_9b7a_11ea_90e4_0242ac1c0002row115_col2\" class=\"data row115 col2\" >612</td>\n",
              "                        <td id=\"T_f13b9c0c_9b7a_11ea_90e4_0242ac1c0002row115_col3\" class=\"data row115 col3\" >20</td>\n",
              "                        <td id=\"T_f13b9c0c_9b7a_11ea_90e4_0242ac1c0002row115_col4\" class=\"data row115 col4\" >0</td>\n",
              "                        <td id=\"T_f13b9c0c_9b7a_11ea_90e4_0242ac1c0002row115_col5\" class=\"data row115 col5\" >592</td>\n",
              "                        <td id=\"T_f13b9c0c_9b7a_11ea_90e4_0242ac1c0002row115_col6\" class=\"data row115 col6\" >0</td>\n",
              "            </tr>\n",
              "            <tr>\n",
              "                        <th id=\"T_f13b9c0c_9b7a_11ea_90e4_0242ac1c0002level0_row116\" class=\"row_heading level0 row116\" >116</th>\n",
              "                        <td id=\"T_f13b9c0c_9b7a_11ea_90e4_0242ac1c0002row116_col0\" class=\"data row116 col0\" >88</td>\n",
              "                        <td id=\"T_f13b9c0c_9b7a_11ea_90e4_0242ac1c0002row116_col1\" class=\"data row116 col1\" >Jordan</td>\n",
              "                        <td id=\"T_f13b9c0c_9b7a_11ea_90e4_0242ac1c0002row116_col2\" class=\"data row116 col2\" >540</td>\n",
              "                        <td id=\"T_f13b9c0c_9b7a_11ea_90e4_0242ac1c0002row116_col3\" class=\"data row116 col3\" >9</td>\n",
              "                        <td id=\"T_f13b9c0c_9b7a_11ea_90e4_0242ac1c0002row116_col4\" class=\"data row116 col4\" >389</td>\n",
              "                        <td id=\"T_f13b9c0c_9b7a_11ea_90e4_0242ac1c0002row116_col5\" class=\"data row116 col5\" >142</td>\n",
              "                        <td id=\"T_f13b9c0c_9b7a_11ea_90e4_0242ac1c0002row116_col6\" class=\"data row116 col6\" >18</td>\n",
              "            </tr>\n",
              "            <tr>\n",
              "                        <th id=\"T_f13b9c0c_9b7a_11ea_90e4_0242ac1c0002level0_row117\" class=\"row_heading level0 row117\" >117</th>\n",
              "                        <td id=\"T_f13b9c0c_9b7a_11ea_90e4_0242ac1c0002row117_col0\" class=\"data row117 col0\" >166</td>\n",
              "                        <td id=\"T_f13b9c0c_9b7a_11ea_90e4_0242ac1c0002row117_col1\" class=\"data row117 col1\" >Tanzania</td>\n",
              "                        <td id=\"T_f13b9c0c_9b7a_11ea_90e4_0242ac1c0002row117_col2\" class=\"data row117 col2\" >509</td>\n",
              "                        <td id=\"T_f13b9c0c_9b7a_11ea_90e4_0242ac1c0002row117_col3\" class=\"data row117 col3\" >21</td>\n",
              "                        <td id=\"T_f13b9c0c_9b7a_11ea_90e4_0242ac1c0002row117_col4\" class=\"data row117 col4\" >183</td>\n",
              "                        <td id=\"T_f13b9c0c_9b7a_11ea_90e4_0242ac1c0002row117_col5\" class=\"data row117 col5\" >305</td>\n",
              "                        <td id=\"T_f13b9c0c_9b7a_11ea_90e4_0242ac1c0002row117_col6\" class=\"data row117 col6\" >0</td>\n",
              "            </tr>\n",
              "            <tr>\n",
              "                        <th id=\"T_f13b9c0c_9b7a_11ea_90e4_0242ac1c0002level0_row118\" class=\"row_heading level0 row118\" >118</th>\n",
              "                        <td id=\"T_f13b9c0c_9b7a_11ea_90e4_0242ac1c0002row118_col0\" class=\"data row118 col0\" >86</td>\n",
              "                        <td id=\"T_f13b9c0c_9b7a_11ea_90e4_0242ac1c0002row118_col1\" class=\"data row118 col1\" >Jamaica</td>\n",
              "                        <td id=\"T_f13b9c0c_9b7a_11ea_90e4_0242ac1c0002row118_col2\" class=\"data row118 col2\" >502</td>\n",
              "                        <td id=\"T_f13b9c0c_9b7a_11ea_90e4_0242ac1c0002row118_col3\" class=\"data row118 col3\" >9</td>\n",
              "                        <td id=\"T_f13b9c0c_9b7a_11ea_90e4_0242ac1c0002row118_col4\" class=\"data row118 col4\" >90</td>\n",
              "                        <td id=\"T_f13b9c0c_9b7a_11ea_90e4_0242ac1c0002row118_col5\" class=\"data row118 col5\" >403</td>\n",
              "                        <td id=\"T_f13b9c0c_9b7a_11ea_90e4_0242ac1c0002row118_col6\" class=\"data row118 col6\" >12</td>\n",
              "            </tr>\n",
              "            <tr>\n",
              "                        <th id=\"T_f13b9c0c_9b7a_11ea_90e4_0242ac1c0002level0_row119\" class=\"row_heading level0 row119\" >119</th>\n",
              "                        <td id=\"T_f13b9c0c_9b7a_11ea_90e4_0242ac1c0002row119_col0\" class=\"data row119 col0\" >108</td>\n",
              "                        <td id=\"T_f13b9c0c_9b7a_11ea_90e4_0242ac1c0002row119_col1\" class=\"data row119 col1\" >Malta</td>\n",
              "                        <td id=\"T_f13b9c0c_9b7a_11ea_90e4_0242ac1c0002row119_col2\" class=\"data row119 col2\" >496</td>\n",
              "                        <td id=\"T_f13b9c0c_9b7a_11ea_90e4_0242ac1c0002row119_col3\" class=\"data row119 col3\" >5</td>\n",
              "                        <td id=\"T_f13b9c0c_9b7a_11ea_90e4_0242ac1c0002row119_col4\" class=\"data row119 col4\" >433</td>\n",
              "                        <td id=\"T_f13b9c0c_9b7a_11ea_90e4_0242ac1c0002row119_col5\" class=\"data row119 col5\" >58</td>\n",
              "                        <td id=\"T_f13b9c0c_9b7a_11ea_90e4_0242ac1c0002row119_col6\" class=\"data row119 col6\" >6</td>\n",
              "            </tr>\n",
              "            <tr>\n",
              "                        <th id=\"T_f13b9c0c_9b7a_11ea_90e4_0242ac1c0002level0_row120\" class=\"row_heading level0 row120\" >120</th>\n",
              "                        <td id=\"T_f13b9c0c_9b7a_11ea_90e4_0242ac1c0002row120_col0\" class=\"data row120 col0\" >164</td>\n",
              "                        <td id=\"T_f13b9c0c_9b7a_11ea_90e4_0242ac1c0002row120_col1\" class=\"data row120 col1\" >Taiwan*</td>\n",
              "                        <td id=\"T_f13b9c0c_9b7a_11ea_90e4_0242ac1c0002row120_col2\" class=\"data row120 col2\" >440</td>\n",
              "                        <td id=\"T_f13b9c0c_9b7a_11ea_90e4_0242ac1c0002row120_col3\" class=\"data row120 col3\" >6</td>\n",
              "                        <td id=\"T_f13b9c0c_9b7a_11ea_90e4_0242ac1c0002row120_col4\" class=\"data row120 col4\" >366</td>\n",
              "                        <td id=\"T_f13b9c0c_9b7a_11ea_90e4_0242ac1c0002row120_col5\" class=\"data row120 col5\" >68</td>\n",
              "                        <td id=\"T_f13b9c0c_9b7a_11ea_90e4_0242ac1c0002row120_col6\" class=\"data row120 col6\" >0</td>\n",
              "            </tr>\n",
              "            <tr>\n",
              "                        <th id=\"T_f13b9c0c_9b7a_11ea_90e4_0242ac1c0002level0_row121\" class=\"row_heading level0 row121\" >121</th>\n",
              "                        <td id=\"T_f13b9c0c_9b7a_11ea_90e4_0242ac1c0002row121_col0\" class=\"data row121 col0\" >55</td>\n",
              "                        <td id=\"T_f13b9c0c_9b7a_11ea_90e4_0242ac1c0002row121_col1\" class=\"data row121 col1\" >Equatorial Guinea</td>\n",
              "                        <td id=\"T_f13b9c0c_9b7a_11ea_90e4_0242ac1c0002row121_col2\" class=\"data row121 col2\" >439</td>\n",
              "                        <td id=\"T_f13b9c0c_9b7a_11ea_90e4_0242ac1c0002row121_col3\" class=\"data row121 col3\" >4</td>\n",
              "                        <td id=\"T_f13b9c0c_9b7a_11ea_90e4_0242ac1c0002row121_col4\" class=\"data row121 col4\" >13</td>\n",
              "                        <td id=\"T_f13b9c0c_9b7a_11ea_90e4_0242ac1c0002row121_col5\" class=\"data row121 col5\" >422</td>\n",
              "                        <td id=\"T_f13b9c0c_9b7a_11ea_90e4_0242ac1c0002row121_col6\" class=\"data row121 col6\" >0</td>\n",
              "            </tr>\n",
              "            <tr>\n",
              "                        <th id=\"T_f13b9c0c_9b7a_11ea_90e4_0242ac1c0002level0_row122\" class=\"row_heading level0 row122\" >122</th>\n",
              "                        <td id=\"T_f13b9c0c_9b7a_11ea_90e4_0242ac1c0002row122_col0\" class=\"data row122 col0\" >180</td>\n",
              "                        <td id=\"T_f13b9c0c_9b7a_11ea_90e4_0242ac1c0002row122_col1\" class=\"data row122 col1\" >Venezuela</td>\n",
              "                        <td id=\"T_f13b9c0c_9b7a_11ea_90e4_0242ac1c0002row122_col2\" class=\"data row122 col2\" >414</td>\n",
              "                        <td id=\"T_f13b9c0c_9b7a_11ea_90e4_0242ac1c0002row122_col3\" class=\"data row122 col3\" >10</td>\n",
              "                        <td id=\"T_f13b9c0c_9b7a_11ea_90e4_0242ac1c0002row122_col4\" class=\"data row122 col4\" >193</td>\n",
              "                        <td id=\"T_f13b9c0c_9b7a_11ea_90e4_0242ac1c0002row122_col5\" class=\"data row122 col5\" >211</td>\n",
              "                        <td id=\"T_f13b9c0c_9b7a_11ea_90e4_0242ac1c0002row122_col6\" class=\"data row122 col6\" >12</td>\n",
              "            </tr>\n",
              "            <tr>\n",
              "                        <th id=\"T_f13b9c0c_9b7a_11ea_90e4_0242ac1c0002level0_row123\" class=\"row_heading level0 row123\" >123</th>\n",
              "                        <td id=\"T_f13b9c0c_9b7a_11ea_90e4_0242ac1c0002row123_col0\" class=\"data row123 col0\" >182</td>\n",
              "                        <td id=\"T_f13b9c0c_9b7a_11ea_90e4_0242ac1c0002row123_col1\" class=\"data row123 col1\" >West Bank and Gaza</td>\n",
              "                        <td id=\"T_f13b9c0c_9b7a_11ea_90e4_0242ac1c0002row123_col2\" class=\"data row123 col2\" >375</td>\n",
              "                        <td id=\"T_f13b9c0c_9b7a_11ea_90e4_0242ac1c0002row123_col3\" class=\"data row123 col3\" >2</td>\n",
              "                        <td id=\"T_f13b9c0c_9b7a_11ea_90e4_0242ac1c0002row123_col4\" class=\"data row123 col4\" >263</td>\n",
              "                        <td id=\"T_f13b9c0c_9b7a_11ea_90e4_0242ac1c0002row123_col5\" class=\"data row123 col5\" >110</td>\n",
              "                        <td id=\"T_f13b9c0c_9b7a_11ea_90e4_0242ac1c0002row123_col6\" class=\"data row123 col6\" >0</td>\n",
              "            </tr>\n",
              "            <tr>\n",
              "                        <th id=\"T_f13b9c0c_9b7a_11ea_90e4_0242ac1c0002level0_row124\" class=\"row_heading level0 row124\" >124</th>\n",
              "                        <td id=\"T_f13b9c0c_9b7a_11ea_90e4_0242ac1c0002row124_col0\" class=\"data row124 col0\" >110</td>\n",
              "                        <td id=\"T_f13b9c0c_9b7a_11ea_90e4_0242ac1c0002row124_col1\" class=\"data row124 col1\" >Mauritius</td>\n",
              "                        <td id=\"T_f13b9c0c_9b7a_11ea_90e4_0242ac1c0002row124_col2\" class=\"data row124 col2\" >332</td>\n",
              "                        <td id=\"T_f13b9c0c_9b7a_11ea_90e4_0242ac1c0002row124_col3\" class=\"data row124 col3\" >10</td>\n",
              "                        <td id=\"T_f13b9c0c_9b7a_11ea_90e4_0242ac1c0002row124_col4\" class=\"data row124 col4\" >320</td>\n",
              "                        <td id=\"T_f13b9c0c_9b7a_11ea_90e4_0242ac1c0002row124_col5\" class=\"data row124 col5\" >2</td>\n",
              "                        <td id=\"T_f13b9c0c_9b7a_11ea_90e4_0242ac1c0002row124_col6\" class=\"data row124 col6\" >0</td>\n",
              "            </tr>\n",
              "            <tr>\n",
              "                        <th id=\"T_f13b9c0c_9b7a_11ea_90e4_0242ac1c0002level0_row125\" class=\"row_heading level0 row125\" >125</th>\n",
              "                        <td id=\"T_f13b9c0c_9b7a_11ea_90e4_0242ac1c0002row125_col0\" class=\"data row125 col0\" >115</td>\n",
              "                        <td id=\"T_f13b9c0c_9b7a_11ea_90e4_0242ac1c0002row125_col1\" class=\"data row125 col1\" >Montenegro</td>\n",
              "                        <td id=\"T_f13b9c0c_9b7a_11ea_90e4_0242ac1c0002row125_col2\" class=\"data row125 col2\" >324</td>\n",
              "                        <td id=\"T_f13b9c0c_9b7a_11ea_90e4_0242ac1c0002row125_col3\" class=\"data row125 col3\" >9</td>\n",
              "                        <td id=\"T_f13b9c0c_9b7a_11ea_90e4_0242ac1c0002row125_col4\" class=\"data row125 col4\" >290</td>\n",
              "                        <td id=\"T_f13b9c0c_9b7a_11ea_90e4_0242ac1c0002row125_col5\" class=\"data row125 col5\" >25</td>\n",
              "                        <td id=\"T_f13b9c0c_9b7a_11ea_90e4_0242ac1c0002row125_col6\" class=\"data row125 col6\" >0</td>\n",
              "            </tr>\n",
              "            <tr>\n",
              "                        <th id=\"T_f13b9c0c_9b7a_11ea_90e4_0242ac1c0002level0_row126\" class=\"row_heading level0 row126\" >126</th>\n",
              "                        <td id=\"T_f13b9c0c_9b7a_11ea_90e4_0242ac1c0002row126_col0\" class=\"data row126 col0\" >34</td>\n",
              "                        <td id=\"T_f13b9c0c_9b7a_11ea_90e4_0242ac1c0002row126_col1\" class=\"data row126 col1\" >Chad</td>\n",
              "                        <td id=\"T_f13b9c0c_9b7a_11ea_90e4_0242ac1c0002row126_col2\" class=\"data row126 col2\" >322</td>\n",
              "                        <td id=\"T_f13b9c0c_9b7a_11ea_90e4_0242ac1c0002row126_col3\" class=\"data row126 col3\" >31</td>\n",
              "                        <td id=\"T_f13b9c0c_9b7a_11ea_90e4_0242ac1c0002row126_col4\" class=\"data row126 col4\" >53</td>\n",
              "                        <td id=\"T_f13b9c0c_9b7a_11ea_90e4_0242ac1c0002row126_col5\" class=\"data row126 col5\" >238</td>\n",
              "                        <td id=\"T_f13b9c0c_9b7a_11ea_90e4_0242ac1c0002row126_col6\" class=\"data row126 col6\" >0</td>\n",
              "            </tr>\n",
              "            <tr>\n",
              "                        <th id=\"T_f13b9c0c_9b7a_11ea_90e4_0242ac1c0002level0_row127\" class=\"row_heading level0 row127\" >127</th>\n",
              "                        <td id=\"T_f13b9c0c_9b7a_11ea_90e4_0242ac1c0002row127_col0\" class=\"data row127 col0\" >18</td>\n",
              "                        <td id=\"T_f13b9c0c_9b7a_11ea_90e4_0242ac1c0002row127_col1\" class=\"data row127 col1\" >Benin</td>\n",
              "                        <td id=\"T_f13b9c0c_9b7a_11ea_90e4_0242ac1c0002row127_col2\" class=\"data row127 col2\" >319</td>\n",
              "                        <td id=\"T_f13b9c0c_9b7a_11ea_90e4_0242ac1c0002row127_col3\" class=\"data row127 col3\" >2</td>\n",
              "                        <td id=\"T_f13b9c0c_9b7a_11ea_90e4_0242ac1c0002row127_col4\" class=\"data row127 col4\" >62</td>\n",
              "                        <td id=\"T_f13b9c0c_9b7a_11ea_90e4_0242ac1c0002row127_col5\" class=\"data row127 col5\" >255</td>\n",
              "                        <td id=\"T_f13b9c0c_9b7a_11ea_90e4_0242ac1c0002row127_col6\" class=\"data row127 col6\" >35</td>\n",
              "            </tr>\n",
              "            <tr>\n",
              "                        <th id=\"T_f13b9c0c_9b7a_11ea_90e4_0242ac1c0002level0_row128\" class=\"row_heading level0 row128\" >128</th>\n",
              "                        <td id=\"T_f13b9c0c_9b7a_11ea_90e4_0242ac1c0002row128_col0\" class=\"data row128 col0\" >149</td>\n",
              "                        <td id=\"T_f13b9c0c_9b7a_11ea_90e4_0242ac1c0002row128_col1\" class=\"data row128 col1\" >Sierra Leone</td>\n",
              "                        <td id=\"T_f13b9c0c_9b7a_11ea_90e4_0242ac1c0002row128_col2\" class=\"data row128 col2\" >307</td>\n",
              "                        <td id=\"T_f13b9c0c_9b7a_11ea_90e4_0242ac1c0002row128_col3\" class=\"data row128 col3\" >18</td>\n",
              "                        <td id=\"T_f13b9c0c_9b7a_11ea_90e4_0242ac1c0002row128_col4\" class=\"data row128 col4\" >67</td>\n",
              "                        <td id=\"T_f13b9c0c_9b7a_11ea_90e4_0242ac1c0002row128_col5\" class=\"data row128 col5\" >222</td>\n",
              "                        <td id=\"T_f13b9c0c_9b7a_11ea_90e4_0242ac1c0002row128_col6\" class=\"data row128 col6\" >16</td>\n",
              "            </tr>\n",
              "            <tr>\n",
              "                        <th id=\"T_f13b9c0c_9b7a_11ea_90e4_0242ac1c0002level0_row129\" class=\"row_heading level0 row129\" >129</th>\n",
              "                        <td id=\"T_f13b9c0c_9b7a_11ea_90e4_0242ac1c0002row129_col0\" class=\"data row129 col0\" >181</td>\n",
              "                        <td id=\"T_f13b9c0c_9b7a_11ea_90e4_0242ac1c0002row129_col1\" class=\"data row129 col1\" >Vietnam</td>\n",
              "                        <td id=\"T_f13b9c0c_9b7a_11ea_90e4_0242ac1c0002row129_col2\" class=\"data row129 col2\" >288</td>\n",
              "                        <td id=\"T_f13b9c0c_9b7a_11ea_90e4_0242ac1c0002row129_col3\" class=\"data row129 col3\" >0</td>\n",
              "                        <td id=\"T_f13b9c0c_9b7a_11ea_90e4_0242ac1c0002row129_col4\" class=\"data row129 col4\" >241</td>\n",
              "                        <td id=\"T_f13b9c0c_9b7a_11ea_90e4_0242ac1c0002row129_col5\" class=\"data row129 col5\" >47</td>\n",
              "                        <td id=\"T_f13b9c0c_9b7a_11ea_90e4_0242ac1c0002row129_col6\" class=\"data row129 col6\" >0</td>\n",
              "            </tr>\n",
              "            <tr>\n",
              "                        <th id=\"T_f13b9c0c_9b7a_11ea_90e4_0242ac1c0002level0_row130\" class=\"row_heading level0 row130\" >130</th>\n",
              "                        <td id=\"T_f13b9c0c_9b7a_11ea_90e4_0242ac1c0002row130_col0\" class=\"data row130 col0\" >139</td>\n",
              "                        <td id=\"T_f13b9c0c_9b7a_11ea_90e4_0242ac1c0002row130_col1\" class=\"data row130 col1\" >Rwanda</td>\n",
              "                        <td id=\"T_f13b9c0c_9b7a_11ea_90e4_0242ac1c0002row130_col2\" class=\"data row130 col2\" >284</td>\n",
              "                        <td id=\"T_f13b9c0c_9b7a_11ea_90e4_0242ac1c0002row130_col3\" class=\"data row130 col3\" >0</td>\n",
              "                        <td id=\"T_f13b9c0c_9b7a_11ea_90e4_0242ac1c0002row130_col4\" class=\"data row130 col4\" >140</td>\n",
              "                        <td id=\"T_f13b9c0c_9b7a_11ea_90e4_0242ac1c0002row130_col5\" class=\"data row130 col5\" >144</td>\n",
              "                        <td id=\"T_f13b9c0c_9b7a_11ea_90e4_0242ac1c0002row130_col6\" class=\"data row130 col6\" >4</td>\n",
              "            </tr>\n",
              "            <tr>\n",
              "                        <th id=\"T_f13b9c0c_9b7a_11ea_90e4_0242ac1c0002level0_row131\" class=\"row_heading level0 row131\" >131</th>\n",
              "                        <td id=\"T_f13b9c0c_9b7a_11ea_90e4_0242ac1c0002row131_col0\" class=\"data row131 col0\" >39</td>\n",
              "                        <td id=\"T_f13b9c0c_9b7a_11ea_90e4_0242ac1c0002row131_col1\" class=\"data row131 col1\" >Congo (Brazzaville)</td>\n",
              "                        <td id=\"T_f13b9c0c_9b7a_11ea_90e4_0242ac1c0002row131_col2\" class=\"data row131 col2\" >274</td>\n",
              "                        <td id=\"T_f13b9c0c_9b7a_11ea_90e4_0242ac1c0002row131_col3\" class=\"data row131 col3\" >10</td>\n",
              "                        <td id=\"T_f13b9c0c_9b7a_11ea_90e4_0242ac1c0002row131_col4\" class=\"data row131 col4\" >33</td>\n",
              "                        <td id=\"T_f13b9c0c_9b7a_11ea_90e4_0242ac1c0002row131_col5\" class=\"data row131 col5\" >231</td>\n",
              "                        <td id=\"T_f13b9c0c_9b7a_11ea_90e4_0242ac1c0002row131_col6\" class=\"data row131 col6\" >0</td>\n",
              "            </tr>\n",
              "            <tr>\n",
              "                        <th id=\"T_f13b9c0c_9b7a_11ea_90e4_0242ac1c0002level0_row132\" class=\"row_heading level0 row132\" >132</th>\n",
              "                        <td id=\"T_f13b9c0c_9b7a_11ea_90e4_0242ac1c0002row132_col0\" class=\"data row132 col0\" >185</td>\n",
              "                        <td id=\"T_f13b9c0c_9b7a_11ea_90e4_0242ac1c0002row132_col1\" class=\"data row132 col1\" >Zambia</td>\n",
              "                        <td id=\"T_f13b9c0c_9b7a_11ea_90e4_0242ac1c0002row132_col2\" class=\"data row132 col2\" >267</td>\n",
              "                        <td id=\"T_f13b9c0c_9b7a_11ea_90e4_0242ac1c0002row132_col3\" class=\"data row132 col3\" >7</td>\n",
              "                        <td id=\"T_f13b9c0c_9b7a_11ea_90e4_0242ac1c0002row132_col4\" class=\"data row132 col4\" >117</td>\n",
              "                        <td id=\"T_f13b9c0c_9b7a_11ea_90e4_0242ac1c0002row132_col5\" class=\"data row132 col5\" >143</td>\n",
              "                        <td id=\"T_f13b9c0c_9b7a_11ea_90e4_0242ac1c0002row132_col6\" class=\"data row132 col6\" >15</td>\n",
              "            </tr>\n",
              "            <tr>\n",
              "                        <th id=\"T_f13b9c0c_9b7a_11ea_90e4_0242ac1c0002level0_row133\" class=\"row_heading level0 row133\" >133</th>\n",
              "                        <td id=\"T_f13b9c0c_9b7a_11ea_90e4_0242ac1c0002row133_col0\" class=\"data row133 col0\" >29</td>\n",
              "                        <td id=\"T_f13b9c0c_9b7a_11ea_90e4_0242ac1c0002row133_col1\" class=\"data row133 col1\" >Cabo Verde</td>\n",
              "                        <td id=\"T_f13b9c0c_9b7a_11ea_90e4_0242ac1c0002row133_col2\" class=\"data row133 col2\" >246</td>\n",
              "                        <td id=\"T_f13b9c0c_9b7a_11ea_90e4_0242ac1c0002row133_col3\" class=\"data row133 col3\" >2</td>\n",
              "                        <td id=\"T_f13b9c0c_9b7a_11ea_90e4_0242ac1c0002row133_col4\" class=\"data row133 col4\" >56</td>\n",
              "                        <td id=\"T_f13b9c0c_9b7a_11ea_90e4_0242ac1c0002row133_col5\" class=\"data row133 col5\" >188</td>\n",
              "                        <td id=\"T_f13b9c0c_9b7a_11ea_90e4_0242ac1c0002row133_col6\" class=\"data row133 col6\" >10</td>\n",
              "            </tr>\n",
              "            <tr>\n",
              "                        <th id=\"T_f13b9c0c_9b7a_11ea_90e4_0242ac1c0002level0_row134\" class=\"row_heading level0 row134\" >134</th>\n",
              "                        <td id=\"T_f13b9c0c_9b7a_11ea_90e4_0242ac1c0002row134_col0\" class=\"data row134 col0\" >59</td>\n",
              "                        <td id=\"T_f13b9c0c_9b7a_11ea_90e4_0242ac1c0002row134_col1\" class=\"data row134 col1\" >Ethiopia</td>\n",
              "                        <td id=\"T_f13b9c0c_9b7a_11ea_90e4_0242ac1c0002row134_col2\" class=\"data row134 col2\" >239</td>\n",
              "                        <td id=\"T_f13b9c0c_9b7a_11ea_90e4_0242ac1c0002row134_col3\" class=\"data row134 col3\" >5</td>\n",
              "                        <td id=\"T_f13b9c0c_9b7a_11ea_90e4_0242ac1c0002row134_col4\" class=\"data row134 col4\" >99</td>\n",
              "                        <td id=\"T_f13b9c0c_9b7a_11ea_90e4_0242ac1c0002row134_col5\" class=\"data row134 col5\" >135</td>\n",
              "                        <td id=\"T_f13b9c0c_9b7a_11ea_90e4_0242ac1c0002row134_col6\" class=\"data row134 col6\" >29</td>\n",
              "            </tr>\n",
              "            <tr>\n",
              "                        <th id=\"T_f13b9c0c_9b7a_11ea_90e4_0242ac1c0002level0_row135\" class=\"row_heading level0 row135\" >135</th>\n",
              "                        <td id=\"T_f13b9c0c_9b7a_11ea_90e4_0242ac1c0002row135_col0\" class=\"data row135 col0\" >144</td>\n",
              "                        <td id=\"T_f13b9c0c_9b7a_11ea_90e4_0242ac1c0002row135_col1\" class=\"data row135 col1\" >Sao Tome and Principe</td>\n",
              "                        <td id=\"T_f13b9c0c_9b7a_11ea_90e4_0242ac1c0002row135_col2\" class=\"data row135 col2\" >208</td>\n",
              "                        <td id=\"T_f13b9c0c_9b7a_11ea_90e4_0242ac1c0002row135_col3\" class=\"data row135 col3\" >5</td>\n",
              "                        <td id=\"T_f13b9c0c_9b7a_11ea_90e4_0242ac1c0002row135_col4\" class=\"data row135 col4\" >4</td>\n",
              "                        <td id=\"T_f13b9c0c_9b7a_11ea_90e4_0242ac1c0002row135_col5\" class=\"data row135 col5\" >199</td>\n",
              "                        <td id=\"T_f13b9c0c_9b7a_11ea_90e4_0242ac1c0002row135_col6\" class=\"data row135 col6\" >0</td>\n",
              "            </tr>\n",
              "            <tr>\n",
              "                        <th id=\"T_f13b9c0c_9b7a_11ea_90e4_0242ac1c0002level0_row136\" class=\"row_heading level0 row136\" >136</th>\n",
              "                        <td id=\"T_f13b9c0c_9b7a_11ea_90e4_0242ac1c0002row136_col0\" class=\"data row136 col0\" >97</td>\n",
              "                        <td id=\"T_f13b9c0c_9b7a_11ea_90e4_0242ac1c0002row136_col1\" class=\"data row136 col1\" >Liberia</td>\n",
              "                        <td id=\"T_f13b9c0c_9b7a_11ea_90e4_0242ac1c0002row136_col2\" class=\"data row136 col2\" >199</td>\n",
              "                        <td id=\"T_f13b9c0c_9b7a_11ea_90e4_0242ac1c0002row136_col3\" class=\"data row136 col3\" >20</td>\n",
              "                        <td id=\"T_f13b9c0c_9b7a_11ea_90e4_0242ac1c0002row136_col4\" class=\"data row136 col4\" >79</td>\n",
              "                        <td id=\"T_f13b9c0c_9b7a_11ea_90e4_0242ac1c0002row136_col5\" class=\"data row136 col5\" >100</td>\n",
              "                        <td id=\"T_f13b9c0c_9b7a_11ea_90e4_0242ac1c0002row136_col6\" class=\"data row136 col6\" >0</td>\n",
              "            </tr>\n",
              "            <tr>\n",
              "                        <th id=\"T_f13b9c0c_9b7a_11ea_90e4_0242ac1c0002level0_row137\" class=\"row_heading level0 row137\" >137</th>\n",
              "                        <td id=\"T_f13b9c0c_9b7a_11ea_90e4_0242ac1c0002row137_col0\" class=\"data row137 col0\" >103</td>\n",
              "                        <td id=\"T_f13b9c0c_9b7a_11ea_90e4_0242ac1c0002row137_col1\" class=\"data row137 col1\" >Madagascar</td>\n",
              "                        <td id=\"T_f13b9c0c_9b7a_11ea_90e4_0242ac1c0002row137_col2\" class=\"data row137 col2\" >193</td>\n",
              "                        <td id=\"T_f13b9c0c_9b7a_11ea_90e4_0242ac1c0002row137_col3\" class=\"data row137 col3\" >0</td>\n",
              "                        <td id=\"T_f13b9c0c_9b7a_11ea_90e4_0242ac1c0002row137_col4\" class=\"data row137 col4\" >101</td>\n",
              "                        <td id=\"T_f13b9c0c_9b7a_11ea_90e4_0242ac1c0002row137_col5\" class=\"data row137 col5\" >92</td>\n",
              "                        <td id=\"T_f13b9c0c_9b7a_11ea_90e4_0242ac1c0002row137_col6\" class=\"data row137 col6\" >0</td>\n",
              "            </tr>\n",
              "            <tr>\n",
              "                        <th id=\"T_f13b9c0c_9b7a_11ea_90e4_0242ac1c0002level0_row138\" class=\"row_heading level0 row138\" >138</th>\n",
              "                        <td id=\"T_f13b9c0c_9b7a_11ea_90e4_0242ac1c0002row138_col0\" class=\"data row138 col0\" >74</td>\n",
              "                        <td id=\"T_f13b9c0c_9b7a_11ea_90e4_0242ac1c0002row138_col1\" class=\"data row138 col1\" >Haiti</td>\n",
              "                        <td id=\"T_f13b9c0c_9b7a_11ea_90e4_0242ac1c0002row138_col2\" class=\"data row138 col2\" >182</td>\n",
              "                        <td id=\"T_f13b9c0c_9b7a_11ea_90e4_0242ac1c0002row138_col3\" class=\"data row138 col3\" >15</td>\n",
              "                        <td id=\"T_f13b9c0c_9b7a_11ea_90e4_0242ac1c0002row138_col4\" class=\"data row138 col4\" >17</td>\n",
              "                        <td id=\"T_f13b9c0c_9b7a_11ea_90e4_0242ac1c0002row138_col5\" class=\"data row138 col5\" >150</td>\n",
              "                        <td id=\"T_f13b9c0c_9b7a_11ea_90e4_0242ac1c0002row138_col6\" class=\"data row138 col6\" >31</td>\n",
              "            </tr>\n",
              "            <tr>\n",
              "                        <th id=\"T_f13b9c0c_9b7a_11ea_90e4_0242ac1c0002level0_row139\" class=\"row_heading level0 row139\" >139</th>\n",
              "                        <td id=\"T_f13b9c0c_9b7a_11ea_90e4_0242ac1c0002row139_col0\" class=\"data row139 col0\" >27</td>\n",
              "                        <td id=\"T_f13b9c0c_9b7a_11ea_90e4_0242ac1c0002row139_col1\" class=\"data row139 col1\" >Burma</td>\n",
              "                        <td id=\"T_f13b9c0c_9b7a_11ea_90e4_0242ac1c0002row139_col2\" class=\"data row139 col2\" >180</td>\n",
              "                        <td id=\"T_f13b9c0c_9b7a_11ea_90e4_0242ac1c0002row139_col3\" class=\"data row139 col3\" >6</td>\n",
              "                        <td id=\"T_f13b9c0c_9b7a_11ea_90e4_0242ac1c0002row139_col4\" class=\"data row139 col4\" >72</td>\n",
              "                        <td id=\"T_f13b9c0c_9b7a_11ea_90e4_0242ac1c0002row139_col5\" class=\"data row139 col5\" >102</td>\n",
              "                        <td id=\"T_f13b9c0c_9b7a_11ea_90e4_0242ac1c0002row139_col6\" class=\"data row139 col6\" >2</td>\n",
              "            </tr>\n",
              "            <tr>\n",
              "                        <th id=\"T_f13b9c0c_9b7a_11ea_90e4_0242ac1c0002level0_row140\" class=\"row_heading level0 row140\" >140</th>\n",
              "                        <td id=\"T_f13b9c0c_9b7a_11ea_90e4_0242ac1c0002row140_col0\" class=\"data row140 col0\" >169</td>\n",
              "                        <td id=\"T_f13b9c0c_9b7a_11ea_90e4_0242ac1c0002row140_col1\" class=\"data row140 col1\" >Togo</td>\n",
              "                        <td id=\"T_f13b9c0c_9b7a_11ea_90e4_0242ac1c0002row140_col2\" class=\"data row140 col2\" >174</td>\n",
              "                        <td id=\"T_f13b9c0c_9b7a_11ea_90e4_0242ac1c0002row140_col3\" class=\"data row140 col3\" >11</td>\n",
              "                        <td id=\"T_f13b9c0c_9b7a_11ea_90e4_0242ac1c0002row140_col4\" class=\"data row140 col4\" >89</td>\n",
              "                        <td id=\"T_f13b9c0c_9b7a_11ea_90e4_0242ac1c0002row140_col5\" class=\"data row140 col5\" >74</td>\n",
              "                        <td id=\"T_f13b9c0c_9b7a_11ea_90e4_0242ac1c0002row140_col6\" class=\"data row140 col6\" >21</td>\n",
              "            </tr>\n",
              "            <tr>\n",
              "                        <th id=\"T_f13b9c0c_9b7a_11ea_90e4_0242ac1c0002level0_row141\" class=\"row_heading level0 row141\" >141</th>\n",
              "                        <td id=\"T_f13b9c0c_9b7a_11ea_90e4_0242ac1c0002row141_col0\" class=\"data row141 col0\" >58</td>\n",
              "                        <td id=\"T_f13b9c0c_9b7a_11ea_90e4_0242ac1c0002row141_col1\" class=\"data row141 col1\" >Eswatini</td>\n",
              "                        <td id=\"T_f13b9c0c_9b7a_11ea_90e4_0242ac1c0002row141_col2\" class=\"data row141 col2\" >172</td>\n",
              "                        <td id=\"T_f13b9c0c_9b7a_11ea_90e4_0242ac1c0002row141_col3\" class=\"data row141 col3\" >2</td>\n",
              "                        <td id=\"T_f13b9c0c_9b7a_11ea_90e4_0242ac1c0002row141_col4\" class=\"data row141 col4\" >27</td>\n",
              "                        <td id=\"T_f13b9c0c_9b7a_11ea_90e4_0242ac1c0002row141_col5\" class=\"data row141 col5\" >143</td>\n",
              "                        <td id=\"T_f13b9c0c_9b7a_11ea_90e4_0242ac1c0002row141_col6\" class=\"data row141 col6\" >9</td>\n",
              "            </tr>\n",
              "            <tr>\n",
              "                        <th id=\"T_f13b9c0c_9b7a_11ea_90e4_0242ac1c0002level0_row142\" class=\"row_heading level0 row142\" >142</th>\n",
              "                        <td id=\"T_f13b9c0c_9b7a_11ea_90e4_0242ac1c0002row142_col0\" class=\"data row142 col0\" >33</td>\n",
              "                        <td id=\"T_f13b9c0c_9b7a_11ea_90e4_0242ac1c0002row142_col1\" class=\"data row142 col1\" >Central African Republic</td>\n",
              "                        <td id=\"T_f13b9c0c_9b7a_11ea_90e4_0242ac1c0002row142_col2\" class=\"data row142 col2\" >143</td>\n",
              "                        <td id=\"T_f13b9c0c_9b7a_11ea_90e4_0242ac1c0002row142_col3\" class=\"data row142 col3\" >0</td>\n",
              "                        <td id=\"T_f13b9c0c_9b7a_11ea_90e4_0242ac1c0002row142_col4\" class=\"data row142 col4\" >10</td>\n",
              "                        <td id=\"T_f13b9c0c_9b7a_11ea_90e4_0242ac1c0002row142_col5\" class=\"data row142 col5\" >133</td>\n",
              "                        <td id=\"T_f13b9c0c_9b7a_11ea_90e4_0242ac1c0002row142_col6\" class=\"data row142 col6\" >0</td>\n",
              "            </tr>\n",
              "            <tr>\n",
              "                        <th id=\"T_f13b9c0c_9b7a_11ea_90e4_0242ac1c0002level0_row143\" class=\"row_heading level0 row143\" >143</th>\n",
              "                        <td id=\"T_f13b9c0c_9b7a_11ea_90e4_0242ac1c0002row143_col0\" class=\"data row143 col0\" >24</td>\n",
              "                        <td id=\"T_f13b9c0c_9b7a_11ea_90e4_0242ac1c0002row143_col1\" class=\"data row143 col1\" >Brunei</td>\n",
              "                        <td id=\"T_f13b9c0c_9b7a_11ea_90e4_0242ac1c0002row143_col2\" class=\"data row143 col2\" >141</td>\n",
              "                        <td id=\"T_f13b9c0c_9b7a_11ea_90e4_0242ac1c0002row143_col3\" class=\"data row143 col3\" >1</td>\n",
              "                        <td id=\"T_f13b9c0c_9b7a_11ea_90e4_0242ac1c0002row143_col4\" class=\"data row143 col4\" >134</td>\n",
              "                        <td id=\"T_f13b9c0c_9b7a_11ea_90e4_0242ac1c0002row143_col5\" class=\"data row143 col5\" >6</td>\n",
              "                        <td id=\"T_f13b9c0c_9b7a_11ea_90e4_0242ac1c0002row143_col6\" class=\"data row143 col6\" >0</td>\n",
              "            </tr>\n",
              "            <tr>\n",
              "                        <th id=\"T_f13b9c0c_9b7a_11ea_90e4_0242ac1c0002level0_row144\" class=\"row_heading level0 row144\" >144</th>\n",
              "                        <td id=\"T_f13b9c0c_9b7a_11ea_90e4_0242ac1c0002row144_col0\" class=\"data row144 col0\" >30</td>\n",
              "                        <td id=\"T_f13b9c0c_9b7a_11ea_90e4_0242ac1c0002row144_col1\" class=\"data row144 col1\" >Cambodia</td>\n",
              "                        <td id=\"T_f13b9c0c_9b7a_11ea_90e4_0242ac1c0002row144_col2\" class=\"data row144 col2\" >122</td>\n",
              "                        <td id=\"T_f13b9c0c_9b7a_11ea_90e4_0242ac1c0002row144_col3\" class=\"data row144 col3\" >0</td>\n",
              "                        <td id=\"T_f13b9c0c_9b7a_11ea_90e4_0242ac1c0002row144_col4\" class=\"data row144 col4\" >120</td>\n",
              "                        <td id=\"T_f13b9c0c_9b7a_11ea_90e4_0242ac1c0002row144_col5\" class=\"data row144 col5\" >2</td>\n",
              "                        <td id=\"T_f13b9c0c_9b7a_11ea_90e4_0242ac1c0002row144_col6\" class=\"data row144 col6\" >0</td>\n",
              "            </tr>\n",
              "            <tr>\n",
              "                        <th id=\"T_f13b9c0c_9b7a_11ea_90e4_0242ac1c0002level0_row145\" class=\"row_heading level0 row145\" >145</th>\n",
              "                        <td id=\"T_f13b9c0c_9b7a_11ea_90e4_0242ac1c0002row145_col0\" class=\"data row145 col0\" >174</td>\n",
              "                        <td id=\"T_f13b9c0c_9b7a_11ea_90e4_0242ac1c0002row145_col1\" class=\"data row145 col1\" >Uganda</td>\n",
              "                        <td id=\"T_f13b9c0c_9b7a_11ea_90e4_0242ac1c0002row145_col2\" class=\"data row145 col2\" >121</td>\n",
              "                        <td id=\"T_f13b9c0c_9b7a_11ea_90e4_0242ac1c0002row145_col3\" class=\"data row145 col3\" >0</td>\n",
              "                        <td id=\"T_f13b9c0c_9b7a_11ea_90e4_0242ac1c0002row145_col4\" class=\"data row145 col4\" >55</td>\n",
              "                        <td id=\"T_f13b9c0c_9b7a_11ea_90e4_0242ac1c0002row145_col5\" class=\"data row145 col5\" >66</td>\n",
              "                        <td id=\"T_f13b9c0c_9b7a_11ea_90e4_0242ac1c0002row145_col6\" class=\"data row145 col6\" >5</td>\n",
              "            </tr>\n",
              "            <tr>\n",
              "                        <th id=\"T_f13b9c0c_9b7a_11ea_90e4_0242ac1c0002level0_row146\" class=\"row_heading level0 row146\" >146</th>\n",
              "                        <td id=\"T_f13b9c0c_9b7a_11ea_90e4_0242ac1c0002row146_col0\" class=\"data row146 col0\" >156</td>\n",
              "                        <td id=\"T_f13b9c0c_9b7a_11ea_90e4_0242ac1c0002row146_col1\" class=\"data row146 col1\" >South Sudan</td>\n",
              "                        <td id=\"T_f13b9c0c_9b7a_11ea_90e4_0242ac1c0002row146_col2\" class=\"data row146 col2\" >120</td>\n",
              "                        <td id=\"T_f13b9c0c_9b7a_11ea_90e4_0242ac1c0002row146_col3\" class=\"data row146 col3\" >0</td>\n",
              "                        <td id=\"T_f13b9c0c_9b7a_11ea_90e4_0242ac1c0002row146_col4\" class=\"data row146 col4\" >2</td>\n",
              "                        <td id=\"T_f13b9c0c_9b7a_11ea_90e4_0242ac1c0002row146_col5\" class=\"data row146 col5\" >118</td>\n",
              "                        <td id=\"T_f13b9c0c_9b7a_11ea_90e4_0242ac1c0002row146_col6\" class=\"data row146 col6\" >0</td>\n",
              "            </tr>\n",
              "            <tr>\n",
              "                        <th id=\"T_f13b9c0c_9b7a_11ea_90e4_0242ac1c0002level0_row147\" class=\"row_heading level0 row147\" >147</th>\n",
              "                        <td id=\"T_f13b9c0c_9b7a_11ea_90e4_0242ac1c0002row147_col0\" class=\"data row147 col0\" >170</td>\n",
              "                        <td id=\"T_f13b9c0c_9b7a_11ea_90e4_0242ac1c0002row147_col1\" class=\"data row147 col1\" >Trinidad and Tobago</td>\n",
              "                        <td id=\"T_f13b9c0c_9b7a_11ea_90e4_0242ac1c0002row147_col2\" class=\"data row147 col2\" >116</td>\n",
              "                        <td id=\"T_f13b9c0c_9b7a_11ea_90e4_0242ac1c0002row147_col3\" class=\"data row147 col3\" >8</td>\n",
              "                        <td id=\"T_f13b9c0c_9b7a_11ea_90e4_0242ac1c0002row147_col4\" class=\"data row147 col4\" >107</td>\n",
              "                        <td id=\"T_f13b9c0c_9b7a_11ea_90e4_0242ac1c0002row147_col5\" class=\"data row147 col5\" >1</td>\n",
              "                        <td id=\"T_f13b9c0c_9b7a_11ea_90e4_0242ac1c0002row147_col6\" class=\"data row147 col6\" >0</td>\n",
              "            </tr>\n",
              "            <tr>\n",
              "                        <th id=\"T_f13b9c0c_9b7a_11ea_90e4_0242ac1c0002level0_row148\" class=\"row_heading level0 row148\" >148</th>\n",
              "                        <td id=\"T_f13b9c0c_9b7a_11ea_90e4_0242ac1c0002row148_col0\" class=\"data row148 col0\" >119</td>\n",
              "                        <td id=\"T_f13b9c0c_9b7a_11ea_90e4_0242ac1c0002row148_col1\" class=\"data row148 col1\" >Nepal</td>\n",
              "                        <td id=\"T_f13b9c0c_9b7a_11ea_90e4_0242ac1c0002row148_col2\" class=\"data row148 col2\" >110</td>\n",
              "                        <td id=\"T_f13b9c0c_9b7a_11ea_90e4_0242ac1c0002row148_col3\" class=\"data row148 col3\" >0</td>\n",
              "                        <td id=\"T_f13b9c0c_9b7a_11ea_90e4_0242ac1c0002row148_col4\" class=\"data row148 col4\" >31</td>\n",
              "                        <td id=\"T_f13b9c0c_9b7a_11ea_90e4_0242ac1c0002row148_col5\" class=\"data row148 col5\" >79</td>\n",
              "                        <td id=\"T_f13b9c0c_9b7a_11ea_90e4_0242ac1c0002row148_col6\" class=\"data row148 col6\" >0</td>\n",
              "            </tr>\n",
              "            <tr>\n",
              "                        <th id=\"T_f13b9c0c_9b7a_11ea_90e4_0242ac1c0002level0_row149\" class=\"row_heading level0 row149\" >149</th>\n",
              "                        <td id=\"T_f13b9c0c_9b7a_11ea_90e4_0242ac1c0002row149_col0\" class=\"data row149 col0\" >73</td>\n",
              "                        <td id=\"T_f13b9c0c_9b7a_11ea_90e4_0242ac1c0002row149_col1\" class=\"data row149 col1\" >Guyana</td>\n",
              "                        <td id=\"T_f13b9c0c_9b7a_11ea_90e4_0242ac1c0002row149_col2\" class=\"data row149 col2\" >104</td>\n",
              "                        <td id=\"T_f13b9c0c_9b7a_11ea_90e4_0242ac1c0002row149_col3\" class=\"data row149 col3\" >10</td>\n",
              "                        <td id=\"T_f13b9c0c_9b7a_11ea_90e4_0242ac1c0002row149_col4\" class=\"data row149 col4\" >35</td>\n",
              "                        <td id=\"T_f13b9c0c_9b7a_11ea_90e4_0242ac1c0002row149_col5\" class=\"data row149 col5\" >59</td>\n",
              "                        <td id=\"T_f13b9c0c_9b7a_11ea_90e4_0242ac1c0002row149_col6\" class=\"data row149 col6\" >10</td>\n",
              "            </tr>\n",
              "            <tr>\n",
              "                        <th id=\"T_f13b9c0c_9b7a_11ea_90e4_0242ac1c0002level0_row150\" class=\"row_heading level0 row150\" >150</th>\n",
              "                        <td id=\"T_f13b9c0c_9b7a_11ea_90e4_0242ac1c0002row150_col0\" class=\"data row150 col0\" >113</td>\n",
              "                        <td id=\"T_f13b9c0c_9b7a_11ea_90e4_0242ac1c0002row150_col1\" class=\"data row150 col1\" >Monaco</td>\n",
              "                        <td id=\"T_f13b9c0c_9b7a_11ea_90e4_0242ac1c0002row150_col2\" class=\"data row150 col2\" >96</td>\n",
              "                        <td id=\"T_f13b9c0c_9b7a_11ea_90e4_0242ac1c0002row150_col3\" class=\"data row150 col3\" >4</td>\n",
              "                        <td id=\"T_f13b9c0c_9b7a_11ea_90e4_0242ac1c0002row150_col4\" class=\"data row150 col4\" >82</td>\n",
              "                        <td id=\"T_f13b9c0c_9b7a_11ea_90e4_0242ac1c0002row150_col5\" class=\"data row150 col5\" >10</td>\n",
              "                        <td id=\"T_f13b9c0c_9b7a_11ea_90e4_0242ac1c0002row150_col6\" class=\"data row150 col6\" >0</td>\n",
              "            </tr>\n",
              "            <tr>\n",
              "                        <th id=\"T_f13b9c0c_9b7a_11ea_90e4_0242ac1c0002level0_row151\" class=\"row_heading level0 row151\" >151</th>\n",
              "                        <td id=\"T_f13b9c0c_9b7a_11ea_90e4_0242ac1c0002row151_col0\" class=\"data row151 col0\" >11</td>\n",
              "                        <td id=\"T_f13b9c0c_9b7a_11ea_90e4_0242ac1c0002row151_col1\" class=\"data row151 col1\" >Bahamas</td>\n",
              "                        <td id=\"T_f13b9c0c_9b7a_11ea_90e4_0242ac1c0002row151_col2\" class=\"data row151 col2\" >92</td>\n",
              "                        <td id=\"T_f13b9c0c_9b7a_11ea_90e4_0242ac1c0002row151_col3\" class=\"data row151 col3\" >11</td>\n",
              "                        <td id=\"T_f13b9c0c_9b7a_11ea_90e4_0242ac1c0002row151_col4\" class=\"data row151 col4\" >37</td>\n",
              "                        <td id=\"T_f13b9c0c_9b7a_11ea_90e4_0242ac1c0002row151_col5\" class=\"data row151 col5\" >44</td>\n",
              "                        <td id=\"T_f13b9c0c_9b7a_11ea_90e4_0242ac1c0002row151_col6\" class=\"data row151 col6\" >0</td>\n",
              "            </tr>\n",
              "            <tr>\n",
              "                        <th id=\"T_f13b9c0c_9b7a_11ea_90e4_0242ac1c0002level0_row152\" class=\"row_heading level0 row152\" >152</th>\n",
              "                        <td id=\"T_f13b9c0c_9b7a_11ea_90e4_0242ac1c0002row152_col0\" class=\"data row152 col0\" >117</td>\n",
              "                        <td id=\"T_f13b9c0c_9b7a_11ea_90e4_0242ac1c0002row152_col1\" class=\"data row152 col1\" >Mozambique</td>\n",
              "                        <td id=\"T_f13b9c0c_9b7a_11ea_90e4_0242ac1c0002row152_col2\" class=\"data row152 col2\" >91</td>\n",
              "                        <td id=\"T_f13b9c0c_9b7a_11ea_90e4_0242ac1c0002row152_col3\" class=\"data row152 col3\" >0</td>\n",
              "                        <td id=\"T_f13b9c0c_9b7a_11ea_90e4_0242ac1c0002row152_col4\" class=\"data row152 col4\" >0</td>\n",
              "                        <td id=\"T_f13b9c0c_9b7a_11ea_90e4_0242ac1c0002row152_col5\" class=\"data row152 col5\" >91</td>\n",
              "                        <td id=\"T_f13b9c0c_9b7a_11ea_90e4_0242ac1c0002row152_col6\" class=\"data row152 col6\" >4</td>\n",
              "            </tr>\n",
              "            <tr>\n",
              "                        <th id=\"T_f13b9c0c_9b7a_11ea_90e4_0242ac1c0002level0_row153\" class=\"row_heading level0 row153\" >153</th>\n",
              "                        <td id=\"T_f13b9c0c_9b7a_11ea_90e4_0242ac1c0002row153_col0\" class=\"data row153 col0\" >14</td>\n",
              "                        <td id=\"T_f13b9c0c_9b7a_11ea_90e4_0242ac1c0002row153_col1\" class=\"data row153 col1\" >Barbados</td>\n",
              "                        <td id=\"T_f13b9c0c_9b7a_11ea_90e4_0242ac1c0002row153_col2\" class=\"data row153 col2\" >84</td>\n",
              "                        <td id=\"T_f13b9c0c_9b7a_11ea_90e4_0242ac1c0002row153_col3\" class=\"data row153 col3\" >7</td>\n",
              "                        <td id=\"T_f13b9c0c_9b7a_11ea_90e4_0242ac1c0002row153_col4\" class=\"data row153 col4\" >57</td>\n",
              "                        <td id=\"T_f13b9c0c_9b7a_11ea_90e4_0242ac1c0002row153_col5\" class=\"data row153 col5\" >20</td>\n",
              "                        <td id=\"T_f13b9c0c_9b7a_11ea_90e4_0242ac1c0002row153_col6\" class=\"data row153 col6\" >0</td>\n",
              "            </tr>\n",
              "            <tr>\n",
              "                        <th id=\"T_f13b9c0c_9b7a_11ea_90e4_0242ac1c0002level0_row154\" class=\"row_heading level0 row154\" >154</th>\n",
              "                        <td id=\"T_f13b9c0c_9b7a_11ea_90e4_0242ac1c0002row154_col0\" class=\"data row154 col0\" >99</td>\n",
              "                        <td id=\"T_f13b9c0c_9b7a_11ea_90e4_0242ac1c0002row154_col1\" class=\"data row154 col1\" >Liechtenstein</td>\n",
              "                        <td id=\"T_f13b9c0c_9b7a_11ea_90e4_0242ac1c0002row154_col2\" class=\"data row154 col2\" >82</td>\n",
              "                        <td id=\"T_f13b9c0c_9b7a_11ea_90e4_0242ac1c0002row154_col3\" class=\"data row154 col3\" >1</td>\n",
              "                        <td id=\"T_f13b9c0c_9b7a_11ea_90e4_0242ac1c0002row154_col4\" class=\"data row154 col4\" >55</td>\n",
              "                        <td id=\"T_f13b9c0c_9b7a_11ea_90e4_0242ac1c0002row154_col5\" class=\"data row154 col5\" >26</td>\n",
              "                        <td id=\"T_f13b9c0c_9b7a_11ea_90e4_0242ac1c0002row154_col6\" class=\"data row154 col6\" >0</td>\n",
              "            </tr>\n",
              "            <tr>\n",
              "                        <th id=\"T_f13b9c0c_9b7a_11ea_90e4_0242ac1c0002level0_row155\" class=\"row_heading level0 row155\" >155</th>\n",
              "                        <td id=\"T_f13b9c0c_9b7a_11ea_90e4_0242ac1c0002row155_col0\" class=\"data row155 col0\" >98</td>\n",
              "                        <td id=\"T_f13b9c0c_9b7a_11ea_90e4_0242ac1c0002row155_col1\" class=\"data row155 col1\" >Libya</td>\n",
              "                        <td id=\"T_f13b9c0c_9b7a_11ea_90e4_0242ac1c0002row155_col2\" class=\"data row155 col2\" >64</td>\n",
              "                        <td id=\"T_f13b9c0c_9b7a_11ea_90e4_0242ac1c0002row155_col3\" class=\"data row155 col3\" >3</td>\n",
              "                        <td id=\"T_f13b9c0c_9b7a_11ea_90e4_0242ac1c0002row155_col4\" class=\"data row155 col4\" >24</td>\n",
              "                        <td id=\"T_f13b9c0c_9b7a_11ea_90e4_0242ac1c0002row155_col5\" class=\"data row155 col5\" >37</td>\n",
              "                        <td id=\"T_f13b9c0c_9b7a_11ea_90e4_0242ac1c0002row155_col6\" class=\"data row155 col6\" >0</td>\n",
              "            </tr>\n",
              "            <tr>\n",
              "                        <th id=\"T_f13b9c0c_9b7a_11ea_90e4_0242ac1c0002level0_row156\" class=\"row_heading level0 row156\" >156</th>\n",
              "                        <td id=\"T_f13b9c0c_9b7a_11ea_90e4_0242ac1c0002row156_col0\" class=\"data row156 col0\" >104</td>\n",
              "                        <td id=\"T_f13b9c0c_9b7a_11ea_90e4_0242ac1c0002row156_col1\" class=\"data row156 col1\" >Malawi</td>\n",
              "                        <td id=\"T_f13b9c0c_9b7a_11ea_90e4_0242ac1c0002row156_col2\" class=\"data row156 col2\" >56</td>\n",
              "                        <td id=\"T_f13b9c0c_9b7a_11ea_90e4_0242ac1c0002row156_col3\" class=\"data row156 col3\" >3</td>\n",
              "                        <td id=\"T_f13b9c0c_9b7a_11ea_90e4_0242ac1c0002row156_col4\" class=\"data row156 col4\" >14</td>\n",
              "                        <td id=\"T_f13b9c0c_9b7a_11ea_90e4_0242ac1c0002row156_col5\" class=\"data row156 col5\" >39</td>\n",
              "                        <td id=\"T_f13b9c0c_9b7a_11ea_90e4_0242ac1c0002row156_col6\" class=\"data row156 col6\" >0</td>\n",
              "            </tr>\n",
              "            <tr>\n",
              "                        <th id=\"T_f13b9c0c_9b7a_11ea_90e4_0242ac1c0002level0_row157\" class=\"row_heading level0 row157\" >157</th>\n",
              "                        <td id=\"T_f13b9c0c_9b7a_11ea_90e4_0242ac1c0002row157_col0\" class=\"data row157 col0\" >184</td>\n",
              "                        <td id=\"T_f13b9c0c_9b7a_11ea_90e4_0242ac1c0002row157_col1\" class=\"data row157 col1\" >Yemen</td>\n",
              "                        <td id=\"T_f13b9c0c_9b7a_11ea_90e4_0242ac1c0002row157_col2\" class=\"data row157 col2\" >51</td>\n",
              "                        <td id=\"T_f13b9c0c_9b7a_11ea_90e4_0242ac1c0002row157_col3\" class=\"data row157 col3\" >8</td>\n",
              "                        <td id=\"T_f13b9c0c_9b7a_11ea_90e4_0242ac1c0002row157_col4\" class=\"data row157 col4\" >1</td>\n",
              "                        <td id=\"T_f13b9c0c_9b7a_11ea_90e4_0242ac1c0002row157_col5\" class=\"data row157 col5\" >42</td>\n",
              "                        <td id=\"T_f13b9c0c_9b7a_11ea_90e4_0242ac1c0002row157_col6\" class=\"data row157 col6\" >17</td>\n",
              "            </tr>\n",
              "            <tr>\n",
              "                        <th id=\"T_f13b9c0c_9b7a_11ea_90e4_0242ac1c0002level0_row158\" class=\"row_heading level0 row158\" >158</th>\n",
              "                        <td id=\"T_f13b9c0c_9b7a_11ea_90e4_0242ac1c0002row158_col0\" class=\"data row158 col0\" >163</td>\n",
              "                        <td id=\"T_f13b9c0c_9b7a_11ea_90e4_0242ac1c0002row158_col1\" class=\"data row158 col1\" >Syria</td>\n",
              "                        <td id=\"T_f13b9c0c_9b7a_11ea_90e4_0242ac1c0002row158_col2\" class=\"data row158 col2\" >47</td>\n",
              "                        <td id=\"T_f13b9c0c_9b7a_11ea_90e4_0242ac1c0002row158_col3\" class=\"data row158 col3\" >3</td>\n",
              "                        <td id=\"T_f13b9c0c_9b7a_11ea_90e4_0242ac1c0002row158_col4\" class=\"data row158 col4\" >0</td>\n",
              "                        <td id=\"T_f13b9c0c_9b7a_11ea_90e4_0242ac1c0002row158_col5\" class=\"data row158 col5\" >44</td>\n",
              "                        <td id=\"T_f13b9c0c_9b7a_11ea_90e4_0242ac1c0002row158_col6\" class=\"data row158 col6\" >0</td>\n",
              "            </tr>\n",
              "            <tr>\n",
              "                        <th id=\"T_f13b9c0c_9b7a_11ea_90e4_0242ac1c0002level0_row159\" class=\"row_heading level0 row159\" >159</th>\n",
              "                        <td id=\"T_f13b9c0c_9b7a_11ea_90e4_0242ac1c0002row159_col0\" class=\"data row159 col0\" >4</td>\n",
              "                        <td id=\"T_f13b9c0c_9b7a_11ea_90e4_0242ac1c0002row159_col1\" class=\"data row159 col1\" >Angola</td>\n",
              "                        <td id=\"T_f13b9c0c_9b7a_11ea_90e4_0242ac1c0002row159_col2\" class=\"data row159 col2\" >45</td>\n",
              "                        <td id=\"T_f13b9c0c_9b7a_11ea_90e4_0242ac1c0002row159_col3\" class=\"data row159 col3\" >2</td>\n",
              "                        <td id=\"T_f13b9c0c_9b7a_11ea_90e4_0242ac1c0002row159_col4\" class=\"data row159 col4\" >13</td>\n",
              "                        <td id=\"T_f13b9c0c_9b7a_11ea_90e4_0242ac1c0002row159_col5\" class=\"data row159 col5\" >30</td>\n",
              "                        <td id=\"T_f13b9c0c_9b7a_11ea_90e4_0242ac1c0002row159_col6\" class=\"data row159 col6\" >2</td>\n",
              "            </tr>\n",
              "            <tr>\n",
              "                        <th id=\"T_f13b9c0c_9b7a_11ea_90e4_0242ac1c0002level0_row160\" class=\"row_heading level0 row160\" >160</th>\n",
              "                        <td id=\"T_f13b9c0c_9b7a_11ea_90e4_0242ac1c0002row160_col0\" class=\"data row160 col0\" >114</td>\n",
              "                        <td id=\"T_f13b9c0c_9b7a_11ea_90e4_0242ac1c0002row160_col1\" class=\"data row160 col1\" >Mongolia</td>\n",
              "                        <td id=\"T_f13b9c0c_9b7a_11ea_90e4_0242ac1c0002row160_col2\" class=\"data row160 col2\" >42</td>\n",
              "                        <td id=\"T_f13b9c0c_9b7a_11ea_90e4_0242ac1c0002row160_col3\" class=\"data row160 col3\" >0</td>\n",
              "                        <td id=\"T_f13b9c0c_9b7a_11ea_90e4_0242ac1c0002row160_col4\" class=\"data row160 col4\" >14</td>\n",
              "                        <td id=\"T_f13b9c0c_9b7a_11ea_90e4_0242ac1c0002row160_col5\" class=\"data row160 col5\" >28</td>\n",
              "                        <td id=\"T_f13b9c0c_9b7a_11ea_90e4_0242ac1c0002row160_col6\" class=\"data row160 col6\" >0</td>\n",
              "            </tr>\n",
              "            <tr>\n",
              "                        <th id=\"T_f13b9c0c_9b7a_11ea_90e4_0242ac1c0002level0_row161\" class=\"row_heading level0 row161\" >161</th>\n",
              "                        <td id=\"T_f13b9c0c_9b7a_11ea_90e4_0242ac1c0002row161_col0\" class=\"data row161 col0\" >56</td>\n",
              "                        <td id=\"T_f13b9c0c_9b7a_11ea_90e4_0242ac1c0002row161_col1\" class=\"data row161 col1\" >Eritrea</td>\n",
              "                        <td id=\"T_f13b9c0c_9b7a_11ea_90e4_0242ac1c0002row161_col2\" class=\"data row161 col2\" >39</td>\n",
              "                        <td id=\"T_f13b9c0c_9b7a_11ea_90e4_0242ac1c0002row161_col3\" class=\"data row161 col3\" >0</td>\n",
              "                        <td id=\"T_f13b9c0c_9b7a_11ea_90e4_0242ac1c0002row161_col4\" class=\"data row161 col4\" >37</td>\n",
              "                        <td id=\"T_f13b9c0c_9b7a_11ea_90e4_0242ac1c0002row161_col5\" class=\"data row161 col5\" >2</td>\n",
              "                        <td id=\"T_f13b9c0c_9b7a_11ea_90e4_0242ac1c0002row161_col6\" class=\"data row161 col6\" >0</td>\n",
              "            </tr>\n",
              "            <tr>\n",
              "                        <th id=\"T_f13b9c0c_9b7a_11ea_90e4_0242ac1c0002level0_row162\" class=\"row_heading level0 row162\" >162</th>\n",
              "                        <td id=\"T_f13b9c0c_9b7a_11ea_90e4_0242ac1c0002row162_col0\" class=\"data row162 col0\" >186</td>\n",
              "                        <td id=\"T_f13b9c0c_9b7a_11ea_90e4_0242ac1c0002row162_col1\" class=\"data row162 col1\" >Zimbabwe</td>\n",
              "                        <td id=\"T_f13b9c0c_9b7a_11ea_90e4_0242ac1c0002row162_col2\" class=\"data row162 col2\" >36</td>\n",
              "                        <td id=\"T_f13b9c0c_9b7a_11ea_90e4_0242ac1c0002row162_col3\" class=\"data row162 col3\" >4</td>\n",
              "                        <td id=\"T_f13b9c0c_9b7a_11ea_90e4_0242ac1c0002row162_col4\" class=\"data row162 col4\" >9</td>\n",
              "                        <td id=\"T_f13b9c0c_9b7a_11ea_90e4_0242ac1c0002row162_col5\" class=\"data row162 col5\" >23</td>\n",
              "                        <td id=\"T_f13b9c0c_9b7a_11ea_90e4_0242ac1c0002row162_col6\" class=\"data row162 col6\" >1</td>\n",
              "            </tr>\n",
              "            <tr>\n",
              "                        <th id=\"T_f13b9c0c_9b7a_11ea_90e4_0242ac1c0002level0_row163\" class=\"row_heading level0 row163\" >163</th>\n",
              "                        <td id=\"T_f13b9c0c_9b7a_11ea_90e4_0242ac1c0002row163_col0\" class=\"data row163 col0\" >5</td>\n",
              "                        <td id=\"T_f13b9c0c_9b7a_11ea_90e4_0242ac1c0002row163_col1\" class=\"data row163 col1\" >Antigua and Barbuda</td>\n",
              "                        <td id=\"T_f13b9c0c_9b7a_11ea_90e4_0242ac1c0002row163_col2\" class=\"data row163 col2\" >25</td>\n",
              "                        <td id=\"T_f13b9c0c_9b7a_11ea_90e4_0242ac1c0002row163_col3\" class=\"data row163 col3\" >3</td>\n",
              "                        <td id=\"T_f13b9c0c_9b7a_11ea_90e4_0242ac1c0002row163_col4\" class=\"data row163 col4\" >19</td>\n",
              "                        <td id=\"T_f13b9c0c_9b7a_11ea_90e4_0242ac1c0002row163_col5\" class=\"data row163 col5\" >3</td>\n",
              "                        <td id=\"T_f13b9c0c_9b7a_11ea_90e4_0242ac1c0002row163_col6\" class=\"data row163 col6\" >0</td>\n",
              "            </tr>\n",
              "            <tr>\n",
              "                        <th id=\"T_f13b9c0c_9b7a_11ea_90e4_0242ac1c0002level0_row164\" class=\"row_heading level0 row164\" >164</th>\n",
              "                        <td id=\"T_f13b9c0c_9b7a_11ea_90e4_0242ac1c0002row164_col0\" class=\"data row164 col0\" >168</td>\n",
              "                        <td id=\"T_f13b9c0c_9b7a_11ea_90e4_0242ac1c0002row164_col1\" class=\"data row164 col1\" >Timor-Leste</td>\n",
              "                        <td id=\"T_f13b9c0c_9b7a_11ea_90e4_0242ac1c0002row164_col2\" class=\"data row164 col2\" >24</td>\n",
              "                        <td id=\"T_f13b9c0c_9b7a_11ea_90e4_0242ac1c0002row164_col3\" class=\"data row164 col3\" >0</td>\n",
              "                        <td id=\"T_f13b9c0c_9b7a_11ea_90e4_0242ac1c0002row164_col4\" class=\"data row164 col4\" >0</td>\n",
              "                        <td id=\"T_f13b9c0c_9b7a_11ea_90e4_0242ac1c0002row164_col5\" class=\"data row164 col5\" >24</td>\n",
              "                        <td id=\"T_f13b9c0c_9b7a_11ea_90e4_0242ac1c0002row164_col6\" class=\"data row164 col6\" >0</td>\n",
              "            </tr>\n",
              "            <tr>\n",
              "                        <th id=\"T_f13b9c0c_9b7a_11ea_90e4_0242ac1c0002level0_row165\" class=\"row_heading level0 row165\" >165</th>\n",
              "                        <td id=\"T_f13b9c0c_9b7a_11ea_90e4_0242ac1c0002row165_col0\" class=\"data row165 col0\" >22</td>\n",
              "                        <td id=\"T_f13b9c0c_9b7a_11ea_90e4_0242ac1c0002row165_col1\" class=\"data row165 col1\" >Botswana</td>\n",
              "                        <td id=\"T_f13b9c0c_9b7a_11ea_90e4_0242ac1c0002row165_col2\" class=\"data row165 col2\" >23</td>\n",
              "                        <td id=\"T_f13b9c0c_9b7a_11ea_90e4_0242ac1c0002row165_col3\" class=\"data row165 col3\" >1</td>\n",
              "                        <td id=\"T_f13b9c0c_9b7a_11ea_90e4_0242ac1c0002row165_col4\" class=\"data row165 col4\" >12</td>\n",
              "                        <td id=\"T_f13b9c0c_9b7a_11ea_90e4_0242ac1c0002row165_col5\" class=\"data row165 col5\" >10</td>\n",
              "                        <td id=\"T_f13b9c0c_9b7a_11ea_90e4_0242ac1c0002row165_col6\" class=\"data row165 col6\" >0</td>\n",
              "            </tr>\n",
              "            <tr>\n",
              "                        <th id=\"T_f13b9c0c_9b7a_11ea_90e4_0242ac1c0002level0_row166\" class=\"row_heading level0 row166\" >166</th>\n",
              "                        <td id=\"T_f13b9c0c_9b7a_11ea_90e4_0242ac1c0002row166_col0\" class=\"data row166 col0\" >69</td>\n",
              "                        <td id=\"T_f13b9c0c_9b7a_11ea_90e4_0242ac1c0002row166_col1\" class=\"data row166 col1\" >Grenada</td>\n",
              "                        <td id=\"T_f13b9c0c_9b7a_11ea_90e4_0242ac1c0002row166_col2\" class=\"data row166 col2\" >21</td>\n",
              "                        <td id=\"T_f13b9c0c_9b7a_11ea_90e4_0242ac1c0002row166_col3\" class=\"data row166 col3\" >0</td>\n",
              "                        <td id=\"T_f13b9c0c_9b7a_11ea_90e4_0242ac1c0002row166_col4\" class=\"data row166 col4\" >13</td>\n",
              "                        <td id=\"T_f13b9c0c_9b7a_11ea_90e4_0242ac1c0002row166_col5\" class=\"data row166 col5\" >8</td>\n",
              "                        <td id=\"T_f13b9c0c_9b7a_11ea_90e4_0242ac1c0002row166_col6\" class=\"data row166 col6\" >0</td>\n",
              "            </tr>\n",
              "            <tr>\n",
              "                        <th id=\"T_f13b9c0c_9b7a_11ea_90e4_0242ac1c0002level0_row167\" class=\"row_heading level0 row167\" >167</th>\n",
              "                        <td id=\"T_f13b9c0c_9b7a_11ea_90e4_0242ac1c0002row167_col0\" class=\"data row167 col0\" >64</td>\n",
              "                        <td id=\"T_f13b9c0c_9b7a_11ea_90e4_0242ac1c0002row167_col1\" class=\"data row167 col1\" >Gambia</td>\n",
              "                        <td id=\"T_f13b9c0c_9b7a_11ea_90e4_0242ac1c0002row167_col2\" class=\"data row167 col2\" >20</td>\n",
              "                        <td id=\"T_f13b9c0c_9b7a_11ea_90e4_0242ac1c0002row167_col3\" class=\"data row167 col3\" >1</td>\n",
              "                        <td id=\"T_f13b9c0c_9b7a_11ea_90e4_0242ac1c0002row167_col4\" class=\"data row167 col4\" >9</td>\n",
              "                        <td id=\"T_f13b9c0c_9b7a_11ea_90e4_0242ac1c0002row167_col5\" class=\"data row167 col5\" >10</td>\n",
              "                        <td id=\"T_f13b9c0c_9b7a_11ea_90e4_0242ac1c0002row167_col6\" class=\"data row167 col6\" >0</td>\n",
              "            </tr>\n",
              "            <tr>\n",
              "                        <th id=\"T_f13b9c0c_9b7a_11ea_90e4_0242ac1c0002level0_row168\" class=\"row_heading level0 row168\" >168</th>\n",
              "                        <td id=\"T_f13b9c0c_9b7a_11ea_90e4_0242ac1c0002row168_col0\" class=\"data row168 col0\" >94</td>\n",
              "                        <td id=\"T_f13b9c0c_9b7a_11ea_90e4_0242ac1c0002row168_col1\" class=\"data row168 col1\" >Laos</td>\n",
              "                        <td id=\"T_f13b9c0c_9b7a_11ea_90e4_0242ac1c0002row168_col2\" class=\"data row168 col2\" >19</td>\n",
              "                        <td id=\"T_f13b9c0c_9b7a_11ea_90e4_0242ac1c0002row168_col3\" class=\"data row168 col3\" >0</td>\n",
              "                        <td id=\"T_f13b9c0c_9b7a_11ea_90e4_0242ac1c0002row168_col4\" class=\"data row168 col4\" >13</td>\n",
              "                        <td id=\"T_f13b9c0c_9b7a_11ea_90e4_0242ac1c0002row168_col5\" class=\"data row168 col5\" >6</td>\n",
              "                        <td id=\"T_f13b9c0c_9b7a_11ea_90e4_0242ac1c0002row168_col6\" class=\"data row168 col6\" >0</td>\n",
              "            </tr>\n",
              "            <tr>\n",
              "                        <th id=\"T_f13b9c0c_9b7a_11ea_90e4_0242ac1c0002level0_row169\" class=\"row_heading level0 row169\" >169</th>\n",
              "                        <td id=\"T_f13b9c0c_9b7a_11ea_90e4_0242ac1c0002row169_col0\" class=\"data row169 col0\" >141</td>\n",
              "                        <td id=\"T_f13b9c0c_9b7a_11ea_90e4_0242ac1c0002row169_col1\" class=\"data row169 col1\" >Saint Lucia</td>\n",
              "                        <td id=\"T_f13b9c0c_9b7a_11ea_90e4_0242ac1c0002row169_col2\" class=\"data row169 col2\" >18</td>\n",
              "                        <td id=\"T_f13b9c0c_9b7a_11ea_90e4_0242ac1c0002row169_col3\" class=\"data row169 col3\" >0</td>\n",
              "                        <td id=\"T_f13b9c0c_9b7a_11ea_90e4_0242ac1c0002row169_col4\" class=\"data row169 col4\" >17</td>\n",
              "                        <td id=\"T_f13b9c0c_9b7a_11ea_90e4_0242ac1c0002row169_col5\" class=\"data row169 col5\" >1</td>\n",
              "                        <td id=\"T_f13b9c0c_9b7a_11ea_90e4_0242ac1c0002row169_col6\" class=\"data row169 col6\" >0</td>\n",
              "            </tr>\n",
              "            <tr>\n",
              "                        <th id=\"T_f13b9c0c_9b7a_11ea_90e4_0242ac1c0002level0_row170\" class=\"row_heading level0 row170\" >170</th>\n",
              "                        <td id=\"T_f13b9c0c_9b7a_11ea_90e4_0242ac1c0002row170_col0\" class=\"data row170 col0\" >17</td>\n",
              "                        <td id=\"T_f13b9c0c_9b7a_11ea_90e4_0242ac1c0002row170_col1\" class=\"data row170 col1\" >Belize</td>\n",
              "                        <td id=\"T_f13b9c0c_9b7a_11ea_90e4_0242ac1c0002row170_col2\" class=\"data row170 col2\" >18</td>\n",
              "                        <td id=\"T_f13b9c0c_9b7a_11ea_90e4_0242ac1c0002row170_col3\" class=\"data row170 col3\" >2</td>\n",
              "                        <td id=\"T_f13b9c0c_9b7a_11ea_90e4_0242ac1c0002row170_col4\" class=\"data row170 col4\" >16</td>\n",
              "                        <td id=\"T_f13b9c0c_9b7a_11ea_90e4_0242ac1c0002row170_col5\" class=\"data row170 col5\" >0</td>\n",
              "                        <td id=\"T_f13b9c0c_9b7a_11ea_90e4_0242ac1c0002row170_col6\" class=\"data row170 col6\" >0</td>\n",
              "            </tr>\n",
              "            <tr>\n",
              "                        <th id=\"T_f13b9c0c_9b7a_11ea_90e4_0242ac1c0002level0_row171\" class=\"row_heading level0 row171\" >171</th>\n",
              "                        <td id=\"T_f13b9c0c_9b7a_11ea_90e4_0242ac1c0002row171_col0\" class=\"data row171 col0\" >60</td>\n",
              "                        <td id=\"T_f13b9c0c_9b7a_11ea_90e4_0242ac1c0002row171_col1\" class=\"data row171 col1\" >Fiji</td>\n",
              "                        <td id=\"T_f13b9c0c_9b7a_11ea_90e4_0242ac1c0002row171_col2\" class=\"data row171 col2\" >18</td>\n",
              "                        <td id=\"T_f13b9c0c_9b7a_11ea_90e4_0242ac1c0002row171_col3\" class=\"data row171 col3\" >0</td>\n",
              "                        <td id=\"T_f13b9c0c_9b7a_11ea_90e4_0242ac1c0002row171_col4\" class=\"data row171 col4\" >14</td>\n",
              "                        <td id=\"T_f13b9c0c_9b7a_11ea_90e4_0242ac1c0002row171_col5\" class=\"data row171 col5\" >4</td>\n",
              "                        <td id=\"T_f13b9c0c_9b7a_11ea_90e4_0242ac1c0002row171_col6\" class=\"data row171 col6\" >0</td>\n",
              "            </tr>\n",
              "            <tr>\n",
              "                        <th id=\"T_f13b9c0c_9b7a_11ea_90e4_0242ac1c0002level0_row172\" class=\"row_heading level0 row172\" >172</th>\n",
              "                        <td id=\"T_f13b9c0c_9b7a_11ea_90e4_0242ac1c0002row172_col0\" class=\"data row172 col0\" >142</td>\n",
              "                        <td id=\"T_f13b9c0c_9b7a_11ea_90e4_0242ac1c0002row172_col1\" class=\"data row172 col1\" >Saint Vincent and the Grenadines</td>\n",
              "                        <td id=\"T_f13b9c0c_9b7a_11ea_90e4_0242ac1c0002row172_col2\" class=\"data row172 col2\" >17</td>\n",
              "                        <td id=\"T_f13b9c0c_9b7a_11ea_90e4_0242ac1c0002row172_col3\" class=\"data row172 col3\" >0</td>\n",
              "                        <td id=\"T_f13b9c0c_9b7a_11ea_90e4_0242ac1c0002row172_col4\" class=\"data row172 col4\" >9</td>\n",
              "                        <td id=\"T_f13b9c0c_9b7a_11ea_90e4_0242ac1c0002row172_col5\" class=\"data row172 col5\" >8</td>\n",
              "                        <td id=\"T_f13b9c0c_9b7a_11ea_90e4_0242ac1c0002row172_col6\" class=\"data row172 col6\" >0</td>\n",
              "            </tr>\n",
              "            <tr>\n",
              "                        <th id=\"T_f13b9c0c_9b7a_11ea_90e4_0242ac1c0002level0_row173\" class=\"row_heading level0 row173\" >173</th>\n",
              "                        <td id=\"T_f13b9c0c_9b7a_11ea_90e4_0242ac1c0002row173_col0\" class=\"data row173 col0\" >118</td>\n",
              "                        <td id=\"T_f13b9c0c_9b7a_11ea_90e4_0242ac1c0002row173_col1\" class=\"data row173 col1\" >Namibia</td>\n",
              "                        <td id=\"T_f13b9c0c_9b7a_11ea_90e4_0242ac1c0002row173_col2\" class=\"data row173 col2\" >16</td>\n",
              "                        <td id=\"T_f13b9c0c_9b7a_11ea_90e4_0242ac1c0002row173_col3\" class=\"data row173 col3\" >0</td>\n",
              "                        <td id=\"T_f13b9c0c_9b7a_11ea_90e4_0242ac1c0002row173_col4\" class=\"data row173 col4\" >11</td>\n",
              "                        <td id=\"T_f13b9c0c_9b7a_11ea_90e4_0242ac1c0002row173_col5\" class=\"data row173 col5\" >5</td>\n",
              "                        <td id=\"T_f13b9c0c_9b7a_11ea_90e4_0242ac1c0002row173_col6\" class=\"data row173 col6\" >0</td>\n",
              "            </tr>\n",
              "            <tr>\n",
              "                        <th id=\"T_f13b9c0c_9b7a_11ea_90e4_0242ac1c0002level0_row174\" class=\"row_heading level0 row174\" >174</th>\n",
              "                        <td id=\"T_f13b9c0c_9b7a_11ea_90e4_0242ac1c0002row174_col0\" class=\"data row174 col0\" >122</td>\n",
              "                        <td id=\"T_f13b9c0c_9b7a_11ea_90e4_0242ac1c0002row174_col1\" class=\"data row174 col1\" >Nicaragua</td>\n",
              "                        <td id=\"T_f13b9c0c_9b7a_11ea_90e4_0242ac1c0002row174_col2\" class=\"data row174 col2\" >16</td>\n",
              "                        <td id=\"T_f13b9c0c_9b7a_11ea_90e4_0242ac1c0002row174_col3\" class=\"data row174 col3\" >5</td>\n",
              "                        <td id=\"T_f13b9c0c_9b7a_11ea_90e4_0242ac1c0002row174_col4\" class=\"data row174 col4\" >7</td>\n",
              "                        <td id=\"T_f13b9c0c_9b7a_11ea_90e4_0242ac1c0002row174_col5\" class=\"data row174 col5\" >4</td>\n",
              "                        <td id=\"T_f13b9c0c_9b7a_11ea_90e4_0242ac1c0002row174_col6\" class=\"data row174 col6\" >0</td>\n",
              "            </tr>\n",
              "            <tr>\n",
              "                        <th id=\"T_f13b9c0c_9b7a_11ea_90e4_0242ac1c0002level0_row175\" class=\"row_heading level0 row175\" >175</th>\n",
              "                        <td id=\"T_f13b9c0c_9b7a_11ea_90e4_0242ac1c0002row175_col0\" class=\"data row175 col0\" >50</td>\n",
              "                        <td id=\"T_f13b9c0c_9b7a_11ea_90e4_0242ac1c0002row175_col1\" class=\"data row175 col1\" >Dominica</td>\n",
              "                        <td id=\"T_f13b9c0c_9b7a_11ea_90e4_0242ac1c0002row175_col2\" class=\"data row175 col2\" >16</td>\n",
              "                        <td id=\"T_f13b9c0c_9b7a_11ea_90e4_0242ac1c0002row175_col3\" class=\"data row175 col3\" >0</td>\n",
              "                        <td id=\"T_f13b9c0c_9b7a_11ea_90e4_0242ac1c0002row175_col4\" class=\"data row175 col4\" >15</td>\n",
              "                        <td id=\"T_f13b9c0c_9b7a_11ea_90e4_0242ac1c0002row175_col5\" class=\"data row175 col5\" >1</td>\n",
              "                        <td id=\"T_f13b9c0c_9b7a_11ea_90e4_0242ac1c0002row175_col6\" class=\"data row175 col6\" >0</td>\n",
              "            </tr>\n",
              "            <tr>\n",
              "                        <th id=\"T_f13b9c0c_9b7a_11ea_90e4_0242ac1c0002level0_row176\" class=\"row_heading level0 row176\" >176</th>\n",
              "                        <td id=\"T_f13b9c0c_9b7a_11ea_90e4_0242ac1c0002row176_col0\" class=\"data row176 col0\" >140</td>\n",
              "                        <td id=\"T_f13b9c0c_9b7a_11ea_90e4_0242ac1c0002row176_col1\" class=\"data row176 col1\" >Saint Kitts and Nevis</td>\n",
              "                        <td id=\"T_f13b9c0c_9b7a_11ea_90e4_0242ac1c0002row176_col2\" class=\"data row176 col2\" >15</td>\n",
              "                        <td id=\"T_f13b9c0c_9b7a_11ea_90e4_0242ac1c0002row176_col3\" class=\"data row176 col3\" >0</td>\n",
              "                        <td id=\"T_f13b9c0c_9b7a_11ea_90e4_0242ac1c0002row176_col4\" class=\"data row176 col4\" >14</td>\n",
              "                        <td id=\"T_f13b9c0c_9b7a_11ea_90e4_0242ac1c0002row176_col5\" class=\"data row176 col5\" >1</td>\n",
              "                        <td id=\"T_f13b9c0c_9b7a_11ea_90e4_0242ac1c0002row176_col6\" class=\"data row176 col6\" >0</td>\n",
              "            </tr>\n",
              "            <tr>\n",
              "                        <th id=\"T_f13b9c0c_9b7a_11ea_90e4_0242ac1c0002level0_row177\" class=\"row_heading level0 row177\" >177</th>\n",
              "                        <td id=\"T_f13b9c0c_9b7a_11ea_90e4_0242ac1c0002row177_col0\" class=\"data row177 col0\" >28</td>\n",
              "                        <td id=\"T_f13b9c0c_9b7a_11ea_90e4_0242ac1c0002row177_col1\" class=\"data row177 col1\" >Burundi</td>\n",
              "                        <td id=\"T_f13b9c0c_9b7a_11ea_90e4_0242ac1c0002row177_col2\" class=\"data row177 col2\" >15</td>\n",
              "                        <td id=\"T_f13b9c0c_9b7a_11ea_90e4_0242ac1c0002row177_col3\" class=\"data row177 col3\" >1</td>\n",
              "                        <td id=\"T_f13b9c0c_9b7a_11ea_90e4_0242ac1c0002row177_col4\" class=\"data row177 col4\" >7</td>\n",
              "                        <td id=\"T_f13b9c0c_9b7a_11ea_90e4_0242ac1c0002row177_col5\" class=\"data row177 col5\" >7</td>\n",
              "                        <td id=\"T_f13b9c0c_9b7a_11ea_90e4_0242ac1c0002row177_col6\" class=\"data row177 col6\" >0</td>\n",
              "            </tr>\n",
              "            <tr>\n",
              "                        <th id=\"T_f13b9c0c_9b7a_11ea_90e4_0242ac1c0002level0_row178\" class=\"row_heading level0 row178\" >178</th>\n",
              "                        <td id=\"T_f13b9c0c_9b7a_11ea_90e4_0242ac1c0002row178_col0\" class=\"data row178 col0\" >75</td>\n",
              "                        <td id=\"T_f13b9c0c_9b7a_11ea_90e4_0242ac1c0002row178_col1\" class=\"data row178 col1\" >Holy See</td>\n",
              "                        <td id=\"T_f13b9c0c_9b7a_11ea_90e4_0242ac1c0002row178_col2\" class=\"data row178 col2\" >12</td>\n",
              "                        <td id=\"T_f13b9c0c_9b7a_11ea_90e4_0242ac1c0002row178_col3\" class=\"data row178 col3\" >0</td>\n",
              "                        <td id=\"T_f13b9c0c_9b7a_11ea_90e4_0242ac1c0002row178_col4\" class=\"data row178 col4\" >2</td>\n",
              "                        <td id=\"T_f13b9c0c_9b7a_11ea_90e4_0242ac1c0002row178_col5\" class=\"data row178 col5\" >10</td>\n",
              "                        <td id=\"T_f13b9c0c_9b7a_11ea_90e4_0242ac1c0002row178_col6\" class=\"data row178 col6\" >0</td>\n",
              "            </tr>\n",
              "            <tr>\n",
              "                        <th id=\"T_f13b9c0c_9b7a_11ea_90e4_0242ac1c0002level0_row179\" class=\"row_heading level0 row179\" >179</th>\n",
              "                        <td id=\"T_f13b9c0c_9b7a_11ea_90e4_0242ac1c0002row179_col0\" class=\"data row179 col0\" >148</td>\n",
              "                        <td id=\"T_f13b9c0c_9b7a_11ea_90e4_0242ac1c0002row179_col1\" class=\"data row179 col1\" >Seychelles</td>\n",
              "                        <td id=\"T_f13b9c0c_9b7a_11ea_90e4_0242ac1c0002row179_col2\" class=\"data row179 col2\" >11</td>\n",
              "                        <td id=\"T_f13b9c0c_9b7a_11ea_90e4_0242ac1c0002row179_col3\" class=\"data row179 col3\" >0</td>\n",
              "                        <td id=\"T_f13b9c0c_9b7a_11ea_90e4_0242ac1c0002row179_col4\" class=\"data row179 col4\" >10</td>\n",
              "                        <td id=\"T_f13b9c0c_9b7a_11ea_90e4_0242ac1c0002row179_col5\" class=\"data row179 col5\" >1</td>\n",
              "                        <td id=\"T_f13b9c0c_9b7a_11ea_90e4_0242ac1c0002row179_col6\" class=\"data row179 col6\" >0</td>\n",
              "            </tr>\n",
              "            <tr>\n",
              "                        <th id=\"T_f13b9c0c_9b7a_11ea_90e4_0242ac1c0002level0_row180\" class=\"row_heading level0 row180\" >180</th>\n",
              "                        <td id=\"T_f13b9c0c_9b7a_11ea_90e4_0242ac1c0002row180_col0\" class=\"data row180 col0\" >38</td>\n",
              "                        <td id=\"T_f13b9c0c_9b7a_11ea_90e4_0242ac1c0002row180_col1\" class=\"data row180 col1\" >Comoros</td>\n",
              "                        <td id=\"T_f13b9c0c_9b7a_11ea_90e4_0242ac1c0002row180_col2\" class=\"data row180 col2\" >11</td>\n",
              "                        <td id=\"T_f13b9c0c_9b7a_11ea_90e4_0242ac1c0002row180_col3\" class=\"data row180 col3\" >1</td>\n",
              "                        <td id=\"T_f13b9c0c_9b7a_11ea_90e4_0242ac1c0002row180_col4\" class=\"data row180 col4\" >0</td>\n",
              "                        <td id=\"T_f13b9c0c_9b7a_11ea_90e4_0242ac1c0002row180_col5\" class=\"data row180 col5\" >10</td>\n",
              "                        <td id=\"T_f13b9c0c_9b7a_11ea_90e4_0242ac1c0002row180_col6\" class=\"data row180 col6\" >0</td>\n",
              "            </tr>\n",
              "            <tr>\n",
              "                        <th id=\"T_f13b9c0c_9b7a_11ea_90e4_0242ac1c0002level0_row181\" class=\"row_heading level0 row181\" >181</th>\n",
              "                        <td id=\"T_f13b9c0c_9b7a_11ea_90e4_0242ac1c0002row181_col0\" class=\"data row181 col0\" >160</td>\n",
              "                        <td id=\"T_f13b9c0c_9b7a_11ea_90e4_0242ac1c0002row181_col1\" class=\"data row181 col1\" >Suriname</td>\n",
              "                        <td id=\"T_f13b9c0c_9b7a_11ea_90e4_0242ac1c0002row181_col2\" class=\"data row181 col2\" >10</td>\n",
              "                        <td id=\"T_f13b9c0c_9b7a_11ea_90e4_0242ac1c0002row181_col3\" class=\"data row181 col3\" >1</td>\n",
              "                        <td id=\"T_f13b9c0c_9b7a_11ea_90e4_0242ac1c0002row181_col4\" class=\"data row181 col4\" >9</td>\n",
              "                        <td id=\"T_f13b9c0c_9b7a_11ea_90e4_0242ac1c0002row181_col5\" class=\"data row181 col5\" >0</td>\n",
              "                        <td id=\"T_f13b9c0c_9b7a_11ea_90e4_0242ac1c0002row181_col6\" class=\"data row181 col6\" >0</td>\n",
              "            </tr>\n",
              "            <tr>\n",
              "                        <th id=\"T_f13b9c0c_9b7a_11ea_90e4_0242ac1c0002level0_row182\" class=\"row_heading level0 row182\" >182</th>\n",
              "                        <td id=\"T_f13b9c0c_9b7a_11ea_90e4_0242ac1c0002row182_col0\" class=\"data row182 col0\" >102</td>\n",
              "                        <td id=\"T_f13b9c0c_9b7a_11ea_90e4_0242ac1c0002row182_col1\" class=\"data row182 col1\" >MS Zaandam</td>\n",
              "                        <td id=\"T_f13b9c0c_9b7a_11ea_90e4_0242ac1c0002row182_col2\" class=\"data row182 col2\" >9</td>\n",
              "                        <td id=\"T_f13b9c0c_9b7a_11ea_90e4_0242ac1c0002row182_col3\" class=\"data row182 col3\" >2</td>\n",
              "                        <td id=\"T_f13b9c0c_9b7a_11ea_90e4_0242ac1c0002row182_col4\" class=\"data row182 col4\" >0</td>\n",
              "                        <td id=\"T_f13b9c0c_9b7a_11ea_90e4_0242ac1c0002row182_col5\" class=\"data row182 col5\" >7</td>\n",
              "                        <td id=\"T_f13b9c0c_9b7a_11ea_90e4_0242ac1c0002row182_col6\" class=\"data row182 col6\" >0</td>\n",
              "            </tr>\n",
              "            <tr>\n",
              "                        <th id=\"T_f13b9c0c_9b7a_11ea_90e4_0242ac1c0002level0_row183\" class=\"row_heading level0 row183\" >183</th>\n",
              "                        <td id=\"T_f13b9c0c_9b7a_11ea_90e4_0242ac1c0002row183_col0\" class=\"data row183 col0\" >109</td>\n",
              "                        <td id=\"T_f13b9c0c_9b7a_11ea_90e4_0242ac1c0002row183_col1\" class=\"data row183 col1\" >Mauritania</td>\n",
              "                        <td id=\"T_f13b9c0c_9b7a_11ea_90e4_0242ac1c0002row183_col2\" class=\"data row183 col2\" >8</td>\n",
              "                        <td id=\"T_f13b9c0c_9b7a_11ea_90e4_0242ac1c0002row183_col3\" class=\"data row183 col3\" >1</td>\n",
              "                        <td id=\"T_f13b9c0c_9b7a_11ea_90e4_0242ac1c0002row183_col4\" class=\"data row183 col4\" >6</td>\n",
              "                        <td id=\"T_f13b9c0c_9b7a_11ea_90e4_0242ac1c0002row183_col5\" class=\"data row183 col5\" >1</td>\n",
              "                        <td id=\"T_f13b9c0c_9b7a_11ea_90e4_0242ac1c0002row183_col6\" class=\"data row183 col6\" >0</td>\n",
              "            </tr>\n",
              "            <tr>\n",
              "                        <th id=\"T_f13b9c0c_9b7a_11ea_90e4_0242ac1c0002level0_row184\" class=\"row_heading level0 row184\" >184</th>\n",
              "                        <td id=\"T_f13b9c0c_9b7a_11ea_90e4_0242ac1c0002row184_col0\" class=\"data row184 col0\" >130</td>\n",
              "                        <td id=\"T_f13b9c0c_9b7a_11ea_90e4_0242ac1c0002row184_col1\" class=\"data row184 col1\" >Papua New Guinea</td>\n",
              "                        <td id=\"T_f13b9c0c_9b7a_11ea_90e4_0242ac1c0002row184_col2\" class=\"data row184 col2\" >8</td>\n",
              "                        <td id=\"T_f13b9c0c_9b7a_11ea_90e4_0242ac1c0002row184_col3\" class=\"data row184 col3\" >0</td>\n",
              "                        <td id=\"T_f13b9c0c_9b7a_11ea_90e4_0242ac1c0002row184_col4\" class=\"data row184 col4\" >8</td>\n",
              "                        <td id=\"T_f13b9c0c_9b7a_11ea_90e4_0242ac1c0002row184_col5\" class=\"data row184 col5\" >0</td>\n",
              "                        <td id=\"T_f13b9c0c_9b7a_11ea_90e4_0242ac1c0002row184_col6\" class=\"data row184 col6\" >0</td>\n",
              "            </tr>\n",
              "            <tr>\n",
              "                        <th id=\"T_f13b9c0c_9b7a_11ea_90e4_0242ac1c0002level0_row185\" class=\"row_heading level0 row185\" >185</th>\n",
              "                        <td id=\"T_f13b9c0c_9b7a_11ea_90e4_0242ac1c0002row185_col0\" class=\"data row185 col0\" >19</td>\n",
              "                        <td id=\"T_f13b9c0c_9b7a_11ea_90e4_0242ac1c0002row185_col1\" class=\"data row185 col1\" >Bhutan</td>\n",
              "                        <td id=\"T_f13b9c0c_9b7a_11ea_90e4_0242ac1c0002row185_col2\" class=\"data row185 col2\" >7</td>\n",
              "                        <td id=\"T_f13b9c0c_9b7a_11ea_90e4_0242ac1c0002row185_col3\" class=\"data row185 col3\" >0</td>\n",
              "                        <td id=\"T_f13b9c0c_9b7a_11ea_90e4_0242ac1c0002row185_col4\" class=\"data row185 col4\" >5</td>\n",
              "                        <td id=\"T_f13b9c0c_9b7a_11ea_90e4_0242ac1c0002row185_col5\" class=\"data row185 col5\" >2</td>\n",
              "                        <td id=\"T_f13b9c0c_9b7a_11ea_90e4_0242ac1c0002row185_col6\" class=\"data row185 col6\" >0</td>\n",
              "            </tr>\n",
              "            <tr>\n",
              "                        <th id=\"T_f13b9c0c_9b7a_11ea_90e4_0242ac1c0002level0_row186\" class=\"row_heading level0 row186\" >186</th>\n",
              "                        <td id=\"T_f13b9c0c_9b7a_11ea_90e4_0242ac1c0002row186_col0\" class=\"data row186 col0\" >183</td>\n",
              "                        <td id=\"T_f13b9c0c_9b7a_11ea_90e4_0242ac1c0002row186_col1\" class=\"data row186 col1\" >Western Sahara</td>\n",
              "                        <td id=\"T_f13b9c0c_9b7a_11ea_90e4_0242ac1c0002row186_col2\" class=\"data row186 col2\" >6</td>\n",
              "                        <td id=\"T_f13b9c0c_9b7a_11ea_90e4_0242ac1c0002row186_col3\" class=\"data row186 col3\" >0</td>\n",
              "                        <td id=\"T_f13b9c0c_9b7a_11ea_90e4_0242ac1c0002row186_col4\" class=\"data row186 col4\" >5</td>\n",
              "                        <td id=\"T_f13b9c0c_9b7a_11ea_90e4_0242ac1c0002row186_col5\" class=\"data row186 col5\" >1</td>\n",
              "                        <td id=\"T_f13b9c0c_9b7a_11ea_90e4_0242ac1c0002row186_col6\" class=\"data row186 col6\" >0</td>\n",
              "            </tr>\n",
              "    </tbody></table>"
            ],
            "text/plain": [
              "<pandas.io.formats.style.Styler at 0x7fb2f9ddf3c8>"
            ]
          },
          "metadata": {
            "tags": []
          },
          "execution_count": 70
        }
      ]
    },
    {
      "cell_type": "code",
      "metadata": {
        "id": "MU3t4v_23RiZ",
        "colab_type": "code",
        "colab": {}
      },
      "source": [
        ""
      ],
      "execution_count": 0,
      "outputs": []
    },
    {
      "cell_type": "code",
      "metadata": {
        "id": "OUX76KB-x-Pj",
        "colab_type": "code",
        "outputId": "d597333a-44cc-47fb-bc79-b18860167acf",
        "colab": {
          "base_uri": "https://localhost:8080/",
          "height": 542
        }
      },
      "source": [
        "temp = dataset.groupby('Date')['Confirmed', 'Deaths', 'Recovered', 'Active'].sum().reset_index()\n",
        "temp = temp[temp['Date']==max(temp['Date'])].reset_index(drop=True)\n",
        "temp1 = temp.melt(id_vars=\"Date\", value_vars=['Active', 'Deaths', 'Recovered'])\n",
        "fig = px.pie(temp1,\n",
        "             values= 'value',labels=['Active Cases','Cured','Death'],\n",
        "             names=\"variable\",\n",
        "             title=\"Current Situation of COVID-19 in the world\",\n",
        "             template=\"seaborn\")\n",
        "fig.update_traces(hoverinfo='label+percent',textinfo='value', textfont_size=14,\n",
        "                  marker=dict(colors=['#263fa3','#cc3c2f','#2fcc41'], line=dict(color='#FFFFFF', width=2)))\n",
        "fig.update_traces(textposition='inside')\n",
        "fig.update_traces(rotation=90, pull=0.05, textinfo=\"percent+label\")\n",
        "fig.show()\n"
      ],
      "execution_count": 71,
      "outputs": [
        {
          "output_type": "display_data",
          "data": {
            "text/html": [
              "<div>\n",
              "        \n",
              "        \n",
              "            <div id=\"ac52c5c4-b4e1-4b48-8e26-c386ed959363\" class=\"plotly-graph-div\" style=\"height:525px; width:100%;\"></div>\n",
              "            <script type=\"text/javascript\">\n",
              "                require([\"plotly\"], function(Plotly) {\n",
              "                    window.PLOTLYENV=window.PLOTLYENV || {};\n",
              "                    \n",
              "                if (document.getElementById(\"ac52c5c4-b4e1-4b48-8e26-c386ed959363\")) {\n",
              "                    Plotly.newPlot(\n",
              "                        'ac52c5c4-b4e1-4b48-8e26-c386ed959363',\n",
              "                        [{\"domain\": {\"x\": [0.0, 1.0], \"y\": [0.0, 1.0]}, \"hoverinfo\": \"label+percent\", \"hoverlabel\": {\"namelength\": 0}, \"hovertemplate\": \"variable=%{label}<br>value=%{value}\", \"labels\": [\"Active\", \"Deaths\", \"Recovered\"], \"legendgroup\": \"\", \"marker\": {\"colors\": [\"#263fa3\", \"#cc3c2f\", \"#2fcc41\"], \"line\": {\"color\": \"#FFFFFF\", \"width\": 2}}, \"name\": \"\", \"pull\": 0.05, \"rotation\": 90, \"showlegend\": true, \"textfont\": {\"size\": 14}, \"textinfo\": \"percent+label\", \"textposition\": \"inside\", \"type\": \"pie\", \"values\": [2442197, 282709, 1376787]}],\n",
              "                        {\"legend\": {\"tracegroupgap\": 0}, \"template\": {\"data\": {\"bar\": [{\"error_x\": {\"color\": \"rgb(36,36,36)\"}, \"error_y\": {\"color\": \"rgb(36,36,36)\"}, \"marker\": {\"line\": {\"color\": \"rgb(234,234,242)\", \"width\": 0.5}}, \"type\": \"bar\"}], \"barpolar\": [{\"marker\": {\"line\": {\"color\": \"rgb(234,234,242)\", \"width\": 0.5}}, \"type\": \"barpolar\"}], \"carpet\": [{\"aaxis\": {\"endlinecolor\": \"rgb(36,36,36)\", \"gridcolor\": \"white\", \"linecolor\": \"white\", \"minorgridcolor\": \"white\", \"startlinecolor\": \"rgb(36,36,36)\"}, \"baxis\": {\"endlinecolor\": \"rgb(36,36,36)\", \"gridcolor\": \"white\", \"linecolor\": \"white\", \"minorgridcolor\": \"white\", \"startlinecolor\": \"rgb(36,36,36)\"}, \"type\": \"carpet\"}], \"choropleth\": [{\"colorbar\": {\"outlinewidth\": 0, \"tickcolor\": \"rgb(36,36,36)\", \"ticklen\": 8, \"ticks\": \"outside\", \"tickwidth\": 2}, \"type\": \"choropleth\"}], \"contour\": [{\"colorbar\": {\"outlinewidth\": 0, \"tickcolor\": \"rgb(36,36,36)\", \"ticklen\": 8, \"ticks\": \"outside\", \"tickwidth\": 2}, \"colorscale\": [[0.0, \"rgb(2,4,25)\"], [0.06274509803921569, \"rgb(24,15,41)\"], [0.12549019607843137, \"rgb(47,23,57)\"], [0.18823529411764706, \"rgb(71,28,72)\"], [0.25098039215686274, \"rgb(97,30,82)\"], [0.3137254901960784, \"rgb(123,30,89)\"], [0.3764705882352941, \"rgb(150,27,91)\"], [0.4392156862745098, \"rgb(177,22,88)\"], [0.5019607843137255, \"rgb(203,26,79)\"], [0.5647058823529412, \"rgb(223,47,67)\"], [0.6274509803921569, \"rgb(236,76,61)\"], [0.6901960784313725, \"rgb(242,107,73)\"], [0.7529411764705882, \"rgb(244,135,95)\"], [0.8156862745098039, \"rgb(245,162,122)\"], [0.8784313725490196, \"rgb(246,188,153)\"], [0.9411764705882353, \"rgb(247,212,187)\"], [1.0, \"rgb(250,234,220)\"]], \"type\": \"contour\"}], \"contourcarpet\": [{\"colorbar\": {\"outlinewidth\": 0, \"tickcolor\": \"rgb(36,36,36)\", \"ticklen\": 8, \"ticks\": \"outside\", \"tickwidth\": 2}, \"type\": \"contourcarpet\"}], \"heatmap\": [{\"colorbar\": {\"outlinewidth\": 0, \"tickcolor\": \"rgb(36,36,36)\", \"ticklen\": 8, \"ticks\": \"outside\", \"tickwidth\": 2}, \"colorscale\": [[0.0, \"rgb(2,4,25)\"], [0.06274509803921569, \"rgb(24,15,41)\"], [0.12549019607843137, \"rgb(47,23,57)\"], [0.18823529411764706, \"rgb(71,28,72)\"], [0.25098039215686274, \"rgb(97,30,82)\"], [0.3137254901960784, \"rgb(123,30,89)\"], [0.3764705882352941, \"rgb(150,27,91)\"], [0.4392156862745098, \"rgb(177,22,88)\"], [0.5019607843137255, \"rgb(203,26,79)\"], [0.5647058823529412, \"rgb(223,47,67)\"], [0.6274509803921569, \"rgb(236,76,61)\"], [0.6901960784313725, \"rgb(242,107,73)\"], [0.7529411764705882, \"rgb(244,135,95)\"], [0.8156862745098039, \"rgb(245,162,122)\"], [0.8784313725490196, \"rgb(246,188,153)\"], [0.9411764705882353, \"rgb(247,212,187)\"], [1.0, \"rgb(250,234,220)\"]], \"type\": \"heatmap\"}], \"heatmapgl\": [{\"colorbar\": {\"outlinewidth\": 0, \"tickcolor\": \"rgb(36,36,36)\", \"ticklen\": 8, \"ticks\": \"outside\", \"tickwidth\": 2}, \"colorscale\": [[0.0, \"rgb(2,4,25)\"], [0.06274509803921569, \"rgb(24,15,41)\"], [0.12549019607843137, \"rgb(47,23,57)\"], [0.18823529411764706, \"rgb(71,28,72)\"], [0.25098039215686274, \"rgb(97,30,82)\"], [0.3137254901960784, \"rgb(123,30,89)\"], [0.3764705882352941, \"rgb(150,27,91)\"], [0.4392156862745098, \"rgb(177,22,88)\"], [0.5019607843137255, \"rgb(203,26,79)\"], [0.5647058823529412, \"rgb(223,47,67)\"], [0.6274509803921569, \"rgb(236,76,61)\"], [0.6901960784313725, \"rgb(242,107,73)\"], [0.7529411764705882, \"rgb(244,135,95)\"], [0.8156862745098039, \"rgb(245,162,122)\"], [0.8784313725490196, \"rgb(246,188,153)\"], [0.9411764705882353, \"rgb(247,212,187)\"], [1.0, \"rgb(250,234,220)\"]], \"type\": \"heatmapgl\"}], \"histogram\": [{\"marker\": {\"colorbar\": {\"outlinewidth\": 0, \"tickcolor\": \"rgb(36,36,36)\", \"ticklen\": 8, \"ticks\": \"outside\", \"tickwidth\": 2}}, \"type\": \"histogram\"}], \"histogram2d\": [{\"colorbar\": {\"outlinewidth\": 0, \"tickcolor\": \"rgb(36,36,36)\", \"ticklen\": 8, \"ticks\": \"outside\", \"tickwidth\": 2}, \"colorscale\": [[0.0, \"rgb(2,4,25)\"], [0.06274509803921569, \"rgb(24,15,41)\"], [0.12549019607843137, \"rgb(47,23,57)\"], [0.18823529411764706, \"rgb(71,28,72)\"], [0.25098039215686274, \"rgb(97,30,82)\"], [0.3137254901960784, \"rgb(123,30,89)\"], [0.3764705882352941, \"rgb(150,27,91)\"], [0.4392156862745098, \"rgb(177,22,88)\"], [0.5019607843137255, \"rgb(203,26,79)\"], [0.5647058823529412, \"rgb(223,47,67)\"], [0.6274509803921569, \"rgb(236,76,61)\"], [0.6901960784313725, \"rgb(242,107,73)\"], [0.7529411764705882, \"rgb(244,135,95)\"], [0.8156862745098039, \"rgb(245,162,122)\"], [0.8784313725490196, \"rgb(246,188,153)\"], [0.9411764705882353, \"rgb(247,212,187)\"], [1.0, \"rgb(250,234,220)\"]], \"type\": \"histogram2d\"}], \"histogram2dcontour\": [{\"colorbar\": {\"outlinewidth\": 0, \"tickcolor\": \"rgb(36,36,36)\", \"ticklen\": 8, \"ticks\": \"outside\", \"tickwidth\": 2}, \"colorscale\": [[0.0, \"rgb(2,4,25)\"], [0.06274509803921569, \"rgb(24,15,41)\"], [0.12549019607843137, \"rgb(47,23,57)\"], [0.18823529411764706, \"rgb(71,28,72)\"], [0.25098039215686274, \"rgb(97,30,82)\"], [0.3137254901960784, \"rgb(123,30,89)\"], [0.3764705882352941, \"rgb(150,27,91)\"], [0.4392156862745098, \"rgb(177,22,88)\"], [0.5019607843137255, \"rgb(203,26,79)\"], [0.5647058823529412, \"rgb(223,47,67)\"], [0.6274509803921569, \"rgb(236,76,61)\"], [0.6901960784313725, \"rgb(242,107,73)\"], [0.7529411764705882, \"rgb(244,135,95)\"], [0.8156862745098039, \"rgb(245,162,122)\"], [0.8784313725490196, \"rgb(246,188,153)\"], [0.9411764705882353, \"rgb(247,212,187)\"], [1.0, \"rgb(250,234,220)\"]], \"type\": \"histogram2dcontour\"}], \"mesh3d\": [{\"colorbar\": {\"outlinewidth\": 0, \"tickcolor\": \"rgb(36,36,36)\", \"ticklen\": 8, \"ticks\": \"outside\", \"tickwidth\": 2}, \"type\": \"mesh3d\"}], \"parcoords\": [{\"line\": {\"colorbar\": {\"outlinewidth\": 0, \"tickcolor\": \"rgb(36,36,36)\", \"ticklen\": 8, \"ticks\": \"outside\", \"tickwidth\": 2}}, \"type\": \"parcoords\"}], \"pie\": [{\"automargin\": true, \"type\": \"pie\"}], \"scatter\": [{\"marker\": {\"colorbar\": {\"outlinewidth\": 0, \"tickcolor\": \"rgb(36,36,36)\", \"ticklen\": 8, \"ticks\": \"outside\", \"tickwidth\": 2}}, \"type\": \"scatter\"}], \"scatter3d\": [{\"line\": {\"colorbar\": {\"outlinewidth\": 0, \"tickcolor\": \"rgb(36,36,36)\", \"ticklen\": 8, \"ticks\": \"outside\", \"tickwidth\": 2}}, \"marker\": {\"colorbar\": {\"outlinewidth\": 0, \"tickcolor\": \"rgb(36,36,36)\", \"ticklen\": 8, \"ticks\": \"outside\", \"tickwidth\": 2}}, \"type\": \"scatter3d\"}], \"scattercarpet\": [{\"marker\": {\"colorbar\": {\"outlinewidth\": 0, \"tickcolor\": \"rgb(36,36,36)\", \"ticklen\": 8, \"ticks\": \"outside\", \"tickwidth\": 2}}, \"type\": \"scattercarpet\"}], \"scattergeo\": [{\"marker\": {\"colorbar\": {\"outlinewidth\": 0, \"tickcolor\": \"rgb(36,36,36)\", \"ticklen\": 8, \"ticks\": \"outside\", \"tickwidth\": 2}}, \"type\": \"scattergeo\"}], \"scattergl\": [{\"marker\": {\"colorbar\": {\"outlinewidth\": 0, \"tickcolor\": \"rgb(36,36,36)\", \"ticklen\": 8, \"ticks\": \"outside\", \"tickwidth\": 2}}, \"type\": \"scattergl\"}], \"scattermapbox\": [{\"marker\": {\"colorbar\": {\"outlinewidth\": 0, \"tickcolor\": \"rgb(36,36,36)\", \"ticklen\": 8, \"ticks\": \"outside\", \"tickwidth\": 2}}, \"type\": \"scattermapbox\"}], \"scatterpolar\": [{\"marker\": {\"colorbar\": {\"outlinewidth\": 0, \"tickcolor\": \"rgb(36,36,36)\", \"ticklen\": 8, \"ticks\": \"outside\", \"tickwidth\": 2}}, \"type\": \"scatterpolar\"}], \"scatterpolargl\": [{\"marker\": {\"colorbar\": {\"outlinewidth\": 0, \"tickcolor\": \"rgb(36,36,36)\", \"ticklen\": 8, \"ticks\": \"outside\", \"tickwidth\": 2}}, \"type\": \"scatterpolargl\"}], \"scatterternary\": [{\"marker\": {\"colorbar\": {\"outlinewidth\": 0, \"tickcolor\": \"rgb(36,36,36)\", \"ticklen\": 8, \"ticks\": \"outside\", \"tickwidth\": 2}}, \"type\": \"scatterternary\"}], \"surface\": [{\"colorbar\": {\"outlinewidth\": 0, \"tickcolor\": \"rgb(36,36,36)\", \"ticklen\": 8, \"ticks\": \"outside\", \"tickwidth\": 2}, \"colorscale\": [[0.0, \"rgb(2,4,25)\"], [0.06274509803921569, \"rgb(24,15,41)\"], [0.12549019607843137, \"rgb(47,23,57)\"], [0.18823529411764706, \"rgb(71,28,72)\"], [0.25098039215686274, \"rgb(97,30,82)\"], [0.3137254901960784, \"rgb(123,30,89)\"], [0.3764705882352941, \"rgb(150,27,91)\"], [0.4392156862745098, \"rgb(177,22,88)\"], [0.5019607843137255, \"rgb(203,26,79)\"], [0.5647058823529412, \"rgb(223,47,67)\"], [0.6274509803921569, \"rgb(236,76,61)\"], [0.6901960784313725, \"rgb(242,107,73)\"], [0.7529411764705882, \"rgb(244,135,95)\"], [0.8156862745098039, \"rgb(245,162,122)\"], [0.8784313725490196, \"rgb(246,188,153)\"], [0.9411764705882353, \"rgb(247,212,187)\"], [1.0, \"rgb(250,234,220)\"]], \"type\": \"surface\"}], \"table\": [{\"cells\": {\"fill\": {\"color\": \"rgb(231,231,240)\"}, \"line\": {\"color\": \"white\"}}, \"header\": {\"fill\": {\"color\": \"rgb(183,183,191)\"}, \"line\": {\"color\": \"white\"}}, \"type\": \"table\"}]}, \"layout\": {\"annotationdefaults\": {\"arrowcolor\": \"rgb(67,103,167)\"}, \"coloraxis\": {\"colorbar\": {\"outlinewidth\": 0, \"tickcolor\": \"rgb(36,36,36)\", \"ticklen\": 8, \"ticks\": \"outside\", \"tickwidth\": 2}}, \"colorscale\": {\"sequential\": [[0.0, \"rgb(2,4,25)\"], [0.06274509803921569, \"rgb(24,15,41)\"], [0.12549019607843137, \"rgb(47,23,57)\"], [0.18823529411764706, \"rgb(71,28,72)\"], [0.25098039215686274, \"rgb(97,30,82)\"], [0.3137254901960784, \"rgb(123,30,89)\"], [0.3764705882352941, \"rgb(150,27,91)\"], [0.4392156862745098, \"rgb(177,22,88)\"], [0.5019607843137255, \"rgb(203,26,79)\"], [0.5647058823529412, \"rgb(223,47,67)\"], [0.6274509803921569, \"rgb(236,76,61)\"], [0.6901960784313725, \"rgb(242,107,73)\"], [0.7529411764705882, \"rgb(244,135,95)\"], [0.8156862745098039, \"rgb(245,162,122)\"], [0.8784313725490196, \"rgb(246,188,153)\"], [0.9411764705882353, \"rgb(247,212,187)\"], [1.0, \"rgb(250,234,220)\"]], \"sequentialminus\": [[0.0, \"rgb(2,4,25)\"], [0.06274509803921569, \"rgb(24,15,41)\"], [0.12549019607843137, \"rgb(47,23,57)\"], [0.18823529411764706, \"rgb(71,28,72)\"], [0.25098039215686274, \"rgb(97,30,82)\"], [0.3137254901960784, \"rgb(123,30,89)\"], [0.3764705882352941, \"rgb(150,27,91)\"], [0.4392156862745098, \"rgb(177,22,88)\"], [0.5019607843137255, \"rgb(203,26,79)\"], [0.5647058823529412, \"rgb(223,47,67)\"], [0.6274509803921569, \"rgb(236,76,61)\"], [0.6901960784313725, \"rgb(242,107,73)\"], [0.7529411764705882, \"rgb(244,135,95)\"], [0.8156862745098039, \"rgb(245,162,122)\"], [0.8784313725490196, \"rgb(246,188,153)\"], [0.9411764705882353, \"rgb(247,212,187)\"], [1.0, \"rgb(250,234,220)\"]]}, \"colorway\": [\"rgb(76,114,176)\", \"rgb(221,132,82)\", \"rgb(85,168,104)\", \"rgb(196,78,82)\", \"rgb(129,114,179)\", \"rgb(147,120,96)\", \"rgb(218,139,195)\", \"rgb(140,140,140)\", \"rgb(204,185,116)\", \"rgb(100,181,205)\"], \"font\": {\"color\": \"rgb(36,36,36)\"}, \"geo\": {\"bgcolor\": \"white\", \"lakecolor\": \"white\", \"landcolor\": \"rgb(234,234,242)\", \"showlakes\": true, \"showland\": true, \"subunitcolor\": \"white\"}, \"hoverlabel\": {\"align\": \"left\"}, \"hovermode\": \"closest\", \"paper_bgcolor\": \"white\", \"plot_bgcolor\": \"rgb(234,234,242)\", \"polar\": {\"angularaxis\": {\"gridcolor\": \"white\", \"linecolor\": \"white\", \"showgrid\": true, \"ticks\": \"\"}, \"bgcolor\": \"rgb(234,234,242)\", \"radialaxis\": {\"gridcolor\": \"white\", \"linecolor\": \"white\", \"showgrid\": true, \"ticks\": \"\"}}, \"scene\": {\"xaxis\": {\"backgroundcolor\": \"rgb(234,234,242)\", \"gridcolor\": \"white\", \"gridwidth\": 2, \"linecolor\": \"white\", \"showbackground\": true, \"showgrid\": true, \"ticks\": \"\", \"zerolinecolor\": \"white\"}, \"yaxis\": {\"backgroundcolor\": \"rgb(234,234,242)\", \"gridcolor\": \"white\", \"gridwidth\": 2, \"linecolor\": \"white\", \"showbackground\": true, \"showgrid\": true, \"ticks\": \"\", \"zerolinecolor\": \"white\"}, \"zaxis\": {\"backgroundcolor\": \"rgb(234,234,242)\", \"gridcolor\": \"white\", \"gridwidth\": 2, \"linecolor\": \"white\", \"showbackground\": true, \"showgrid\": true, \"ticks\": \"\", \"zerolinecolor\": \"white\"}}, \"shapedefaults\": {\"fillcolor\": \"rgb(67,103,167)\", \"line\": {\"width\": 0}, \"opacity\": 0.5}, \"ternary\": {\"aaxis\": {\"gridcolor\": \"white\", \"linecolor\": \"white\", \"showgrid\": true, \"ticks\": \"\"}, \"baxis\": {\"gridcolor\": \"white\", \"linecolor\": \"white\", \"showgrid\": true, \"ticks\": \"\"}, \"bgcolor\": \"rgb(234,234,242)\", \"caxis\": {\"gridcolor\": \"white\", \"linecolor\": \"white\", \"showgrid\": true, \"ticks\": \"\"}}, \"xaxis\": {\"automargin\": true, \"gridcolor\": \"white\", \"linecolor\": \"white\", \"showgrid\": true, \"ticks\": \"\", \"title\": {\"standoff\": 15}, \"zerolinecolor\": \"white\"}, \"yaxis\": {\"automargin\": true, \"gridcolor\": \"white\", \"linecolor\": \"white\", \"showgrid\": true, \"ticks\": \"\", \"title\": {\"standoff\": 15}, \"zerolinecolor\": \"white\"}}}, \"title\": {\"text\": \"Current Situation of COVID-19 in the world\"}},\n",
              "                        {\"responsive\": true}\n",
              "                    ).then(function(){\n",
              "                            \n",
              "var gd = document.getElementById('ac52c5c4-b4e1-4b48-8e26-c386ed959363');\n",
              "var x = new MutationObserver(function (mutations, observer) {{\n",
              "        var display = window.getComputedStyle(gd).display;\n",
              "        if (!display || display === 'none') {{\n",
              "            console.log([gd, 'removed!']);\n",
              "            Plotly.purge(gd);\n",
              "            observer.disconnect();\n",
              "        }}\n",
              "}});\n",
              "\n",
              "// Listen for the removal of the full notebook cells\n",
              "var notebookContainer = gd.closest('#notebook-container');\n",
              "if (notebookContainer) {{\n",
              "    x.observe(notebookContainer, {childList: true});\n",
              "}}\n",
              "\n",
              "// Listen for the clearing of the current output cell\n",
              "var outputEl = gd.closest('.output');\n",
              "if (outputEl) {{\n",
              "    x.observe(outputEl, {childList: true});\n",
              "}}\n",
              "\n",
              "                        })\n",
              "                };\n",
              "                });\n",
              "            </script>\n",
              "        </div>"
            ],
            "application/vnd.plotly.v1+json": {
              "data": [
                {
                  "textposition": "inside",
                  "hovertemplate": "variable=%{label}<br>value=%{value}",
                  "domain": {
                    "y": [
                      0,
                      1
                    ],
                    "x": [
                      0,
                      1
                    ]
                  },
                  "legendgroup": "",
                  "name": "",
                  "pull": 0.05,
                  "type": "pie",
                  "labels": [
                    "Active",
                    "Deaths",
                    "Recovered"
                  ],
                  "showlegend": true,
                  "hoverlabel": {
                    "namelength": 0
                  },
                  "values": [
                    2442197,
                    282709,
                    1376787
                  ],
                  "hoverinfo": "label+percent",
                  "marker": {
                    "colors": [
                      "#263fa3",
                      "#cc3c2f",
                      "#2fcc41"
                    ],
                    "line": {
                      "color": "#FFFFFF",
                      "width": 2
                    }
                  },
                  "textinfo": "percent+label",
                  "rotation": 90,
                  "textfont": {
                    "size": 14
                  }
                }
              ],
              "config": {
                "plotlyServerURL": "https://plot.ly"
              },
              "layout": {
                "legend": {
                  "tracegroupgap": 0
                },
                "template": {
                  "layout": {
                    "shapedefaults": {
                      "opacity": 0.5,
                      "line": {
                        "width": 0
                      },
                      "fillcolor": "rgb(67,103,167)"
                    },
                    "polar": {
                      "radialaxis": {
                        "ticks": "",
                        "gridcolor": "white",
                        "linecolor": "white",
                        "showgrid": true
                      },
                      "bgcolor": "rgb(234,234,242)",
                      "angularaxis": {
                        "ticks": "",
                        "gridcolor": "white",
                        "linecolor": "white",
                        "showgrid": true
                      }
                    },
                    "colorway": [
                      "rgb(76,114,176)",
                      "rgb(221,132,82)",
                      "rgb(85,168,104)",
                      "rgb(196,78,82)",
                      "rgb(129,114,179)",
                      "rgb(147,120,96)",
                      "rgb(218,139,195)",
                      "rgb(140,140,140)",
                      "rgb(204,185,116)",
                      "rgb(100,181,205)"
                    ],
                    "xaxis": {
                      "automargin": true,
                      "title": {
                        "standoff": 15
                      },
                      "ticks": "",
                      "showgrid": true,
                      "zerolinecolor": "white",
                      "gridcolor": "white",
                      "linecolor": "white"
                    },
                    "colorscale": {
                      "sequential": [
                        [
                          0,
                          "rgb(2,4,25)"
                        ],
                        [
                          0.06274509803921569,
                          "rgb(24,15,41)"
                        ],
                        [
                          0.12549019607843137,
                          "rgb(47,23,57)"
                        ],
                        [
                          0.18823529411764706,
                          "rgb(71,28,72)"
                        ],
                        [
                          0.25098039215686274,
                          "rgb(97,30,82)"
                        ],
                        [
                          0.3137254901960784,
                          "rgb(123,30,89)"
                        ],
                        [
                          0.3764705882352941,
                          "rgb(150,27,91)"
                        ],
                        [
                          0.4392156862745098,
                          "rgb(177,22,88)"
                        ],
                        [
                          0.5019607843137255,
                          "rgb(203,26,79)"
                        ],
                        [
                          0.5647058823529412,
                          "rgb(223,47,67)"
                        ],
                        [
                          0.6274509803921569,
                          "rgb(236,76,61)"
                        ],
                        [
                          0.6901960784313725,
                          "rgb(242,107,73)"
                        ],
                        [
                          0.7529411764705882,
                          "rgb(244,135,95)"
                        ],
                        [
                          0.8156862745098039,
                          "rgb(245,162,122)"
                        ],
                        [
                          0.8784313725490196,
                          "rgb(246,188,153)"
                        ],
                        [
                          0.9411764705882353,
                          "rgb(247,212,187)"
                        ],
                        [
                          1,
                          "rgb(250,234,220)"
                        ]
                      ],
                      "sequentialminus": [
                        [
                          0,
                          "rgb(2,4,25)"
                        ],
                        [
                          0.06274509803921569,
                          "rgb(24,15,41)"
                        ],
                        [
                          0.12549019607843137,
                          "rgb(47,23,57)"
                        ],
                        [
                          0.18823529411764706,
                          "rgb(71,28,72)"
                        ],
                        [
                          0.25098039215686274,
                          "rgb(97,30,82)"
                        ],
                        [
                          0.3137254901960784,
                          "rgb(123,30,89)"
                        ],
                        [
                          0.3764705882352941,
                          "rgb(150,27,91)"
                        ],
                        [
                          0.4392156862745098,
                          "rgb(177,22,88)"
                        ],
                        [
                          0.5019607843137255,
                          "rgb(203,26,79)"
                        ],
                        [
                          0.5647058823529412,
                          "rgb(223,47,67)"
                        ],
                        [
                          0.6274509803921569,
                          "rgb(236,76,61)"
                        ],
                        [
                          0.6901960784313725,
                          "rgb(242,107,73)"
                        ],
                        [
                          0.7529411764705882,
                          "rgb(244,135,95)"
                        ],
                        [
                          0.8156862745098039,
                          "rgb(245,162,122)"
                        ],
                        [
                          0.8784313725490196,
                          "rgb(246,188,153)"
                        ],
                        [
                          0.9411764705882353,
                          "rgb(247,212,187)"
                        ],
                        [
                          1,
                          "rgb(250,234,220)"
                        ]
                      ]
                    },
                    "paper_bgcolor": "white",
                    "plot_bgcolor": "rgb(234,234,242)",
                    "yaxis": {
                      "automargin": true,
                      "title": {
                        "standoff": 15
                      },
                      "ticks": "",
                      "showgrid": true,
                      "zerolinecolor": "white",
                      "gridcolor": "white",
                      "linecolor": "white"
                    },
                    "scene": {
                      "zaxis": {
                        "backgroundcolor": "rgb(234,234,242)",
                        "ticks": "",
                        "gridwidth": 2,
                        "showgrid": true,
                        "zerolinecolor": "white",
                        "gridcolor": "white",
                        "linecolor": "white",
                        "showbackground": true
                      },
                      "xaxis": {
                        "backgroundcolor": "rgb(234,234,242)",
                        "ticks": "",
                        "gridwidth": 2,
                        "showgrid": true,
                        "zerolinecolor": "white",
                        "gridcolor": "white",
                        "linecolor": "white",
                        "showbackground": true
                      },
                      "yaxis": {
                        "backgroundcolor": "rgb(234,234,242)",
                        "ticks": "",
                        "gridwidth": 2,
                        "showgrid": true,
                        "zerolinecolor": "white",
                        "gridcolor": "white",
                        "linecolor": "white",
                        "showbackground": true
                      }
                    },
                    "annotationdefaults": {
                      "arrowcolor": "rgb(67,103,167)"
                    },
                    "hoverlabel": {
                      "align": "left"
                    },
                    "ternary": {
                      "bgcolor": "rgb(234,234,242)",
                      "baxis": {
                        "ticks": "",
                        "gridcolor": "white",
                        "linecolor": "white",
                        "showgrid": true
                      },
                      "caxis": {
                        "ticks": "",
                        "gridcolor": "white",
                        "linecolor": "white",
                        "showgrid": true
                      },
                      "aaxis": {
                        "ticks": "",
                        "gridcolor": "white",
                        "linecolor": "white",
                        "showgrid": true
                      }
                    },
                    "hovermode": "closest",
                    "font": {
                      "color": "rgb(36,36,36)"
                    },
                    "geo": {
                      "showland": true,
                      "landcolor": "rgb(234,234,242)",
                      "showlakes": true,
                      "bgcolor": "white",
                      "subunitcolor": "white",
                      "lakecolor": "white"
                    },
                    "coloraxis": {
                      "colorbar": {
                        "tickcolor": "rgb(36,36,36)",
                        "outlinewidth": 0,
                        "ticklen": 8,
                        "tickwidth": 2,
                        "ticks": "outside"
                      }
                    }
                  },
                  "data": {
                    "mesh3d": [
                      {
                        "colorbar": {
                          "tickcolor": "rgb(36,36,36)",
                          "outlinewidth": 0,
                          "ticklen": 8,
                          "tickwidth": 2,
                          "ticks": "outside"
                        },
                        "type": "mesh3d"
                      }
                    ],
                    "scattercarpet": [
                      {
                        "marker": {
                          "colorbar": {
                            "tickcolor": "rgb(36,36,36)",
                            "outlinewidth": 0,
                            "ticklen": 8,
                            "tickwidth": 2,
                            "ticks": "outside"
                          }
                        },
                        "type": "scattercarpet"
                      }
                    ],
                    "pie": [
                      {
                        "automargin": true,
                        "type": "pie"
                      }
                    ],
                    "surface": [
                      {
                        "colorbar": {
                          "tickcolor": "rgb(36,36,36)",
                          "outlinewidth": 0,
                          "ticklen": 8,
                          "tickwidth": 2,
                          "ticks": "outside"
                        },
                        "type": "surface",
                        "colorscale": [
                          [
                            0,
                            "rgb(2,4,25)"
                          ],
                          [
                            0.06274509803921569,
                            "rgb(24,15,41)"
                          ],
                          [
                            0.12549019607843137,
                            "rgb(47,23,57)"
                          ],
                          [
                            0.18823529411764706,
                            "rgb(71,28,72)"
                          ],
                          [
                            0.25098039215686274,
                            "rgb(97,30,82)"
                          ],
                          [
                            0.3137254901960784,
                            "rgb(123,30,89)"
                          ],
                          [
                            0.3764705882352941,
                            "rgb(150,27,91)"
                          ],
                          [
                            0.4392156862745098,
                            "rgb(177,22,88)"
                          ],
                          [
                            0.5019607843137255,
                            "rgb(203,26,79)"
                          ],
                          [
                            0.5647058823529412,
                            "rgb(223,47,67)"
                          ],
                          [
                            0.6274509803921569,
                            "rgb(236,76,61)"
                          ],
                          [
                            0.6901960784313725,
                            "rgb(242,107,73)"
                          ],
                          [
                            0.7529411764705882,
                            "rgb(244,135,95)"
                          ],
                          [
                            0.8156862745098039,
                            "rgb(245,162,122)"
                          ],
                          [
                            0.8784313725490196,
                            "rgb(246,188,153)"
                          ],
                          [
                            0.9411764705882353,
                            "rgb(247,212,187)"
                          ],
                          [
                            1,
                            "rgb(250,234,220)"
                          ]
                        ]
                      }
                    ],
                    "table": [
                      {
                        "header": {
                          "line": {
                            "color": "white"
                          },
                          "fill": {
                            "color": "rgb(183,183,191)"
                          }
                        },
                        "cells": {
                          "line": {
                            "color": "white"
                          },
                          "fill": {
                            "color": "rgb(231,231,240)"
                          }
                        },
                        "type": "table"
                      }
                    ],
                    "scatterpolargl": [
                      {
                        "marker": {
                          "colorbar": {
                            "tickcolor": "rgb(36,36,36)",
                            "outlinewidth": 0,
                            "ticklen": 8,
                            "tickwidth": 2,
                            "ticks": "outside"
                          }
                        },
                        "type": "scatterpolargl"
                      }
                    ],
                    "contour": [
                      {
                        "colorbar": {
                          "tickcolor": "rgb(36,36,36)",
                          "outlinewidth": 0,
                          "ticklen": 8,
                          "tickwidth": 2,
                          "ticks": "outside"
                        },
                        "type": "contour",
                        "colorscale": [
                          [
                            0,
                            "rgb(2,4,25)"
                          ],
                          [
                            0.06274509803921569,
                            "rgb(24,15,41)"
                          ],
                          [
                            0.12549019607843137,
                            "rgb(47,23,57)"
                          ],
                          [
                            0.18823529411764706,
                            "rgb(71,28,72)"
                          ],
                          [
                            0.25098039215686274,
                            "rgb(97,30,82)"
                          ],
                          [
                            0.3137254901960784,
                            "rgb(123,30,89)"
                          ],
                          [
                            0.3764705882352941,
                            "rgb(150,27,91)"
                          ],
                          [
                            0.4392156862745098,
                            "rgb(177,22,88)"
                          ],
                          [
                            0.5019607843137255,
                            "rgb(203,26,79)"
                          ],
                          [
                            0.5647058823529412,
                            "rgb(223,47,67)"
                          ],
                          [
                            0.6274509803921569,
                            "rgb(236,76,61)"
                          ],
                          [
                            0.6901960784313725,
                            "rgb(242,107,73)"
                          ],
                          [
                            0.7529411764705882,
                            "rgb(244,135,95)"
                          ],
                          [
                            0.8156862745098039,
                            "rgb(245,162,122)"
                          ],
                          [
                            0.8784313725490196,
                            "rgb(246,188,153)"
                          ],
                          [
                            0.9411764705882353,
                            "rgb(247,212,187)"
                          ],
                          [
                            1,
                            "rgb(250,234,220)"
                          ]
                        ]
                      }
                    ],
                    "carpet": [
                      {
                        "type": "carpet",
                        "baxis": {
                          "minorgridcolor": "white",
                          "gridcolor": "white",
                          "linecolor": "white",
                          "endlinecolor": "rgb(36,36,36)",
                          "startlinecolor": "rgb(36,36,36)"
                        },
                        "aaxis": {
                          "minorgridcolor": "white",
                          "gridcolor": "white",
                          "linecolor": "white",
                          "endlinecolor": "rgb(36,36,36)",
                          "startlinecolor": "rgb(36,36,36)"
                        }
                      }
                    ],
                    "contourcarpet": [
                      {
                        "colorbar": {
                          "tickcolor": "rgb(36,36,36)",
                          "outlinewidth": 0,
                          "ticklen": 8,
                          "tickwidth": 2,
                          "ticks": "outside"
                        },
                        "type": "contourcarpet"
                      }
                    ],
                    "heatmap": [
                      {
                        "colorbar": {
                          "tickcolor": "rgb(36,36,36)",
                          "outlinewidth": 0,
                          "ticklen": 8,
                          "tickwidth": 2,
                          "ticks": "outside"
                        },
                        "type": "heatmap",
                        "colorscale": [
                          [
                            0,
                            "rgb(2,4,25)"
                          ],
                          [
                            0.06274509803921569,
                            "rgb(24,15,41)"
                          ],
                          [
                            0.12549019607843137,
                            "rgb(47,23,57)"
                          ],
                          [
                            0.18823529411764706,
                            "rgb(71,28,72)"
                          ],
                          [
                            0.25098039215686274,
                            "rgb(97,30,82)"
                          ],
                          [
                            0.3137254901960784,
                            "rgb(123,30,89)"
                          ],
                          [
                            0.3764705882352941,
                            "rgb(150,27,91)"
                          ],
                          [
                            0.4392156862745098,
                            "rgb(177,22,88)"
                          ],
                          [
                            0.5019607843137255,
                            "rgb(203,26,79)"
                          ],
                          [
                            0.5647058823529412,
                            "rgb(223,47,67)"
                          ],
                          [
                            0.6274509803921569,
                            "rgb(236,76,61)"
                          ],
                          [
                            0.6901960784313725,
                            "rgb(242,107,73)"
                          ],
                          [
                            0.7529411764705882,
                            "rgb(244,135,95)"
                          ],
                          [
                            0.8156862745098039,
                            "rgb(245,162,122)"
                          ],
                          [
                            0.8784313725490196,
                            "rgb(246,188,153)"
                          ],
                          [
                            0.9411764705882353,
                            "rgb(247,212,187)"
                          ],
                          [
                            1,
                            "rgb(250,234,220)"
                          ]
                        ]
                      }
                    ],
                    "scattermapbox": [
                      {
                        "marker": {
                          "colorbar": {
                            "tickcolor": "rgb(36,36,36)",
                            "outlinewidth": 0,
                            "ticklen": 8,
                            "tickwidth": 2,
                            "ticks": "outside"
                          }
                        },
                        "type": "scattermapbox"
                      }
                    ],
                    "scatter3d": [
                      {
                        "marker": {
                          "colorbar": {
                            "tickcolor": "rgb(36,36,36)",
                            "outlinewidth": 0,
                            "ticklen": 8,
                            "tickwidth": 2,
                            "ticks": "outside"
                          }
                        },
                        "line": {
                          "colorbar": {
                            "tickcolor": "rgb(36,36,36)",
                            "outlinewidth": 0,
                            "ticklen": 8,
                            "tickwidth": 2,
                            "ticks": "outside"
                          }
                        },
                        "type": "scatter3d"
                      }
                    ],
                    "scattergl": [
                      {
                        "marker": {
                          "colorbar": {
                            "tickcolor": "rgb(36,36,36)",
                            "outlinewidth": 0,
                            "ticklen": 8,
                            "tickwidth": 2,
                            "ticks": "outside"
                          }
                        },
                        "type": "scattergl"
                      }
                    ],
                    "scatterternary": [
                      {
                        "marker": {
                          "colorbar": {
                            "tickcolor": "rgb(36,36,36)",
                            "outlinewidth": 0,
                            "ticklen": 8,
                            "tickwidth": 2,
                            "ticks": "outside"
                          }
                        },
                        "type": "scatterternary"
                      }
                    ],
                    "histogram": [
                      {
                        "marker": {
                          "colorbar": {
                            "tickcolor": "rgb(36,36,36)",
                            "outlinewidth": 0,
                            "ticklen": 8,
                            "tickwidth": 2,
                            "ticks": "outside"
                          }
                        },
                        "type": "histogram"
                      }
                    ],
                    "heatmapgl": [
                      {
                        "colorbar": {
                          "tickcolor": "rgb(36,36,36)",
                          "outlinewidth": 0,
                          "ticklen": 8,
                          "tickwidth": 2,
                          "ticks": "outside"
                        },
                        "type": "heatmapgl",
                        "colorscale": [
                          [
                            0,
                            "rgb(2,4,25)"
                          ],
                          [
                            0.06274509803921569,
                            "rgb(24,15,41)"
                          ],
                          [
                            0.12549019607843137,
                            "rgb(47,23,57)"
                          ],
                          [
                            0.18823529411764706,
                            "rgb(71,28,72)"
                          ],
                          [
                            0.25098039215686274,
                            "rgb(97,30,82)"
                          ],
                          [
                            0.3137254901960784,
                            "rgb(123,30,89)"
                          ],
                          [
                            0.3764705882352941,
                            "rgb(150,27,91)"
                          ],
                          [
                            0.4392156862745098,
                            "rgb(177,22,88)"
                          ],
                          [
                            0.5019607843137255,
                            "rgb(203,26,79)"
                          ],
                          [
                            0.5647058823529412,
                            "rgb(223,47,67)"
                          ],
                          [
                            0.6274509803921569,
                            "rgb(236,76,61)"
                          ],
                          [
                            0.6901960784313725,
                            "rgb(242,107,73)"
                          ],
                          [
                            0.7529411764705882,
                            "rgb(244,135,95)"
                          ],
                          [
                            0.8156862745098039,
                            "rgb(245,162,122)"
                          ],
                          [
                            0.8784313725490196,
                            "rgb(246,188,153)"
                          ],
                          [
                            0.9411764705882353,
                            "rgb(247,212,187)"
                          ],
                          [
                            1,
                            "rgb(250,234,220)"
                          ]
                        ]
                      }
                    ],
                    "scatterpolar": [
                      {
                        "marker": {
                          "colorbar": {
                            "tickcolor": "rgb(36,36,36)",
                            "outlinewidth": 0,
                            "ticklen": 8,
                            "tickwidth": 2,
                            "ticks": "outside"
                          }
                        },
                        "type": "scatterpolar"
                      }
                    ],
                    "histogram2d": [
                      {
                        "colorbar": {
                          "tickcolor": "rgb(36,36,36)",
                          "outlinewidth": 0,
                          "ticklen": 8,
                          "tickwidth": 2,
                          "ticks": "outside"
                        },
                        "type": "histogram2d",
                        "colorscale": [
                          [
                            0,
                            "rgb(2,4,25)"
                          ],
                          [
                            0.06274509803921569,
                            "rgb(24,15,41)"
                          ],
                          [
                            0.12549019607843137,
                            "rgb(47,23,57)"
                          ],
                          [
                            0.18823529411764706,
                            "rgb(71,28,72)"
                          ],
                          [
                            0.25098039215686274,
                            "rgb(97,30,82)"
                          ],
                          [
                            0.3137254901960784,
                            "rgb(123,30,89)"
                          ],
                          [
                            0.3764705882352941,
                            "rgb(150,27,91)"
                          ],
                          [
                            0.4392156862745098,
                            "rgb(177,22,88)"
                          ],
                          [
                            0.5019607843137255,
                            "rgb(203,26,79)"
                          ],
                          [
                            0.5647058823529412,
                            "rgb(223,47,67)"
                          ],
                          [
                            0.6274509803921569,
                            "rgb(236,76,61)"
                          ],
                          [
                            0.6901960784313725,
                            "rgb(242,107,73)"
                          ],
                          [
                            0.7529411764705882,
                            "rgb(244,135,95)"
                          ],
                          [
                            0.8156862745098039,
                            "rgb(245,162,122)"
                          ],
                          [
                            0.8784313725490196,
                            "rgb(246,188,153)"
                          ],
                          [
                            0.9411764705882353,
                            "rgb(247,212,187)"
                          ],
                          [
                            1,
                            "rgb(250,234,220)"
                          ]
                        ]
                      }
                    ],
                    "scattergeo": [
                      {
                        "marker": {
                          "colorbar": {
                            "tickcolor": "rgb(36,36,36)",
                            "outlinewidth": 0,
                            "ticklen": 8,
                            "tickwidth": 2,
                            "ticks": "outside"
                          }
                        },
                        "type": "scattergeo"
                      }
                    ],
                    "bar": [
                      {
                        "marker": {
                          "line": {
                            "color": "rgb(234,234,242)",
                            "width": 0.5
                          }
                        },
                        "type": "bar",
                        "error_x": {
                          "color": "rgb(36,36,36)"
                        },
                        "error_y": {
                          "color": "rgb(36,36,36)"
                        }
                      }
                    ],
                    "choropleth": [
                      {
                        "colorbar": {
                          "tickcolor": "rgb(36,36,36)",
                          "outlinewidth": 0,
                          "ticklen": 8,
                          "tickwidth": 2,
                          "ticks": "outside"
                        },
                        "type": "choropleth"
                      }
                    ],
                    "parcoords": [
                      {
                        "line": {
                          "colorbar": {
                            "tickcolor": "rgb(36,36,36)",
                            "outlinewidth": 0,
                            "ticklen": 8,
                            "tickwidth": 2,
                            "ticks": "outside"
                          }
                        },
                        "type": "parcoords"
                      }
                    ],
                    "barpolar": [
                      {
                        "marker": {
                          "line": {
                            "color": "rgb(234,234,242)",
                            "width": 0.5
                          }
                        },
                        "type": "barpolar"
                      }
                    ],
                    "histogram2dcontour": [
                      {
                        "colorbar": {
                          "tickcolor": "rgb(36,36,36)",
                          "outlinewidth": 0,
                          "ticklen": 8,
                          "tickwidth": 2,
                          "ticks": "outside"
                        },
                        "type": "histogram2dcontour",
                        "colorscale": [
                          [
                            0,
                            "rgb(2,4,25)"
                          ],
                          [
                            0.06274509803921569,
                            "rgb(24,15,41)"
                          ],
                          [
                            0.12549019607843137,
                            "rgb(47,23,57)"
                          ],
                          [
                            0.18823529411764706,
                            "rgb(71,28,72)"
                          ],
                          [
                            0.25098039215686274,
                            "rgb(97,30,82)"
                          ],
                          [
                            0.3137254901960784,
                            "rgb(123,30,89)"
                          ],
                          [
                            0.3764705882352941,
                            "rgb(150,27,91)"
                          ],
                          [
                            0.4392156862745098,
                            "rgb(177,22,88)"
                          ],
                          [
                            0.5019607843137255,
                            "rgb(203,26,79)"
                          ],
                          [
                            0.5647058823529412,
                            "rgb(223,47,67)"
                          ],
                          [
                            0.6274509803921569,
                            "rgb(236,76,61)"
                          ],
                          [
                            0.6901960784313725,
                            "rgb(242,107,73)"
                          ],
                          [
                            0.7529411764705882,
                            "rgb(244,135,95)"
                          ],
                          [
                            0.8156862745098039,
                            "rgb(245,162,122)"
                          ],
                          [
                            0.8784313725490196,
                            "rgb(246,188,153)"
                          ],
                          [
                            0.9411764705882353,
                            "rgb(247,212,187)"
                          ],
                          [
                            1,
                            "rgb(250,234,220)"
                          ]
                        ]
                      }
                    ],
                    "scatter": [
                      {
                        "marker": {
                          "colorbar": {
                            "tickcolor": "rgb(36,36,36)",
                            "outlinewidth": 0,
                            "ticklen": 8,
                            "tickwidth": 2,
                            "ticks": "outside"
                          }
                        },
                        "type": "scatter"
                      }
                    ]
                  }
                },
                "title": {
                  "text": "Current Situation of COVID-19 in the world"
                }
              }
            }
          },
          "metadata": {
            "tags": []
          }
        }
      ]
    },
    {
      "cell_type": "code",
      "metadata": {
        "id": "CHPU6eJdx-Pq",
        "colab_type": "code",
        "colab": {}
      },
      "source": [
        "perday2 = date_wise_data.groupby(['Date'])['Confirmed','Cured','Deaths','Active'].sum().reset_index().sort_values('Date',ascending = True)\n",
        "perday2['New Daily Confirmed Cases'] = perday2['Confirmed'].sub(perday2['Confirmed'].shift())\n",
        "perday2['New Daily Confirmed Cases'].iloc[0] = perday2['Confirmed'].iloc[0]\n",
        "perday2['New Daily Confirmed Cases'] = perday2['New Daily Confirmed Cases'].astype(int)\n",
        "perday2['New Daily Cured Cases'] = perday2['Cured'].sub(perday2['Cured'].shift())\n",
        "perday2['New Daily Cured Cases'].iloc[0] = perday2['Cured'].iloc[0]\n",
        "perday2['New Daily Cured Cases'] = perday2['New Daily Cured Cases'].astype(int)\n",
        "perday2['New Daily Deaths Cases'] = perday2['Deaths'].sub(perday2['Deaths'].shift())\n",
        "perday2['New Daily Deaths Cases'].iloc[0] = perday2['Deaths'].iloc[0]\n",
        "perday2['New Daily Deaths Cases'] = perday2['New Daily Deaths Cases'].astype(int)\n",
        "perday2.to_csv('/content/drive/My Drive/Master Online Exams/Dataset/perday_daily_cases.csv')"
      ],
      "execution_count": 0,
      "outputs": []
    },
    {
      "cell_type": "code",
      "metadata": {
        "id": "ZqNHlPzu3_RE",
        "colab_type": "code",
        "outputId": "d041b36d-1e7f-4f08-8317-4697a6997eda",
        "colab": {
          "base_uri": "https://localhost:8080/",
          "height": 517
        }
      },
      "source": [
        "import plotly.express as px\n",
        "fig = px.bar(perday2, x=\"Date\", y=\"New Daily Confirmed Cases\", barmode='group',height=500)\n",
        "fig.update_layout(title_text='New COVID-19 cases reported daily all over the World',plot_bgcolor='rgb(275, 270, 273)')\n",
        "fig.show()"
      ],
      "execution_count": 73,
      "outputs": [
        {
          "output_type": "display_data",
          "data": {
            "text/html": [
              "<div>\n",
              "        \n",
              "        \n",
              "            <div id=\"bb00993e-a174-4e8a-aa4d-f499b8cf0b7e\" class=\"plotly-graph-div\" style=\"height:500px; width:100%;\"></div>\n",
              "            <script type=\"text/javascript\">\n",
              "                require([\"plotly\"], function(Plotly) {\n",
              "                    window.PLOTLYENV=window.PLOTLYENV || {};\n",
              "                    \n",
              "                if (document.getElementById(\"bb00993e-a174-4e8a-aa4d-f499b8cf0b7e\")) {\n",
              "                    Plotly.newPlot(\n",
              "                        'bb00993e-a174-4e8a-aa4d-f499b8cf0b7e',\n",
              "                        [{\"alignmentgroup\": \"True\", \"hoverlabel\": {\"namelength\": 0}, \"hovertemplate\": \"Date=%{x}<br>New Daily Confirmed Cases=%{y}\", \"legendgroup\": \"\", \"marker\": {\"color\": \"#636efa\"}, \"name\": \"\", \"offsetgroup\": \"\", \"orientation\": \"v\", \"showlegend\": false, \"textposition\": \"auto\", \"type\": \"bar\", \"x\": [\"2020-01-22T00:00:00\", \"2020-01-23T00:00:00\", \"2020-01-24T00:00:00\", \"2020-01-25T00:00:00\", \"2020-01-26T00:00:00\", \"2020-01-27T00:00:00\", \"2020-01-28T00:00:00\", \"2020-01-29T00:00:00\", \"2020-01-30T00:00:00\", \"2020-01-31T00:00:00\", \"2020-02-01T00:00:00\", \"2020-02-02T00:00:00\", \"2020-02-03T00:00:00\", \"2020-02-04T00:00:00\", \"2020-02-05T00:00:00\", \"2020-02-06T00:00:00\", \"2020-02-07T00:00:00\", \"2020-02-08T00:00:00\", \"2020-02-09T00:00:00\", \"2020-02-10T00:00:00\", \"2020-02-11T00:00:00\", \"2020-02-12T00:00:00\", \"2020-02-13T00:00:00\", \"2020-02-14T00:00:00\", \"2020-02-15T00:00:00\", \"2020-02-16T00:00:00\", \"2020-02-17T00:00:00\", \"2020-02-18T00:00:00\", \"2020-02-19T00:00:00\", \"2020-02-20T00:00:00\", \"2020-02-21T00:00:00\", \"2020-02-22T00:00:00\", \"2020-02-23T00:00:00\", \"2020-02-24T00:00:00\", \"2020-02-25T00:00:00\", \"2020-02-26T00:00:00\", \"2020-02-27T00:00:00\", \"2020-02-28T00:00:00\", \"2020-02-29T00:00:00\", \"2020-03-01T00:00:00\", \"2020-03-02T00:00:00\", \"2020-03-03T00:00:00\", \"2020-03-04T00:00:00\", \"2020-03-05T00:00:00\", \"2020-03-06T00:00:00\", \"2020-03-07T00:00:00\", \"2020-03-08T00:00:00\", \"2020-03-09T00:00:00\", \"2020-03-10T00:00:00\", \"2020-03-11T00:00:00\", \"2020-03-12T00:00:00\", \"2020-03-13T00:00:00\", \"2020-03-14T00:00:00\", \"2020-03-15T00:00:00\", \"2020-03-16T00:00:00\", \"2020-03-17T00:00:00\", \"2020-03-18T00:00:00\", \"2020-03-19T00:00:00\", \"2020-03-20T00:00:00\", \"2020-03-21T00:00:00\", \"2020-03-22T00:00:00\", \"2020-03-23T00:00:00\", \"2020-03-24T00:00:00\", \"2020-03-25T00:00:00\", \"2020-03-26T00:00:00\", \"2020-03-27T00:00:00\", \"2020-03-28T00:00:00\", \"2020-03-29T00:00:00\", \"2020-03-30T00:00:00\", \"2020-03-31T00:00:00\", \"2020-04-01T00:00:00\", \"2020-04-02T00:00:00\", \"2020-04-03T00:00:00\", \"2020-04-04T00:00:00\", \"2020-04-05T00:00:00\", \"2020-04-06T00:00:00\", \"2020-04-07T00:00:00\", \"2020-04-08T00:00:00\", \"2020-04-09T00:00:00\", \"2020-04-10T00:00:00\", \"2020-04-11T00:00:00\", \"2020-04-12T00:00:00\", \"2020-04-13T00:00:00\", \"2020-04-14T00:00:00\", \"2020-04-15T00:00:00\", \"2020-04-16T00:00:00\", \"2020-04-17T00:00:00\", \"2020-04-18T00:00:00\", \"2020-04-19T00:00:00\", \"2020-04-20T00:00:00\", \"2020-04-21T00:00:00\", \"2020-04-22T00:00:00\", \"2020-04-23T00:00:00\", \"2020-04-24T00:00:00\", \"2020-04-25T00:00:00\", \"2020-04-26T00:00:00\", \"2020-04-27T00:00:00\", \"2020-04-28T00:00:00\", \"2020-04-29T00:00:00\", \"2020-04-30T00:00:00\", \"2020-05-01T00:00:00\", \"2020-05-02T00:00:00\", \"2020-05-03T00:00:00\", \"2020-05-04T00:00:00\", \"2020-05-05T00:00:00\", \"2020-05-06T00:00:00\", \"2020-05-07T00:00:00\", \"2020-05-08T00:00:00\", \"2020-05-09T00:00:00\", \"2020-05-10T00:00:00\"], \"xaxis\": \"x\", \"y\": [555, 98, 288, 497, 680, 809, 2651, 587, 2070, 1690, 2113, 4749, 3094, 4011, 3744, 3182, 3574, 2729, 3030, 2612, 2040, 419, 15148, 6517, 2145, 2194, 2034, 1878, 503, 558, 644, 1756, 386, 585, 845, 982, 1359, 1368, 1889, 2358, 1938, 2535, 2280, 2762, 3914, 4036, 3999, 3747, 5000, 7283, 2478, 16850, 10906, 11348, 14099, 15622, 17747, 27798, 29454, 32382, 32573, 41161, 39679, 49632, 61997, 63700, 67402, 59447, 62249, 75098, 75118, 80698, 82614, 101491, 74707, 72986, 80995, 85008, 84246, 96369, 79795, 75166, 70640, 58872, 79863, 96592, 87544, 77568, 83620, 70880, 76864, 74837, 84925, 101830, 86031, 74729, 70289, 74634, 77488, 62960, 86931, 83566, 79386, 76326, 79636, 92650, 90377, 92346, 85945, 77690], \"yaxis\": \"y\"}],\n",
              "                        {\"barmode\": \"group\", \"height\": 500, \"legend\": {\"tracegroupgap\": 0}, \"margin\": {\"t\": 60}, \"plot_bgcolor\": \"rgb(275, 270, 273)\", \"template\": {\"data\": {\"bar\": [{\"error_x\": {\"color\": \"#2a3f5f\"}, \"error_y\": {\"color\": \"#2a3f5f\"}, \"marker\": {\"line\": {\"color\": \"#E5ECF6\", \"width\": 0.5}}, \"type\": \"bar\"}], \"barpolar\": [{\"marker\": {\"line\": {\"color\": \"#E5ECF6\", \"width\": 0.5}}, \"type\": \"barpolar\"}], \"carpet\": [{\"aaxis\": {\"endlinecolor\": \"#2a3f5f\", \"gridcolor\": \"white\", \"linecolor\": \"white\", \"minorgridcolor\": \"white\", \"startlinecolor\": \"#2a3f5f\"}, \"baxis\": {\"endlinecolor\": \"#2a3f5f\", \"gridcolor\": \"white\", \"linecolor\": \"white\", \"minorgridcolor\": \"white\", \"startlinecolor\": \"#2a3f5f\"}, \"type\": \"carpet\"}], \"choropleth\": [{\"colorbar\": {\"outlinewidth\": 0, \"ticks\": \"\"}, \"type\": \"choropleth\"}], \"contour\": [{\"colorbar\": {\"outlinewidth\": 0, \"ticks\": \"\"}, \"colorscale\": [[0.0, \"#0d0887\"], [0.1111111111111111, \"#46039f\"], [0.2222222222222222, \"#7201a8\"], [0.3333333333333333, \"#9c179e\"], [0.4444444444444444, \"#bd3786\"], [0.5555555555555556, \"#d8576b\"], [0.6666666666666666, \"#ed7953\"], [0.7777777777777778, \"#fb9f3a\"], [0.8888888888888888, \"#fdca26\"], [1.0, \"#f0f921\"]], \"type\": \"contour\"}], \"contourcarpet\": [{\"colorbar\": {\"outlinewidth\": 0, \"ticks\": \"\"}, \"type\": \"contourcarpet\"}], \"heatmap\": [{\"colorbar\": {\"outlinewidth\": 0, \"ticks\": \"\"}, \"colorscale\": [[0.0, \"#0d0887\"], [0.1111111111111111, \"#46039f\"], [0.2222222222222222, \"#7201a8\"], [0.3333333333333333, \"#9c179e\"], [0.4444444444444444, \"#bd3786\"], [0.5555555555555556, \"#d8576b\"], [0.6666666666666666, \"#ed7953\"], [0.7777777777777778, \"#fb9f3a\"], [0.8888888888888888, \"#fdca26\"], [1.0, \"#f0f921\"]], \"type\": \"heatmap\"}], \"heatmapgl\": [{\"colorbar\": {\"outlinewidth\": 0, \"ticks\": \"\"}, \"colorscale\": [[0.0, \"#0d0887\"], [0.1111111111111111, \"#46039f\"], [0.2222222222222222, \"#7201a8\"], [0.3333333333333333, \"#9c179e\"], [0.4444444444444444, \"#bd3786\"], [0.5555555555555556, \"#d8576b\"], [0.6666666666666666, \"#ed7953\"], [0.7777777777777778, \"#fb9f3a\"], [0.8888888888888888, \"#fdca26\"], [1.0, \"#f0f921\"]], \"type\": \"heatmapgl\"}], \"histogram\": [{\"marker\": {\"colorbar\": {\"outlinewidth\": 0, \"ticks\": \"\"}}, \"type\": \"histogram\"}], \"histogram2d\": [{\"colorbar\": {\"outlinewidth\": 0, \"ticks\": \"\"}, \"colorscale\": [[0.0, \"#0d0887\"], [0.1111111111111111, \"#46039f\"], [0.2222222222222222, \"#7201a8\"], [0.3333333333333333, \"#9c179e\"], [0.4444444444444444, \"#bd3786\"], [0.5555555555555556, \"#d8576b\"], [0.6666666666666666, \"#ed7953\"], [0.7777777777777778, \"#fb9f3a\"], [0.8888888888888888, \"#fdca26\"], [1.0, \"#f0f921\"]], \"type\": \"histogram2d\"}], \"histogram2dcontour\": [{\"colorbar\": {\"outlinewidth\": 0, \"ticks\": \"\"}, \"colorscale\": [[0.0, \"#0d0887\"], [0.1111111111111111, \"#46039f\"], [0.2222222222222222, \"#7201a8\"], [0.3333333333333333, \"#9c179e\"], [0.4444444444444444, \"#bd3786\"], [0.5555555555555556, \"#d8576b\"], [0.6666666666666666, \"#ed7953\"], [0.7777777777777778, \"#fb9f3a\"], [0.8888888888888888, \"#fdca26\"], [1.0, \"#f0f921\"]], \"type\": \"histogram2dcontour\"}], \"mesh3d\": [{\"colorbar\": {\"outlinewidth\": 0, \"ticks\": \"\"}, \"type\": \"mesh3d\"}], \"parcoords\": [{\"line\": {\"colorbar\": {\"outlinewidth\": 0, \"ticks\": \"\"}}, \"type\": \"parcoords\"}], \"pie\": [{\"automargin\": true, \"type\": \"pie\"}], \"scatter\": [{\"marker\": {\"colorbar\": {\"outlinewidth\": 0, \"ticks\": \"\"}}, \"type\": \"scatter\"}], \"scatter3d\": [{\"line\": {\"colorbar\": {\"outlinewidth\": 0, \"ticks\": \"\"}}, \"marker\": {\"colorbar\": {\"outlinewidth\": 0, \"ticks\": \"\"}}, \"type\": \"scatter3d\"}], \"scattercarpet\": [{\"marker\": {\"colorbar\": {\"outlinewidth\": 0, \"ticks\": \"\"}}, \"type\": \"scattercarpet\"}], \"scattergeo\": [{\"marker\": {\"colorbar\": {\"outlinewidth\": 0, \"ticks\": \"\"}}, \"type\": \"scattergeo\"}], \"scattergl\": [{\"marker\": {\"colorbar\": {\"outlinewidth\": 0, \"ticks\": \"\"}}, \"type\": \"scattergl\"}], \"scattermapbox\": [{\"marker\": {\"colorbar\": {\"outlinewidth\": 0, \"ticks\": \"\"}}, \"type\": \"scattermapbox\"}], \"scatterpolar\": [{\"marker\": {\"colorbar\": {\"outlinewidth\": 0, \"ticks\": \"\"}}, \"type\": \"scatterpolar\"}], \"scatterpolargl\": [{\"marker\": {\"colorbar\": {\"outlinewidth\": 0, \"ticks\": \"\"}}, \"type\": \"scatterpolargl\"}], \"scatterternary\": [{\"marker\": {\"colorbar\": {\"outlinewidth\": 0, \"ticks\": \"\"}}, \"type\": \"scatterternary\"}], \"surface\": [{\"colorbar\": {\"outlinewidth\": 0, \"ticks\": \"\"}, \"colorscale\": [[0.0, \"#0d0887\"], [0.1111111111111111, \"#46039f\"], [0.2222222222222222, \"#7201a8\"], [0.3333333333333333, \"#9c179e\"], [0.4444444444444444, \"#bd3786\"], [0.5555555555555556, \"#d8576b\"], [0.6666666666666666, \"#ed7953\"], [0.7777777777777778, \"#fb9f3a\"], [0.8888888888888888, \"#fdca26\"], [1.0, \"#f0f921\"]], \"type\": \"surface\"}], \"table\": [{\"cells\": {\"fill\": {\"color\": \"#EBF0F8\"}, \"line\": {\"color\": \"white\"}}, \"header\": {\"fill\": {\"color\": \"#C8D4E3\"}, \"line\": {\"color\": \"white\"}}, \"type\": \"table\"}]}, \"layout\": {\"annotationdefaults\": {\"arrowcolor\": \"#2a3f5f\", \"arrowhead\": 0, \"arrowwidth\": 1}, \"coloraxis\": {\"colorbar\": {\"outlinewidth\": 0, \"ticks\": \"\"}}, \"colorscale\": {\"diverging\": [[0, \"#8e0152\"], [0.1, \"#c51b7d\"], [0.2, \"#de77ae\"], [0.3, \"#f1b6da\"], [0.4, \"#fde0ef\"], [0.5, \"#f7f7f7\"], [0.6, \"#e6f5d0\"], [0.7, \"#b8e186\"], [0.8, \"#7fbc41\"], [0.9, \"#4d9221\"], [1, \"#276419\"]], \"sequential\": [[0.0, \"#0d0887\"], [0.1111111111111111, \"#46039f\"], [0.2222222222222222, \"#7201a8\"], [0.3333333333333333, \"#9c179e\"], [0.4444444444444444, \"#bd3786\"], [0.5555555555555556, \"#d8576b\"], [0.6666666666666666, \"#ed7953\"], [0.7777777777777778, \"#fb9f3a\"], [0.8888888888888888, \"#fdca26\"], [1.0, \"#f0f921\"]], \"sequentialminus\": [[0.0, \"#0d0887\"], [0.1111111111111111, \"#46039f\"], [0.2222222222222222, \"#7201a8\"], [0.3333333333333333, \"#9c179e\"], [0.4444444444444444, \"#bd3786\"], [0.5555555555555556, \"#d8576b\"], [0.6666666666666666, \"#ed7953\"], [0.7777777777777778, \"#fb9f3a\"], [0.8888888888888888, \"#fdca26\"], [1.0, \"#f0f921\"]]}, \"colorway\": [\"#636efa\", \"#EF553B\", \"#00cc96\", \"#ab63fa\", \"#FFA15A\", \"#19d3f3\", \"#FF6692\", \"#B6E880\", \"#FF97FF\", \"#FECB52\"], \"font\": {\"color\": \"#2a3f5f\"}, \"geo\": {\"bgcolor\": \"white\", \"lakecolor\": \"white\", \"landcolor\": \"#E5ECF6\", \"showlakes\": true, \"showland\": true, \"subunitcolor\": \"white\"}, \"hoverlabel\": {\"align\": \"left\"}, \"hovermode\": \"closest\", \"mapbox\": {\"style\": \"light\"}, \"paper_bgcolor\": \"white\", \"plot_bgcolor\": \"#E5ECF6\", \"polar\": {\"angularaxis\": {\"gridcolor\": \"white\", \"linecolor\": \"white\", \"ticks\": \"\"}, \"bgcolor\": \"#E5ECF6\", \"radialaxis\": {\"gridcolor\": \"white\", \"linecolor\": \"white\", \"ticks\": \"\"}}, \"scene\": {\"xaxis\": {\"backgroundcolor\": \"#E5ECF6\", \"gridcolor\": \"white\", \"gridwidth\": 2, \"linecolor\": \"white\", \"showbackground\": true, \"ticks\": \"\", \"zerolinecolor\": \"white\"}, \"yaxis\": {\"backgroundcolor\": \"#E5ECF6\", \"gridcolor\": \"white\", \"gridwidth\": 2, \"linecolor\": \"white\", \"showbackground\": true, \"ticks\": \"\", \"zerolinecolor\": \"white\"}, \"zaxis\": {\"backgroundcolor\": \"#E5ECF6\", \"gridcolor\": \"white\", \"gridwidth\": 2, \"linecolor\": \"white\", \"showbackground\": true, \"ticks\": \"\", \"zerolinecolor\": \"white\"}}, \"shapedefaults\": {\"line\": {\"color\": \"#2a3f5f\"}}, \"ternary\": {\"aaxis\": {\"gridcolor\": \"white\", \"linecolor\": \"white\", \"ticks\": \"\"}, \"baxis\": {\"gridcolor\": \"white\", \"linecolor\": \"white\", \"ticks\": \"\"}, \"bgcolor\": \"#E5ECF6\", \"caxis\": {\"gridcolor\": \"white\", \"linecolor\": \"white\", \"ticks\": \"\"}}, \"title\": {\"x\": 0.05}, \"xaxis\": {\"automargin\": true, \"gridcolor\": \"white\", \"linecolor\": \"white\", \"ticks\": \"\", \"title\": {\"standoff\": 15}, \"zerolinecolor\": \"white\", \"zerolinewidth\": 2}, \"yaxis\": {\"automargin\": true, \"gridcolor\": \"white\", \"linecolor\": \"white\", \"ticks\": \"\", \"title\": {\"standoff\": 15}, \"zerolinecolor\": \"white\", \"zerolinewidth\": 2}}}, \"title\": {\"text\": \"New COVID-19 cases reported daily all over the World\"}, \"xaxis\": {\"anchor\": \"y\", \"domain\": [0.0, 1.0], \"title\": {\"text\": \"Date\"}}, \"yaxis\": {\"anchor\": \"x\", \"domain\": [0.0, 1.0], \"title\": {\"text\": \"New Daily Confirmed Cases\"}}},\n",
              "                        {\"responsive\": true}\n",
              "                    ).then(function(){\n",
              "                            \n",
              "var gd = document.getElementById('bb00993e-a174-4e8a-aa4d-f499b8cf0b7e');\n",
              "var x = new MutationObserver(function (mutations, observer) {{\n",
              "        var display = window.getComputedStyle(gd).display;\n",
              "        if (!display || display === 'none') {{\n",
              "            console.log([gd, 'removed!']);\n",
              "            Plotly.purge(gd);\n",
              "            observer.disconnect();\n",
              "        }}\n",
              "}});\n",
              "\n",
              "// Listen for the removal of the full notebook cells\n",
              "var notebookContainer = gd.closest('#notebook-container');\n",
              "if (notebookContainer) {{\n",
              "    x.observe(notebookContainer, {childList: true});\n",
              "}}\n",
              "\n",
              "// Listen for the clearing of the current output cell\n",
              "var outputEl = gd.closest('.output');\n",
              "if (outputEl) {{\n",
              "    x.observe(outputEl, {childList: true});\n",
              "}}\n",
              "\n",
              "                        })\n",
              "                };\n",
              "                });\n",
              "            </script>\n",
              "        </div>"
            ],
            "application/vnd.plotly.v1+json": {
              "data": [
                {
                  "textposition": "auto",
                  "hovertemplate": "Date=%{x}<br>New Daily Confirmed Cases=%{y}",
                  "showlegend": false,
                  "legendgroup": "",
                  "name": "",
                  "yaxis": "y",
                  "y": [
                    555,
                    98,
                    288,
                    497,
                    680,
                    809,
                    2651,
                    587,
                    2070,
                    1690,
                    2113,
                    4749,
                    3094,
                    4011,
                    3744,
                    3182,
                    3574,
                    2729,
                    3030,
                    2612,
                    2040,
                    419,
                    15148,
                    6517,
                    2145,
                    2194,
                    2034,
                    1878,
                    503,
                    558,
                    644,
                    1756,
                    386,
                    585,
                    845,
                    982,
                    1359,
                    1368,
                    1889,
                    2358,
                    1938,
                    2535,
                    2280,
                    2762,
                    3914,
                    4036,
                    3999,
                    3747,
                    5000,
                    7283,
                    2478,
                    16850,
                    10906,
                    11348,
                    14099,
                    15622,
                    17747,
                    27798,
                    29454,
                    32382,
                    32573,
                    41161,
                    39679,
                    49632,
                    61997,
                    63700,
                    67402,
                    59447,
                    62249,
                    75098,
                    75118,
                    80698,
                    82614,
                    101491,
                    74707,
                    72986,
                    80995,
                    85008,
                    84246,
                    96369,
                    79795,
                    75166,
                    70640,
                    58872,
                    79863,
                    96592,
                    87544,
                    77568,
                    83620,
                    70880,
                    76864,
                    74837,
                    84925,
                    101830,
                    86031,
                    74729,
                    70289,
                    74634,
                    77488,
                    62960,
                    86931,
                    83566,
                    79386,
                    76326,
                    79636,
                    92650,
                    90377,
                    92346,
                    85945,
                    77690
                  ],
                  "hoverlabel": {
                    "namelength": 0
                  },
                  "offsetgroup": "",
                  "xaxis": "x",
                  "marker": {
                    "color": "#636efa"
                  },
                  "x": [
                    "2020-01-22T00:00:00",
                    "2020-01-23T00:00:00",
                    "2020-01-24T00:00:00",
                    "2020-01-25T00:00:00",
                    "2020-01-26T00:00:00",
                    "2020-01-27T00:00:00",
                    "2020-01-28T00:00:00",
                    "2020-01-29T00:00:00",
                    "2020-01-30T00:00:00",
                    "2020-01-31T00:00:00",
                    "2020-02-01T00:00:00",
                    "2020-02-02T00:00:00",
                    "2020-02-03T00:00:00",
                    "2020-02-04T00:00:00",
                    "2020-02-05T00:00:00",
                    "2020-02-06T00:00:00",
                    "2020-02-07T00:00:00",
                    "2020-02-08T00:00:00",
                    "2020-02-09T00:00:00",
                    "2020-02-10T00:00:00",
                    "2020-02-11T00:00:00",
                    "2020-02-12T00:00:00",
                    "2020-02-13T00:00:00",
                    "2020-02-14T00:00:00",
                    "2020-02-15T00:00:00",
                    "2020-02-16T00:00:00",
                    "2020-02-17T00:00:00",
                    "2020-02-18T00:00:00",
                    "2020-02-19T00:00:00",
                    "2020-02-20T00:00:00",
                    "2020-02-21T00:00:00",
                    "2020-02-22T00:00:00",
                    "2020-02-23T00:00:00",
                    "2020-02-24T00:00:00",
                    "2020-02-25T00:00:00",
                    "2020-02-26T00:00:00",
                    "2020-02-27T00:00:00",
                    "2020-02-28T00:00:00",
                    "2020-02-29T00:00:00",
                    "2020-03-01T00:00:00",
                    "2020-03-02T00:00:00",
                    "2020-03-03T00:00:00",
                    "2020-03-04T00:00:00",
                    "2020-03-05T00:00:00",
                    "2020-03-06T00:00:00",
                    "2020-03-07T00:00:00",
                    "2020-03-08T00:00:00",
                    "2020-03-09T00:00:00",
                    "2020-03-10T00:00:00",
                    "2020-03-11T00:00:00",
                    "2020-03-12T00:00:00",
                    "2020-03-13T00:00:00",
                    "2020-03-14T00:00:00",
                    "2020-03-15T00:00:00",
                    "2020-03-16T00:00:00",
                    "2020-03-17T00:00:00",
                    "2020-03-18T00:00:00",
                    "2020-03-19T00:00:00",
                    "2020-03-20T00:00:00",
                    "2020-03-21T00:00:00",
                    "2020-03-22T00:00:00",
                    "2020-03-23T00:00:00",
                    "2020-03-24T00:00:00",
                    "2020-03-25T00:00:00",
                    "2020-03-26T00:00:00",
                    "2020-03-27T00:00:00",
                    "2020-03-28T00:00:00",
                    "2020-03-29T00:00:00",
                    "2020-03-30T00:00:00",
                    "2020-03-31T00:00:00",
                    "2020-04-01T00:00:00",
                    "2020-04-02T00:00:00",
                    "2020-04-03T00:00:00",
                    "2020-04-04T00:00:00",
                    "2020-04-05T00:00:00",
                    "2020-04-06T00:00:00",
                    "2020-04-07T00:00:00",
                    "2020-04-08T00:00:00",
                    "2020-04-09T00:00:00",
                    "2020-04-10T00:00:00",
                    "2020-04-11T00:00:00",
                    "2020-04-12T00:00:00",
                    "2020-04-13T00:00:00",
                    "2020-04-14T00:00:00",
                    "2020-04-15T00:00:00",
                    "2020-04-16T00:00:00",
                    "2020-04-17T00:00:00",
                    "2020-04-18T00:00:00",
                    "2020-04-19T00:00:00",
                    "2020-04-20T00:00:00",
                    "2020-04-21T00:00:00",
                    "2020-04-22T00:00:00",
                    "2020-04-23T00:00:00",
                    "2020-04-24T00:00:00",
                    "2020-04-25T00:00:00",
                    "2020-04-26T00:00:00",
                    "2020-04-27T00:00:00",
                    "2020-04-28T00:00:00",
                    "2020-04-29T00:00:00",
                    "2020-04-30T00:00:00",
                    "2020-05-01T00:00:00",
                    "2020-05-02T00:00:00",
                    "2020-05-03T00:00:00",
                    "2020-05-04T00:00:00",
                    "2020-05-05T00:00:00",
                    "2020-05-06T00:00:00",
                    "2020-05-07T00:00:00",
                    "2020-05-08T00:00:00",
                    "2020-05-09T00:00:00",
                    "2020-05-10T00:00:00"
                  ],
                  "alignmentgroup": "True",
                  "type": "bar",
                  "orientation": "v"
                }
              ],
              "config": {
                "plotlyServerURL": "https://plot.ly"
              },
              "layout": {
                "xaxis": {
                  "domain": [
                    0,
                    1
                  ],
                  "anchor": "y",
                  "title": {
                    "text": "Date"
                  }
                },
                "title": {
                  "text": "New COVID-19 cases reported daily all over the World"
                },
                "plot_bgcolor": "rgb(275, 270, 273)",
                "yaxis": {
                  "domain": [
                    0,
                    1
                  ],
                  "anchor": "x",
                  "title": {
                    "text": "New Daily Confirmed Cases"
                  }
                },
                "height": 500,
                "barmode": "group",
                "template": {
                  "layout": {
                    "shapedefaults": {
                      "line": {
                        "color": "#2a3f5f"
                      }
                    },
                    "polar": {
                      "radialaxis": {
                        "ticks": "",
                        "gridcolor": "white",
                        "linecolor": "white"
                      },
                      "bgcolor": "#E5ECF6",
                      "angularaxis": {
                        "ticks": "",
                        "gridcolor": "white",
                        "linecolor": "white"
                      }
                    },
                    "colorway": [
                      "#636efa",
                      "#EF553B",
                      "#00cc96",
                      "#ab63fa",
                      "#FFA15A",
                      "#19d3f3",
                      "#FF6692",
                      "#B6E880",
                      "#FF97FF",
                      "#FECB52"
                    ],
                    "xaxis": {
                      "automargin": true,
                      "title": {
                        "standoff": 15
                      },
                      "zerolinewidth": 2,
                      "ticks": "",
                      "zerolinecolor": "white",
                      "gridcolor": "white",
                      "linecolor": "white"
                    },
                    "colorscale": {
                      "diverging": [
                        [
                          0,
                          "#8e0152"
                        ],
                        [
                          0.1,
                          "#c51b7d"
                        ],
                        [
                          0.2,
                          "#de77ae"
                        ],
                        [
                          0.3,
                          "#f1b6da"
                        ],
                        [
                          0.4,
                          "#fde0ef"
                        ],
                        [
                          0.5,
                          "#f7f7f7"
                        ],
                        [
                          0.6,
                          "#e6f5d0"
                        ],
                        [
                          0.7,
                          "#b8e186"
                        ],
                        [
                          0.8,
                          "#7fbc41"
                        ],
                        [
                          0.9,
                          "#4d9221"
                        ],
                        [
                          1,
                          "#276419"
                        ]
                      ],
                      "sequential": [
                        [
                          0,
                          "#0d0887"
                        ],
                        [
                          0.1111111111111111,
                          "#46039f"
                        ],
                        [
                          0.2222222222222222,
                          "#7201a8"
                        ],
                        [
                          0.3333333333333333,
                          "#9c179e"
                        ],
                        [
                          0.4444444444444444,
                          "#bd3786"
                        ],
                        [
                          0.5555555555555556,
                          "#d8576b"
                        ],
                        [
                          0.6666666666666666,
                          "#ed7953"
                        ],
                        [
                          0.7777777777777778,
                          "#fb9f3a"
                        ],
                        [
                          0.8888888888888888,
                          "#fdca26"
                        ],
                        [
                          1,
                          "#f0f921"
                        ]
                      ],
                      "sequentialminus": [
                        [
                          0,
                          "#0d0887"
                        ],
                        [
                          0.1111111111111111,
                          "#46039f"
                        ],
                        [
                          0.2222222222222222,
                          "#7201a8"
                        ],
                        [
                          0.3333333333333333,
                          "#9c179e"
                        ],
                        [
                          0.4444444444444444,
                          "#bd3786"
                        ],
                        [
                          0.5555555555555556,
                          "#d8576b"
                        ],
                        [
                          0.6666666666666666,
                          "#ed7953"
                        ],
                        [
                          0.7777777777777778,
                          "#fb9f3a"
                        ],
                        [
                          0.8888888888888888,
                          "#fdca26"
                        ],
                        [
                          1,
                          "#f0f921"
                        ]
                      ]
                    },
                    "paper_bgcolor": "white",
                    "plot_bgcolor": "#E5ECF6",
                    "title": {
                      "x": 0.05
                    },
                    "scene": {
                      "zaxis": {
                        "backgroundcolor": "#E5ECF6",
                        "ticks": "",
                        "gridwidth": 2,
                        "showbackground": true,
                        "zerolinecolor": "white",
                        "gridcolor": "white",
                        "linecolor": "white"
                      },
                      "xaxis": {
                        "backgroundcolor": "#E5ECF6",
                        "ticks": "",
                        "gridwidth": 2,
                        "showbackground": true,
                        "zerolinecolor": "white",
                        "gridcolor": "white",
                        "linecolor": "white"
                      },
                      "yaxis": {
                        "backgroundcolor": "#E5ECF6",
                        "ticks": "",
                        "gridwidth": 2,
                        "showbackground": true,
                        "zerolinecolor": "white",
                        "gridcolor": "white",
                        "linecolor": "white"
                      }
                    },
                    "yaxis": {
                      "automargin": true,
                      "title": {
                        "standoff": 15
                      },
                      "zerolinewidth": 2,
                      "ticks": "",
                      "zerolinecolor": "white",
                      "gridcolor": "white",
                      "linecolor": "white"
                    },
                    "annotationdefaults": {
                      "arrowwidth": 1,
                      "arrowhead": 0,
                      "arrowcolor": "#2a3f5f"
                    },
                    "hoverlabel": {
                      "align": "left"
                    },
                    "ternary": {
                      "bgcolor": "#E5ECF6",
                      "baxis": {
                        "ticks": "",
                        "gridcolor": "white",
                        "linecolor": "white"
                      },
                      "caxis": {
                        "ticks": "",
                        "gridcolor": "white",
                        "linecolor": "white"
                      },
                      "aaxis": {
                        "ticks": "",
                        "gridcolor": "white",
                        "linecolor": "white"
                      }
                    },
                    "mapbox": {
                      "style": "light"
                    },
                    "hovermode": "closest",
                    "font": {
                      "color": "#2a3f5f"
                    },
                    "geo": {
                      "showland": true,
                      "landcolor": "#E5ECF6",
                      "showlakes": true,
                      "bgcolor": "white",
                      "subunitcolor": "white",
                      "lakecolor": "white"
                    },
                    "coloraxis": {
                      "colorbar": {
                        "outlinewidth": 0,
                        "ticks": ""
                      }
                    }
                  },
                  "data": {
                    "mesh3d": [
                      {
                        "colorbar": {
                          "outlinewidth": 0,
                          "ticks": ""
                        },
                        "type": "mesh3d"
                      }
                    ],
                    "scattercarpet": [
                      {
                        "marker": {
                          "colorbar": {
                            "outlinewidth": 0,
                            "ticks": ""
                          }
                        },
                        "type": "scattercarpet"
                      }
                    ],
                    "pie": [
                      {
                        "automargin": true,
                        "type": "pie"
                      }
                    ],
                    "surface": [
                      {
                        "colorbar": {
                          "outlinewidth": 0,
                          "ticks": ""
                        },
                        "type": "surface",
                        "colorscale": [
                          [
                            0,
                            "#0d0887"
                          ],
                          [
                            0.1111111111111111,
                            "#46039f"
                          ],
                          [
                            0.2222222222222222,
                            "#7201a8"
                          ],
                          [
                            0.3333333333333333,
                            "#9c179e"
                          ],
                          [
                            0.4444444444444444,
                            "#bd3786"
                          ],
                          [
                            0.5555555555555556,
                            "#d8576b"
                          ],
                          [
                            0.6666666666666666,
                            "#ed7953"
                          ],
                          [
                            0.7777777777777778,
                            "#fb9f3a"
                          ],
                          [
                            0.8888888888888888,
                            "#fdca26"
                          ],
                          [
                            1,
                            "#f0f921"
                          ]
                        ]
                      }
                    ],
                    "table": [
                      {
                        "header": {
                          "line": {
                            "color": "white"
                          },
                          "fill": {
                            "color": "#C8D4E3"
                          }
                        },
                        "cells": {
                          "line": {
                            "color": "white"
                          },
                          "fill": {
                            "color": "#EBF0F8"
                          }
                        },
                        "type": "table"
                      }
                    ],
                    "scatterpolargl": [
                      {
                        "marker": {
                          "colorbar": {
                            "outlinewidth": 0,
                            "ticks": ""
                          }
                        },
                        "type": "scatterpolargl"
                      }
                    ],
                    "contour": [
                      {
                        "colorbar": {
                          "outlinewidth": 0,
                          "ticks": ""
                        },
                        "type": "contour",
                        "colorscale": [
                          [
                            0,
                            "#0d0887"
                          ],
                          [
                            0.1111111111111111,
                            "#46039f"
                          ],
                          [
                            0.2222222222222222,
                            "#7201a8"
                          ],
                          [
                            0.3333333333333333,
                            "#9c179e"
                          ],
                          [
                            0.4444444444444444,
                            "#bd3786"
                          ],
                          [
                            0.5555555555555556,
                            "#d8576b"
                          ],
                          [
                            0.6666666666666666,
                            "#ed7953"
                          ],
                          [
                            0.7777777777777778,
                            "#fb9f3a"
                          ],
                          [
                            0.8888888888888888,
                            "#fdca26"
                          ],
                          [
                            1,
                            "#f0f921"
                          ]
                        ]
                      }
                    ],
                    "carpet": [
                      {
                        "type": "carpet",
                        "baxis": {
                          "minorgridcolor": "white",
                          "gridcolor": "white",
                          "linecolor": "white",
                          "endlinecolor": "#2a3f5f",
                          "startlinecolor": "#2a3f5f"
                        },
                        "aaxis": {
                          "minorgridcolor": "white",
                          "gridcolor": "white",
                          "linecolor": "white",
                          "endlinecolor": "#2a3f5f",
                          "startlinecolor": "#2a3f5f"
                        }
                      }
                    ],
                    "contourcarpet": [
                      {
                        "colorbar": {
                          "outlinewidth": 0,
                          "ticks": ""
                        },
                        "type": "contourcarpet"
                      }
                    ],
                    "heatmap": [
                      {
                        "colorbar": {
                          "outlinewidth": 0,
                          "ticks": ""
                        },
                        "type": "heatmap",
                        "colorscale": [
                          [
                            0,
                            "#0d0887"
                          ],
                          [
                            0.1111111111111111,
                            "#46039f"
                          ],
                          [
                            0.2222222222222222,
                            "#7201a8"
                          ],
                          [
                            0.3333333333333333,
                            "#9c179e"
                          ],
                          [
                            0.4444444444444444,
                            "#bd3786"
                          ],
                          [
                            0.5555555555555556,
                            "#d8576b"
                          ],
                          [
                            0.6666666666666666,
                            "#ed7953"
                          ],
                          [
                            0.7777777777777778,
                            "#fb9f3a"
                          ],
                          [
                            0.8888888888888888,
                            "#fdca26"
                          ],
                          [
                            1,
                            "#f0f921"
                          ]
                        ]
                      }
                    ],
                    "scattermapbox": [
                      {
                        "marker": {
                          "colorbar": {
                            "outlinewidth": 0,
                            "ticks": ""
                          }
                        },
                        "type": "scattermapbox"
                      }
                    ],
                    "scatter3d": [
                      {
                        "marker": {
                          "colorbar": {
                            "outlinewidth": 0,
                            "ticks": ""
                          }
                        },
                        "line": {
                          "colorbar": {
                            "outlinewidth": 0,
                            "ticks": ""
                          }
                        },
                        "type": "scatter3d"
                      }
                    ],
                    "scattergl": [
                      {
                        "marker": {
                          "colorbar": {
                            "outlinewidth": 0,
                            "ticks": ""
                          }
                        },
                        "type": "scattergl"
                      }
                    ],
                    "scatterternary": [
                      {
                        "marker": {
                          "colorbar": {
                            "outlinewidth": 0,
                            "ticks": ""
                          }
                        },
                        "type": "scatterternary"
                      }
                    ],
                    "histogram": [
                      {
                        "marker": {
                          "colorbar": {
                            "outlinewidth": 0,
                            "ticks": ""
                          }
                        },
                        "type": "histogram"
                      }
                    ],
                    "heatmapgl": [
                      {
                        "colorbar": {
                          "outlinewidth": 0,
                          "ticks": ""
                        },
                        "type": "heatmapgl",
                        "colorscale": [
                          [
                            0,
                            "#0d0887"
                          ],
                          [
                            0.1111111111111111,
                            "#46039f"
                          ],
                          [
                            0.2222222222222222,
                            "#7201a8"
                          ],
                          [
                            0.3333333333333333,
                            "#9c179e"
                          ],
                          [
                            0.4444444444444444,
                            "#bd3786"
                          ],
                          [
                            0.5555555555555556,
                            "#d8576b"
                          ],
                          [
                            0.6666666666666666,
                            "#ed7953"
                          ],
                          [
                            0.7777777777777778,
                            "#fb9f3a"
                          ],
                          [
                            0.8888888888888888,
                            "#fdca26"
                          ],
                          [
                            1,
                            "#f0f921"
                          ]
                        ]
                      }
                    ],
                    "scatterpolar": [
                      {
                        "marker": {
                          "colorbar": {
                            "outlinewidth": 0,
                            "ticks": ""
                          }
                        },
                        "type": "scatterpolar"
                      }
                    ],
                    "histogram2d": [
                      {
                        "colorbar": {
                          "outlinewidth": 0,
                          "ticks": ""
                        },
                        "type": "histogram2d",
                        "colorscale": [
                          [
                            0,
                            "#0d0887"
                          ],
                          [
                            0.1111111111111111,
                            "#46039f"
                          ],
                          [
                            0.2222222222222222,
                            "#7201a8"
                          ],
                          [
                            0.3333333333333333,
                            "#9c179e"
                          ],
                          [
                            0.4444444444444444,
                            "#bd3786"
                          ],
                          [
                            0.5555555555555556,
                            "#d8576b"
                          ],
                          [
                            0.6666666666666666,
                            "#ed7953"
                          ],
                          [
                            0.7777777777777778,
                            "#fb9f3a"
                          ],
                          [
                            0.8888888888888888,
                            "#fdca26"
                          ],
                          [
                            1,
                            "#f0f921"
                          ]
                        ]
                      }
                    ],
                    "scattergeo": [
                      {
                        "marker": {
                          "colorbar": {
                            "outlinewidth": 0,
                            "ticks": ""
                          }
                        },
                        "type": "scattergeo"
                      }
                    ],
                    "bar": [
                      {
                        "marker": {
                          "line": {
                            "color": "#E5ECF6",
                            "width": 0.5
                          }
                        },
                        "type": "bar",
                        "error_x": {
                          "color": "#2a3f5f"
                        },
                        "error_y": {
                          "color": "#2a3f5f"
                        }
                      }
                    ],
                    "choropleth": [
                      {
                        "colorbar": {
                          "outlinewidth": 0,
                          "ticks": ""
                        },
                        "type": "choropleth"
                      }
                    ],
                    "parcoords": [
                      {
                        "line": {
                          "colorbar": {
                            "outlinewidth": 0,
                            "ticks": ""
                          }
                        },
                        "type": "parcoords"
                      }
                    ],
                    "barpolar": [
                      {
                        "marker": {
                          "line": {
                            "color": "#E5ECF6",
                            "width": 0.5
                          }
                        },
                        "type": "barpolar"
                      }
                    ],
                    "histogram2dcontour": [
                      {
                        "colorbar": {
                          "outlinewidth": 0,
                          "ticks": ""
                        },
                        "type": "histogram2dcontour",
                        "colorscale": [
                          [
                            0,
                            "#0d0887"
                          ],
                          [
                            0.1111111111111111,
                            "#46039f"
                          ],
                          [
                            0.2222222222222222,
                            "#7201a8"
                          ],
                          [
                            0.3333333333333333,
                            "#9c179e"
                          ],
                          [
                            0.4444444444444444,
                            "#bd3786"
                          ],
                          [
                            0.5555555555555556,
                            "#d8576b"
                          ],
                          [
                            0.6666666666666666,
                            "#ed7953"
                          ],
                          [
                            0.7777777777777778,
                            "#fb9f3a"
                          ],
                          [
                            0.8888888888888888,
                            "#fdca26"
                          ],
                          [
                            1,
                            "#f0f921"
                          ]
                        ]
                      }
                    ],
                    "scatter": [
                      {
                        "marker": {
                          "colorbar": {
                            "outlinewidth": 0,
                            "ticks": ""
                          }
                        },
                        "type": "scatter"
                      }
                    ]
                  }
                },
                "margin": {
                  "t": 60
                },
                "legend": {
                  "tracegroupgap": 0
                }
              }
            }
          },
          "metadata": {
            "tags": []
          }
        }
      ]
    },
    {
      "cell_type": "code",
      "metadata": {
        "id": "ScGsjZnPx-Pu",
        "colab_type": "code",
        "outputId": "49cd3cb1-a51f-4852-d467-f45bfe4028bb",
        "colab": {
          "base_uri": "https://localhost:8080/",
          "height": 517
        }
      },
      "source": [
        "import plotly.express as px\n",
        "fig = px.bar(perday2, x=\"Date\", y=\"New Daily Cured Cases\", barmode='group',height=500,\n",
        "            color_discrete_sequence = ['#319146'])\n",
        "fig.update_layout(title_text='New COVID-19 Recovered cases reported daily all over the world',plot_bgcolor='rgb(275, 270, 273)')\n",
        "fig.show()"
      ],
      "execution_count": 74,
      "outputs": [
        {
          "output_type": "display_data",
          "data": {
            "text/html": [
              "<div>\n",
              "        \n",
              "        \n",
              "            <div id=\"5f2a3adf-f4e8-4337-8564-2a6a8dec8bed\" class=\"plotly-graph-div\" style=\"height:500px; width:100%;\"></div>\n",
              "            <script type=\"text/javascript\">\n",
              "                require([\"plotly\"], function(Plotly) {\n",
              "                    window.PLOTLYENV=window.PLOTLYENV || {};\n",
              "                    \n",
              "                if (document.getElementById(\"5f2a3adf-f4e8-4337-8564-2a6a8dec8bed\")) {\n",
              "                    Plotly.newPlot(\n",
              "                        '5f2a3adf-f4e8-4337-8564-2a6a8dec8bed',\n",
              "                        [{\"alignmentgroup\": \"True\", \"hoverlabel\": {\"namelength\": 0}, \"hovertemplate\": \"Date=%{x}<br>New Daily Cured Cases=%{y}\", \"legendgroup\": \"\", \"marker\": {\"color\": \"#319146\"}, \"name\": \"\", \"offsetgroup\": \"\", \"orientation\": \"v\", \"showlegend\": false, \"textposition\": \"auto\", \"type\": \"bar\", \"x\": [\"2020-01-22T00:00:00\", \"2020-01-23T00:00:00\", \"2020-01-24T00:00:00\", \"2020-01-25T00:00:00\", \"2020-01-26T00:00:00\", \"2020-01-27T00:00:00\", \"2020-01-28T00:00:00\", \"2020-01-29T00:00:00\", \"2020-01-30T00:00:00\", \"2020-01-31T00:00:00\", \"2020-02-01T00:00:00\", \"2020-02-02T00:00:00\", \"2020-02-03T00:00:00\", \"2020-02-04T00:00:00\", \"2020-02-05T00:00:00\", \"2020-02-06T00:00:00\", \"2020-02-07T00:00:00\", \"2020-02-08T00:00:00\", \"2020-02-09T00:00:00\", \"2020-02-10T00:00:00\", \"2020-02-11T00:00:00\", \"2020-02-12T00:00:00\", \"2020-02-13T00:00:00\", \"2020-02-14T00:00:00\", \"2020-02-15T00:00:00\", \"2020-02-16T00:00:00\", \"2020-02-17T00:00:00\", \"2020-02-18T00:00:00\", \"2020-02-19T00:00:00\", \"2020-02-20T00:00:00\", \"2020-02-21T00:00:00\", \"2020-02-22T00:00:00\", \"2020-02-23T00:00:00\", \"2020-02-24T00:00:00\", \"2020-02-25T00:00:00\", \"2020-02-26T00:00:00\", \"2020-02-27T00:00:00\", \"2020-02-28T00:00:00\", \"2020-02-29T00:00:00\", \"2020-03-01T00:00:00\", \"2020-03-02T00:00:00\", \"2020-03-03T00:00:00\", \"2020-03-04T00:00:00\", \"2020-03-05T00:00:00\", \"2020-03-06T00:00:00\", \"2020-03-07T00:00:00\", \"2020-03-08T00:00:00\", \"2020-03-09T00:00:00\", \"2020-03-10T00:00:00\", \"2020-03-11T00:00:00\", \"2020-03-12T00:00:00\", \"2020-03-13T00:00:00\", \"2020-03-14T00:00:00\", \"2020-03-15T00:00:00\", \"2020-03-16T00:00:00\", \"2020-03-17T00:00:00\", \"2020-03-18T00:00:00\", \"2020-03-19T00:00:00\", \"2020-03-20T00:00:00\", \"2020-03-21T00:00:00\", \"2020-03-22T00:00:00\", \"2020-03-23T00:00:00\", \"2020-03-24T00:00:00\", \"2020-03-25T00:00:00\", \"2020-03-26T00:00:00\", \"2020-03-27T00:00:00\", \"2020-03-28T00:00:00\", \"2020-03-29T00:00:00\", \"2020-03-30T00:00:00\", \"2020-03-31T00:00:00\", \"2020-04-01T00:00:00\", \"2020-04-02T00:00:00\", \"2020-04-03T00:00:00\", \"2020-04-04T00:00:00\", \"2020-04-05T00:00:00\", \"2020-04-06T00:00:00\", \"2020-04-07T00:00:00\", \"2020-04-08T00:00:00\", \"2020-04-09T00:00:00\", \"2020-04-10T00:00:00\", \"2020-04-11T00:00:00\", \"2020-04-12T00:00:00\", \"2020-04-13T00:00:00\", \"2020-04-14T00:00:00\", \"2020-04-15T00:00:00\", \"2020-04-16T00:00:00\", \"2020-04-17T00:00:00\", \"2020-04-18T00:00:00\", \"2020-04-19T00:00:00\", \"2020-04-20T00:00:00\", \"2020-04-21T00:00:00\", \"2020-04-22T00:00:00\", \"2020-04-23T00:00:00\", \"2020-04-24T00:00:00\", \"2020-04-25T00:00:00\", \"2020-04-26T00:00:00\", \"2020-04-27T00:00:00\", \"2020-04-28T00:00:00\", \"2020-04-29T00:00:00\", \"2020-04-30T00:00:00\", \"2020-05-01T00:00:00\", \"2020-05-02T00:00:00\", \"2020-05-03T00:00:00\", \"2020-05-04T00:00:00\", \"2020-05-05T00:00:00\", \"2020-05-06T00:00:00\", \"2020-05-07T00:00:00\", \"2020-05-08T00:00:00\", \"2020-05-09T00:00:00\", \"2020-05-10T00:00:00\"], \"xaxis\": \"x\", \"y\": [28, 2, 6, 3, 13, 9, 46, 19, 17, 79, 62, 188, 151, 229, 272, 363, 524, 605, 628, 702, 737, 467, 1145, 1763, 1337, 1470, 1718, 1769, 1769, 2056, 713, 3996, 508, 1833, 2678, 2479, 2893, 3434, 3071, 2934, 2886, 2627, 2942, 2626, 2069, 2493, 2336, 1817, 1892, 2599, 1321, 1927, 2373, 3410, 2054, 2752, 2473, 1649, 2441, 4273, 5567, 3715, 6741, 6065, 8380, 8765, 8500, 9667, 15484, 13468, 15143, 17092, 15533, 20356, 13860, 16503, 23539, 28607, 25314, 22121, 26014, 19612, 26933, 25606, 36758, 31088, 26236, 23976, 31584, 21835, 34081, 29875, 28792, 54934, 23265, 49048, 28234, 34691, 44061, 42034, 38574, 39785, 32124, 37488, 36108, 46581, 39328, 37309, 53574, 33356], \"yaxis\": \"y\"}],\n",
              "                        {\"barmode\": \"group\", \"height\": 500, \"legend\": {\"tracegroupgap\": 0}, \"margin\": {\"t\": 60}, \"plot_bgcolor\": \"rgb(275, 270, 273)\", \"template\": {\"data\": {\"bar\": [{\"error_x\": {\"color\": \"#2a3f5f\"}, \"error_y\": {\"color\": \"#2a3f5f\"}, \"marker\": {\"line\": {\"color\": \"#E5ECF6\", \"width\": 0.5}}, \"type\": \"bar\"}], \"barpolar\": [{\"marker\": {\"line\": {\"color\": \"#E5ECF6\", \"width\": 0.5}}, \"type\": \"barpolar\"}], \"carpet\": [{\"aaxis\": {\"endlinecolor\": \"#2a3f5f\", \"gridcolor\": \"white\", \"linecolor\": \"white\", \"minorgridcolor\": \"white\", \"startlinecolor\": \"#2a3f5f\"}, \"baxis\": {\"endlinecolor\": \"#2a3f5f\", \"gridcolor\": \"white\", \"linecolor\": \"white\", \"minorgridcolor\": \"white\", \"startlinecolor\": \"#2a3f5f\"}, \"type\": \"carpet\"}], \"choropleth\": [{\"colorbar\": {\"outlinewidth\": 0, \"ticks\": \"\"}, \"type\": \"choropleth\"}], \"contour\": [{\"colorbar\": {\"outlinewidth\": 0, \"ticks\": \"\"}, \"colorscale\": [[0.0, \"#0d0887\"], [0.1111111111111111, \"#46039f\"], [0.2222222222222222, \"#7201a8\"], [0.3333333333333333, \"#9c179e\"], [0.4444444444444444, \"#bd3786\"], [0.5555555555555556, \"#d8576b\"], [0.6666666666666666, \"#ed7953\"], [0.7777777777777778, \"#fb9f3a\"], [0.8888888888888888, \"#fdca26\"], [1.0, \"#f0f921\"]], \"type\": \"contour\"}], \"contourcarpet\": [{\"colorbar\": {\"outlinewidth\": 0, \"ticks\": \"\"}, \"type\": \"contourcarpet\"}], \"heatmap\": [{\"colorbar\": {\"outlinewidth\": 0, \"ticks\": \"\"}, \"colorscale\": [[0.0, \"#0d0887\"], [0.1111111111111111, \"#46039f\"], [0.2222222222222222, \"#7201a8\"], [0.3333333333333333, \"#9c179e\"], [0.4444444444444444, \"#bd3786\"], [0.5555555555555556, \"#d8576b\"], [0.6666666666666666, \"#ed7953\"], [0.7777777777777778, \"#fb9f3a\"], [0.8888888888888888, \"#fdca26\"], [1.0, \"#f0f921\"]], \"type\": \"heatmap\"}], \"heatmapgl\": [{\"colorbar\": {\"outlinewidth\": 0, \"ticks\": \"\"}, \"colorscale\": [[0.0, \"#0d0887\"], [0.1111111111111111, \"#46039f\"], [0.2222222222222222, \"#7201a8\"], [0.3333333333333333, \"#9c179e\"], [0.4444444444444444, \"#bd3786\"], [0.5555555555555556, \"#d8576b\"], [0.6666666666666666, \"#ed7953\"], [0.7777777777777778, \"#fb9f3a\"], [0.8888888888888888, \"#fdca26\"], [1.0, \"#f0f921\"]], \"type\": \"heatmapgl\"}], \"histogram\": [{\"marker\": {\"colorbar\": {\"outlinewidth\": 0, \"ticks\": \"\"}}, \"type\": \"histogram\"}], \"histogram2d\": [{\"colorbar\": {\"outlinewidth\": 0, \"ticks\": \"\"}, \"colorscale\": [[0.0, \"#0d0887\"], [0.1111111111111111, \"#46039f\"], [0.2222222222222222, \"#7201a8\"], [0.3333333333333333, \"#9c179e\"], [0.4444444444444444, \"#bd3786\"], [0.5555555555555556, \"#d8576b\"], [0.6666666666666666, \"#ed7953\"], [0.7777777777777778, \"#fb9f3a\"], [0.8888888888888888, \"#fdca26\"], [1.0, \"#f0f921\"]], \"type\": \"histogram2d\"}], \"histogram2dcontour\": [{\"colorbar\": {\"outlinewidth\": 0, \"ticks\": \"\"}, \"colorscale\": [[0.0, \"#0d0887\"], [0.1111111111111111, \"#46039f\"], [0.2222222222222222, \"#7201a8\"], [0.3333333333333333, \"#9c179e\"], [0.4444444444444444, \"#bd3786\"], [0.5555555555555556, \"#d8576b\"], [0.6666666666666666, \"#ed7953\"], [0.7777777777777778, \"#fb9f3a\"], [0.8888888888888888, \"#fdca26\"], [1.0, \"#f0f921\"]], \"type\": \"histogram2dcontour\"}], \"mesh3d\": [{\"colorbar\": {\"outlinewidth\": 0, \"ticks\": \"\"}, \"type\": \"mesh3d\"}], \"parcoords\": [{\"line\": {\"colorbar\": {\"outlinewidth\": 0, \"ticks\": \"\"}}, \"type\": \"parcoords\"}], \"pie\": [{\"automargin\": true, \"type\": \"pie\"}], \"scatter\": [{\"marker\": {\"colorbar\": {\"outlinewidth\": 0, \"ticks\": \"\"}}, \"type\": \"scatter\"}], \"scatter3d\": [{\"line\": {\"colorbar\": {\"outlinewidth\": 0, \"ticks\": \"\"}}, \"marker\": {\"colorbar\": {\"outlinewidth\": 0, \"ticks\": \"\"}}, \"type\": \"scatter3d\"}], \"scattercarpet\": [{\"marker\": {\"colorbar\": {\"outlinewidth\": 0, \"ticks\": \"\"}}, \"type\": \"scattercarpet\"}], \"scattergeo\": [{\"marker\": {\"colorbar\": {\"outlinewidth\": 0, \"ticks\": \"\"}}, \"type\": \"scattergeo\"}], \"scattergl\": [{\"marker\": {\"colorbar\": {\"outlinewidth\": 0, \"ticks\": \"\"}}, \"type\": \"scattergl\"}], \"scattermapbox\": [{\"marker\": {\"colorbar\": {\"outlinewidth\": 0, \"ticks\": \"\"}}, \"type\": \"scattermapbox\"}], \"scatterpolar\": [{\"marker\": {\"colorbar\": {\"outlinewidth\": 0, \"ticks\": \"\"}}, \"type\": \"scatterpolar\"}], \"scatterpolargl\": [{\"marker\": {\"colorbar\": {\"outlinewidth\": 0, \"ticks\": \"\"}}, \"type\": \"scatterpolargl\"}], \"scatterternary\": [{\"marker\": {\"colorbar\": {\"outlinewidth\": 0, \"ticks\": \"\"}}, \"type\": \"scatterternary\"}], \"surface\": [{\"colorbar\": {\"outlinewidth\": 0, \"ticks\": \"\"}, \"colorscale\": [[0.0, \"#0d0887\"], [0.1111111111111111, \"#46039f\"], [0.2222222222222222, \"#7201a8\"], [0.3333333333333333, \"#9c179e\"], [0.4444444444444444, \"#bd3786\"], [0.5555555555555556, \"#d8576b\"], [0.6666666666666666, \"#ed7953\"], [0.7777777777777778, \"#fb9f3a\"], [0.8888888888888888, \"#fdca26\"], [1.0, \"#f0f921\"]], \"type\": \"surface\"}], \"table\": [{\"cells\": {\"fill\": {\"color\": \"#EBF0F8\"}, \"line\": {\"color\": \"white\"}}, \"header\": {\"fill\": {\"color\": \"#C8D4E3\"}, \"line\": {\"color\": \"white\"}}, \"type\": \"table\"}]}, \"layout\": {\"annotationdefaults\": {\"arrowcolor\": \"#2a3f5f\", \"arrowhead\": 0, \"arrowwidth\": 1}, \"coloraxis\": {\"colorbar\": {\"outlinewidth\": 0, \"ticks\": \"\"}}, \"colorscale\": {\"diverging\": [[0, \"#8e0152\"], [0.1, \"#c51b7d\"], [0.2, \"#de77ae\"], [0.3, \"#f1b6da\"], [0.4, \"#fde0ef\"], [0.5, \"#f7f7f7\"], [0.6, \"#e6f5d0\"], [0.7, \"#b8e186\"], [0.8, \"#7fbc41\"], [0.9, \"#4d9221\"], [1, \"#276419\"]], \"sequential\": [[0.0, \"#0d0887\"], [0.1111111111111111, \"#46039f\"], [0.2222222222222222, \"#7201a8\"], [0.3333333333333333, \"#9c179e\"], [0.4444444444444444, \"#bd3786\"], [0.5555555555555556, \"#d8576b\"], [0.6666666666666666, \"#ed7953\"], [0.7777777777777778, \"#fb9f3a\"], [0.8888888888888888, \"#fdca26\"], [1.0, \"#f0f921\"]], \"sequentialminus\": [[0.0, \"#0d0887\"], [0.1111111111111111, \"#46039f\"], [0.2222222222222222, \"#7201a8\"], [0.3333333333333333, \"#9c179e\"], [0.4444444444444444, \"#bd3786\"], [0.5555555555555556, \"#d8576b\"], [0.6666666666666666, \"#ed7953\"], [0.7777777777777778, \"#fb9f3a\"], [0.8888888888888888, \"#fdca26\"], [1.0, \"#f0f921\"]]}, \"colorway\": [\"#636efa\", \"#EF553B\", \"#00cc96\", \"#ab63fa\", \"#FFA15A\", \"#19d3f3\", \"#FF6692\", \"#B6E880\", \"#FF97FF\", \"#FECB52\"], \"font\": {\"color\": \"#2a3f5f\"}, \"geo\": {\"bgcolor\": \"white\", \"lakecolor\": \"white\", \"landcolor\": \"#E5ECF6\", \"showlakes\": true, \"showland\": true, \"subunitcolor\": \"white\"}, \"hoverlabel\": {\"align\": \"left\"}, \"hovermode\": \"closest\", \"mapbox\": {\"style\": \"light\"}, \"paper_bgcolor\": \"white\", \"plot_bgcolor\": \"#E5ECF6\", \"polar\": {\"angularaxis\": {\"gridcolor\": \"white\", \"linecolor\": \"white\", \"ticks\": \"\"}, \"bgcolor\": \"#E5ECF6\", \"radialaxis\": {\"gridcolor\": \"white\", \"linecolor\": \"white\", \"ticks\": \"\"}}, \"scene\": {\"xaxis\": {\"backgroundcolor\": \"#E5ECF6\", \"gridcolor\": \"white\", \"gridwidth\": 2, \"linecolor\": \"white\", \"showbackground\": true, \"ticks\": \"\", \"zerolinecolor\": \"white\"}, \"yaxis\": {\"backgroundcolor\": \"#E5ECF6\", \"gridcolor\": \"white\", \"gridwidth\": 2, \"linecolor\": \"white\", \"showbackground\": true, \"ticks\": \"\", \"zerolinecolor\": \"white\"}, \"zaxis\": {\"backgroundcolor\": \"#E5ECF6\", \"gridcolor\": \"white\", \"gridwidth\": 2, \"linecolor\": \"white\", \"showbackground\": true, \"ticks\": \"\", \"zerolinecolor\": \"white\"}}, \"shapedefaults\": {\"line\": {\"color\": \"#2a3f5f\"}}, \"ternary\": {\"aaxis\": {\"gridcolor\": \"white\", \"linecolor\": \"white\", \"ticks\": \"\"}, \"baxis\": {\"gridcolor\": \"white\", \"linecolor\": \"white\", \"ticks\": \"\"}, \"bgcolor\": \"#E5ECF6\", \"caxis\": {\"gridcolor\": \"white\", \"linecolor\": \"white\", \"ticks\": \"\"}}, \"title\": {\"x\": 0.05}, \"xaxis\": {\"automargin\": true, \"gridcolor\": \"white\", \"linecolor\": \"white\", \"ticks\": \"\", \"title\": {\"standoff\": 15}, \"zerolinecolor\": \"white\", \"zerolinewidth\": 2}, \"yaxis\": {\"automargin\": true, \"gridcolor\": \"white\", \"linecolor\": \"white\", \"ticks\": \"\", \"title\": {\"standoff\": 15}, \"zerolinecolor\": \"white\", \"zerolinewidth\": 2}}}, \"title\": {\"text\": \"New COVID-19 Recovered cases reported daily all over the world\"}, \"xaxis\": {\"anchor\": \"y\", \"domain\": [0.0, 1.0], \"title\": {\"text\": \"Date\"}}, \"yaxis\": {\"anchor\": \"x\", \"domain\": [0.0, 1.0], \"title\": {\"text\": \"New Daily Cured Cases\"}}},\n",
              "                        {\"responsive\": true}\n",
              "                    ).then(function(){\n",
              "                            \n",
              "var gd = document.getElementById('5f2a3adf-f4e8-4337-8564-2a6a8dec8bed');\n",
              "var x = new MutationObserver(function (mutations, observer) {{\n",
              "        var display = window.getComputedStyle(gd).display;\n",
              "        if (!display || display === 'none') {{\n",
              "            console.log([gd, 'removed!']);\n",
              "            Plotly.purge(gd);\n",
              "            observer.disconnect();\n",
              "        }}\n",
              "}});\n",
              "\n",
              "// Listen for the removal of the full notebook cells\n",
              "var notebookContainer = gd.closest('#notebook-container');\n",
              "if (notebookContainer) {{\n",
              "    x.observe(notebookContainer, {childList: true});\n",
              "}}\n",
              "\n",
              "// Listen for the clearing of the current output cell\n",
              "var outputEl = gd.closest('.output');\n",
              "if (outputEl) {{\n",
              "    x.observe(outputEl, {childList: true});\n",
              "}}\n",
              "\n",
              "                        })\n",
              "                };\n",
              "                });\n",
              "            </script>\n",
              "        </div>"
            ],
            "application/vnd.plotly.v1+json": {
              "data": [
                {
                  "textposition": "auto",
                  "hovertemplate": "Date=%{x}<br>New Daily Cured Cases=%{y}",
                  "showlegend": false,
                  "legendgroup": "",
                  "name": "",
                  "yaxis": "y",
                  "y": [
                    28,
                    2,
                    6,
                    3,
                    13,
                    9,
                    46,
                    19,
                    17,
                    79,
                    62,
                    188,
                    151,
                    229,
                    272,
                    363,
                    524,
                    605,
                    628,
                    702,
                    737,
                    467,
                    1145,
                    1763,
                    1337,
                    1470,
                    1718,
                    1769,
                    1769,
                    2056,
                    713,
                    3996,
                    508,
                    1833,
                    2678,
                    2479,
                    2893,
                    3434,
                    3071,
                    2934,
                    2886,
                    2627,
                    2942,
                    2626,
                    2069,
                    2493,
                    2336,
                    1817,
                    1892,
                    2599,
                    1321,
                    1927,
                    2373,
                    3410,
                    2054,
                    2752,
                    2473,
                    1649,
                    2441,
                    4273,
                    5567,
                    3715,
                    6741,
                    6065,
                    8380,
                    8765,
                    8500,
                    9667,
                    15484,
                    13468,
                    15143,
                    17092,
                    15533,
                    20356,
                    13860,
                    16503,
                    23539,
                    28607,
                    25314,
                    22121,
                    26014,
                    19612,
                    26933,
                    25606,
                    36758,
                    31088,
                    26236,
                    23976,
                    31584,
                    21835,
                    34081,
                    29875,
                    28792,
                    54934,
                    23265,
                    49048,
                    28234,
                    34691,
                    44061,
                    42034,
                    38574,
                    39785,
                    32124,
                    37488,
                    36108,
                    46581,
                    39328,
                    37309,
                    53574,
                    33356
                  ],
                  "hoverlabel": {
                    "namelength": 0
                  },
                  "offsetgroup": "",
                  "xaxis": "x",
                  "marker": {
                    "color": "#319146"
                  },
                  "x": [
                    "2020-01-22T00:00:00",
                    "2020-01-23T00:00:00",
                    "2020-01-24T00:00:00",
                    "2020-01-25T00:00:00",
                    "2020-01-26T00:00:00",
                    "2020-01-27T00:00:00",
                    "2020-01-28T00:00:00",
                    "2020-01-29T00:00:00",
                    "2020-01-30T00:00:00",
                    "2020-01-31T00:00:00",
                    "2020-02-01T00:00:00",
                    "2020-02-02T00:00:00",
                    "2020-02-03T00:00:00",
                    "2020-02-04T00:00:00",
                    "2020-02-05T00:00:00",
                    "2020-02-06T00:00:00",
                    "2020-02-07T00:00:00",
                    "2020-02-08T00:00:00",
                    "2020-02-09T00:00:00",
                    "2020-02-10T00:00:00",
                    "2020-02-11T00:00:00",
                    "2020-02-12T00:00:00",
                    "2020-02-13T00:00:00",
                    "2020-02-14T00:00:00",
                    "2020-02-15T00:00:00",
                    "2020-02-16T00:00:00",
                    "2020-02-17T00:00:00",
                    "2020-02-18T00:00:00",
                    "2020-02-19T00:00:00",
                    "2020-02-20T00:00:00",
                    "2020-02-21T00:00:00",
                    "2020-02-22T00:00:00",
                    "2020-02-23T00:00:00",
                    "2020-02-24T00:00:00",
                    "2020-02-25T00:00:00",
                    "2020-02-26T00:00:00",
                    "2020-02-27T00:00:00",
                    "2020-02-28T00:00:00",
                    "2020-02-29T00:00:00",
                    "2020-03-01T00:00:00",
                    "2020-03-02T00:00:00",
                    "2020-03-03T00:00:00",
                    "2020-03-04T00:00:00",
                    "2020-03-05T00:00:00",
                    "2020-03-06T00:00:00",
                    "2020-03-07T00:00:00",
                    "2020-03-08T00:00:00",
                    "2020-03-09T00:00:00",
                    "2020-03-10T00:00:00",
                    "2020-03-11T00:00:00",
                    "2020-03-12T00:00:00",
                    "2020-03-13T00:00:00",
                    "2020-03-14T00:00:00",
                    "2020-03-15T00:00:00",
                    "2020-03-16T00:00:00",
                    "2020-03-17T00:00:00",
                    "2020-03-18T00:00:00",
                    "2020-03-19T00:00:00",
                    "2020-03-20T00:00:00",
                    "2020-03-21T00:00:00",
                    "2020-03-22T00:00:00",
                    "2020-03-23T00:00:00",
                    "2020-03-24T00:00:00",
                    "2020-03-25T00:00:00",
                    "2020-03-26T00:00:00",
                    "2020-03-27T00:00:00",
                    "2020-03-28T00:00:00",
                    "2020-03-29T00:00:00",
                    "2020-03-30T00:00:00",
                    "2020-03-31T00:00:00",
                    "2020-04-01T00:00:00",
                    "2020-04-02T00:00:00",
                    "2020-04-03T00:00:00",
                    "2020-04-04T00:00:00",
                    "2020-04-05T00:00:00",
                    "2020-04-06T00:00:00",
                    "2020-04-07T00:00:00",
                    "2020-04-08T00:00:00",
                    "2020-04-09T00:00:00",
                    "2020-04-10T00:00:00",
                    "2020-04-11T00:00:00",
                    "2020-04-12T00:00:00",
                    "2020-04-13T00:00:00",
                    "2020-04-14T00:00:00",
                    "2020-04-15T00:00:00",
                    "2020-04-16T00:00:00",
                    "2020-04-17T00:00:00",
                    "2020-04-18T00:00:00",
                    "2020-04-19T00:00:00",
                    "2020-04-20T00:00:00",
                    "2020-04-21T00:00:00",
                    "2020-04-22T00:00:00",
                    "2020-04-23T00:00:00",
                    "2020-04-24T00:00:00",
                    "2020-04-25T00:00:00",
                    "2020-04-26T00:00:00",
                    "2020-04-27T00:00:00",
                    "2020-04-28T00:00:00",
                    "2020-04-29T00:00:00",
                    "2020-04-30T00:00:00",
                    "2020-05-01T00:00:00",
                    "2020-05-02T00:00:00",
                    "2020-05-03T00:00:00",
                    "2020-05-04T00:00:00",
                    "2020-05-05T00:00:00",
                    "2020-05-06T00:00:00",
                    "2020-05-07T00:00:00",
                    "2020-05-08T00:00:00",
                    "2020-05-09T00:00:00",
                    "2020-05-10T00:00:00"
                  ],
                  "alignmentgroup": "True",
                  "type": "bar",
                  "orientation": "v"
                }
              ],
              "config": {
                "plotlyServerURL": "https://plot.ly"
              },
              "layout": {
                "xaxis": {
                  "domain": [
                    0,
                    1
                  ],
                  "anchor": "y",
                  "title": {
                    "text": "Date"
                  }
                },
                "title": {
                  "text": "New COVID-19 Recovered cases reported daily all over the world"
                },
                "plot_bgcolor": "rgb(275, 270, 273)",
                "yaxis": {
                  "domain": [
                    0,
                    1
                  ],
                  "anchor": "x",
                  "title": {
                    "text": "New Daily Cured Cases"
                  }
                },
                "height": 500,
                "barmode": "group",
                "template": {
                  "layout": {
                    "shapedefaults": {
                      "line": {
                        "color": "#2a3f5f"
                      }
                    },
                    "polar": {
                      "radialaxis": {
                        "ticks": "",
                        "gridcolor": "white",
                        "linecolor": "white"
                      },
                      "bgcolor": "#E5ECF6",
                      "angularaxis": {
                        "ticks": "",
                        "gridcolor": "white",
                        "linecolor": "white"
                      }
                    },
                    "colorway": [
                      "#636efa",
                      "#EF553B",
                      "#00cc96",
                      "#ab63fa",
                      "#FFA15A",
                      "#19d3f3",
                      "#FF6692",
                      "#B6E880",
                      "#FF97FF",
                      "#FECB52"
                    ],
                    "xaxis": {
                      "automargin": true,
                      "title": {
                        "standoff": 15
                      },
                      "zerolinewidth": 2,
                      "ticks": "",
                      "zerolinecolor": "white",
                      "gridcolor": "white",
                      "linecolor": "white"
                    },
                    "colorscale": {
                      "diverging": [
                        [
                          0,
                          "#8e0152"
                        ],
                        [
                          0.1,
                          "#c51b7d"
                        ],
                        [
                          0.2,
                          "#de77ae"
                        ],
                        [
                          0.3,
                          "#f1b6da"
                        ],
                        [
                          0.4,
                          "#fde0ef"
                        ],
                        [
                          0.5,
                          "#f7f7f7"
                        ],
                        [
                          0.6,
                          "#e6f5d0"
                        ],
                        [
                          0.7,
                          "#b8e186"
                        ],
                        [
                          0.8,
                          "#7fbc41"
                        ],
                        [
                          0.9,
                          "#4d9221"
                        ],
                        [
                          1,
                          "#276419"
                        ]
                      ],
                      "sequential": [
                        [
                          0,
                          "#0d0887"
                        ],
                        [
                          0.1111111111111111,
                          "#46039f"
                        ],
                        [
                          0.2222222222222222,
                          "#7201a8"
                        ],
                        [
                          0.3333333333333333,
                          "#9c179e"
                        ],
                        [
                          0.4444444444444444,
                          "#bd3786"
                        ],
                        [
                          0.5555555555555556,
                          "#d8576b"
                        ],
                        [
                          0.6666666666666666,
                          "#ed7953"
                        ],
                        [
                          0.7777777777777778,
                          "#fb9f3a"
                        ],
                        [
                          0.8888888888888888,
                          "#fdca26"
                        ],
                        [
                          1,
                          "#f0f921"
                        ]
                      ],
                      "sequentialminus": [
                        [
                          0,
                          "#0d0887"
                        ],
                        [
                          0.1111111111111111,
                          "#46039f"
                        ],
                        [
                          0.2222222222222222,
                          "#7201a8"
                        ],
                        [
                          0.3333333333333333,
                          "#9c179e"
                        ],
                        [
                          0.4444444444444444,
                          "#bd3786"
                        ],
                        [
                          0.5555555555555556,
                          "#d8576b"
                        ],
                        [
                          0.6666666666666666,
                          "#ed7953"
                        ],
                        [
                          0.7777777777777778,
                          "#fb9f3a"
                        ],
                        [
                          0.8888888888888888,
                          "#fdca26"
                        ],
                        [
                          1,
                          "#f0f921"
                        ]
                      ]
                    },
                    "paper_bgcolor": "white",
                    "plot_bgcolor": "#E5ECF6",
                    "title": {
                      "x": 0.05
                    },
                    "scene": {
                      "zaxis": {
                        "backgroundcolor": "#E5ECF6",
                        "ticks": "",
                        "gridwidth": 2,
                        "showbackground": true,
                        "zerolinecolor": "white",
                        "gridcolor": "white",
                        "linecolor": "white"
                      },
                      "xaxis": {
                        "backgroundcolor": "#E5ECF6",
                        "ticks": "",
                        "gridwidth": 2,
                        "showbackground": true,
                        "zerolinecolor": "white",
                        "gridcolor": "white",
                        "linecolor": "white"
                      },
                      "yaxis": {
                        "backgroundcolor": "#E5ECF6",
                        "ticks": "",
                        "gridwidth": 2,
                        "showbackground": true,
                        "zerolinecolor": "white",
                        "gridcolor": "white",
                        "linecolor": "white"
                      }
                    },
                    "yaxis": {
                      "automargin": true,
                      "title": {
                        "standoff": 15
                      },
                      "zerolinewidth": 2,
                      "ticks": "",
                      "zerolinecolor": "white",
                      "gridcolor": "white",
                      "linecolor": "white"
                    },
                    "annotationdefaults": {
                      "arrowwidth": 1,
                      "arrowhead": 0,
                      "arrowcolor": "#2a3f5f"
                    },
                    "hoverlabel": {
                      "align": "left"
                    },
                    "ternary": {
                      "bgcolor": "#E5ECF6",
                      "baxis": {
                        "ticks": "",
                        "gridcolor": "white",
                        "linecolor": "white"
                      },
                      "caxis": {
                        "ticks": "",
                        "gridcolor": "white",
                        "linecolor": "white"
                      },
                      "aaxis": {
                        "ticks": "",
                        "gridcolor": "white",
                        "linecolor": "white"
                      }
                    },
                    "mapbox": {
                      "style": "light"
                    },
                    "hovermode": "closest",
                    "font": {
                      "color": "#2a3f5f"
                    },
                    "geo": {
                      "showland": true,
                      "landcolor": "#E5ECF6",
                      "showlakes": true,
                      "bgcolor": "white",
                      "subunitcolor": "white",
                      "lakecolor": "white"
                    },
                    "coloraxis": {
                      "colorbar": {
                        "outlinewidth": 0,
                        "ticks": ""
                      }
                    }
                  },
                  "data": {
                    "mesh3d": [
                      {
                        "colorbar": {
                          "outlinewidth": 0,
                          "ticks": ""
                        },
                        "type": "mesh3d"
                      }
                    ],
                    "scattercarpet": [
                      {
                        "marker": {
                          "colorbar": {
                            "outlinewidth": 0,
                            "ticks": ""
                          }
                        },
                        "type": "scattercarpet"
                      }
                    ],
                    "pie": [
                      {
                        "automargin": true,
                        "type": "pie"
                      }
                    ],
                    "surface": [
                      {
                        "colorbar": {
                          "outlinewidth": 0,
                          "ticks": ""
                        },
                        "type": "surface",
                        "colorscale": [
                          [
                            0,
                            "#0d0887"
                          ],
                          [
                            0.1111111111111111,
                            "#46039f"
                          ],
                          [
                            0.2222222222222222,
                            "#7201a8"
                          ],
                          [
                            0.3333333333333333,
                            "#9c179e"
                          ],
                          [
                            0.4444444444444444,
                            "#bd3786"
                          ],
                          [
                            0.5555555555555556,
                            "#d8576b"
                          ],
                          [
                            0.6666666666666666,
                            "#ed7953"
                          ],
                          [
                            0.7777777777777778,
                            "#fb9f3a"
                          ],
                          [
                            0.8888888888888888,
                            "#fdca26"
                          ],
                          [
                            1,
                            "#f0f921"
                          ]
                        ]
                      }
                    ],
                    "table": [
                      {
                        "header": {
                          "line": {
                            "color": "white"
                          },
                          "fill": {
                            "color": "#C8D4E3"
                          }
                        },
                        "cells": {
                          "line": {
                            "color": "white"
                          },
                          "fill": {
                            "color": "#EBF0F8"
                          }
                        },
                        "type": "table"
                      }
                    ],
                    "scatterpolargl": [
                      {
                        "marker": {
                          "colorbar": {
                            "outlinewidth": 0,
                            "ticks": ""
                          }
                        },
                        "type": "scatterpolargl"
                      }
                    ],
                    "contour": [
                      {
                        "colorbar": {
                          "outlinewidth": 0,
                          "ticks": ""
                        },
                        "type": "contour",
                        "colorscale": [
                          [
                            0,
                            "#0d0887"
                          ],
                          [
                            0.1111111111111111,
                            "#46039f"
                          ],
                          [
                            0.2222222222222222,
                            "#7201a8"
                          ],
                          [
                            0.3333333333333333,
                            "#9c179e"
                          ],
                          [
                            0.4444444444444444,
                            "#bd3786"
                          ],
                          [
                            0.5555555555555556,
                            "#d8576b"
                          ],
                          [
                            0.6666666666666666,
                            "#ed7953"
                          ],
                          [
                            0.7777777777777778,
                            "#fb9f3a"
                          ],
                          [
                            0.8888888888888888,
                            "#fdca26"
                          ],
                          [
                            1,
                            "#f0f921"
                          ]
                        ]
                      }
                    ],
                    "carpet": [
                      {
                        "type": "carpet",
                        "baxis": {
                          "minorgridcolor": "white",
                          "gridcolor": "white",
                          "linecolor": "white",
                          "endlinecolor": "#2a3f5f",
                          "startlinecolor": "#2a3f5f"
                        },
                        "aaxis": {
                          "minorgridcolor": "white",
                          "gridcolor": "white",
                          "linecolor": "white",
                          "endlinecolor": "#2a3f5f",
                          "startlinecolor": "#2a3f5f"
                        }
                      }
                    ],
                    "contourcarpet": [
                      {
                        "colorbar": {
                          "outlinewidth": 0,
                          "ticks": ""
                        },
                        "type": "contourcarpet"
                      }
                    ],
                    "heatmap": [
                      {
                        "colorbar": {
                          "outlinewidth": 0,
                          "ticks": ""
                        },
                        "type": "heatmap",
                        "colorscale": [
                          [
                            0,
                            "#0d0887"
                          ],
                          [
                            0.1111111111111111,
                            "#46039f"
                          ],
                          [
                            0.2222222222222222,
                            "#7201a8"
                          ],
                          [
                            0.3333333333333333,
                            "#9c179e"
                          ],
                          [
                            0.4444444444444444,
                            "#bd3786"
                          ],
                          [
                            0.5555555555555556,
                            "#d8576b"
                          ],
                          [
                            0.6666666666666666,
                            "#ed7953"
                          ],
                          [
                            0.7777777777777778,
                            "#fb9f3a"
                          ],
                          [
                            0.8888888888888888,
                            "#fdca26"
                          ],
                          [
                            1,
                            "#f0f921"
                          ]
                        ]
                      }
                    ],
                    "scattermapbox": [
                      {
                        "marker": {
                          "colorbar": {
                            "outlinewidth": 0,
                            "ticks": ""
                          }
                        },
                        "type": "scattermapbox"
                      }
                    ],
                    "scatter3d": [
                      {
                        "marker": {
                          "colorbar": {
                            "outlinewidth": 0,
                            "ticks": ""
                          }
                        },
                        "line": {
                          "colorbar": {
                            "outlinewidth": 0,
                            "ticks": ""
                          }
                        },
                        "type": "scatter3d"
                      }
                    ],
                    "scattergl": [
                      {
                        "marker": {
                          "colorbar": {
                            "outlinewidth": 0,
                            "ticks": ""
                          }
                        },
                        "type": "scattergl"
                      }
                    ],
                    "scatterternary": [
                      {
                        "marker": {
                          "colorbar": {
                            "outlinewidth": 0,
                            "ticks": ""
                          }
                        },
                        "type": "scatterternary"
                      }
                    ],
                    "histogram": [
                      {
                        "marker": {
                          "colorbar": {
                            "outlinewidth": 0,
                            "ticks": ""
                          }
                        },
                        "type": "histogram"
                      }
                    ],
                    "heatmapgl": [
                      {
                        "colorbar": {
                          "outlinewidth": 0,
                          "ticks": ""
                        },
                        "type": "heatmapgl",
                        "colorscale": [
                          [
                            0,
                            "#0d0887"
                          ],
                          [
                            0.1111111111111111,
                            "#46039f"
                          ],
                          [
                            0.2222222222222222,
                            "#7201a8"
                          ],
                          [
                            0.3333333333333333,
                            "#9c179e"
                          ],
                          [
                            0.4444444444444444,
                            "#bd3786"
                          ],
                          [
                            0.5555555555555556,
                            "#d8576b"
                          ],
                          [
                            0.6666666666666666,
                            "#ed7953"
                          ],
                          [
                            0.7777777777777778,
                            "#fb9f3a"
                          ],
                          [
                            0.8888888888888888,
                            "#fdca26"
                          ],
                          [
                            1,
                            "#f0f921"
                          ]
                        ]
                      }
                    ],
                    "scatterpolar": [
                      {
                        "marker": {
                          "colorbar": {
                            "outlinewidth": 0,
                            "ticks": ""
                          }
                        },
                        "type": "scatterpolar"
                      }
                    ],
                    "histogram2d": [
                      {
                        "colorbar": {
                          "outlinewidth": 0,
                          "ticks": ""
                        },
                        "type": "histogram2d",
                        "colorscale": [
                          [
                            0,
                            "#0d0887"
                          ],
                          [
                            0.1111111111111111,
                            "#46039f"
                          ],
                          [
                            0.2222222222222222,
                            "#7201a8"
                          ],
                          [
                            0.3333333333333333,
                            "#9c179e"
                          ],
                          [
                            0.4444444444444444,
                            "#bd3786"
                          ],
                          [
                            0.5555555555555556,
                            "#d8576b"
                          ],
                          [
                            0.6666666666666666,
                            "#ed7953"
                          ],
                          [
                            0.7777777777777778,
                            "#fb9f3a"
                          ],
                          [
                            0.8888888888888888,
                            "#fdca26"
                          ],
                          [
                            1,
                            "#f0f921"
                          ]
                        ]
                      }
                    ],
                    "scattergeo": [
                      {
                        "marker": {
                          "colorbar": {
                            "outlinewidth": 0,
                            "ticks": ""
                          }
                        },
                        "type": "scattergeo"
                      }
                    ],
                    "bar": [
                      {
                        "marker": {
                          "line": {
                            "color": "#E5ECF6",
                            "width": 0.5
                          }
                        },
                        "type": "bar",
                        "error_x": {
                          "color": "#2a3f5f"
                        },
                        "error_y": {
                          "color": "#2a3f5f"
                        }
                      }
                    ],
                    "choropleth": [
                      {
                        "colorbar": {
                          "outlinewidth": 0,
                          "ticks": ""
                        },
                        "type": "choropleth"
                      }
                    ],
                    "parcoords": [
                      {
                        "line": {
                          "colorbar": {
                            "outlinewidth": 0,
                            "ticks": ""
                          }
                        },
                        "type": "parcoords"
                      }
                    ],
                    "barpolar": [
                      {
                        "marker": {
                          "line": {
                            "color": "#E5ECF6",
                            "width": 0.5
                          }
                        },
                        "type": "barpolar"
                      }
                    ],
                    "histogram2dcontour": [
                      {
                        "colorbar": {
                          "outlinewidth": 0,
                          "ticks": ""
                        },
                        "type": "histogram2dcontour",
                        "colorscale": [
                          [
                            0,
                            "#0d0887"
                          ],
                          [
                            0.1111111111111111,
                            "#46039f"
                          ],
                          [
                            0.2222222222222222,
                            "#7201a8"
                          ],
                          [
                            0.3333333333333333,
                            "#9c179e"
                          ],
                          [
                            0.4444444444444444,
                            "#bd3786"
                          ],
                          [
                            0.5555555555555556,
                            "#d8576b"
                          ],
                          [
                            0.6666666666666666,
                            "#ed7953"
                          ],
                          [
                            0.7777777777777778,
                            "#fb9f3a"
                          ],
                          [
                            0.8888888888888888,
                            "#fdca26"
                          ],
                          [
                            1,
                            "#f0f921"
                          ]
                        ]
                      }
                    ],
                    "scatter": [
                      {
                        "marker": {
                          "colorbar": {
                            "outlinewidth": 0,
                            "ticks": ""
                          }
                        },
                        "type": "scatter"
                      }
                    ]
                  }
                },
                "margin": {
                  "t": 60
                },
                "legend": {
                  "tracegroupgap": 0
                }
              }
            }
          },
          "metadata": {
            "tags": []
          }
        }
      ]
    },
    {
      "cell_type": "code",
      "metadata": {
        "id": "lOCI23Mi5aYJ",
        "colab_type": "code",
        "colab": {}
      },
      "source": [
        ""
      ],
      "execution_count": 0,
      "outputs": []
    },
    {
      "cell_type": "code",
      "metadata": {
        "id": "__pCkZXc4JC-",
        "colab_type": "code",
        "colab": {}
      },
      "source": [
        ""
      ],
      "execution_count": 0,
      "outputs": []
    },
    {
      "cell_type": "code",
      "metadata": {
        "id": "iDedof6Px-Pz",
        "colab_type": "code",
        "colab": {}
      },
      "source": [
        "# Exploratory Data Analysis"
      ],
      "execution_count": 0,
      "outputs": []
    },
    {
      "cell_type": "code",
      "metadata": {
        "id": "l6XYsueDx-P3",
        "colab_type": "code",
        "colab": {
          "base_uri": "https://localhost:8080/",
          "height": 202
        },
        "outputId": "e560431d-b543-4c95-93fe-d8157ed6b08a"
      },
      "source": [
        "# 1. Displaying a sample of the train and test dataset\n",
        "print('Training Dataset: \\n\\n', train.sample(5))\n",
        "print('\\n\\n\\n Test Dataset: \\n\\n', test.sample(5))"
      ],
      "execution_count": 76,
      "outputs": [
        {
          "output_type": "error",
          "ename": "NameError",
          "evalue": "ignored",
          "traceback": [
            "\u001b[0;31m---------------------------------------------------------------------------\u001b[0m",
            "\u001b[0;31mNameError\u001b[0m                                 Traceback (most recent call last)",
            "\u001b[0;32m<ipython-input-76-32e2e9933678>\u001b[0m in \u001b[0;36m<module>\u001b[0;34m()\u001b[0m\n\u001b[1;32m      1\u001b[0m \u001b[0;31m# 1. Displaying a sample of the train and test dataset\u001b[0m\u001b[0;34m\u001b[0m\u001b[0;34m\u001b[0m\u001b[0;34m\u001b[0m\u001b[0m\n\u001b[0;32m----> 2\u001b[0;31m \u001b[0mprint\u001b[0m\u001b[0;34m(\u001b[0m\u001b[0;34m'Training Dataset: \\n\\n'\u001b[0m\u001b[0;34m,\u001b[0m \u001b[0mtrain\u001b[0m\u001b[0;34m.\u001b[0m\u001b[0msample\u001b[0m\u001b[0;34m(\u001b[0m\u001b[0;36m5\u001b[0m\u001b[0;34m)\u001b[0m\u001b[0;34m)\u001b[0m\u001b[0;34m\u001b[0m\u001b[0;34m\u001b[0m\u001b[0m\n\u001b[0m\u001b[1;32m      3\u001b[0m \u001b[0mprint\u001b[0m\u001b[0;34m(\u001b[0m\u001b[0;34m'\\n\\n\\n Test Dataset: \\n\\n'\u001b[0m\u001b[0;34m,\u001b[0m \u001b[0mtest\u001b[0m\u001b[0;34m.\u001b[0m\u001b[0msample\u001b[0m\u001b[0;34m(\u001b[0m\u001b[0;36m5\u001b[0m\u001b[0;34m)\u001b[0m\u001b[0;34m)\u001b[0m\u001b[0;34m\u001b[0m\u001b[0;34m\u001b[0m\u001b[0m\n",
            "\u001b[0;31mNameError\u001b[0m: name 'train' is not defined"
          ]
        }
      ]
    },
    {
      "cell_type": "code",
      "metadata": {
        "id": "QtRTMfdux-P8",
        "colab_type": "code",
        "colab": {}
      },
      "source": [
        "# Visualising the Descriptive analysis of the dataset\n",
        "# 2 Visializing the data types for each colunm\n",
        "\n",
        "print('Data Types for each columns (Training) \\n\\n',train.dtypes)\n",
        "print('\\n\\n\\n Data Types for each columns (Testing) \\n\\n',train.dtypes)"
      ],
      "execution_count": 0,
      "outputs": []
    },
    {
      "cell_type": "code",
      "metadata": {
        "id": "fzOIAee4x-P_",
        "colab_type": "code",
        "colab": {}
      },
      "source": [
        "# 2 Visualizing the Static Information for Numerical Columns\n",
        "\n",
        "print('Descriptiva analytics for the dataset (Training): \\n\\n',train.describe())\n",
        "print('\\n\\n\\n Descriptive analytics for dataset (test): \\n\\n' ,test.describe())"
      ],
      "execution_count": 0,
      "outputs": []
    },
    {
      "cell_type": "code",
      "metadata": {
        "id": "4P4YZehCx-QC",
        "colab_type": "code",
        "colab": {}
      },
      "source": [
        "# Displaying some information regarding the dataset\n",
        "print('Dataset information (Training): \\n\\n',train.info())\n",
        "print('\\n\\n\\n Dataset information (Testing): \\n\\n', test.info())"
      ],
      "execution_count": 0,
      "outputs": []
    },
    {
      "cell_type": "code",
      "metadata": {
        "id": "oTW6kPtXx-QH",
        "colab_type": "code",
        "colab": {}
      },
      "source": [
        "# Displaying the shape of the dataset\n",
        "print('Traing dataset shape: ', train.shape)\n",
        "print('\\n Testing Dataset shape: ' ,test.shape)"
      ],
      "execution_count": 0,
      "outputs": []
    },
    {
      "cell_type": "code",
      "metadata": {
        "id": "FBplWml2x-QN",
        "colab_type": "code",
        "colab": {}
      },
      "source": [
        "# Displaying graph of the top 15 Countries\n",
        "l = train[['Country_Region','TargetValue']].groupby(['Country_Region'], as_index = False).sum().sort_values(by = 'TargetValue',ascending=False)\n",
        "w = pd.DataFrame(l)\n",
        "data1 = l.head(15)\n",
        "fig = px.bar(data1,x = 'Country_Region',y = 'TargetValue')\n",
        "fig.show()"
      ],
      "execution_count": 0,
      "outputs": []
    },
    {
      "cell_type": "code",
      "metadata": {
        "id": "p3MXxsHYx-QR",
        "colab_type": "code",
        "colab": {}
      },
      "source": [
        "# pi char Vusualizing confirmed casea and faitalities\n",
        "fig = px.pie(train, values='TargetValue', names='Target')\n",
        "fig.update_traces(textposition='inside')\n",
        "fig.update_layout(uniformtext_minsize=12, uniformtext_mode='hide')\n",
        "fig.show()"
      ],
      "execution_count": 0,
      "outputs": []
    },
    {
      "cell_type": "code",
      "metadata": {
        "id": "yzkuETnvx-QV",
        "colab_type": "code",
        "colab": {}
      },
      "source": [
        "# Displaing the curent world share of covid-19 cases\n",
        "\n",
        "fig = px.pie(train, values='TargetValue', names='Country_Region')\n",
        "fig.update_traces(textposition='inside')\n",
        "fig.update_layout(uniformtext_minsize=12, uniformtext_mode='hide')\n",
        "fig.show()"
      ],
      "execution_count": 0,
      "outputs": []
    },
    {
      "cell_type": "code",
      "metadata": {
        "id": "q0s74yVhx-QZ",
        "colab_type": "code",
        "colab": {}
      },
      "source": [
        "# Tree Map of Covid Cases Globaly\n",
        "fig = px.treemap(train, path=['Country_Region'], values='TargetValue',\n",
        "                  color='Population', hover_data=['Country_Region'],\n",
        "                  color_continuous_scale='matter', title='Current share of Worldwide COVID19 Confirmed Cases')\n",
        "fig.show()"
      ],
      "execution_count": 0,
      "outputs": []
    },
    {
      "cell_type": "code",
      "metadata": {
        "id": "woqNOgsfx-Qd",
        "colab_type": "code",
        "colab": {}
      },
      "source": [
        "fig = px.treemap(train, path=['Country_Region'], values='TargetValue',\n",
        "                  color='Population', hover_data=['Country_Region'],\n",
        "                  color_continuous_scale='matter', title='Current share of Worldwide COVID19 Confirmed Cases')\n",
        "fig.show()"
      ],
      "execution_count": 0,
      "outputs": []
    },
    {
      "cell_type": "code",
      "metadata": {
        "id": "LwRMWx-Sx-Qh",
        "colab_type": "code",
        "colab": {}
      },
      "source": [
        "# COVID 19 Total cases growth for top 15 countries\n",
        "last_date = train.Date.max()\n",
        "df_countries = train[train['Date']==last_date]\n",
        "df_countries = df_countries.groupby('Country_Region', as_index=False)['TargetValue'].sum()\n",
        "df_countries = df_countries.nlargest(15,'TargetValue')\n",
        "df_trend = train.groupby(['Date','Country_Region'], as_index=False)['TargetValue'].sum()\n",
        "df_trend = df_trend.merge(df_countries, on='Country_Region')\n",
        "df_trend.rename(columns={'Country_Region':'Country', 'TargetValue_x':'Cases'}, inplace=True)\n",
        "px.line(df_trend, x='Date', y='Cases', color='Country', title='COVID19 Total Cases growth for top 10 worst affected countries')\n"
      ],
      "execution_count": 0,
      "outputs": []
    },
    {
      "cell_type": "code",
      "metadata": {
        "id": "owj-tbAHx-Ql",
        "colab_type": "code",
        "colab": {}
      },
      "source": [
        ""
      ],
      "execution_count": 0,
      "outputs": []
    }
  ]
}